{
 "cells": [
  {
   "cell_type": "code",
   "execution_count": 1,
   "id": "bbf2cd51-21b5-4c8a-a5b7-a0f2e1477d7a",
   "metadata": {},
   "outputs": [],
   "source": [
    "!export DISABLE_TELEMETRY=YES"
   ]
  },
  {
   "cell_type": "code",
   "execution_count": 2,
   "id": "2c700585-8a2b-47fe-91ba-af8c2877dbad",
   "metadata": {},
   "outputs": [],
   "source": [
    "import ollama\n",
    "import pandas as pd\n",
    "import json\n",
    "\n",
    "from tqdm import tqdm\n",
    "#from tqdm.auto import tqdm  # for notebooks\n",
    "\n",
    "# Create new `pandas` methods which use `tqdm` progress\n",
    "# (can use tqdm_gui, optional kwargs, etc.)\n",
    "tqdm.pandas()"
   ]
  },
  {
   "cell_type": "code",
   "execution_count": 3,
   "id": "77504f4f-b404-47f2-a9e4-0bf9f46c0019",
   "metadata": {},
   "outputs": [],
   "source": [
    "df = pd.read_csv('top10k.csv')"
   ]
  },
  {
   "cell_type": "code",
   "execution_count": 4,
   "id": "13320448-dde3-4370-bc36-ea6cdf8a47fd",
   "metadata": {},
   "outputs": [
    {
     "data": {
      "text/html": [
       "<div>\n",
       "<style scoped>\n",
       "    .dataframe tbody tr th:only-of-type {\n",
       "        vertical-align: middle;\n",
       "    }\n",
       "\n",
       "    .dataframe tbody tr th {\n",
       "        vertical-align: top;\n",
       "    }\n",
       "\n",
       "    .dataframe thead th {\n",
       "        text-align: right;\n",
       "    }\n",
       "</style>\n",
       "<table border=\"1\" class=\"dataframe\">\n",
       "  <thead>\n",
       "    <tr style=\"text-align: right;\">\n",
       "      <th></th>\n",
       "      <th>Unnamed: 0</th>\n",
       "      <th>title</th>\n",
       "      <th>selftext</th>\n",
       "      <th>ups</th>\n",
       "    </tr>\n",
       "  </thead>\n",
       "  <tbody>\n",
       "    <tr>\n",
       "      <th>0</th>\n",
       "      <td>74233</td>\n",
       "      <td>TIFU by having my reddit history revealed by J...</td>\n",
       "      <td>This happened to me yesterday and I'm still ba...</td>\n",
       "      <td>85249</td>\n",
       "    </tr>\n",
       "    <tr>\n",
       "      <th>1</th>\n",
       "      <td>76661</td>\n",
       "      <td>TIFU by cumming into a coconut</td>\n",
       "      <td>EDIT: I got an AMA thread now. Help me: \\n\\nht...</td>\n",
       "      <td>81547</td>\n",
       "    </tr>\n",
       "    <tr>\n",
       "      <th>2</th>\n",
       "      <td>42440</td>\n",
       "      <td>TIFU by stuffing my face with edibles before d...</td>\n",
       "      <td>Recently, I traveled to Denver, Colorado with ...</td>\n",
       "      <td>80916</td>\n",
       "    </tr>\n",
       "    <tr>\n",
       "      <th>3</th>\n",
       "      <td>35184</td>\n",
       "      <td>TIFU by getting Reddit banned in Russia</td>\n",
       "      <td>Today Reddit was blocked in Russia, and I am t...</td>\n",
       "      <td>64262</td>\n",
       "    </tr>\n",
       "    <tr>\n",
       "      <th>4</th>\n",
       "      <td>73236</td>\n",
       "      <td>TIFU by not telling my wife our son was coming...</td>\n",
       "      <td>This happened Sunday night.\\n\\n\\n\\nMy oldest s...</td>\n",
       "      <td>49877</td>\n",
       "    </tr>\n",
       "    <tr>\n",
       "      <th>...</th>\n",
       "      <td>...</td>\n",
       "      <td>...</td>\n",
       "      <td>...</td>\n",
       "      <td>...</td>\n",
       "    </tr>\n",
       "    <tr>\n",
       "      <th>9995</th>\n",
       "      <td>42961</td>\n",
       "      <td>TIFUpdate by making a dumb joke to myself whic...</td>\n",
       "      <td>[Some of you may remember my stupid joke](http...</td>\n",
       "      <td>130</td>\n",
       "    </tr>\n",
       "    <tr>\n",
       "      <th>9996</th>\n",
       "      <td>71249</td>\n",
       "      <td>TIFU by pressing the wrong button</td>\n",
       "      <td>So by some stroke of luck, I was invited to at...</td>\n",
       "      <td>130</td>\n",
       "    </tr>\n",
       "    <tr>\n",
       "      <th>9997</th>\n",
       "      <td>73043</td>\n",
       "      <td>TIFU my first edible experience</td>\n",
       "      <td>Mandatory \"This actually happened about a year...</td>\n",
       "      <td>130</td>\n",
       "    </tr>\n",
       "    <tr>\n",
       "      <th>9998</th>\n",
       "      <td>36945</td>\n",
       "      <td>TIFU by holding the door open for an old man a...</td>\n",
       "      <td>I'm still stunned and have no idea what I did ...</td>\n",
       "      <td>130</td>\n",
       "    </tr>\n",
       "    <tr>\n",
       "      <th>9999</th>\n",
       "      <td>9878</td>\n",
       "      <td>TIFU by selling pot</td>\n",
       "      <td>I've never been a dealer. I don't even smoke v...</td>\n",
       "      <td>130</td>\n",
       "    </tr>\n",
       "  </tbody>\n",
       "</table>\n",
       "<p>10000 rows × 4 columns</p>\n",
       "</div>"
      ],
      "text/plain": [
       "      Unnamed: 0                                              title  \\\n",
       "0          74233  TIFU by having my reddit history revealed by J...   \n",
       "1          76661                     TIFU by cumming into a coconut   \n",
       "2          42440  TIFU by stuffing my face with edibles before d...   \n",
       "3          35184            TIFU by getting Reddit banned in Russia   \n",
       "4          73236  TIFU by not telling my wife our son was coming...   \n",
       "...          ...                                                ...   \n",
       "9995       42961  TIFUpdate by making a dumb joke to myself whic...   \n",
       "9996       71249                  TIFU by pressing the wrong button   \n",
       "9997       73043                    TIFU my first edible experience   \n",
       "9998       36945  TIFU by holding the door open for an old man a...   \n",
       "9999        9878                                TIFU by selling pot   \n",
       "\n",
       "                                               selftext    ups  \n",
       "0     This happened to me yesterday and I'm still ba...  85249  \n",
       "1     EDIT: I got an AMA thread now. Help me: \\n\\nht...  81547  \n",
       "2     Recently, I traveled to Denver, Colorado with ...  80916  \n",
       "3     Today Reddit was blocked in Russia, and I am t...  64262  \n",
       "4     This happened Sunday night.\\n\\n\\n\\nMy oldest s...  49877  \n",
       "...                                                 ...    ...  \n",
       "9995  [Some of you may remember my stupid joke](http...    130  \n",
       "9996  So by some stroke of luck, I was invited to at...    130  \n",
       "9997  Mandatory \"This actually happened about a year...    130  \n",
       "9998  I'm still stunned and have no idea what I did ...    130  \n",
       "9999  I've never been a dealer. I don't even smoke v...    130  \n",
       "\n",
       "[10000 rows x 4 columns]"
      ]
     },
     "execution_count": 4,
     "metadata": {},
     "output_type": "execute_result"
    }
   ],
   "source": [
    "df"
   ]
  },
  {
   "cell_type": "code",
   "execution_count": 5,
   "id": "142ad67e-d15e-4c6a-aa58-ed36727363be",
   "metadata": {},
   "outputs": [],
   "source": [
    "def check_vibes(storytext):\n",
    "    try:\n",
    "        tries = 0\n",
    "        while tries < 3:\n",
    "            approvaljson = ollama.generate(model='qwen2.5:14b', \n",
    "                                     format='json',\n",
    "                                 prompt='''You are the world's best content curator for children and you are choosing stories to adapt to short videos for kids, read the following story and decide if it is family friendly pg-13 and would appeal to all ages including kids. Don't approve stories that have any sexual themes or content related to nudity or drugs or any illegal activity. give your decision in the following json format: {\"reasoning\":\"provide a concise reasoning for your descision here\", \"approval\":true/false} .\n",
    "                                 here's the story: ''' + storytext)\n",
    "            approvaldict = json.loads(approvaljson['response'])\n",
    "            if 'approval' in approvaldict.keys():\n",
    "                if approvaldict['approval'] == True:\n",
    "                    print(storytext[:1000])\n",
    "                # if 'reasoning' in approvaldict.keys():\n",
    "                #     print(approvaldict['reasoning'])\n",
    "                return approvaldict['approval']\n",
    "            else:\n",
    "                tries = tries + 1\n",
    "        return False\n",
    "    except:\n",
    "        return False\n",
    "    "
   ]
  },
  {
   "cell_type": "code",
   "execution_count": 6,
   "id": "c936d249-7e40-4813-9293-669b90fd79df",
   "metadata": {},
   "outputs": [
    {
     "name": "stderr",
     "output_type": "stream",
     "text": [
      "  0%|                                                | 21/10000 [01:33<7:17:52,  2.63s/it]"
     ]
    },
    {
     "name": "stdout",
     "output_type": "stream",
     "text": [
      "In 5th grade, I had a black history month project where I had to make a presentation on a person of my choice. I looked up ‘important African Americans’ and found a Wikipedia page with a list of famous black people, or so I thought. I chose Allan McLeod Cormack, a South-African American scientist, seeing that he invented the CT scan. I put my blood sweat and tears into that project. Two days before the project was due I decided to put a picture of Cormack on my poster. To my confusion, all I could find was a picture of this white guy. Turns out, he was a white South African. I made the mistake of telling my teacher instead of keeping it a secret, thinking that it would be better to come clean. She let me go through with the presentation portion of the project, but I had to completely start over on my research and redo the write-up on someone actually worthy of black history month. \n",
      "\n",
      "TL;DR I did my black history project on a white guy and didn’t realize until the day before it was due, \n"
     ]
    },
    {
     "name": "stderr",
     "output_type": "stream",
     "text": [
      "  0%|▏                                               | 33/10000 [02:01<6:09:48,  2.23s/it]"
     ]
    },
    {
     "name": "stdout",
     "output_type": "stream",
     "text": [
      "This literally happened about 15 minutes ago. I was walking behind this lady pushing a pram with a kid inside playing with a helium  balloon. I suddenly see her baby accidentally let go of his balloon so I instantly turn on my hero-mode and extend my hand to grab the balloon string. It was a really epic and glorious moment and in my mind I was already playing out how cool I looked and how the lady would thank me for saving the balloon. Unfortunately, I did not manage to grab it in time. I did however end up with my hand in a closed fist straight into another man's cheek who was walking next to me. Now there's a crying baby in front of me and a very shocked, confused and upset stranger beside me. I think after the initial shock he did realise I was only trying to do a good deed so he didn't say anything to me but either way I immediately slowed down in embarrassment  and let them walk ahead of me...I am the hero this city does not need.\n",
      "\n",
      "TL;DR Tried to save a baby's balloon from flying \n"
     ]
    },
    {
     "name": "stderr",
     "output_type": "stream",
     "text": [
      "  0%|▏                                               | 37/10000 [02:11<6:26:04,  2.33s/it]"
     ]
    },
    {
     "name": "stdout",
     "output_type": "stream",
     "text": [
      "So this morning I was in court disputing a traffic ticket when I called the judge \"your majesty\"... \n"
     ]
    },
    {
     "name": "stderr",
     "output_type": "stream",
     "text": [
      "  1%|▎                                              | 55/10000 [03:13<12:00:03,  4.34s/it]"
     ]
    },
    {
     "name": "stdout",
     "output_type": "stream",
     "text": [
      "Quick disclaimer: This was a year ago.\n",
      "\n",
      "I'm a huge history nerd and I absolutely love exploring ancient sites. My mother and I took a trip to Greece and were on a tourbus.\n",
      "\n",
      "One of our many stops were Nafplio (which was absolutely beautiful) and our tour guide said \"If you climb 999 steps, you'll find the beautiful fortress of Paladimi. The entire bus chuckled (Mainly middle aged, few elders.) But being the teenage self I am, I was determined to climb those steps.\n",
      "\n",
      "There's a slight problem however, I was really out of shape.\n",
      "\n",
      "I am at the beginning of the staircase up the mountain and my mom (bless her heart) offered to take my wallet and the hotel keys so it wouldn't weigh me down. Left me with just my phone. She decided she didn't want to join me on my hike up the mountain because (understandably) she was worn out.\n",
      "\n",
      "I begin my ascent, around 15-30 excruciatingly painful minutes later, i make it to the top. I had a sense of pride as I stepped to the entrance of the gate. I would be able\n"
     ]
    },
    {
     "name": "stderr",
     "output_type": "stream",
     "text": [
      "  1%|▎                                               | 70/10000 [03:49<6:07:53,  2.22s/it]"
     ]
    },
    {
     "name": "stdout",
     "output_type": "stream",
     "text": [
      "Preface: \n",
      "*Not trolling for money, thanks* \n",
      "\n",
      "\n",
      "So I'm a semi-broke grad student and Lyft driver and this morning it was raining in my city. I ran into CVS to grab something and I was wearing an old coat with deep pockets (relevant to story). I also paid in cash which I never do as I rarely carry cash. So I walk out after buying my couple of items and see this older homeless man I often see in my neighborhood. I give him a dollar here or there some days when I can. He's in his wheelchair looking helpless and getting rained on so I figure, hey, even though I'm broke (as in my bills are insane and I make just enough atm to live and support my family) I can still give my coat because I have a few decent ones, I'm dry in my car today, this coat is older but in good shape and will keep him warm.... etc... so I give him the coat and he mumbles \"thanks\" and I smile and tell him to stay warm and off I go... later as I'm working I stop to grab gas and realize I put the $80 change from that mornin\n"
     ]
    },
    {
     "name": "stderr",
     "output_type": "stream",
     "text": [
      "  1%|▍                                               | 88/10000 [04:32<7:04:30,  2.57s/it]"
     ]
    },
    {
     "name": "stdout",
     "output_type": "stream",
     "text": [
      "Obligatory \"not actually today,\" but July 2016. I was on a beach vacation with my wife, 9yr old and 7 yr old daughters. The kids had been pestering me about getting a pet. In my infinite fatherly wisdom, I promised the girls they could \"have a seagull\" if they could catch it. Because, come on, that just ain't gonna happen.\n",
      "\n",
      "Later in the week, I am lounging in my beach chair when...I shit you not... my oldest daughter nabs a seagull in a butterfly net. After many seconds of cheering from both daughters and confused gray and white flapping, I managed to collect my jaw off the sand. I ordered my daughter to let the bird go.\n",
      "\n",
      "Both daughters were quite pissed off because it had taken them days to formulate and successfully execute their plan to acquire a pet. The story does have a happy ending. I did promise the girls a pet so we adopted a puppers. I have learned to never promise anything to the kids I can't deliver no matter how far fetched it seems. I've also learned to *never* underestim\n"
     ]
    },
    {
     "name": "stderr",
     "output_type": "stream",
     "text": [
      "  1%|▍                                              | 100/10000 [04:58<6:48:14,  2.47s/it]"
     ]
    },
    {
     "name": "stdout",
     "output_type": "stream",
     "text": [
      "The TIFU was last night, not this morning.  \n",
      "\n",
      "As I do most nights, I check on my kids just before turning in myself. My daughter seemed a little restless, but nothing out of the unusual. As I was leaving her room, though, I heard her mutter something. She often just says sweet things like, \"I love you, Dad\" or sometimes she talks in her sleep. Either way I usually listen in. So I paused at the door and asked, \"Did you say something?\" Another mutter and she rolled to her side. I knelt down beside her (she has been opting to sleep on the floor lately). This time she growled a bit and her dinner of hotdogs, carrot sticks, and orange juice made a quick exit onto her blankets, hair, and stuffed animal collection. I sat her up and was rubbing her back reassuringly and she finished coating the remaining blankets and sleeping bag with what seemed like an endless supply of orange liquidy pulp. An hour an a half later we were finally getting her back to bed after a shower and a few more sessions\n"
     ]
    },
    {
     "name": "stderr",
     "output_type": "stream",
     "text": [
      "  1%|▋                                              | 137/10000 [06:44<6:50:37,  2.50s/it]"
     ]
    },
    {
     "name": "stdout",
     "output_type": "stream",
     "text": [
      "This just happened. My 4yo son wanted me to carry him to bed. I obliged as I often do. Also often I tell him he's getting so big that some day I won't be able to carry him. But today was different. Inspired by one of the most memorable posts I've read here, as I laid him down I said \"one day, unknown to either you or me I will put you down never to pick you up again.\"\n",
      "\n",
      "I thought it was going to go right past him like when I say he's getting too big for me to carry. Instead, he looked at me from his bed, tears welling up in his eyes, and said in a quiet little voice, \"Daddy, that's so sad.\"\n",
      "\n",
      "I lost it.\n",
      "\n",
      "We both wept for about an hour until I held his little hand as he fell asleep.\n"
     ]
    },
    {
     "name": "stderr",
     "output_type": "stream",
     "text": [
      "  1%|▋                                              | 144/10000 [07:00<6:47:13,  2.48s/it]"
     ]
    },
    {
     "name": "stdout",
     "output_type": "stream",
     "text": [
      "I was cleaning my 6y.o. son's room, and doing my annual purge of crap he's managed to hoard. I have this big pile of stuff to throw out in the living room, when he comes in, pulls some stupid paper butterfly out of the trash pile and tells me I can't throw this away because it was a present.\n",
      "\n",
      "He goes to a lot of birthday parties and gets a lot of goodie bags with this sort of thing, so I tell him it's junk and it's going in the trash. Besides, it's all bent up and I tell him (like a douche-dad) that if he values things he should take care of them.\n",
      "\n",
      "He leaves, and some 5 minutes later he returns, visibly distraught (he's clearly been thinking hard about this). He says \"It was a present...for you.\"\n",
      "\n",
      "\"For father's day.\"\n",
      "\n",
      "I swear at that moment I heard every angel in heaven slow clapping.\n",
      "\n",
      "EDIT: Whoa, go to sleep, then to work, then come back to a crap-ton of comments. Deserving of some additional context.\n",
      "\n",
      "As some hawk-eyed redditors astutely noted, it's nowhere near Father's Day so the \"\n"
     ]
    },
    {
     "name": "stderr",
     "output_type": "stream",
     "text": [
      "  2%|▊                                             | 177/10000 [08:43<10:04:32,  3.69s/it]"
     ]
    },
    {
     "name": "stdout",
     "output_type": "stream",
     "text": [
      "So, I've been practicing how to drive for years now. Been taking some online practice tests, passed my written test, been practicing on roads and it all led up to today. I even drove my car to the DMV and the ride there went quite well. I pulled up to the starting line (or more specifically, one car length behind the starting line) and let my instructor get settled in. She told me to drive straight ahead and prepare to make a right turn. I did just that, but as soon as I turned on my right turn signal, she told me to stop and asked what I did wrong. I was honestly taken aback. She told me I ran a stop sign which, to my surprise, was an automatic failure. It turns out there was a stop sign about a car's length from where I \"started\" which I must've missed. I'm aware it was an honest mistake, but it's still probably the dumbest way I could've failed. It's funny. My instructor actually said the same thing that happened to me happened to a guy who tried to take the test three days before I\n"
     ]
    },
    {
     "name": "stderr",
     "output_type": "stream",
     "text": [
      "  2%|▉                                              | 190/10000 [09:15<7:37:52,  2.80s/it]"
     ]
    },
    {
     "name": "stdout",
     "output_type": "stream",
     "text": [
      "This happened two Christmas's ago and I want to remind everyone to make sure to open your gifts fully. \n",
      "\n",
      "So I have done Reddit's Secret Santa exchange the past few years. The first 3 years tried it, I sent my gifts and had got nothing back in return. I was on my final straw with the exchange and because I was putting a good effort in my gifts, I wanted something cool in exchange. \n",
      "\n",
      "I made my bio on the Secret Santa page and showed all my interests. I talked about my dog, how much I love soccer and all sports, my favorite teams, and other hobbies. I was hoping this would be the year...Well about a week before Christmas, I get a package that has written in sharpie all over it, \"REDDIT SECRET SANTA!!!!\" \n",
      "I was stoked to say the least. My roommates gathered around to see what was in the box...an electric toothbrush still sealed in the box(looked like this http://i.imgur.com/bcrSJ22.jpg). I was so bummed. My roommates laughed, I laughed (but was a little mad). I said something along the lin\n"
     ]
    },
    {
     "name": "stderr",
     "output_type": "stream",
     "text": [
      "  2%|▉                                              | 208/10000 [09:57<6:39:13,  2.45s/it]"
     ]
    },
    {
     "name": "stdout",
     "output_type": "stream",
     "text": [
      "This happened over the weekend, and that this is my third year celebrating holiday and not too knowledgeable or accustomed to traditions. (reason, am an exJW) This was the second year doing the Elf on the Shelf, last year i forgot to move it several nights; my daughter would wake up and say if she did something wrong or what happened because it didn't move. So this year i came up with the ingenious solution of setting up an alarm for everyday til Christmas, great idea right? She goes to bed at 8pm and my alarm would go off at 12am, i would move it every night and no disappointment! WRONG! After an introductory marathon of Jackie Chan movies that extended past, you guessed it, midnight! My daughter was lying down next to my phone and it went off with the captions MOVE ELF, she saw it and i reached and got the phone, tried to get up and grabbed a SHELF that was by my bedroom door and moved it. She stared at me and said, \"Daddy, why did your phone said move elf?\" I tried to tell her it sa\n"
     ]
    },
    {
     "name": "stderr",
     "output_type": "stream",
     "text": [
      "  3%|█▏                                             | 259/10000 [12:06<6:45:22,  2.50s/it]"
     ]
    },
    {
     "name": "stdout",
     "output_type": "stream",
     "text": [
      "This happened when i was 7 years old.  \n",
      "\n",
      "\n",
      "I lived in suburban midwest US, where all the kids in the neighborhood could walk alone to the park and each other's houses well across town.  My best friend lived on the other side of the park and for some reason I had this idea that it would be fun to write her an anonymous letter giving hints about which friend I was, and then inviting her to meet me at the park later to see if she had guessed correctly\n",
      ".\n",
      "\n",
      "I decided that the letter had to be typed so the handwriting wouldn't give me away.  This was 1997 and computers were so new that microsoft word was entertaining.  I had played pretend secratary enough that I had taught myself to print addresses on an envelope.  I typed up this long letter and gave her 3 clues describing who I was and set a future date for her to meet me.\n",
      "    \n",
      "A week or so goes by and I've pretty much forgotten about the letter when we get a frantic phone call from my friend's mom asking if I had received any suspicious ma\n"
     ]
    },
    {
     "name": "stderr",
     "output_type": "stream",
     "text": [
      "  3%|█▎                                             | 268/10000 [12:30<7:28:10,  2.76s/it]"
     ]
    },
    {
     "name": "stdout",
     "output_type": "stream",
     "text": [
      "Sorry for formatting. My intranet at work is terrible for Reddit and image hosting. I'll add with mobile later. \n",
      "\n",
      "Last May, two friends and I signed up to foster a litter of kittens from the local shelter. We chose kittens because they're low maintenance in respect to puppies. We have a good place to do it, love animals, and have the time. So we walked into the shelter, signed up, received a background check, and then told to standby. On June 1st we got the call. We were so excited. The clerk informed us that they did not have kittens, but puppies. We discussed amongst ourselves and agreed we could do 4 puppies instead of kittens. When we arrived, they brought us straight into a room with 8 puppies hobbling around and squeaking. They were 2-3 weeks old. 3-5 pounds each. Their mother had died. A vet technician was bottle feeding one. Our hearts melted. \n",
      "\n",
      "We asked which we would be taking. The Vtech looked at us weird and said, \"Well, the whole litter I would hope.\" 8 puppies 1 litter. J\n"
     ]
    },
    {
     "name": "stderr",
     "output_type": "stream",
     "text": [
      "  3%|█▎                                             | 279/10000 [13:09<8:08:29,  3.02s/it]"
     ]
    },
    {
     "name": "stdout",
     "output_type": "stream",
     "text": [
      "Actually, I was the interviewer.  Although the main interview and hiring is done by someone else, they are sent to me for 10-15 minutes at the end since I'm the person they will directly be interfacing with.  I always get a print out of their resume beforehand which I glance at during the interview..  \n",
      "\n",
      "Well today I had an interview and it went fine.  At the end we got up and I told the woman that it was nice to meet her and we'd let her know.  But, since the resume has absolutely no future use to me, I was absentmindedly ripping it up and throwing it in the trash in front of her as I said this.  The look of horror on her face was tangible.  It was only about 15 seconds after she walked out the door that I realized what I had done and how soul-crushing it must have felt!\n",
      "\n",
      "So to poor interview woman I say now:  \"Sorry!  You were actually a decent candidate!\" \n",
      "\n",
      "EDIT:  Update:  https://www.reddit.com/r/tifu/comments/3f21g0/tifu_on_a_job_interview_that_went_well_until_the/\n",
      "\n",
      "\n"
     ]
    },
    {
     "name": "stderr",
     "output_type": "stream",
     "text": [
      "  3%|█▍                                             | 311/10000 [15:00<8:23:19,  3.12s/it]"
     ]
    },
    {
     "name": "stdout",
     "output_type": "stream",
     "text": [
      "In typical TIFU fashion, this didn't take place today, but rather a decade ago.\n",
      " I was a very small child at this time, on around seven or eight. Me and my sister's were playing a game in my room. We then shut the door, only to realise that it locks from the outside. Without noticing that the lock mechanism had been active, I shut the door, trapping my sisters and I inside. We screamed for our parents once we realised it was locked. They came and opened the door to see what was going on, and walking into the room. \n",
      "\n",
      "Now for the actual screw up. \n",
      "\n",
      "Like a complete moron, I forgot about the situation that happened LESS THAN FIVE MINUTES AGO, and proceeded to shut the door with the lock still active. This trapped our whole family inside my room.\n",
      "\n",
      " We spent 3 hours in that room, unsure what to do, as my parents left their phones in the kitchen. After 3, grueling and miserable hours, we have the genius idea to scream out the window at random strangers on the sidewalk. This took place in the \n"
     ]
    },
    {
     "name": "stderr",
     "output_type": "stream",
     "text": [
      "  3%|█▍                                             | 315/10000 [15:10<7:01:23,  2.61s/it]"
     ]
    },
    {
     "name": "stdout",
     "output_type": "stream",
     "text": [
      "Summer time in the upper Midwest, I'm chilling at home when I get a call from some friends that they don't have a way home from some event in the cities, and I'm their only way back. Sure, I'll come grab you guys I guess. Gotta clean out my car though so everyone can fit. Garbage bag full of crap, last thing is two 24 packs of pop, Mountain Dew and Pepsi that are variably full. \n",
      "\n",
      "I think to myself that the warm temperatures probably aren't good, and I reach in and grab a can of Pepsi. I notice the bottom of the can is not concave...but instead convex, bulging outward. Woah, never seen something like that. I'm curious as to how much pressure it is under, and want to see Pepsi shoot outward. So standing at about the drivers side back door facing away from the front of the car, I hold the can horizontal and go to open it. I slowly start pulling the tab back, and the very next instant, I am coated with a fine mist of Pepsi and the can is no longer in my hand. I look behind me, the whole si\n"
     ]
    },
    {
     "name": "stderr",
     "output_type": "stream",
     "text": [
      "  3%|█▌                                             | 330/10000 [15:54<7:25:09,  2.76s/it]"
     ]
    },
    {
     "name": "stdout",
     "output_type": "stream",
     "text": [
      "To clarify, I work in a phone retailer in the UK where it's common to do a data transfer for customers buying a new phone from their old one. \n",
      "\n",
      "A young couple had come in, toddler in tow, to get their new device and had been incredibly helpful by loading all their data on to a micro SD card ready for the new device. Despite them offering to do it at home, part of our good service guidelines is to do it in store for them. Some may know that many phones spring load their micro SD cards so that pushing it in to the device pops it back out.\n",
      "\n",
      "This phone, for whatever reason, had a ridiculously powerful spring that immediately shot the SD card out at such a force I didn't even see it go. So I'm standing there with no card, no knowledge and in store music drowning out any sound of where it landed. \n",
      "\n",
      "I searched, my colleagues searched, but to no avail. These photos were majority baby photos documenting this kids entire life and had helpfully been backed up on to one card with no other options.\n"
     ]
    },
    {
     "name": "stderr",
     "output_type": "stream",
     "text": [
      "  3%|█▌                                             | 332/10000 [16:00<7:22:56,  2.75s/it]"
     ]
    },
    {
     "name": "stdout",
     "output_type": "stream",
     "text": [
      "The WHOLE BANK!\n",
      "A few years ago I was a teller. Every night we balance our drawer and bank our branches 'holdings' to a ledger. \n",
      "\n",
      "About three weeks before, we had rolled out a new operating/banking system. \n",
      "Going from an old 'green screen' to a Windows based one.\n",
      "\n",
      "This one evening. I was the sole operator in our branch left to bank my funds to the ledger. \n",
      "I did that, locked up ,alarm on....and off I went home. \n",
      "\n",
      "The rest of the branches also did their banking nation wide.\n",
      "\n",
      "The next morning I turn up to work to be told that there was a major system outage and no-one could collect their funds to start the days banking.\n",
      "\n",
      "Every branch across Australia was unable to release the banking from the ledger.\n",
      "\n",
      "We had to resort to our emergency operations. Manual transactions and cash withdrawals limited to a certain $$ amount per customer.\n",
      "\n",
      "The word was the top dogs were screaming blue murder!!! IT couldn't figure it out. \n",
      "\n",
      "Then it was discovered.\n",
      "\n",
      "A certain branch.... had deposited an amount to \n"
     ]
    },
    {
     "name": "stderr",
     "output_type": "stream",
     "text": [
      "  4%|█▋                                             | 356/10000 [17:40<6:59:14,  2.61s/it]"
     ]
    },
    {
     "name": "stdout",
     "output_type": "stream",
     "text": [
      "I woke up this morning and started brushing my teeth just like any other morning. I realized I was running a bit late and that it was dumping snow (I live in Northern Idaho), so I ran outside to start my car with my toothbrush still in my mouth. It was freezing outside and I was not properly dressed so I ran back to my house. Right when I was approaching, I stumbled slightly on the bottom stair and hit the toothbrush on my door, jamming it into the back of my mouth. It hurt a little bit but I didn't think anything of it and continued brushing my teeth. When I went to spit and rinse, there was more blood than toothpaste. I opened up, said \"ahhhhh,\" and looked in my mouth to find that the toothbrush had poked a hole in the back of my throat. Stitches in the back of your throat are not pleasant.\n",
      "\n",
      "https://imgur.com/pJ2Pq6p\n",
      "\n",
      "TLDR; ran with my toothbrush in my mouth and ended up with stitches in my throat\n"
     ]
    },
    {
     "name": "stderr",
     "output_type": "stream",
     "text": [
      "  4%|█▊                                             | 382/10000 [19:25<8:30:47,  3.19s/it]"
     ]
    },
    {
     "name": "stdout",
     "output_type": "stream",
     "text": [
      "TIFU by tipping my Starbucks barista. \n",
      "\n",
      "I ordered my drink,  and looked in my wallet for a cash tip.  I had one $10 bill and one $1 bill.  I accidentally grabbed both and put them in the tip box.  I immediately said \"oops! My bad!\" and took the $10 out. \n",
      "\n",
      "Another customer in line saw this and accused me of stealing the $10 out of the tip jar.  I didn't hear him and walked off to go look at clothes with my daughter (the Starbucks is inside a Macys). \n",
      "\n",
      "Suddenly I had 3-4 customers yelling at me,  accusing me of taking the money.  An employee came out from behind the counter and confronted me about stealing it. I said no,  it was a mistake.  I put two bills in on accident.  She said okay and walked away.  \n",
      "\n",
      "Every single customer was now staring at me as I stood there waiting for my drink to be made. One woman was staring and staring and staring and wouldn't stop.  I finally said \"Why are you staring at me? Do you honestly think I would steal out of a tip jar?\"  she gave me a nasty attitud\n"
     ]
    },
    {
     "name": "stderr",
     "output_type": "stream",
     "text": [
      "  4%|█▊                                             | 396/10000 [20:06<8:27:06,  3.17s/it]"
     ]
    },
    {
     "name": "stdout",
     "output_type": "stream",
     "text": [
      "The mob were not involved. Technically this happened a few years ago but thought it was good enough to share.\n",
      "I was working on a short film and needed a plaster mold of my feet, so of course I thought \"well why not\" and shoved my feet right into a bucket full of wet cement. Other than the heat of the chemical reaction between the water and the dry cement, everything seemed fine. So about 20 minutes later I tried taking my feet out, and long story short the fire brigade were called. They tokyo drifted down my drive and burst through my door. As each fireman came through the door they broke down into tears of laughter, before long they were all standing round me taking photos.\n",
      "\n",
      "Photo evidence: http://imgur.com/a/mfTUp\n",
      "\n",
      "TL;DR - Needed plaster mold of feet, feet stuck, fire brigade called, they all started taking photos of me.\n"
     ]
    },
    {
     "name": "stderr",
     "output_type": "stream",
     "text": [
      "  4%|█▉                                             | 401/10000 [20:21<7:50:11,  2.94s/it]"
     ]
    },
    {
     "name": "stdout",
     "output_type": "stream",
     "text": [
      "Unlike normal tifu manner, this was actually today. Maybe an hour ago.\n",
      "\n",
      "I'm turning 17 this month and was trying to get my second job ever. I applied to many places, and finally got a call back. I was told \"Go to chili's at 2 pm on friday\" this is where the fu begins.\n",
      "\n",
      "I was excited for the interview, obviously, and told my parents and a couple friends about it. Finally the day is here, and I leave about 30 minutes early just in case. I go in, and the interviewer is taking quite a while, which is the first sign to me that something is wrong. He finally comes out, it all goes smoothly, but he says \"We aren't currently in much need of new team members, but you must've been called for a reason.\" Second sign something's wrong. \n",
      "\n",
      "We shake hands and I leave, and I decided to check my calls. \n",
      "\n",
      "I look up the number to see which store it's for, as it didn't match the one I was at.\n",
      "\n",
      "Except\n",
      "\n",
      "It's not chili's at all\n",
      "\n",
      "It was Tilly's.\n",
      "\n",
      "So not only did I confuse some poor manager, I missed out on the\n"
     ]
    },
    {
     "name": "stderr",
     "output_type": "stream",
     "text": [
      "  4%|█▉                                             | 403/10000 [20:26<7:17:33,  2.74s/it]"
     ]
    },
    {
     "name": "stdout",
     "output_type": "stream",
     "text": [
      "I decided to make a quick run to the bank today to deposit a check. I arrived and pulled into a parking space and put my car in park.  I was looking down and reading a text on my phone when I suddenly noticed my car was rolling forward.  I switched into full panic mode.  The only thing separating me from the 40 mph traffic in front of me was a small patch of grass that I would be crossing at any moment now.  I started pumping my brakes to no avail and decided my best bet now would be to warn the oncoming traffic. So I laid on my horn and began wrestling to get my seat belt off so I could bail out if needed.  Keep in mind, because I am being descriptive, it may seem like a while had passed by now, but all of these thoughts and reactions happened within abut a 6 second span of time.  Suddenly, my car stopped rolling.  I looked up and around trying to figure out what had happened. I glanced at the bewildered drivers in the parked cars on either side of me that I had just rolled past. It w\n"
     ]
    },
    {
     "name": "stderr",
     "output_type": "stream",
     "text": [
      "  4%|█▉                                             | 408/10000 [20:43<8:06:36,  3.04s/it]"
     ]
    },
    {
     "name": "stdout",
     "output_type": "stream",
     "text": [
      "This happened about 4 years ago.\n",
      "\n",
      "I wanted some grilled cheese.\n",
      "\n",
      "I recalled seeing a life hack with this photo: https://imgur.com/gallery/Yg4iP\n",
      "\n",
      "I happily turned my toaster on its side, popped in the bread with the cheese and went to the bathroom.\n",
      "\n",
      "1 minute later I hear my mother yell \"What's burning!?\" followed instantly by our smoke alarm going off.\n",
      "\n",
      "I rush back into the kitchen only to find in my horror that the toaster is on fire.\n",
      "\n",
      "My mother rushes in, gasps and says \"What the hell did you do!\"\n",
      "\n",
      "At this point I'm fumbling trying to figure out what to say and what to do about my fiery toaster.\n",
      "\n",
      "\"I JUST WANTED SOME GRILLED CHEESE IM SORRY\"\n",
      "\n",
      "She quickly filled up a bowl of water and I unplugged it from the power. She then poured it over and out it went.\n",
      "\n",
      "It's a bit fuzzy, but I 'think' at least one of those slices wasn't wet or burnt. I believe I ate it as she threw the toaster outside.\n",
      "\n",
      "Nothing else was damaged except for the counter. There was a burnt spot in it which I still see wh\n"
     ]
    },
    {
     "name": "stderr",
     "output_type": "stream",
     "text": [
      "  4%|█▉                                             | 417/10000 [21:05<6:32:57,  2.46s/it]"
     ]
    },
    {
     "name": "stdout",
     "output_type": "stream",
     "text": [
      "This happened this morning.\n",
      "\n",
      "Like every day, I got my coffee pot ready to make itself 20 minutes before my alarm goes off. I love doing that so I wake up more easily.\n",
      "\n",
      "So, this morning I walked into my kitchen to find a fresh 12 cups of coffee... All over my counters and floor. I forgot to use the pot when making my pot of coffee. \n",
      "\n",
      "TLDR; The best part of waking up is folgers on your floor.\n",
      "\n",
      "Edit: I guess some people [take their coffee super cereal.](http://i.imgur.com/8Df7TgL.png) So I don't get another 3 dozen \"Folgers sucks\" replies, it wasn't. I just made a fun TL;DR.\n",
      "\n"
     ]
    },
    {
     "name": "stderr",
     "output_type": "stream",
     "text": [
      "  4%|██                                             | 439/10000 [22:03<7:02:33,  2.65s/it]"
     ]
    },
    {
     "name": "stdout",
     "output_type": "stream",
     "text": [
      "I was driving home on a small residential street and noticed some cheerleaders practicing right off the side of the road. They were straight ahead and I had to make a left turn. I was still kind of glancing back at them while making the turn and didn't see caution sandwich board thing construction workers use to mark their work area. I ended hitting the sign and sinking my front left tire into a pothole full of hot blacktop. I'm thinking I'm going to get my ass kicked by some construction workers when one of them approaches me asking me if me and my car are ok. I told him I was fine and very sorry. He said don't worry about it. We were watching them too.\n"
     ]
    },
    {
     "name": "stderr",
     "output_type": "stream",
     "text": [
      "  5%|██▏                                            | 473/10000 [24:11<9:09:05,  3.46s/it]"
     ]
    },
    {
     "name": "stdout",
     "output_type": "stream",
     "text": [
      "This actually did happen today, a few hours ago to be exact. I'm working my normal shift at Wendys (I'm still in school) anyway we're pretty busy and my manager ask me to fill the vanilla frosty machine with frosty mix. So I go into the walk in freezer and get a bag of vanilla frosty mix and pour it into the frosty machine. About 10 minutes later my manager looks pissed and calls me over to the frosty machine i look in and realize I filled it with mayonnaise. My manager starts screaming at me about how i almost broke the frosty machine and made me clean the mayo out with my bare hands and I despise mayo with my entire being \n",
      "\n",
      "Tl;dr thought I was filling a frosty machine with frosty mix turned out to be mayo and had to clean it out with my hands and almost got fired \n",
      "\n",
      "Edit: everyone saying I'm an idiot this was my first time filling the machine and I've been working here for like 2 months also the next day me and manager laughed about it \n"
     ]
    },
    {
     "name": "stderr",
     "output_type": "stream",
     "text": [
      "  5%|██▎                                            | 499/10000 [25:57<8:00:20,  3.03s/it]"
     ]
    },
    {
     "name": "stdout",
     "output_type": "stream",
     "text": [
      "I live in a very snowy place. Yesterday alone, we received about 4 feet of snow. This fu happened in the morning, last week. I drive to work, and as I was driving down my street I came face to face with a snow removal truck. Because my street is very narrow, there was now way I could just pass by, so I decided to be courteous and backed up in the nearest driveway, so they truck could pass. However, the driver did not raise the snow-plow and built a dense 3 feet snow wall in the entrance of the driveway I just pulled in. My car is way too small/low and I got stuck trying to get out.  I had to walk home, get a shovel and dig for 1/2 hr just to get out. \n",
      "\n",
      "\n",
      "As a result, I was late for work and I am the running gag of the office. \n",
      "\n",
      "Tldr: left home for work on a snowy day, pulled in a driveway so a snow removal truck could pass, the driver pushed so much snow in that driveway I got stuck and had to get back home and bring a shovel and work 30min to get out...\n"
     ]
    },
    {
     "name": "stderr",
     "output_type": "stream",
     "text": [
      "  5%|██▍                                            | 524/10000 [27:01<7:12:41,  2.74s/it]"
     ]
    },
    {
     "name": "stdout",
     "output_type": "stream",
     "text": [
      "This happened a few months ago. I woke up in the morning and decided to go to the local petrol station to get a coffee from the Starbucks coffee machine there. So I just woke up, put some  random clothes on, grabbed my stuff and immediately and left the house.\n",
      "\n",
      "I went the petrol station, served myself a latte from the automatically machine and took it to the cashier to pay. She said \"that will be £2.40\" I then went to get my wallet from my pocket and instead of taking out a wallet I took out my TV remote which I had picked up by mistake instead of the wallet. Then there was this moment where I just stared at the remote, then back to the cashier then again at the remote and back at the cashier while I was figuring out what was going on (I had only just woken up remember). \n",
      "\n",
      "Obviously I explained that I had left my wallet at home but I later realised that I never explained to the cashier why I had taken a TV remote out of my pocket ... It's possible the cashier thought I just wanted to s\n"
     ]
    },
    {
     "name": "stderr",
     "output_type": "stream",
     "text": [
      "  5%|██▌                                            | 534/10000 [27:27<7:15:01,  2.76s/it]"
     ]
    },
    {
     "name": "stdout",
     "output_type": "stream",
     "text": [
      "A few weeks ago, my cousin was driving behind a Ford Galaxy on a rural road. As the cars went over a bump, something fell from the wheel well of the car in front of her. She slammed on her brakes and got out of the car to see it was a tiny orange kitten! (She never could find the owners, and we assume he was a feral cat)\n",
      "\n",
      "Because I just had to put down my 17 year old orange cat, she decided to let me have the kitten, which we appropriately named 'Galaxy', due to his origin story. \n",
      "\n",
      "Fast forward a couple of weeks. I just bought a Samsung Note 4. Ever since I got the phone, it has been doing weird things. Namely, the voice recognizer will randomly turn on and search for things while I am casually browsing reddit. I couldn't figure out why, and the staff at the store was of no help.\n",
      "\n",
      "A few minutes ago, my kitten jumped on my lap while I was browsing twitter. So I said \"oh hi, Galaxy, silly kitty!\" Then my phone started a Google search for \"silly kitty\". (\"Hi, Galaxy\" is the phrase to star\n"
     ]
    },
    {
     "name": "stderr",
     "output_type": "stream",
     "text": [
      "  6%|██▌                                            | 553/10000 [28:21<7:42:08,  2.94s/it]"
     ]
    },
    {
     "name": "stdout",
     "output_type": "stream",
     "text": [
      "This happened just this morning. I'm visiting my parents  with my wife and son, and I got up to put in my contacts like I do every morning. \n",
      "\n",
      "I put in the first lens and my eye starts burning like all hell. It dawns on me that I had forgotten contact lens solution and used some spare solution I found in the cupboard before I went to bed. Except it wasn't the right kind of contact solution for my lenses. It was the type you use for hard lenses that is essentially hydrogen peroxide. \n",
      "\n",
      "This is when I start to panic. My eye is burning worse and I can't get the lens out. It's stuck to my eye. No matter how hard I pull on the lens, it just won't come out. I can feel it between my nails on my finger and it won't come off. It's at this point I scream and my mother comes into the bathroom. \n",
      "\n",
      "I tell her I can't get the contact lens out of my eye no matter how hard I pull. She looks in my eye and says she can't see a contact in my eye. She then points to the countertop and there's the contact. \n",
      "\n",
      "\n"
     ]
    },
    {
     "name": "stderr",
     "output_type": "stream",
     "text": [
      "  6%|██▋                                            | 579/10000 [29:45<8:24:03,  3.21s/it]"
     ]
    },
    {
     "name": "stdout",
     "output_type": "stream",
     "text": [
      "Obvious throwaway for this one. \n",
      "\n",
      "So I play a game called \"CS:GO\". In this game you can bind your keys to the different types of grenades for fast access. As a result of this and all of the other keys in use, all the keys that are available are super uncomfortable as a push to talk. Then I had a great idea. I went on Amazon, and bought a pedal that I could connect to my PC. I couldn't find the exact one, but this is similar http://www.amazon.com/Control-Keyboard-Action-Switch-Pedal/dp/B00B3PV47O . Paid extra for overnight shipping and viola! I had push to talk bound to the pedal the next day. It all felt so natural. Now, I'm 15 and just recently I got my learners permit to drive on with a parent or guardian. My mom does this thing where she asks me to drive her to places to run errands or buy groceries so I can get a lot of practice in. One day she asked me to take her to the local grocery store. Me being the kid that loves driving, I agreed. Now at this point, me pushing down a pedal \n"
     ]
    },
    {
     "name": "stderr",
     "output_type": "stream",
     "text": [
      "  6%|██▊                                            | 605/10000 [31:08<7:43:02,  2.96s/it]"
     ]
    },
    {
     "name": "stdout",
     "output_type": "stream",
     "text": [
      "Yesterday I was showing  to my siblings about how I could do push-ups and clap my hands in the air. I then decided to try and clap my hands behind my back and... proceeded to smash my face on the hardwood floor. Now I have 6 stiches on my chin and a very sore jaw.\n",
      "\n",
      "http://imgur.com/vBAzNnd\n"
     ]
    },
    {
     "name": "stderr",
     "output_type": "stream",
     "text": [
      "  6%|██▊                                            | 606/10000 [31:10<7:40:55,  2.94s/it]"
     ]
    },
    {
     "name": "stdout",
     "output_type": "stream",
     "text": [
      "So a few hours ago I downloaded Pokemon GO (I live in New Zealand) and enjoyed walking around my city collecting items from Pokestops/ capturing Pokemon etcetera, before going home. Around half an hour ago I decided to leave my house and skate around my suburb to see if I could catch any interesting Pokemon, or gain some cool items. About 5 minutes into skating slowly down the footpath my board is blocked by an uneven surface and I go flying across it with my phone. More worried about making a painful landing, I let go off my phone and try to cushion the landing with my hands, but because my reaction time is just as fast as a sloths my face planted the same time my hands reached the pavement. My phone was also thrown directly into the ground, which cracked the screen. Now i'm at home typing this up from my laptop because my phone won't do what I want it to do.\n",
      "\n",
      "TL;DR - Wanted to catch 'em all, ended up catching my fall (Sorta), oh, and breaking my phone.\n"
     ]
    },
    {
     "name": "stderr",
     "output_type": "stream",
     "text": [
      "  6%|██▊                                            | 610/10000 [31:20<6:34:15,  2.52s/it]"
     ]
    },
    {
     "name": "stdout",
     "output_type": "stream",
     "text": [
      "My pasta was too hot to eat so I decided to blow on it. Then I saw my can of compressed air sitting on my desk. I now have pasta all over myself, the floor, and the walls. I am not a smart man. \n"
     ]
    },
    {
     "name": "stderr",
     "output_type": "stream",
     "text": [
      "  6%|██▉                                            | 614/10000 [31:35<9:04:27,  3.48s/it]"
     ]
    },
    {
     "name": "stdout",
     "output_type": "stream",
     "text": [
      "I enrolled my kids in karate class about a month ago. Since I had to stay there with them while they practiced, I figured that I might as well sign up too. That way we can practice together at home and I can keep them motivated by being in class with them. \n",
      "\n",
      "Last night at class we were practicing a move that we learned not too long ago. Our teacher paired me up with my daughter to practice the move together. I pretty much have the move down, so I went through it pretty fast. Unfortunately when it came to the throwing part, I didn't hold her up high enough during the fall, so I ended up throwing her down for real. \n",
      "\n",
      "Everyone in the room stopped what they were doing and looked at me in shock. Of course I was apologizing to my daughter and making sure that she was ok. But our teacher was not happy about it at all. She...corrected me and basically told me not to let it happen again.\n",
      "\n",
      "My daughter is ok, but a little bit sore. I feel like a total piece of shit about it. And nobody is letting\n"
     ]
    },
    {
     "name": "stderr",
     "output_type": "stream",
     "text": [
      "  6%|██▉                                            | 618/10000 [31:49<8:22:14,  3.21s/it]"
     ]
    },
    {
     "name": "stdout",
     "output_type": "stream",
     "text": [
      "So I moved from north dakota to virginia.\n",
      "\n",
      "I have been applying to jobs for months.\n",
      "\n",
      "I havnt got a single call. Well, I dont know if anyone actually DID call me, but this entire time I was using the phone number that ive always had in north dakota. It turns out when i reactivated my phone in virginia they gave me a new phone number. Ive been applying to every single job with the phone number i no longer have.\n"
     ]
    },
    {
     "name": "stderr",
     "output_type": "stream",
     "text": [
      "  6%|██▉                                            | 625/10000 [32:13<8:45:48,  3.37s/it]"
     ]
    },
    {
     "name": "stdout",
     "output_type": "stream",
     "text": [
      "This actually happened over the weekend.\n",
      "\n",
      "The drywall behind the tiles in my bathtub rotted out, the tiles fell off into the tub and broke. As I am a single father (engaged but she's not really a \"step mother\" my sons are older, 17 and 18), I'm super busy all the time. It has taken forever to find time to schedule a guy to come out and patch up this hole. \n",
      "\n",
      "Finally, I get a guy to come out last Friday afternoon. He starts to get to work and has to pause to run out to his truck to get another tool or whatever he needed and came back, had it all patched up within half an hour.\n",
      "\n",
      "A few hours later, my fiancee tells me she needs to go to the emergency room. She has had bronchitis for damn near a week and was afraid it had progressed to pneumonia. We go to the ER, they get her a chest x-ray some breathing treatments and a prescription for antibiotics. We get home around 3:30 am.\n",
      "\n",
      "I get my fiancee into bed, then nature called and I head to the bathroom.\n",
      "\n",
      "I hear my cat crying. He's a big maine\n"
     ]
    },
    {
     "name": "stderr",
     "output_type": "stream",
     "text": [
      "  6%|██▉                                            | 634/10000 [32:39<8:06:20,  3.12s/it]"
     ]
    },
    {
     "name": "stdout",
     "output_type": "stream",
     "text": [
      "I was homeschooled for 11 out of 12 years of school before college. While my education was good, I was left with a lot of free time. That free time is why is decided to learn the Rubik's cube in the first place. That one year that I wasn’t homeschool was my junior year and I went to a private Christian school. \n",
      "\n",
      "\n",
      "After the first quarter of the school year, I brought a rubik's cube to school for the first time. I only played with it during lunch and study hall because I didn’t want to distract other students or teachers. It didn’t take long and I had several people asking me to teach them. After a few days I taught a friend the beginners method and gave them a cheat sheet for basic OLL and PLL. Since I had several people asking me to teach them, I told about ten people that I would teach them if they brought their own cubes. Within the next week, five or six people had gone out and bought cubes from amazon and showed them to me. I taught three or four people over the course of the next \n"
     ]
    },
    {
     "name": "stderr",
     "output_type": "stream",
     "text": [
      "  7%|███▍                                           | 744/10000 [42:50<9:13:31,  3.59s/it]"
     ]
    },
    {
     "name": "stdout",
     "output_type": "stream",
     "text": [
      "So, I live in an average US state and my husband and I are taking an opportunity to go to Japan in a week. Exciting, right? Well, my parents decided to be super nice and purchased us a $200 camcorder so we could vlog our trip, which we were super excited about. They also got us a 32GB SD card for the camera. After receiving the gift, my mother was worried that the SD card may be the wrong size and wanted me to try it out in the camera just to be safe. So, I got the card out of the package and shoved it into the slot, only to realize I had shoved it in upside down because I'm apparently super dense. Now, about an hour after receiving this generous gift which wasn't even mine, I have successfully ruined it. We tried pliers and everything but trust me, it's shoved in there good. \n",
      "\n",
      "I was reading some online forums and it seems that we may be able to get it sent in to be repaired, but even with that being the case, like I said, we leave in a week and there's no way it would be repaired in t\n"
     ]
    },
    {
     "name": "stderr",
     "output_type": "stream",
     "text": [
      "  7%|███▌                                           | 747/10000 [43:00<9:11:48,  3.58s/it]"
     ]
    },
    {
     "name": "stdout",
     "output_type": "stream",
     "text": [
      "So this actually happened 3 years ago when my daughter was 4 years old. It was a situation that started out terribly but actually ended up being a funny story my wife and I can now laugh about.... until today. \n",
      "\n",
      "We adopted our cat from a local shelter before my daughter was born. He was an orange kitten named Six. The shelter had named him Six because he had six claws on one of his paws. We adopted him and changed his name to Chase, because that's all this cat did. He chased his own tail, dogs, birds, other cats, etc. \n",
      "\n",
      "I work from home, and every day I would drop my daughter off at preschool where she'd stay for 4 hours. When I returned to the house after dropping her off on this day, I opened the door to the house and Chase raced outside. I didn't think much of it, because he'd frequently go outside in the afternoons and come back home around supper time. \n",
      "\n",
      "A few hours after sitting at my computer working, I got up to get a drink out of the kitchen. I glanced out our front window and\n"
     ]
    },
    {
     "name": "stderr",
     "output_type": "stream",
     "text": [
      "  8%|███▌                                           | 765/10000 [44:10<7:54:59,  3.09s/it]"
     ]
    },
    {
     "name": "stdout",
     "output_type": "stream",
     "text": [
      "So, like most TIFUs, this was not actually today. About two weeks ago, I picked out a small local sushi place in Ginza to go get a bite while I was there on vacation. Unfortunately, it was closing as I arrived, so I Googled 'sushi near me' and picked from the list at random. I landed on a place nearby, about 5 mins, called 'Sushiko Honten'. It took a while to find - it was a small recessed door with no sign, somewhat shady - but once I entered it was lovely.\n",
      "\n",
      "After eating some of the best sushi I've ever had, I noticed there were no prices on the menu. I'd had about 8 plates of sushi at this point, and started to panick a little. I quickly Googled the restaurant and blanched at what I found. The restaurant was 120 years old and had one Michelin star. As quickly as I could, I asked for the bill.\n",
      "\n",
      "¥20 000 ($150) later, I decided to thoroughly research any future restaurants I visited on a whim. And not to use data in Japan. That was another 50 USD.\n",
      "\n",
      "Edit: To clarify why this was so expen\n"
     ]
    },
    {
     "name": "stderr",
     "output_type": "stream",
     "text": [
      "  8%|███▋                                           | 775/10000 [44:39<8:01:54,  3.13s/it]"
     ]
    },
    {
     "name": "stdout",
     "output_type": "stream",
     "text": [
      "Tuesday night I helped a friend do some engine work.  When we got done, the car ran fine.  Wednesday morning his car died on the way to work.  Wednesday night, I noticed my wedding ring was missing.  I never take it off and rarely fiddle with it, so  i wasnt sure when I lost it.  *Queue sinking feeling*  Today I got a chance to look at the car engine.  When I opened up the intake manifold, the inside was covered with pretty gold glitter.  I'm sure my ring slipped off, got sealed up in the manifold and made its way down to destroy the valve seats and cylinder wall.  The engine is shot, and my ring is reduced to dust.  I did the right thing and bought the car for fair (running) value.  I'm thankful it was a high milage clunker.  At least I know what happened to my ring.\n",
      "\n",
      "tldr:  don't wear rings when working on engine internals.\n",
      "\n",
      "edit1:  Thank you for the gold, the kind words, and the advice!\n"
     ]
    },
    {
     "name": "stderr",
     "output_type": "stream",
     "text": [
      "  8%|███▋                                           | 776/10000 [44:42<7:50:54,  3.06s/it]"
     ]
    },
    {
     "name": "stdout",
     "output_type": "stream",
     "text": [
      "So this morning on my way out the door to work I grabbed a Capri Sun and a granola bar for the drive. There I was, in my new Toyota, happily opening the drink's little straw. Life was good. When suddenly -- disaster struck.\n",
      "\n",
      "My morning flashed before my eyes as the straw slipped from the wrapper. I fumbled with it briefly in the air before watching, helpless, as it tumbled down, down into the crack that leads into the dark abyss beneath the driver's seat.\n",
      "\n",
      "I tentatively followed the straw into the chasm with my hand, but, alas, the damage was done. My ruined fruit juice sat on the seat for the rest of the drive. Mocking me.\n",
      "\n",
      "TL;DR - If anyone wants a strawless Capri Sun, it's all yours... *sniffle*.\n"
     ]
    },
    {
     "name": "stderr",
     "output_type": "stream",
     "text": [
      "  8%|███▋                                           | 797/10000 [45:49<8:20:09,  3.26s/it]"
     ]
    },
    {
     "name": "stdout",
     "output_type": "stream",
     "text": [
      "This didn't happen today, it happened about 15 years ago..but it's still stuck with me all this time.\n",
      "\n",
      "I was about 10 years old, hanging out with my friend in my room, doing whatever it is 10 year olds do. We were listening to music when my little brother knocked on the door. Me being the mean big sister ignored him, turned the music up, and pretended like we were having a party that he couldn't come to. I imagine that made him feel crappy and he went back downstairs.\n",
      "\n",
      "Fast forward to a few minutes later, and my mom knocks on the door, kind of angry with me. She tells me to come downstairs to see what my little brother did for me.\n",
      "\n",
      "I go downstairs and find a clue, written by him in his little 6 year old handwriting. It lead me to another clue, and another clue. The last clue said to look in the other room for my \"Valentine\", and there he was sitting on the bed. He gave me a hug. I felt awful. Still do to this day when I think about it.\n",
      "\n",
      "tl;dr: Ignored my 6 year old brother knocking on \n"
     ]
    },
    {
     "name": "stderr",
     "output_type": "stream",
     "text": [
      "  8%|███▉                                           | 840/10000 [48:06<8:16:57,  3.26s/it]"
     ]
    },
    {
     "name": "stdout",
     "output_type": "stream",
     "text": [
      "This just happened a couple of hours ago so I thought I'd share it with you all. \n",
      "\n",
      "I had just got home from work. I was about to start making dinner but I decided I need to go to the bathroom first. So i sat on the toilet and took out my phone to browse reddit. I was sitting there a good 10 minutes with my elbows cutting off the blood to the rest of my legs from me resting them on my thighs. \n",
      "I finish and go to stand up but there is no feeling in my lower legs at all. The second I am upright I topple straight into my shower door breaking it right off whilst also hitting my head off the side wall. \n",
      "So I'm sitting here with a cut on my forehead, a broken shower door and a girlfriend who has not stopped laughing since she got here an hour ago.\n"
     ]
    },
    {
     "name": "stderr",
     "output_type": "stream",
     "text": [
      "  9%|████▏                                          | 896/10000 [52:18<9:22:47,  3.71s/it]"
     ]
    },
    {
     "name": "stdout",
     "output_type": "stream",
     "text": [
      "So today, I was playing some Pokemon Y looking for a female Combee to evolve. Great. After killing a few Ralts that I spent an hour the day before to find, I still didn't find a female Combee. Then I found a shiny. The first shiny I've ever seen. Me, being a huge nerd, I decided to take a picture of it *before* I caught it. I grabbed my phone and tried to hold it close. Then I accidentally bumped into the touch screen. Shit. The next thing I knew was that the touch screen turned blurry and the only words I saw was \"You got away safely!\"\n",
      "\n",
      "\n",
      "EDIT: Thanks for the gold! It's just as shiny. :)\n"
     ]
    },
    {
     "name": "stderr",
     "output_type": "stream",
     "text": [
      "  9%|████▏                                          | 902/10000 [52:36<8:15:31,  3.27s/it]"
     ]
    },
    {
     "name": "stdout",
     "output_type": "stream",
     "text": [
      "So this just happened like an hour ago. I've a long lay over in an airport in eastern Europe, so I decided to buy a water bottle in the duty free. What I didn't know is that they packed it like alcohol, so you aren't supposed to open the package until you reach your final destination.\n",
      "\n",
      "This doesn't stopped me, so as the madlad that I am, I go to the bathroom and drink some of the water there and then I put it back in my bag. But leave the package that says do not open until reaching final destination also in my bag.\n",
      "\n",
      "5mins later as I'm walking through the airport a guard comes to me and starts speaking Russian, I don't understand anything and he says oh you look Russian (I'm Latin, whatever) he then asks for my passport and I start to get nervous since I've the open bottle in my bag, the guy notices and asks to search my bag.\n",
      "He founds the bottle and starts questioning me, then he asks me to accompany him to a waiting room while they checked the bag.\n",
      "\n",
      "Long story short, I lost my flight\n"
     ]
    },
    {
     "name": "stderr",
     "output_type": "stream",
     "text": [
      "  9%|████▎                                          | 915/10000 [53:18<9:19:23,  3.69s/it]"
     ]
    },
    {
     "name": "stdout",
     "output_type": "stream",
     "text": [
      "I packed them into one suitcase to take on a flight with me to college. The spice jars broke. All my books, my tablet, and my microphone are now coated in garlic powder and who knows what else. Garlic powder has a very strong smell. There's no real way to clean it out of a book or off of a tablet because it's fine-grain and using water would be a bad idea. So my books and electronics all just reek of garlic. They're still coated in copious amounts of the stuff. Life is suffering.\n"
     ]
    },
    {
     "name": "stderr",
     "output_type": "stream",
     "text": [
      " 10%|████▋                                          | 988/10000 [58:15<8:12:47,  3.28s/it]"
     ]
    },
    {
     "name": "stdout",
     "output_type": "stream",
     "text": [
      "Nothing too serious but I felt pretty stupid.\n",
      "\n",
      "I decided to pick up some McDonald's after class today. I get there during the lunch hour so of course there is a long line of cars ahead of me. I decide to kill some time by opening up the Reddit app on my phone. Before I know it I'm pulling up to the first window. It's right then that I realize something. *I never stopped to order my food*. So I look at the cashier and obviously I just drive off instead of having to explain to the her that I forgot to order my food like an idiot.\n",
      "\n",
      "\n"
     ]
    },
    {
     "name": "stderr",
     "output_type": "stream",
     "text": [
      " 10%|████▋                                          | 997/10000 [58:46<8:04:13,  3.23s/it]"
     ]
    },
    {
     "name": "stdout",
     "output_type": "stream",
     "text": [
      "Someone stole my wildberry Poptart when I went to the bathroom. What kind of asshole steals another mans Poptart?!\n",
      "\n",
      "EDIT: I just noticed that cool gold thing. Thanks kind stranger!\n"
     ]
    },
    {
     "name": "stderr",
     "output_type": "stream",
     "text": [
      " 10%|████▌                                         | 1000/10000 [58:55<8:09:28,  3.26s/it]"
     ]
    },
    {
     "name": "stdout",
     "output_type": "stream",
     "text": [
      "This happened about 7 months ago. I was playing my guitar at an acoustic gig at the local cafe. So while a lot of people use guitar picks, I prefer to use my hands because I like the feel of it and I feel more comfortable with it. I had been growing my nails for a while so it was fine with me. \n",
      "\n",
      "While I was performing a song with a fast strumming pattern (Wake me up - Avicii), my lower E string got stuck in my nail making a weird noise and I felt a sharp pain in my index finger. I instantly  stopped playing and bent down grabbing my hand. When I looked at my hand I saw that the nail on my index finger was torn like paper and was pulled halfway back. I let out a scream and one of the \"cue guys\" came to my aid. I could hear people whispering stuff like \"Oh my god that looks horrible\" and stuff.\n",
      "\n",
      "It hurt like a bitch and I went offstage for about twenty minutes. The pain was coming and going as the nail was moving. I asked them to put a rough dressing over it, some cotton and betadine. I \n"
     ]
    },
    {
     "name": "stderr",
     "output_type": "stream",
     "text": [
      " 11%|████▋                                       | 1063/10000 [1:04:02<9:46:02,  3.93s/it]"
     ]
    },
    {
     "name": "stdout",
     "output_type": "stream",
     "text": [
      "This actually happened today. \n",
      "\n",
      "So I live in a high rise apartment block. The aircon recently broke, so I was sleeping with the windows wide open for the past few days. \n",
      "\n",
      "As I woke up today, I walked over to the edge of the bed and reached for my phone and accidentally grabbed my Kindle which I was using the night before. It was heavier than my phone so my confused self was, well, confused. It slipped out of my hands and as I didn't have a morning coffee, my genius of a brain decided to kick it to bring it back up to me. \n",
      "\n",
      "You can guess the rest - a Kindle booted by my right foot through a window 33 floors up. \n",
      "\n",
      "Still haven't found it yet - GG\n",
      "\n",
      "\n",
      "TL;DR: TIFU by drop-kicking my Kindle out of a window 33 stories up. \n",
      "\n",
      "\n",
      "EDIT: still haven't found it...may as well give up as I was gonna replace the kindle soon anyway.... :( \n"
     ]
    },
    {
     "name": "stderr",
     "output_type": "stream",
     "text": [
      " 11%|████▋                                       | 1072/10000 [1:04:33<8:44:36,  3.53s/it]"
     ]
    },
    {
     "name": "stdout",
     "output_type": "stream",
     "text": [
      "This actually happened today, and I'm still in the library! \n",
      "\n",
      "Every Tuesday and Thursday, I have 8am classes. Naturally, I'm pretty tired afterwards and sleep in my favourite library on campus for a few hours before my next lecture. \n",
      "\n",
      "I always set an alarm on my phone, put in some headphones, and get my snooze on. \n",
      "\n",
      "Today, at around 11:30, a girl randomly poked me awake and told me that my phone has constantly been ringing. \n",
      "\n",
      "This is when I came to the awful, embarrassing realization that for some reason, when my phone rings to wake me up, it bypasses my headphones and just rings. (Not sure it's some weird techy thing that happens with these new earbuds I'm using.) I don't realize it's ringing like this, because I sleep with my phone next to me on the desk, and expect the alarm to be pretty loud. \n",
      "\n",
      "Now, this wouldn't be such a big deal if my phone only rang once, maybe twice, max three times. But no, I'm an awful, snooze button lover. I had wanted to wake up at 10, but have been snoozi\n"
     ]
    },
    {
     "name": "stderr",
     "output_type": "stream",
     "text": [
      " 11%|████▋                                       | 1073/10000 [1:04:36<8:17:59,  3.35s/it]"
     ]
    },
    {
     "name": "stdout",
     "output_type": "stream",
     "text": [
      "My Dad is a professor at a university and not originally from the USA which means he's twice over not hip with lingo. Therefore he learns all his hip lingo from my two brothers and me! \n",
      "\n",
      "So being great sons we decide to mess with him and tell him 'Touching Tips' is the new way of saying connecting on LinkedIn. You know, \"let's touch tips\" = \"connect with me\" \"Have we touched tips?\" = \"Have we connected on LinkedIn?\" etc etc. \n",
      "\n",
      "Fast forward to yesterday when he's meeting a younger guy to work in his lab... I get an angry call from him later saying that he ended the interview with something like \"All sounds good, have we touched tips?\"\n",
      "\n",
      "\n"
     ]
    },
    {
     "name": "stderr",
     "output_type": "stream",
     "text": [
      " 11%|████▊                                       | 1093/10000 [1:05:45<9:15:29,  3.74s/it]"
     ]
    },
    {
     "name": "stdout",
     "output_type": "stream",
     "text": [
      "So of course this wasn't today but back in April of this year. I was robbed while I was at work one day. It sucked. They got two TV's, my Nintendo Wii U & 3DS, my iMac desktop computer, and a few other things. I filed a police report, gave them the serial numbers I had, checked with local pawn shops, etc. After a month or so went by I pretty much gave up hope. The detective that was keeping me updated didn't seem to have much to go on.\n",
      "\n",
      "\n",
      "\n",
      "\n",
      "I checked into renter's insurance so I'd be covered if something like that ever happened again. Bottom line, it's way too cheap not to have. If you're a renter and you don't have either a home security system or renter's insurance, I would seriously consider at least one of the two. \n",
      "\n",
      "\n",
      "\n",
      "\n",
      "I'm posting this to share my experience and hopefully encourage someone to avoid this. With that in mind, I learned something else from all this and thought I would share that as well. Kind of a silver lining to the story if you'd like to hear it. \n",
      "\n",
      "\n",
      "\n",
      "\n",
      "One day about \n"
     ]
    },
    {
     "name": "stderr",
     "output_type": "stream",
     "text": [
      " 11%|████▊                                       | 1107/10000 [1:06:26<7:43:49,  3.13s/it]"
     ]
    },
    {
     "name": "stdout",
     "output_type": "stream",
     "text": [
      "The year was 1989: Kindles were called books, MP3s were called CDs, the Cold War was still on even though there was Gorbachev's perestroika and glasnost policies, and cameras shot on film.  \n",
      "\n",
      "Earlier in the previous year I was selected to be part of a student exchange delegation to the Soviet Union and we had been prepping for months with classes on rules, protocol, and learning as much of the Russian language as we could.  June 1989 finally arrived and we were off!  We landed in Copenhagen and had enough of a layover we got to go into town and see some sights.  I used my first roll of film walking around with my traveling companions, later dropping my camera in a town square.  I noticed a small bubble in the seam of the camera towards the bottom and didn't think anything of it.\n",
      "\n",
      "Next we flew to Helsinki and stayed for a couple of days.  It was White Nights so the sun was up almost all the time.  I vividly remember riding a roller coaster in the daylight sometime after 11pm.  Of course\n"
     ]
    },
    {
     "name": "stderr",
     "output_type": "stream",
     "text": [
      " 11%|████▉                                       | 1114/10000 [1:06:50<8:42:42,  3.53s/it]"
     ]
    },
    {
     "name": "stdout",
     "output_type": "stream",
     "text": [
      "Reddit, My whole life, I have been fluffing up, and here is why.\n",
      "\n",
      "You may think the Shampoo before Conditioner rule is simple, no? Well, so do I now, but, until less than a day ago, this was not so clear too me. I'll start at the begging. My entire life I have been washing my hair the incorrect way. I have been putting conditioner in before my shampoo. Every morning I would get up and assume that everyone experiences their hair to be a texture like the dried up ground of mars, or to think that theirs was very similar to thousands of pieces of straw. But no, it wasn't until I was talking to my friend about how they wondering what would happen if they put conditioner in before shampoo, that I have been doing it all wrong.\n",
      "\n",
      "This morning, I tried putting my conditioner and shampoo in the correct way round. After my shower, I put my hands through my hair, and it felt like a great goddess and had got a beautiful piece of silk from heaven and replaced it with my hair. It felt so glorious, I r\n"
     ]
    },
    {
     "name": "stderr",
     "output_type": "stream",
     "text": [
      " 11%|████▊                                      | 1119/10000 [1:07:12<11:06:42,  4.50s/it]"
     ]
    },
    {
     "name": "stdout",
     "output_type": "stream",
     "text": [
      "Last night my wife and I went to dinner an a inexpensive sit down restaurant. It's been a very good year for us financially and once a month, we go out to eat and we will anonymously pay for a person's meal. We usually try to find an older person who eats alone because it's kind of sad and helps remind us of how lucky we are to have each other.\n",
      "\n",
      "So, last night, we sit down and we notice three separate people eating alone. Right behind us is an angelic 80 something year old black lady. She is almost finished so we tell our server to pick up her ticket and add it to our bill and to not let her know it was us. She was very gracious and walked out with a huge smile on her face. The second person was an older gentleman with white hair and a walker. When he found out his meal was free, he told the server to tell us thank you and he left with a smile on his face. \n",
      "\n",
      "The last person was a man in his 70's. He was seated to our immediate right and when he asked the server for his ticket, she told\n"
     ]
    },
    {
     "name": "stderr",
     "output_type": "stream",
     "text": [
      " 11%|████▉                                       | 1122/10000 [1:07:22<9:21:23,  3.79s/it]"
     ]
    },
    {
     "name": "stdout",
     "output_type": "stream",
     "text": [
      "This was a TIFU, eight years in the making. I vaguely remember creating this account and forgetting the password I made... until only minutes ago. \n",
      "\n",
      "After giving up attempting to log in about two years ago, I stumbled upon a torn up piece of paper in my closet. And there it was, my long lost password and username. I may have created my account eight years ago, but this is my first post.\n"
     ]
    },
    {
     "name": "stderr",
     "output_type": "stream",
     "text": [
      " 11%|████▉                                       | 1136/10000 [1:08:11<8:39:39,  3.52s/it]"
     ]
    },
    {
     "name": "stdout",
     "output_type": "stream",
     "text": [
      "This all started when i was christmas shopping 2 days ago and i decided to get my parents a Christmas card, i grabbed one that said something along the lines of \"happy holidays\" and left the store. I gave my dad the card and as he reads it his eyes fill up with tears, he calls my mom near him and she starts screaming out of happiness, i was really confused as it was just a card, they suddenly say \"SO IS IT A BOY OR A GIRL I'M SO HAPPY!\" I'm really confused now and apparently i found out that the card says \"happy holidays grandma\" and my parents thought it was a way to tell them i was expecting. They're very upset now.\n"
     ]
    },
    {
     "name": "stderr",
     "output_type": "stream",
     "text": [
      " 11%|█████                                       | 1142/10000 [1:08:31<8:14:29,  3.35s/it]"
     ]
    },
    {
     "name": "stdout",
     "output_type": "stream",
     "text": [
      "(I posted this on /r/funny, but it was recommended that I try it out on here. My apologies if you read it already)\n",
      "\n",
      "\n",
      "At our school, we are required to do two \"duties\" outside of our normal classes. One of mine turned out to be lunch duty with two other teachers, for the entire middle school.\n",
      "\n",
      "\n",
      "So today while walking around the cafeteria and watching the students, I found two nickels on the ground. I sneakily picked them up and put them in my pocket, and continued walking. I was sure nobody saw me, so I thought nothing more of it.\n",
      "\n",
      "\n",
      "About fifteen minutes later, I found another nickel. I again looked around, and put it in my pocket. It was about five minutes later that I found two more spread across the floor between two tables. I couldn't believe how many nickles I was finding.\n",
      "\n",
      "\n",
      "For the next 10 minutes, I continued finding about a total of 8 nickles. Before the bell rang, I reached in my pocket to feel the pocket full of treasure I had found. It was gone! I had been robbed!\n",
      "\n",
      "\n",
      "I looked \n"
     ]
    },
    {
     "name": "stderr",
     "output_type": "stream",
     "text": [
      " 11%|█████                                       | 1148/10000 [1:08:54<9:34:26,  3.89s/it]"
     ]
    },
    {
     "name": "stdout",
     "output_type": "stream",
     "text": [
      "So I've been flat sitting for somebody lately, and just visit my own home every few days. The other day I spent some time at my place, accidentally switched on a bedroom light and left a window open before heading back to the flat... yeah we're rural and pretty lax about security. Anyway, fast forward 3 days, I get back to my place, walk into my bedroom and MOTHS. MOTHS EVERYWHERE. So many moths. I love moths, so I tried tempting them back outside once it got dark by putting a light outside the window, but it just seemed to bring more inside. With no other option (crappy lungs; can't use bug spray) I locked up and headed back to the flat. I ignored it for a week or so, hoping the moths would just sort of..  disappear? I dunno. Finally conceded and looked in the room today. The moths appear to have doubled in number, and sure enough there are maggot-y caterpillar things on the walls. Cue the traumatic conclusion of me, red-faced and sweating, smiting down my beloved moths with a fly swa\n"
     ]
    },
    {
     "name": "stderr",
     "output_type": "stream",
     "text": [
      " 12%|█████                                       | 1150/10000 [1:09:01<9:28:07,  3.85s/it]"
     ]
    },
    {
     "name": "stdout",
     "output_type": "stream",
     "text": [
      "This happened late yesterday afternoon, and I'm still trying to deal with the aftermath!\n",
      "\n",
      "Since Sept of 2013, I've lost about 30 pounds, which has been really great, but it came back to bite me yesterday. It bit HARD.\n",
      "\n",
      "After my wife was done with work yesterday afternoon, she thought it would be a good idea for our two boys to play in the 6 or 7 inches of snow that had fallen overnight. So we bundled up the kiddos, grabbed the saucer and went out in our backyard to slide down the little hill. Since the kids are 1 and 3, this little grade is perfect for them to sled down.\n",
      "\n",
      "Being dad, I had to take a few runs myself, just to see what it was like. It was good, but it could be bit longer, so I decided to go down a different way and make a new path.\n",
      "\n",
      "I ran. I jumped on the saucer. I went down the hill and fell off, getting powder all over me, in my boots, up my pants, and in my gloves. Quickly I pulled my glove off of my left hand and shook the snow off. That's when I felt it go. It felt li\n"
     ]
    },
    {
     "name": "stderr",
     "output_type": "stream",
     "text": [
      " 12%|█████                                       | 1151/10000 [1:09:05<9:43:07,  3.95s/it]"
     ]
    },
    {
     "name": "stdout",
     "output_type": "stream",
     "text": [
      "About a week ago, I was driving back home from school just after the sun had gone down. I'm a pretty good driver with a fairly clean record, so I never expect to actually get pulled over for stuff, but after I stopped at a light, a police cruiser came up behind me and pulled me over. Of course, like any sane person would do, I immediately started wracking my brain trying to figure out what I had done wrong.\n",
      "\n",
      "The officer came to my window and told me that my tail light was out. Okay, fair. Not that big of a deal.\n",
      "\n",
      "I knew that my tail-light had been damaged a few days earlier by someone backing into it, but I was dumb enough not to test it and make sure that it was working, so even though I was caught off guard, I wasn't actually surprised. The officer noticed. Ticket one.\n",
      "\n",
      "I gave the officer my license, and after a momentary pause, he went to his car to look me up in the database and fill out a ticket. I thought he would be back in a minute, but he wasn't. 5 minutes turned into 10 minut\n"
     ]
    },
    {
     "name": "stderr",
     "output_type": "stream",
     "text": [
      " 12%|█████▏                                     | 1194/10000 [1:12:53<18:23:10,  7.52s/it]"
     ]
    },
    {
     "name": "stdout",
     "output_type": "stream",
     "text": [
      "I was fresh out of high school, working as a receptionist for a fancy computer firm.  It was my 2nd day on the job and the sales manager approached me and asked if I would announce over the company intercom 'that the Sares meeting is beginning'.  I repeated his request back to him and he said, 'not Sares....Saaaaares'.  No problem - I picked up the phone and proceeded to announce to the entire building that the 'Saaaaares meeting is beginning'.  Immediately I knew IFU because the entire building erupted into laughter.  Turns out the poor bastard had a speech impediment and pronounced his 'L's' as 'R's'.  Sales meeting....not Saaaaaaares meeting \n",
      "\n",
      "\n"
     ]
    },
    {
     "name": "stderr",
     "output_type": "stream",
     "text": [
      " 12%|█████▎                                      | 1215/10000 [1:14:04<8:31:08,  3.49s/it]"
     ]
    },
    {
     "name": "stdout",
     "output_type": "stream",
     "text": [
      "There was a nor'easter in my area last night. For those of you not from New England, that means high winds and lots of precipitation. Usually, these storms come with snow, but this time it's rain.\n",
      "\n",
      "Because of the time of year, there were lots of clogged drains and sewers because of all the leaves. Because of the wind electricity was out in some areas and very few of the traffic lights were fully operational (the were mostly blinking yellow or red.)\n",
      "\n",
      "My GPS app (waze) told me to take some back roads since the highway I usually go on was backed up, most likely due to flooding. \n",
      "\n",
      "Lots of roads are blocked off with police barriers or just jammed because of the traffic lights not working. I get rerouted to a road with a big puddle. I didn't know how big it was but some cars were driving through it, so I thought I could too.\n",
      "\n",
      "Half way down the street the water is getting deeper, I'm committed now. I don't stop, I pictured myself a pioneer on the Oregon Trail attempting to ford the river. \n",
      "\n",
      "M\n"
     ]
    },
    {
     "name": "stderr",
     "output_type": "stream",
     "text": [
      " 13%|█████▌                                      | 1259/10000 [1:16:34<8:59:52,  3.71s/it]"
     ]
    },
    {
     "name": "stdout",
     "output_type": "stream",
     "text": [
      "Like most TIFUs, this didn't happen today, but ~10 days ago.\n",
      "\n",
      "US applications for colleges begin in late August. I’d decided to join an NIT(National Institute of Technology) in India until I got a response from the states. I got accepted to National Institute of Technology(NIT) - Andhra Pradesh, or so I thought.\n",
      "\n",
      "My dad and a couple friends decided to make the journey memorable and go by road. All cool. We drove across Maharashtra, into Telangana and finally to Andhra. A 930 Kilometre journey, and given how Indian roads are, it took us 16 hours; though we did stop several times for bird spotting, and adoring the view of herds of deers galloping along the horizon.\n",
      "\n",
      "Regardless, the road trip was riddled with mind blowing greenery of the South Indian country side as we drove toward our destination, Tadepalligudem; where the NIT campus is situated.\n",
      "\n",
      "We finally report to the campus, and move towards the admissions counter. The attendant there straight away denies us citing that I was never \n"
     ]
    },
    {
     "name": "stderr",
     "output_type": "stream",
     "text": [
      " 13%|█████▋                                      | 1280/10000 [1:17:35<8:14:09,  3.40s/it]"
     ]
    },
    {
     "name": "stdout",
     "output_type": "stream",
     "text": [
      "So I have this really nice vegetable garden growing on my balcony. \n",
      "\n",
      "Or rather, I had this really nice vegetable garden...\n",
      "\n",
      "There are radishes, leeks, potatoes, garlic, onion, chives, arugula and a few other plants which I forgot to label so they're mystery plants. \n",
      "\n",
      "Anyways, I went outside today and saw that the soil could use a little bit of moisture. So I grabbed my squirt bottle and sprayed the plants and soil liberally in every pot. All the plants were watered and I was happy. \n",
      "\n",
      "But then... the smell appeared. And the realization hit me...\n",
      "\n",
      "You see, yesterday was sunny so I thought it was the perfect time to wash all my windows. I wash my windows with a combo of water and vinegar... which I mix in a squirt bottle. \n",
      "\n",
      "Oopsy\n",
      "\n",
      "RIP veggies\n",
      "\n",
      "\n",
      "TLDR: I watered my plants with acid instead of water.\n"
     ]
    },
    {
     "name": "stderr",
     "output_type": "stream",
     "text": [
      " 13%|█████▉                                      | 1339/10000 [1:20:57<7:36:13,  3.16s/it]"
     ]
    },
    {
     "name": "stdout",
     "output_type": "stream",
     "text": [
      "This didn't happen today but happened when I was 9 years old. My dad is a neat freak so as a child I picked up the habit (Which I grew out of). When anything was a bit dirty in my room, I cleaned it up. So one day, as any 9yo does, I'm at my tiny desk coloring, and I notice there's dust on the lightbulb (which is very much on). So I rush into the bathroom, get some toilet paper and wet it in the bathroom sink. I rush back in to my room, and try to clean the lamp. As I put the wet toilet paper on the lightbulb, it explodes, with the glass that broke, leaving cuts on my hand in a couple of places. So I'm sitting there crying and my mother hears me from her room. She comes in, and sees my hand bleeding. As she's panicking, she asks me what happened. I told her, and her panic turned into laughter, at how stupid her son is. Because everyone knows that water and electricity don't go well together. The cuts were nothing a band aid can't cover.\n",
      "\n",
      "TL;DR: tried to clean a lightbulb with wet toile\n"
     ]
    },
    {
     "name": "stderr",
     "output_type": "stream",
     "text": [
      " 14%|█████▉                                      | 1362/10000 [1:23:49<9:14:03,  3.85s/it]"
     ]
    },
    {
     "name": "stdout",
     "output_type": "stream",
     "text": [
      "So about a month and a half ago. i for fun entered a competition on the Playstation Facebook page.\n",
      "\n",
      "on friday i was randomly reading through my junk mail address - that i use only for crap. which unfortunately includes facebook.\n",
      "\n",
      "Thanks for entering our competition on the PlayStation UK Facebook page. \n",
      "\n",
      "> Congratulations! You have been selected as a winner for a pair of FIFA™ World Cup Brazil Tickets to the England vs Uruguay Match in Sao Paulo. \n",
      "> \n",
      "> Prize includes:\n",
      "> Return flights from London Heathrow Airport to Sao Paulo International Airport, Brazil, outbound on 17 June 2014 at 22:15 (BST) and inbound on 21 June 2014 at 23:50 (UTC) (flights may not be direct and flight times could change)\n",
      "> 3 nights stay in a hotel in Sao Paolo, including breakfast\n",
      "> Return transport from the hotel on the dates of inbound and outbound flights\n",
      "> 1 pair of tickets to the England vs Uruguay Match in Sao Paulo, including return transport from the hotel to the match on Thursday 19 June 2014.\n",
      "> A full i\n"
     ]
    },
    {
     "name": "stderr",
     "output_type": "stream",
     "text": [
      " 14%|█████▉                                      | 1363/10000 [1:23:53<9:07:22,  3.80s/it]"
     ]
    },
    {
     "name": "stdout",
     "output_type": "stream",
     "text": [
      "So this happened 2 hours ago: I was doing my work at my uni for my assignment due Thursday - a 360 panoramic digital painting. I made great progress today and basically got most of the background work done, and even have some nice details drawn in - a really solid 6 hours of work.\n",
      "\n",
      "I saved my file and logged off. Then I realised just now when I got home that I saved my file onto my school computer's desktop, which everything gets removed after I log out.\n",
      "\n",
      "If there is a saving grace, it's that I am confident that I can replicate what I already did fairly quickly, but right now I am going through all the scenarios in which I might have a chance at recovering my 6 hours of work.\n",
      "\n",
      "TL;DR: Saved my work in a temporary folder in my school server and lost my whole day of progress for a project due in less than 40 hours.\n",
      "\n",
      "-\n",
      "\n",
      "Edit: Done my work for today. Presentation in 6 hours. Didn't get to recover my original file.\n",
      "\n",
      "Not a paid shill. If Dropbox wasn't a requirement from this course's profess\n"
     ]
    },
    {
     "name": "stderr",
     "output_type": "stream",
     "text": [
      " 14%|██████                                      | 1364/10000 [1:23:57<9:18:35,  3.88s/it]"
     ]
    },
    {
     "name": "stdout",
     "output_type": "stream",
     "text": [
      "I bought a cuckoo clock for my wife as a housewarming present.  We moved in, placed the furniture, hung some pictures and all was right with the world.  I hung the cuckoo clock on a short wall beside the window in the living room.  It looked great and she loved it.\n",
      "\n",
      "The next day, we went off to work.  Around 4 that afternoon, I get a call from the police.  They said they had to “track me down” because I hadn’t answered the number on file with the security company (I immediately checked my cell and it was dead).  There was a problem at the house, and I was told the police were waiting for me.   I asked what the problem was, and the response was, “Can I let them know you’re on your way?”  After I said yes, that was the end of the call.\n",
      "\n",
      "I get home to find two police cars in the driveway.  I got out of the car and walked over to them and asked what was going on.  The first cop said, “Wait for it….” Then put up his index finger.  A few seconds later, the house alarm starts blaring.  “It’s \n"
     ]
    },
    {
     "name": "stderr",
     "output_type": "stream",
     "text": [
      " 15%|██████▍                                     | 1451/10000 [1:28:37<7:12:22,  3.03s/it]"
     ]
    },
    {
     "name": "stdout",
     "output_type": "stream",
     "text": [
      "This happened a while ago. I was walking through a busy underground train station on my way to a job interview when I saw an old lady struggling to push her trolley into an elevator (a wheel had become jammed in front of the doors). This interview was super important and I had planned ahead by leaving early and giving myself an extra 30 mins in case something went wrong. I figured I had more than enough time to help this lady out.\n",
      "\n",
      "I tucked my portfolio (with my resume and all my original documents and certifications) under my arm and offered my help. She gladly accepted. However, as I was pushing her trolley into the elevator, I forgot I had tucked my portfolio under my arm. Gravity and the worst kind of luck took their course and my portfolio fell right down the gap between the floor and elevator doors.\n",
      "\n",
      "\"Oh dear, I hope that wasn't anything important\" said the old lady.\n",
      "\n",
      "I didn't have the heart to tell her what I'd just lost, half an hour before one of the most important job intervi\n"
     ]
    },
    {
     "name": "stderr",
     "output_type": "stream",
     "text": [
      " 15%|██████▍                                     | 1460/10000 [1:29:09<9:19:58,  3.93s/it]"
     ]
    },
    {
     "name": "stdout",
     "output_type": "stream",
     "text": [
      "This didn't happen yesterday - in fact, it happened in the summer of 1984.\n",
      "\n",
      "I was 11 years old, and I went to a summer program at the University of Virginia. It was fun and educational, particularly a nature class which involved going into various nearby woods, streams, etc., and investigating the plants and creatures in those environments. A few days before the class ended, we students had to do an in-depth project in one of the areas we'd studied.\n",
      "\n",
      "I chose to do my project on a particular stream, and nobody else picked that environment, so I was out investigating on my own. (It didn't occur to me at the time that it might not have been the best idea to send an 11-year-old boy out on his own in those circumstances.)\n",
      "\n",
      "Having finished with one side of the stream, I naturally wanted to cross over to the other side. The stream was very shallow (though fairly wide) and I could easily have walked through the water, but I noticed a nearby tree had fallen over and provided a perfect bridge ac\n"
     ]
    },
    {
     "name": "stderr",
     "output_type": "stream",
     "text": [
      " 15%|██████▍                                     | 1463/10000 [1:29:20<8:22:45,  3.53s/it]"
     ]
    },
    {
     "name": "stdout",
     "output_type": "stream",
     "text": [
      "Two friends on my Facebook list have near-identical names; they are literally only one letter off. Both are \"Diana K...\"\n",
      "\n",
      "One is a fitness instructor at my gym; the other is an enormous person.\n",
      "\n",
      "\"It's Diana's birthday!\" popped up in my feed, and getting confused and thinking it was the fitness instructor, I wrote: \"Happy birthday! I'm going to eat pizza, cake, and all other sorts of garbage so I can be just like you today!\"\n",
      "\n",
      "Because, you know, fitness instructor.\n",
      "\n",
      "Ha-ha.\n",
      "\n",
      "A week later, \"It's Diana's birthday!\" popped up in my feed again, and noticing it was the fitness instructor I wrote, \"How many birthdays do you have?\"\n",
      "\n",
      "Ten minutes later, it dawned on me...\n",
      "\n",
      "Yup.\n",
      "\n",
      "I felt like the world's biggest asshole.\n"
     ]
    },
    {
     "name": "stderr",
     "output_type": "stream",
     "text": [
      " 15%|██████▌                                     | 1486/10000 [1:30:30<7:23:29,  3.13s/it]"
     ]
    },
    {
     "name": "stdout",
     "output_type": "stream",
     "text": [
      "This morning I took the 6am train from NJ to DC (as I do most Mondays).  As the train was crowded I got one of the few seats in each car that didn't have a window.  When a third of the train discharged at Philadelphia, I moved to a recently-vacated seat.  \n",
      "\n",
      "I found that the owner who just got off the train had left his laptop in the seat cushion!  I thought for a second about leaving it and giving it to the conductor who would be coming through shortly.  No, that's what a normal person would do.  \"I'm an Amtrak hero,\" I thought.  I grabbed the laptop and ran down the aisle, I jumped over the crowd of people now boarding the train at Philly and apologized, citing the need to return the laptop to its owner.  I got out of the train and yelled \"LAPTOP, SOMEONE LEAVE A LAPTOP?\" \n",
      "\n",
      "No response other than a lot of staring.  I looked at the conductor and said \"I'm just going to run up the stairs.\"  Then, I started booking for the stairs that lead up to the main hall.  When I reached the [main h\n"
     ]
    },
    {
     "name": "stderr",
     "output_type": "stream",
     "text": [
      " 15%|██████▋                                     | 1525/10000 [1:32:32<7:10:44,  3.05s/it]"
     ]
    },
    {
     "name": "stdout",
     "output_type": "stream",
     "text": [
      "This actually happened today. \n",
      "So the wind was not strong but my 7 and 4 year old  found the kite in the closet and were rather insistent and too cute to say no too. \n",
      "So here we are in the street running back and forth trying to get up enough wind speed to make it take flight for as long as we can run. My 7 year old is pretty fast and had no trouble. Y 4 year old wasn't having alot of luck and was in danger of tears if we couldn't make this work for her, so I get an idea. I figure I can pick her up and run my ass off while she holds the kite and watches behind me. \n",
      "\n",
      "It works, twice! \n",
      "\n",
      "Third time not so much. I glanced behind me about 15 feet into our third run and see the kite skipping  across the pavement so i put it into overdrive and attempt a sprint while holding the four year old. Not a great idea. Four steps in and I realize I'm way to top heavy for this shit and it's way to late. I try to slow down but my balance goes away and I start to fall forward with a child clinging to my \n"
     ]
    },
    {
     "name": "stderr",
     "output_type": "stream",
     "text": [
      " 15%|██████▋                                     | 1526/10000 [1:32:37<8:11:56,  3.48s/it]"
     ]
    },
    {
     "name": "stdout",
     "output_type": "stream",
     "text": [
      "This just happened this morning.\n",
      "\n",
      "We were married several months ago, so rest assured I'm not writing this on our wedding day.\n",
      "\n",
      "For a wedding gift my wife bought me the most beautiful new Breitling Chronograph wristwatch.  I had drooled over them and lusted after one for many years, thinking it would likely take me years to save up enough to buy one.  My wife is the only thing I loved more than this watch.\n",
      "\n",
      "We had completed some work on our home over the weekend and because Monday night is garbage night, when I got home from work I needed to haul the garbage out to the curb.  So being careful not to scratch my watch, I remove it from my wrist and place it on the roof of my car in the garage.  In the interim, I get busy with a few things and forget it is there.\n",
      "\n",
      "She arrives home.  We change clothes. We hop in my car and head to the gym as usual.  We workout, drive home, cook dinner, watch a movie, go to bed.  Normal night right?  I still to that point hadn't realized I've misplaced my w\n"
     ]
    },
    {
     "name": "stderr",
     "output_type": "stream",
     "text": [
      " 16%|██████▉                                     | 1566/10000 [1:34:45<7:21:59,  3.14s/it]"
     ]
    },
    {
     "name": "stdout",
     "output_type": "stream",
     "text": [
      "Saw a great big pile of snow and got excited about jumping into it like a swimming pool.\n",
      "\n",
      "Long story short it was not fluffy and now my neck hurts.\n",
      "\n",
      "Proof: http://imgur.com/kXyUugp\n",
      "\n"
     ]
    },
    {
     "name": "stderr",
     "output_type": "stream",
     "text": [
      " 16%|██████▉                                     | 1578/10000 [1:35:19<6:14:41,  2.67s/it]"
     ]
    },
    {
     "name": "stdout",
     "output_type": "stream",
     "text": [
      "It wasn't today, but valentines day I'm out shopping long stem roses for the missus, and my three little girls. I'm aiming for Dad of the year, so I know that each rose needs to be completely unique (heaven forbid sisters get the same rose), which leads me to selecting 4 unique roses. If you are one for style (which I am), the colors were very mismatched and did not work well together, which doesn't matter, since they will be passed out individually. However, as I'm checking out, I gave the appearance of someone trying to get creative (and failing) at making a bouquet. I was very self-conscious of this, and it must have shown, as a sweet old lady came up to me and reassuringly said, \"Those are beautiful, she's going to love them.\"\n",
      "\n",
      "Heaven forbid I allow a stranger to think I have poor taste, and I always love a good opportunity to talk about my daughters, so I replied,\n",
      "\n",
      "\"Well, each rose is for a different girl.\"\n",
      "\n",
      "I expected an \"ah, how sweet\" response, but all I got was a displeased lo\n"
     ]
    },
    {
     "name": "stderr",
     "output_type": "stream",
     "text": [
      " 16%|███████▏                                    | 1639/10000 [1:39:56<7:03:54,  3.04s/it]"
     ]
    },
    {
     "name": "stdout",
     "output_type": "stream",
     "text": [
      "This happened in middle school.\n",
      "\n",
      "I was addicted to chewing gum, I'd always keep several packs in my locker, and I'd go through it like anything.\n",
      "\n",
      "I ran out of gum a couple days before my mom was getting groceries, so to remind myself to replenish the supply I kept in my locker, I made a note in my school-issued homework planner.\n",
      "\n",
      "\"Bring Gum,\" I wrote, in my sloppy, preteen cursive script.\n",
      "\n",
      "Later that day, I accidentally left my planner in the cafeteria. I didn't even notice it was gone, being a fairly disorganized kid. \n",
      "\n",
      "It was only an hour after lunch when I was escorted to the office, by the principal and the school cop, who I only knew from our \"DARE\" program. I had no idea what I'd done wrong, and when I was sat down at the principal's desk, he pulled the planner out.\n",
      "\n",
      "\"Is this your planner?\" he asked me, and I got even more nervous. It was at that moment I realized I'd left it behind in the cafeteria. I wasn't sure exactly what in the planner I was in trouble for, though I suspect\n"
     ]
    },
    {
     "name": "stderr",
     "output_type": "stream",
     "text": [
      " 17%|███████▎                                    | 1657/10000 [1:40:55<7:03:35,  3.05s/it]"
     ]
    },
    {
     "name": "stdout",
     "output_type": "stream",
     "text": [
      "I haven't had a passcode on my phone for quite a while, mostly because I'm constantly pulling my phone out of my pocket and I got frustrated with having to enter a passcode every time I did this. Well, today while my phone was in my pocket, I got a text message, which turned the screen on. From there, the phone pressing against my leg unlocked the screen because all that's required to unlock it is a swipe in any direction. \n",
      "\n",
      "\n",
      "\n",
      "I have the uber eats app on my home page, I set it up while I was on holiday in America, but never used it. No idea why I didn't delete the app because it isn't even available in my city. Anyway somehow my phone and my leg conspired against me and opened the uber eats app, then proceeded to order $32 worth of food, which has already been charged to my credit card. I wasn't able to cancel the order because I only saw it after the driver had arrived at the housing, and I couldn't contact him due to the fact that I'm now on another continent. So now I'm out $32 for \n"
     ]
    },
    {
     "name": "stderr",
     "output_type": "stream",
     "text": [
      " 17%|███████▎                                    | 1666/10000 [1:41:22<7:03:42,  3.05s/it]"
     ]
    },
    {
     "name": "stdout",
     "output_type": "stream",
     "text": [
      "So, over the past two years or so I gradually, intermittently, wrote a video game as a hobby. My daughter loved it. Two days ago I thought it was in good enough shape to post it online.\n",
      "\n",
      "And 20 hours ago, I told her.\n",
      "\n",
      "She spent the next 2 hours crying and asking why. Apparently, she had thought this was a special thing in the family, and now that just anyone could have it, it wasn't.\n",
      "\n",
      "I had no idea how to deal with this. I tried reframing it various ways.\n",
      "\n",
      "Eventually she just got it all out and we seem to be fine, but whew.\n",
      "\n",
      "Edit: 22 hours after her initial reaction, she's pretty well on board with the idea now. It would have been nice to get her happy with it in advance rather than after the fact.\n",
      "\n",
      "Edit: she's 10. \n",
      "\n",
      "Edit: U no can haz link! b/c Rule 10. It's a My Little Pony game, btw, so get your hopes down if that would get your hopes down.\n"
     ]
    },
    {
     "name": "stderr",
     "output_type": "stream",
     "text": [
      " 17%|███████▍                                    | 1697/10000 [1:42:58<7:19:12,  3.17s/it]"
     ]
    },
    {
     "name": "stdout",
     "output_type": "stream",
     "text": [
      "This actually happened today and I’m still kicking myself.\n",
      "\n",
      "I was applying for an internship through this online portal that lets you submit your resume and whatnot. It’s important to note that I’m limited to one application.\n",
      "\n",
      "On my desktop, I have my resume, which is titled with my full name. I *also* have a picture of myself (just my head and shoulders, smiling at the camera), which is titled with my full name as well. Why I thought it was a good idea to title them the same thing? I guess I figured they’re both about *me*, so they ought to be titled as such. Dumb move.\n",
      "\n",
      "So they prompt for my resume, I pop open the file explorer, navigate to my desktop, and there it is. A few clicks and I’m done! I’ve submitted the application and am about to leave the page when I realize — why does the submission have a .jpg attached?\n",
      "\n",
      "Looks like this particular opportunity is out of the picture now.\n",
      "\n",
      "TL;DR - sent smile instead of file \n",
      "\n"
     ]
    },
    {
     "name": "stderr",
     "output_type": "stream",
     "text": [
      " 17%|███████▌                                    | 1706/10000 [1:43:30<7:48:18,  3.39s/it]"
     ]
    },
    {
     "name": "stdout",
     "output_type": "stream",
     "text": [
      "So I've had my dog in training for about 9 weeks. The first seven were ok. Standard sit, stay, lay down- whatever commands. \n",
      "\n",
      "So each session is 7 weeks. I was wondering why the \"intermediate\" training was called \"novice 1\" but I never bothered to ask. They'd have him sit on an elevated box...I thought \"oh cool! He learns how to sit on a scale properly for the vet office.\" Second training session is really paying off!\n",
      "\n",
      "Other things too. The trainers would have me do\"figure eights\" with my dog around two other dogs and I figured it was a way to train him to \"leave it.\" Also the head trainer kept telling me I should repeat the first level. \"Why??\"\n",
      "\n",
      "The trainers are super strict. They yell at me when my dog lays down in the sit-stay position and force me to prop him back up. Ok, they're super dedicated. Why does it matter? He's still staying! They want me to correct his sit position because he sits kind of crooked. Ok.\n",
      "\n",
      "Today I'm doing figure eights with the head trainer and I/ my dog do \n"
     ]
    },
    {
     "name": "stderr",
     "output_type": "stream",
     "text": [
      " 17%|███████▌                                    | 1721/10000 [1:44:18<6:47:17,  2.95s/it]"
     ]
    },
    {
     "name": "stdout",
     "output_type": "stream",
     "text": [
      "So this actually did happen today. I am currently in between jobs and had an interview today at some company near where i live. it's a pretty lengthy process to get hired and today was my last interview so as you'd expect, i was pretty nervous. \n",
      "\n",
      "While getting ready this morning I showered extra well, shaved extra close, wore my best cologne, and even got a haircut before i went to be extra. When i pulled in the parking space and walked into the building I was running a mental checklist of everything i did this morning. it was at this point i realize. in the rush and exitement this morning, i had some how forgot to brush my teeth. yikes. \n",
      "\n",
      "after a quick trip to the bathroom i was confident there was nothing stuck in my teeth or no discoloration. phew.\n",
      "\n",
      "But my breath was a little off. no biggie ill just grab a mint from the reception desk before i head in. \n",
      "\n",
      "Halfway through mint #2, i get called into the office for my interview. i do my best to crunch the mint as fast as i can and right\n"
     ]
    },
    {
     "name": "stderr",
     "output_type": "stream",
     "text": [
      " 17%|███████▌                                    | 1723/10000 [1:44:24<6:51:33,  2.98s/it]"
     ]
    },
    {
     "name": "stdout",
     "output_type": "stream",
     "text": [
      "This just happened. I'm sitting here at the tire shop waiting for my car to be finished. \n",
      "\n",
      "I've been waiting awhile and I notice a small coffee machine so I decide to get some coffee. You can't see the amount inside and it's not a Keurig. I pick up a cup and push it against the dispensing button and only about an ounce came out. There wasn't a drain to dump it in so I decided to just drink it. My brain associates a small bit of leftover coffee as cold coffee. It was not cold....\n",
      "\n",
      "I just slammed the coffee in my mouth and immediately realized my mistake. I just threw my cup away and sat down. Now, I'm sitting here and my tongue has a weird combination of burning and numbness going on. I've burned my mouth on hot foods before, but this is probably the worst.  I don't *think* it's bad enough for medical attention, but it sucks and I don't have anything to soothe it with until my car is ready.\n",
      "\n",
      "\n",
      "TLDR; chugged the last bit of leftover coffee thinking it was cold and burned my tongue.\n"
     ]
    },
    {
     "name": "stderr",
     "output_type": "stream",
     "text": [
      " 17%|███████▌                                    | 1726/10000 [1:44:32<6:54:01,  3.00s/it]"
     ]
    },
    {
     "name": "stdout",
     "output_type": "stream",
     "text": [
      "So TIFU... And unlike alot of posts on this subject it genuinely happened just now. So I'm currently studying for my A Levels and I have the day off of school, over the past couple of days I've had a couple of parcels be undelivered by the royal mail so I decided that as a break I would go to the post office and pick them up, I also needed to pay some cash into the bank so id do that aswell.\n",
      "So I leave the house with my backpack on and cycled down to town. First I picked up my parcels which ended up being some 3d printer parts, MOSFETs and a main board and such, baisically alot of electronics (I opened them in the list office to see what they were so they were out of their boxes in my bag). I then went to the bank and paid in my cash and went home. However when I went to go and out the parts by my printer I didn't have my bag on so I searched the house for abit and then it dawned on me, I had left my black backpack full of electronics in a bank on the floor.... \n",
      "I swear I've never ridd\n"
     ]
    },
    {
     "name": "stderr",
     "output_type": "stream",
     "text": [
      " 18%|███████▊                                    | 1787/10000 [1:47:44<8:34:04,  3.76s/it]"
     ]
    },
    {
     "name": "stdout",
     "output_type": "stream",
     "text": [
      "Today is Mother's Day in America. Unfortunately, I also had to work. Thinking I'd be a good kid and get my mom something extra, I stopped by a bakery a got her a nice, expensive carrot cake, and then headed to work, where I thought I'd ask my boss to store it in the fridge for me. Now, about my job -- I'm a homework helper/babysitter for three boys and I've been working there about 30 hours a week for the past 3 years (my entire time in college). I'm super close to them, seeing how much time I spend there, to the point where my boss (their mom) says she thinks of me as her daughter. Which I probably should have kept in mind when I got to work today, because when she opened the door and saw me lift up the cake, just about to ask if I could store it in her fridge until I left work, she immediately thought it was for her. She shrieked and hugged me and said that I shouldn't have. I was super confused, and tried to say \"No, it's for my mom, but happy mother's day anyways!\" but somehow she \n"
     ]
    },
    {
     "name": "stderr",
     "output_type": "stream",
     "text": [
      " 18%|███████▉                                   | 1846/10000 [1:52:05<11:03:25,  4.88s/it]"
     ]
    },
    {
     "name": "stdout",
     "output_type": "stream",
     "text": [
      "Today, Magnus Carlsen (the world chess champion) visited my hometown and was going to play a couple of randomly chosen students. Many students attended and all of them wanted to play against him. When the toastmaster read the names of the lucky few who got the chance to play against him, one of those names was my name. Unfortunately I had forgot about the entire event, and sat home in my room studying. \n",
      "\n",
      "I love chess and play chess every day. This would have been the highlight of the decade for me.... needless to say, TIFU. \n"
     ]
    },
    {
     "name": "stderr",
     "output_type": "stream",
     "text": [
      " 19%|████████▍                                   | 1908/10000 [1:55:58<6:47:33,  3.02s/it]"
     ]
    },
    {
     "name": "stdout",
     "output_type": "stream",
     "text": [
      "I just went to the kitchen, got a glass, put ice in the glass, went back to my room, sat down, tried to take a drink, got very confused, and then realized that I never actually got any water.\n",
      "\n",
      "Then, after I had gone back and gotten the water, I tripped and spilled it all over the floor.\n"
     ]
    },
    {
     "name": "stderr",
     "output_type": "stream",
     "text": [
      " 20%|████████▍                                  | 1957/10000 [1:59:10<11:21:33,  5.08s/it]"
     ]
    },
    {
     "name": "stdout",
     "output_type": "stream",
     "text": [
      "For the past few months, I've been trying to find a full-time job as a writer. Contract work is easy enough to come by, but it's also notoriously unreliable... which makes life somewhat stressful when one's bills maintain their impeccable regularity. Unfortunately, landing a salaried spot with a production studio is even more of an ordeal: Open positions are about as common as flying cows, and they tend to draw a greater amount of attention.\n",
      "\n",
      "With that in mind, I decided to try a slightly different approach than most people would. \n",
      "\n",
      "There's an annual conference held in San Francisco – my hometown – that often serves as a recruiting ground for video game developers. It struck me as being the perfect venue for in-person conversations with potential employers, so I made plans to attend. After spending the better part of a week wandering around, establishing connections, and handing out “[business coins](http://i.imgur.com/Jpob8G9.jpg),” I eventually found myself in a booth being run by Lu\n"
     ]
    },
    {
     "name": "stderr",
     "output_type": "stream",
     "text": [
      " 20%|████████▊                                   | 2008/10000 [2:01:57<7:56:21,  3.58s/it]"
     ]
    },
    {
     "name": "stdout",
     "output_type": "stream",
     "text": [
      "This happened about six years ago. \n",
      "\n",
      "I was out shopping for an entire day and had a date that night with someone I really liked. They were going to meet me at my house to pick me up, and I arrived home with two hours to spare in order to get out of my grungy sweats and into something pretty! I get to the door and my key is nowhere to be found. Missing. It is the only key we have as my twin sister was also with me and she had left her key inside. Cue panic. I search the car. She searches the car. We go back to every store we can think of, and no key. We then race home and call the landlord who is conveniently out of the country. The only option left is to call a locksmith. I do this and beg him to come right away and surprisingly he is there ten minutes later. He sees my state of panic and I explain that I now have only 20 minutes before my date is due. He says \"no problem I will have you inside in five.\"\n",
      "\n",
      "An hour later, my date has arrived and is helping the locksmith attempt to drill \n"
     ]
    },
    {
     "name": "stderr",
     "output_type": "stream",
     "text": [
      " 21%|█████████                                   | 2065/10000 [2:04:58<7:26:29,  3.38s/it]"
     ]
    },
    {
     "name": "stdout",
     "output_type": "stream",
     "text": [
      "Okay, to some this will seem like nothing, others who have been in very hard times will understand.  This was literally today, about 2 hours ago.  We have been having some very hard times the last few months financially, like almost on the street hard times, but things have started turning around a bit the last month and are looking better and better so I decided to surprise my wife and family with something we love but have not been able to afford for close to a year.  Krispy Kreme doughnuts.  I snuck them into the house and thought I would be slick hiding them someplace my wife would find them but never suspect, in her oven.  Now in my defense she has a routine if she cooks with the oven of pulling out the stored pans, preheating the oven, and then after it has cooled after dinner sticking the unused and still clean pans back on a clean oven rack.  No my stupid butt did not notice the pans had already been pulled out and I did not check to see what she was making tonight.  Needless t\n"
     ]
    },
    {
     "name": "stderr",
     "output_type": "stream",
     "text": [
      " 21%|█████████▏                                  | 2088/10000 [2:06:13<6:56:58,  3.16s/it]"
     ]
    },
    {
     "name": "stdout",
     "output_type": "stream",
     "text": [
      "After nearly a decade with my current employer I've decided to look for other work. I found a great company in a field I'm passionate about  and had an interview scheduled this morning.\n",
      "I left my house early expecting a 10 minute drive and got to the location 10 minutes before the interview time.\n",
      "Aso I walked towards the office I noticed my shoelace was untied. Then I realized my toe was sticking out through the front of my shoe. In my excitement for a new career I had grabbed an old black shoe for my left foot and a new black shoes for my right. I was early enough to go home and change but not to make it back in time.\n",
      "I called the guy I was set up to have a  interview with and explained the wardrobe mishap. He chuckled. I now have a rescheduled interview in 15 minutes, and I'm wearing matching shoes. Wish me luck reddit.\n",
      "Tldr: wore mismatching shoes, one with a hole in it, to a job interview and had to delay the meeting.\n",
      "\n",
      "Edit 1: the old shoes have been  destroyed. They weren't dress \n"
     ]
    },
    {
     "name": "stderr",
     "output_type": "stream",
     "text": [
      " 21%|█████████▏                                 | 2133/10000 [2:08:54<10:27:59,  4.79s/it]"
     ]
    },
    {
     "name": "stdout",
     "output_type": "stream",
     "text": [
      "The final project in one of my classes is to do a presentation on a mythical creature and say why it is real or why people believe in it. One girl asked if she could do champ. The professor said \"What is champ?\" I responded with \"THAT QUESTION WILL BE ANSWERED THIS SUNDAY NIGHT!!!\" Nobody got it.\n"
     ]
    },
    {
     "name": "stderr",
     "output_type": "stream",
     "text": [
      " 22%|█████████▍                                  | 2153/10000 [2:10:10<6:31:13,  2.99s/it]"
     ]
    },
    {
     "name": "stdout",
     "output_type": "stream",
     "text": [
      "Like most of these this didn't happen today but a few days ago.\n",
      "\n",
      "In my family we normally don't set up our Christmas tree until sometime around the 20th, this year we decided not to be lazy and set it up early we also decide to put the tree into a different room then normal. \n",
      "\n",
      "Around 1:30ish in the morning I get out of bed to grab my phone charger and a glass of water without turning on any of the lights so I can't see much as the only light is a small nightlight, in the hallway so nobody trips at night, after I get some water I go to my living room to grab my phone charger and when I turn to go back to my room out of the corner of my eye I see a huge shadow looming over me and like any reasonable person I scream, throw my glass of water behind me, and without realizing it punch the tree knocking a few ornaments off breaking them, at that point the entire house has heard my glorious battle cry followed by the sound of breaking glass, my family rushes in and finds me squaring off with a\n"
     ]
    },
    {
     "name": "stderr",
     "output_type": "stream",
     "text": [
      " 22%|█████████▌                                  | 2172/10000 [2:11:10<6:24:36,  2.95s/it]"
     ]
    },
    {
     "name": "stdout",
     "output_type": "stream",
     "text": [
      "I was on my lunch-break yesterday and I ordered a veggie sub with pickles on the side, I gave the waiter a 10 and got 5 back, anyway as I was leaving the counter I bumped into someone texting and my pickle fell off, so I throw the pickle away and several hours later when I get home I notice that my pocket is wet, turns out I threw away the 5 and put the pickle in my pocket, now I have a rash\n"
     ]
    },
    {
     "name": "stderr",
     "output_type": "stream",
     "text": [
      " 22%|█████████▋                                  | 2198/10000 [2:12:49<6:58:23,  3.22s/it]"
     ]
    },
    {
     "name": "stdout",
     "output_type": "stream",
     "text": [
      "This happened 2 hours ago and I'm very tired so please forgive any grammatical mistakes that my sleepy fingers may make. Ok so I had a very tiring day (first day back at work and all) and I lay down to try to sleep and grab my kindle from my nightstand and I read for about 15 minutes before realizing that I may have left the stove on from making dinner. I take the covers of my bed and toss them to the side with the same hand that I have my kindle. In doing so my kindle slips out of my hands and flys across my room and smashs into my window cracking both the window and my kindle. Worst part is the stove wasn't even on so I didn't need to get up. \n",
      "\n",
      "T.L;D.R: accidentally used my kindle as a ninja star and broke a window\n"
     ]
    },
    {
     "name": "stderr",
     "output_type": "stream",
     "text": [
      " 22%|█████████▊                                  | 2233/10000 [2:15:56<6:46:55,  3.14s/it]"
     ]
    },
    {
     "name": "stdout",
     "output_type": "stream",
     "text": [
      "This weekend, my friends and I decided to enjoy ourselves and have a chill road trip to Vermont. On our way back, we were pretty hungry, so we decided to satisfy our hunger at McDonald's.\n",
      "\n",
      "Before all of us five got back in my 2013 Mazda, we asked a stranger to take a typical *souvenir group picture* of us. Once the picture was taken, we jumped in the car and flew back home.\n",
      "\n",
      "Two hours later, we're finally back home. My friend later asks me to send him the group picture, so I proceed to grab my dad's camera in my backpack, but strangely enough it's not there. I spend the next two hours searching everywhere for it, but nothing. I was pretty shocked, as I remembered having the camera in my hands after we took that group picture.\n",
      "\n",
      "Today, my friend sends me [THIS Go Pro Footage](https://youtu.be/GfJ_CtDnwws), which he took about 1 minute after we left McDonald's...\n",
      "\n",
      "**SPOILER:** Yeah... I unknowingly left the camera on the roof of my car and the wind blew it off\n",
      "\n",
      "TL;DR Some people forget co\n"
     ]
    },
    {
     "name": "stderr",
     "output_type": "stream",
     "text": [
      " 23%|██████████                                  | 2290/10000 [2:19:31<7:28:17,  3.49s/it]"
     ]
    },
    {
     "name": "stdout",
     "output_type": "stream",
     "text": [
      "I just started a new job about 20 minutes away from where I live.  Being the coffee addict I am, I stop for coffee every day before work.  \n",
      "\n",
      "The Starbucks by my house has a drive thru, so I thought that was fairly standard.  I pull my car into the drive thru of the small stand alone building, up to the window underneath a small overhang that has dark green lettering saying \"DRIVE THRU\".\n",
      "\n",
      "A woman asks \"Good morning, how may I help you?\" and I order my grande iced coffee only to be greeted by a solid 10 seconds of blank staring and a cautious \"Ma'am..... This is a bank.\"\n",
      "\n",
      "I mumble a sort of embarrassed apology and pull around to the front of the building and realize my mistake--  The Starbucks and the bank shared a building, and the drive thru belonged to the bank next door...\n",
      "\n",
      "TL;DR  I ordered coffee at a bank drive thru, it was awkward\n"
     ]
    },
    {
     "name": "stderr",
     "output_type": "stream",
     "text": [
      " 23%|██████████▏                                 | 2303/10000 [2:20:14<7:12:54,  3.37s/it]"
     ]
    },
    {
     "name": "stdout",
     "output_type": "stream",
     "text": [
      "Obligatory: This happened a decade ago.\n",
      "\n",
      "Nothing exemplifies how stupid a kid I was But, if there was ever a story to come close to describing my idiocy, this would be it. I was your typical kid in the early 2000's. Always played Re4, and Jade Cocoon. One day, I decided I was really hungry, and didn't want to get up, and move a whole 10 feet to get to the toaster to make waffles. Then I have a truly brilliant idea. PS2s have a laser right? A hot one? Maybe it works like a toaster I thought! I get a waffle from the freezer, return to my PS2, and take out the disk, and put a waffle in. I then close the disk port. I noticed it wasn't closing easily so I forced it down, until I heard a click. I waited patiently for my waffles, only to be greeted by the most awful noise. It sounded like throwing a drawer of utensils into a blender. I then open it up to find a still frozen waffle, that had been torn to shreds, and a ruined disc port.\n",
      "\n",
      "My PS2 didn't survive.\n",
      "\n",
      "TL;DR, Put a waffle in my PS2 thi\n"
     ]
    },
    {
     "name": "stderr",
     "output_type": "stream",
     "text": [
      " 23%|██████████▎                                 | 2339/10000 [2:22:10<7:40:22,  3.61s/it]"
     ]
    },
    {
     "name": "stdout",
     "output_type": "stream",
     "text": [
      "My smartwatch game of choice lately is solitaire, and I usually have an ongoing game at any given time. I play it when I get 5 minutes here or there, and often pause it to come back later. And once I see that a game is a lost cause, I hit pause because that's how you go back to the menu.\n",
      "\n",
      "The top two buttons in the menu are Redeal and Resume. The bottom two buttons say New Game and Exit App. I didn't pay as much attention to the bottom row, because to exit I usually just swiped the game away.\n",
      "\n",
      "So I'd hit Redeal and get a new game going. Only I kept losing, because I didn't realize that re*deal* does not mean re*shuffle.* I was just playing the same game over and over and not really noticing it.\n",
      "\n",
      "It went on for days, guys.\n",
      "\n",
      "I was getting really mad, after losing like 15 games in a row. At one point I was in the app store searching reviews to see if anyone else was having this problem. Then one day I saw the New Game button in the menu and it dawned on me. *You have to hit new game to ge\n"
     ]
    },
    {
     "name": "stderr",
     "output_type": "stream",
     "text": [
      " 24%|██████████▋                                 | 2437/10000 [2:27:09<6:33:03,  3.12s/it]"
     ]
    },
    {
     "name": "stdout",
     "output_type": "stream",
     "text": [
      "So details you need before the story, I have to wear an apron for work with strings that are way to long(I have to wrap them around my body a few times before I tie them), I drive a small car, I drive on an expressway for work.\n",
      "\n",
      "So I was running late for work, like tying your tie in the car late for work, so I was rushing and not paying attention to everything. And I forgot to wrap my apron ties around my body. In the beginning everything was fine I tied my tie at a stop light I ate my breakfast bagel. And then as I was pulling into the expressway, I felt a slight tug and realized my apron tie was hanging out of my door so I opened and then quickly closed my car thinking that, hey it's tied around my waist it should hat fall back in the car, wrong. As I began to merge the string must have caught under my tire and it yanked my whole body against the car door and subsequently plastered my face up against the window. So I slowed down and pulled off onto the shoulder as people drive by and\n"
     ]
    },
    {
     "name": "stderr",
     "output_type": "stream",
     "text": [
      " 24%|██████████▊                                 | 2447/10000 [2:27:47<8:09:34,  3.89s/it]"
     ]
    },
    {
     "name": "stdout",
     "output_type": "stream",
     "text": [
      "This morning was a comedy of errors.\n",
      "\n",
      "I woke up late for work and instead of doing my usual 1 mile walk to work, I took my wife's car (our only current car). It is a Ford CMAX with a FOB key that you just need to have on you/in the car for it to start and run.\n",
      "\n",
      "As I'm backing out of the driveway I notice our baby's car seat is still in the back. My wife is meeting up with her mother later to go out so she needs the seat. I get out of the car, grab the seat and start walking into the apartment... I hear two honks. I've learned that this means you are leaving the running car with the key in your pocket... and I thought that the honks meant you need to return the key or the car will shut off.\n",
      "\n",
      "I don't know why I cared if it shut off but I did, so in my hurry I just put the keys on my hood. Opening the door and throwing them in the cup holder, like I've done before, would have taken an extra 3 seconds.\n",
      "\n",
      "With car seat in hand, I grab for my phone to call my wife to let me in and realize I l\n"
     ]
    },
    {
     "name": "stderr",
     "output_type": "stream",
     "text": [
      " 24%|██████████▊                                 | 2448/10000 [2:27:50<7:42:50,  3.68s/it]"
     ]
    },
    {
     "name": "stdout",
     "output_type": "stream",
     "text": [
      "To keep it short, I was at a school (primary level) giving a lecture to the staff.\n",
      "\n",
      "I have to do this quite often and the session today i can do without more than 2 mins of setup. It isn't a topic they like or enjoy sitting through so the challenge is getting them to interact.\n",
      "\n",
      "As usual, the start time became +15 mins then the principle wanted to have a quick word with staff as they were \"all together\"\n",
      "\n",
      "So i wait, now pacing up and down in front of the staff becomes annoying and because you are in \"wait\" mode you start thinking about your body language (well i do)\n",
      "\n",
      "So i sit at the teachers desk. Conscious that positive and relaxed body language from me translates to a better session with the staff, being confident in your words means people will take more notice and be more open in my experience.\n",
      "\n",
      "So i sit and extend my legs out for a moment and cross my feet, partly as a gentle pre lecture stretch and also to show i'm relaxed not tense (I'd been waiting about 20 mins by now)\n",
      "\n",
      "Today it\n"
     ]
    },
    {
     "name": "stderr",
     "output_type": "stream",
     "text": [
      " 25%|██████████▉                                 | 2481/10000 [2:29:36<6:08:23,  2.94s/it]"
     ]
    },
    {
     "name": "stdout",
     "output_type": "stream",
     "text": [
      "I was mowing the lawn, engaged cruise control on a long row. I got to the end of the row and was dive bombed a few times by a wasp. I tried to swat at it with my hat and disengage cruise so I could stop. Before I could disengage cruise I started going through the neighbors vinyl privacy fence. In what probably looked like a National Lampoon movie scene, the fence section flipped up like a doggy door and I drove right under it and then it flipped back into normal position \"closing\" behind me. when I got the mower stopped I was entirely on the other side of the fence and staring at two dogs that looked rather confused. Thankfully they were friendly and the neighbors were not home. The gates were too small, I had to remove the fence section and drive the tractor out. Thankfully the fence section wasn't damaged and I was able to reassemble it. Only evidence is they have a 6ft section of grass mowed in the middle of their lawn. I left a note and plan on trying to talk to them this week. No \n"
     ]
    },
    {
     "name": "stderr",
     "output_type": "stream",
     "text": [
      " 25%|███████████                                 | 2502/10000 [2:30:47<7:36:34,  3.65s/it]"
     ]
    },
    {
     "name": "stdout",
     "output_type": "stream",
     "text": [
      "My FU begins 2 weeks ago when I left my car keys on top of my car and drove away (Keyless ignition). I reached my house before noticing I did not have my keys with me and the car would not start. Thank god I have my backup keys right?!?! Well this morning I repeated my FU with my backup keys... great. I called a friend to drop me off where I  initially left. After hours of searching a parking lot and the street I came down I had given up. Of course I conveniently parked my car in my driveway blocking the rest of my family's cars inside with no way out. My sole purpose of writing this post is to delay the phone call I'm about to have with my mother. I wish I really wasn't this big of an idiot to make the same mistake twice in a small span of time.  \n",
      "\n",
      "For those questioning how I got home in the first place, the car will start if the keys are close enough to the car, and once you turn the car off, well.. you're fucked.\n",
      "\n",
      "Update: Called a tow truck to come pick my car up, surprisingly only \n"
     ]
    },
    {
     "name": "stderr",
     "output_type": "stream",
     "text": [
      " 25%|███████████▏                                | 2535/10000 [2:32:29<5:46:32,  2.79s/it]"
     ]
    },
    {
     "name": "stdout",
     "output_type": "stream",
     "text": [
      "This happened this morning. \n",
      "\n",
      "I'm in the process of moving. While the house was listed, my wife and staged the shit out of it, so excess furniture was stored in the basement, along with a number of boxes that we packed to de-clutter the house. \n",
      "\n",
      "Having a natural stone basement, sometimes dirt collects in the corners, and we usually sweep it up. It's been a while, so there was a decent pile. \n",
      "\n",
      "I decided to use my shop vac in the pile. It's going great, and then I decided to check the vac to see how full it is. \n",
      "\n",
      "When I turn around, I immediately remember that I had removed the filter from the vac a few weeks ago. \n",
      "\n",
      "That dirt pile was now a dust cloud filling the basement. All the furniture and boxes were coated in a layer of dirt. \n",
      "\n",
      "Tl;dr - vacuumed dirt pile with filterless vacuum. Entire basement now covered in dirt. \n"
     ]
    },
    {
     "name": "stderr",
     "output_type": "stream",
     "text": [
      " 25%|███████████▏                                | 2546/10000 [2:33:07<7:27:32,  3.60s/it]"
     ]
    },
    {
     "name": "stdout",
     "output_type": "stream",
     "text": [
      "This was actually about a year ago. But at least it's now been long enough to somewhat laugh at the situation.\n",
      "\n",
      "So I work at the front desk of a hotel. I was checking in a couple and skimming over the notes on their reservation. I briefly saw, \"Couple here for engagement...\" and completely missed the...\" he is going to ask her while they are here.\" So my immediate reaction was, \"Oh my goodness! Congratulations!\" They look at me in deep confusion-and I just keep going on with my jovial self...\"Yeah! Congratulations on your wedding! That's so exciting!\" By now, she was looking super confused and he looked absolutely horrified. Well, I still haven't recognized any issue and walked away to check on the status of their room. As I was in the back office, I mentioned to some of my coworkers the situation and how \"awkward\" the couple was acting towards me. They instantly look at me like, \"Oh, you've really f**ked up...\" They went on to explain that he was there TO propose. I died a little insi\n"
     ]
    },
    {
     "name": "stderr",
     "output_type": "stream",
     "text": [
      " 26%|███████████▎                                | 2572/10000 [2:34:34<7:41:07,  3.72s/it]"
     ]
    },
    {
     "name": "stdout",
     "output_type": "stream",
     "text": [
      "My daughter is two and she loves dogs, or bow-wows as she calls them.  We have a book that is a counting book that has dogs in it.  For number 9 there are 9 dogs that are howling at the moon.  Every so often she will howl at the moon just like the dogs in the book, she then asks/orders me or my wife to join in.  \"Daddy do it, Mommy do it.\"  \n",
      "So the other day coming home from work she starts the howling and it becomes one big howl fest in the car.  Too cute right?  Well we live near two high schools and the end of my day coincides with the end of softball practice.  Just as we are pulling up to a stoplight I break into a big ol howl...and the three high school softball players evidently thought I was howling at them.  The look of disgust and annoyance on their faces was priceless.  And of course there is no way for me to explain what is really going on.  And we pull away from the light with my wife laughing at me, my daughter howling and me embarrassed and laughing at myself.\n"
     ]
    },
    {
     "name": "stderr",
     "output_type": "stream",
     "text": [
      " 26%|███████████▍                                | 2587/10000 [2:35:24<6:14:29,  3.03s/it]"
     ]
    },
    {
     "name": "stdout",
     "output_type": "stream",
     "text": [
      "So, I'm a competitive curling player with 11 years under my belt who decided to make the transition into coaching three years ago. The reason I decided to start coaching was that, after doing literally everything your coach tells you never to do, I slipped on the ice, fell on a rock and broke my tailbone. That ended my season.\n",
      "\n",
      "Flash forward to yesterday, I was coaching a group of kids and telling them the safe way to get on the ice while demonstrating it step-by-step. Once I let the kids on though, they started doing everything I told them not to do. So, I pulled them off again and decided to re-enact my own screw up (because it was literally all that they were doing wrong combined) while telling them exactly why they should not do it (don't do X because Y will happen and you will hurt yourself -then does it-). It's at this point that I ended up slipping (exactly like I told them would happen) and falling on a rock again and this time only badly bruising my tailbone... The kids follow\n"
     ]
    },
    {
     "name": "stderr",
     "output_type": "stream",
     "text": [
      " 26%|███████████▍                                | 2597/10000 [2:35:58<6:26:35,  3.13s/it]"
     ]
    },
    {
     "name": "stdout",
     "output_type": "stream",
     "text": [
      "So , this happened yesterday.  I found a wallet that basically had the guys past 10 years in it on the train.  I went through it and found a FedEx employee card and decided to call the FedEx 1800 number and see if they can find him and tell him not to freak out.  I was connected to the center he works at and personlly spoke to him and assured him all of his cards and money were in it, and he gave me an address to send it to.\n",
      "     FedEx offered to send a driver to my house to pick it up, but being on a nice streak, I said to save the trip, I'll drop it off at the shipping center in town, I was told it would be free of charge, and was thanked over and over again.  \n",
      "Fast forward to this morning, I go to the shipping center and explain this and after refusing to package it for free I politely ask for a manager.  This woman reminded me that although there were good people in the world like myself, there also happens to be witches.  Her response to me was \"Why should I break my company polic\n"
     ]
    },
    {
     "name": "stderr",
     "output_type": "stream",
     "text": [
      " 26%|███████████▌                                | 2626/10000 [2:37:26<7:30:02,  3.66s/it]"
     ]
    },
    {
     "name": "stdout",
     "output_type": "stream",
     "text": [
      "It’s winter, and cold. I have to park 3 blocks from my office. I get to the lot, park the car, finish listening to a story on NPR, then walk to my office. Work the whole day, 8 to 5. Stayed at my desk for lunch. \n",
      "\n",
      "At 5, I pack up to go home, and can’t find my keys. They aren’t in my pockets, not in my bag, not on my desk, or under it. I retrace my steps back to the car (9 hours later, as if they’d still be laying on the ground!) There are lots of buildings and offices along the way, far too many potential places for a “lost and found” item to have been turned in. \n",
      "\n",
      "As I walk, I pull out my phone and start looking up locksmiths, in case I managed to lock the keys inside my car.  It’s after 5 now, I really don’t want to walk home. I impulsively check my pockets dozens of times. \n",
      "\n",
      "I get to my car and see it’s unlocked. Super strange, I never do that. I hope my keys are laying on the driver’s seat. They could have fallen out of my pocket as I got out, right? Fingers crossed! \n",
      "\n",
      "I open the d\n"
     ]
    },
    {
     "name": "stderr",
     "output_type": "stream",
     "text": [
      " 26%|███████████▌                                | 2630/10000 [2:37:38<6:26:14,  3.14s/it]"
     ]
    },
    {
     "name": "stdout",
     "output_type": "stream",
     "text": [
      "I opened my eyes this morning and remembered I did not set my alarm last night. I looked at the clock and it was a minute past what my alarm should have been. I jumped up, made coffee and wasted time on reddit and facebook as normal. When it was time I got dressed, packed my lunch and kissed my wife goodbye. She woke up and said \"Bless your heart, it's not Monday, it's Sunday!\" It took me about thirty seconds to get my brain around that fact.\n"
     ]
    },
    {
     "name": "stderr",
     "output_type": "stream",
     "text": [
      " 27%|███████████▋                                | 2653/10000 [2:38:54<7:52:32,  3.86s/it]"
     ]
    },
    {
     "name": "stdout",
     "output_type": "stream",
     "text": [
      "After weeks and weeks of going back and forth on a quote for a client, I sent an email to my sales representative (we will call her Sue) saying, “I will be meeting with the client tomorrow to go over the final plan and make sure everything is kosher.” Thinking that my work was sorted for the morning (it was supposed to be a slow day) I closed my laptop and went to go get a tea. \n",
      "\n",
      "&nbsp;\n",
      "\n",
      "My phone rings. It's Sue. I answer, “Hi Sue, what can I-” and then she starts.\n",
      "\n",
      "&nbsp;\n",
      "\n",
      "“You didn't tell me you were on Kosher! This is a disaster! No one told me you were on Kosher! You have missed all these meetings already! And we only have two weeks until Kosher...” See, our sales representatives have a lot of different clients and projects on their plates at any one time, so they have a tendency to shorten the project names to single words. In this case, I had forgotten that 'Kosher' refers to a major project which they have been working on for over a year with. But not my department. We have noth\n"
     ]
    },
    {
     "name": "stderr",
     "output_type": "stream",
     "text": [
      " 27%|███████████▋                                | 2661/10000 [2:39:22<7:03:19,  3.46s/it]"
     ]
    },
    {
     "name": "stdout",
     "output_type": "stream",
     "text": [
      "I like the little cartons of flavoured milk and before you open then you give them a quick shake to stir it up. I don't usually have soft drink but in the case of a University musical theory exam I thought I could use something fizzy. \n",
      "\n",
      "I sit down, exam begins. I pick up my bottle of coke and give it two quick shakes and immediately open it, not realising what hell I have unleashed. It spews all over me, my phone and the chick sitting in front of me drenching her. She screeches like a wild yeti and here I am holding a now completely empty bottle with ruined exams in a 3 metre radius. I look like a complete jack ass and the professor didn't have any spare exams left so I will have to do it tomorrow. The chick I soaked burst into tears too, I apologised but it was too late for that. \n",
      "\n",
      "Phone is toast too. \n",
      "\n",
      "TL;DR: Shook a bottle of coke like I would a flavoured milk in an exam. Ruined exams, phone and social life. \n"
     ]
    },
    {
     "name": "stderr",
     "output_type": "stream",
     "text": [
      " 27%|███████████▉                                | 2702/10000 [2:41:31<5:45:54,  2.84s/it]"
     ]
    },
    {
     "name": "stdout",
     "output_type": "stream",
     "text": [
      "On the last question, I realized that there was no more space on the scantron.\n"
     ]
    },
    {
     "name": "stderr",
     "output_type": "stream",
     "text": [
      " 27%|████████████                                | 2731/10000 [2:43:06<6:46:33,  3.36s/it]"
     ]
    },
    {
     "name": "stdout",
     "output_type": "stream",
     "text": [
      "(This didn't happen today, but the story still gets thrown around a lot at the dinner table)\n",
      "\n",
      "\n",
      "I was spending the night at my friend Jonah's and letting my parents know where I was at the time had slipped my mind. My dad texted me that night demanding I tell him where I was, and I rushed to reply as my phone was at 1% and I didn't want it to die. So I said \"jonah's\" to keep it short and sweet. Sadly I had autocorrect on and it changed it to \"no haha\". I did not realize the change and my phone died immediately after sending the text, so I didn't bother finding a charger. It wasn't until I plugged it back in that night that I saw what I had done. \n",
      "\n",
      "http://imgur.com/7MZHish\n",
      "\n",
      "Here is basically how it went down.\n"
     ]
    },
    {
     "name": "stderr",
     "output_type": "stream",
     "text": [
      " 28%|████████████▏                               | 2757/10000 [2:44:36<6:00:52,  2.99s/it]"
     ]
    },
    {
     "name": "stdout",
     "output_type": "stream",
     "text": [
      "Recently I've had really lazy and borring day at school, everyone looked tired both teachers and students. We had a really longish lesson which wasn't really interesting, at some point teacher stopped saying anything and cringed as he saw that one student felt asleep. Suddenly erything become really silent, there was no kind of a sound at that time. I had kind of a great thought to ask my classmated to clap their hands, so the sleepy guy would start clapping with us as he would start waking up. I whispered it to my class and as everyone (including teacher) had a pleasant face teacher started clapping with students. At that poing something really weird happend, everything started to disappear and replace itself with black nothing (if that makes any sense), then I also started clapping, while being really shocked with this situation. I somehow raised from the table to find out that I am the sleepy guy. It was really bizzare experience, though I find it cool.\n",
      "\n",
      "**tl;dr** I tried to wake up\n"
     ]
    },
    {
     "name": "stderr",
     "output_type": "stream",
     "text": [
      " 28%|████████████▍                               | 2815/10000 [2:47:58<7:09:07,  3.58s/it]"
     ]
    },
    {
     "name": "stdout",
     "output_type": "stream",
     "text": [
      "This happened to me this on Friday. I had just got my new bank card in mail. In my absent mind state, put the new card in my desk drawer. When i went to withdraw money, i released i had left it at home. Rushed home, grabbed a card, went to the atm to withdraw, only to realize i grabbed my old card. Again went home, tossed the card in the drawer, and was about to take the new card, when i got distracted by a call. Again in my absent mind, i garbed the old card and placed it in my wallet. Back at ATM, same thing happened again as before. I got frustrated, went home again tossed the card in the drawer, grabbed the new card. But wait, I wanted to make sure it doesn't happen again, so got a pair of scissors. I don't know how, but I ended up cutting my new card in half. Now i am without a bank card for a week, and its Friday. \n",
      "\n",
      "TL;DR Brain fart made me temporarily poor\n"
     ]
    },
    {
     "name": "stderr",
     "output_type": "stream",
     "text": [
      " 28%|████████████▍                               | 2823/10000 [2:48:27<8:30:18,  4.27s/it]"
     ]
    },
    {
     "name": "stdout",
     "output_type": "stream",
     "text": [
      "So, all of a sudden I got a Facebook invite from my dad. I thought, \"that's weird he already has a Facebook account and this one has no picture\". Now my grandma has had a problem twice with someone trying to copy her account and add all of her friends to try and get you in a scam. I thought this was exactly that and reported it to Facebook. Right after I get a text from my dad to all of us kids \"got a new Facebook account go ahead and delete the old one\". And then he had a text \"I downloaded the Facebook app and now it says my account was ended because I was pretending to be somebody else any suggestions and they need a positive ID\". He said that it was very difficult (but that's my dad with anything technology,takes him longer) and it took a few days. So a note to everyone. Parents can do things that don't make sense. If a new Facebook account adds you that says it's your dad, it may be your dad. \n"
     ]
    },
    {
     "name": "stderr",
     "output_type": "stream",
     "text": [
      " 28%|████████████▌                               | 2848/10000 [2:49:39<6:04:08,  3.05s/it]"
     ]
    },
    {
     "name": "stdout",
     "output_type": "stream",
     "text": [
      "I was rushing out of the house to make my 20 minute drive to school and my hands were full, I don't normally put things on top of my car but today I did. I place my iPad up there along with my chemistry book and drove off, I even heard a tumble but I just ignored it. Got a call a minute later from my mum informing me that my iPad was shattered and this thing is just demolished, even the smart case ripped somehow. But the chemistry book magically stayed up there, riding my car like a majestic steed.\n"
     ]
    },
    {
     "name": "stderr",
     "output_type": "stream",
     "text": [
      " 29%|████████████▌                               | 2857/10000 [2:50:08<7:00:25,  3.53s/it]"
     ]
    },
    {
     "name": "stdout",
     "output_type": "stream",
     "text": [
      "This actually happened quite a while ago, but something reminded me of it today.\n",
      "\n",
      "I used to live near an amusement park named \"Lagoon.\"  One summer my friends and I got season passes, and we would go there at least twice a week during our summer vacation.  There was this awesome woman who worked at one of the carnival game stands and the prizes that people won from her game were giant stuffed whales.  Since we were there so often, she started to recognize us whenever we passed her and she would greet us as if we were her favorite people. We would chat with her for a bit and would refer to her as the \"whale lady.\"  She was awesome!\n",
      "\n",
      "Anyways, one day we were riding on the \"Sky Ride,\" which is a ride that takes you from one end of the park to the other suspended in the air, like in [this picture.](https://newd7000user.files.wordpress.com/2012/06/sky-ride.jpg)  As we passed over the park on this ride, we passed over the game where our favorite person at the park worked!  So I yell out \"Wha\n"
     ]
    },
    {
     "name": "stderr",
     "output_type": "stream",
     "text": [
      " 29%|████████████▋                               | 2887/10000 [2:51:41<7:13:31,  3.66s/it]"
     ]
    },
    {
     "name": "stdout",
     "output_type": "stream",
     "text": [
      "We had our first big snowfall tonight. I felt like I wanted to do a random act of kindness to the neighbours in my apartment building.\n",
      "\n",
      "I decided to spend the past hour brushing off cars in the parking lots. I don't need to be up early, and people who work in the morning went to sleep before the storm. I live in an area with above average snowfall even within the city. We have about a foot of snow right now. The grass was green this morning.\n",
      "\n",
      "By the 12th car I'm at this old beater with a fabric roof and rust all around, I start brushing it off and notice a difference in rust with every brush stroke. I thought it odd, but continued. By the 15th car I noticed a little scratch where I had just brushed off. It was then that I realized my brush was frozen and scraping ice shards across the cars. Basically I thought I was being nice, but just scraped up a 15 cars and my own.\n",
      "\n",
      "I did a quick look back at several cars, all of it could be buffed out or waxed, I obscured my footprints and got the\n"
     ]
    },
    {
     "name": "stderr",
     "output_type": "stream",
     "text": [
      " 29%|████████████▋                               | 2889/10000 [2:51:47<6:24:45,  3.25s/it]"
     ]
    },
    {
     "name": "stdout",
     "output_type": "stream",
     "text": [
      "This happened about three hours ago and I still don't feel safe looking up from my desk. \n",
      "\n",
      "I recently started watching \"It's always sunny in Philadelphia\". To escape from the monotony of work today I decided to relive some of the funnier moments I've seen this weekend by reading entries about it on Wikipedia. \n",
      "\n",
      "After growing increasingly irritated by my constant giggling, one of my colleagues came over to my desk to see what I was looking at. As they approached I instinctively alt tabbed so they wouldn't catch me goofing off. Of course, my email account was the next window which was opened on the funeral arrangements for the mother of one of our secretaries. \n",
      "\n",
      "They left without saying anything. \n",
      "\n",
      "Tl;dr. Alt tabbed and now my colleagues think I find family tragedies funny.  \n"
     ]
    },
    {
     "name": "stderr",
     "output_type": "stream",
     "text": [
      " 29%|████████████▋                               | 2891/10000 [2:51:54<6:55:09,  3.50s/it]"
     ]
    },
    {
     "name": "stdout",
     "output_type": "stream",
     "text": [
      "Lately I've grown very fond of a girl in my Algebra 2 class so I asked  Couple of her friends whether she liked me or not. They all said she liked me with great enthusiasm hopping that I would ask her out.\n",
      "\n",
      "They helped make a huge sign saying \"girlfriend?\" Thinking this couldn't get anymore perfect. During lunch me and a two of her friends help set up the sign in the gym,while her other friends would keep her occupied. One her friends must told someone else about the plan and the word quickly spread throughout the entire cafeteria.\n",
      "Before lunch of even ended there was a mob of people anxiously waiting for her to get there.\n",
      "\n",
      "After the bell rang. I was already starting to get nervous, but reassured myself that there was no way she was going to say no to this big ass sign. 2 minutes have passed starting to get nervous, as more people have gathered. 4 minutes have passed and i'm starting to get worried, but again reassuring myself that maybe that her friends didn't bring her to the gym. 5 \n"
     ]
    },
    {
     "name": "stderr",
     "output_type": "stream",
     "text": [
      " 29%|████████████▋                               | 2895/10000 [2:52:08<6:47:47,  3.44s/it]"
     ]
    },
    {
     "name": "stdout",
     "output_type": "stream",
     "text": [
      "So this happened just a few minutes ago..... I was in an hour long presentation at a crime lab. As I first walked into the building I started hearing some music. It was classic rock so I thought it was weird because I like that music and you don't typically hear it playing in buildings. I proceed to the relatively small room where the presentation was and once again I hear this music. It just kept going. I thought to myself, wow this is really unprofessional that they have this playing while the speaker is presenting. At the end of the presentation, somebody was like why was there music playing throughout it? Then they try to pinpoint the origin of it. They turn and look to me. That whole time I thought it was playing above me. Since I was trying to be a courteous person, I did not look at my phone once during the presentation. I then realized that when I went to mute my phone, I also clicked play on Pandora. So it was my phone that was playing the whole time in the background. I'm abo\n"
     ]
    },
    {
     "name": "stderr",
     "output_type": "stream",
     "text": [
      " 29%|████████████▊                               | 2900/10000 [2:52:26<6:40:19,  3.38s/it]"
     ]
    },
    {
     "name": "stdout",
     "output_type": "stream",
     "text": [
      "I work as a ticket agent for a major airline.\n",
      "\n",
      "Today I was checking in a customer for an international flight and asked to see his passport. When he handed it to me, I accidentally dropped it. I picked it back up only to discover that the cover had separated from the booklet as a result of the fall: the passport had achieved two.\n",
      "\n",
      "Unfortunately, because the cover was now torn from the passport, I was forced to consider it damaged/mutilated/destroyed and could no longer accept it as a valid travel document. I had no choice but to deny him boarding until he could go to the local consulate to get a new or emergency passport. \n",
      "\n",
      "It was 4:30 PM, so the consulate was already closed. It's also a holiday weekend (Fourth of July/Independence Day), which means that the soonest he can be seen for a new travel document is Tuesday morning, four days from today.\n",
      "\n",
      "He can't fly until then.\n",
      "\n",
      "**Edit:** If I had allowed him to travel with the damaged passport, the immigration authorities at the destinatio\n"
     ]
    },
    {
     "name": "stderr",
     "output_type": "stream",
     "text": [
      " 29%|████████████▊                               | 2911/10000 [2:53:03<6:16:31,  3.19s/it]"
     ]
    },
    {
     "name": "stdout",
     "output_type": "stream",
     "text": [
      "TIFU by thinking my cat just wanted  to get to sleep closer to me. \n",
      "\n",
      "I woke up less than an hour ago to hissing and barking. I then heard my bluetick coonhound jump down from the bed and felt the tabby cat run up my spine and sit on my head. (Normally, my dog and cat will compete for bed real estate to be closer to my face/head. Usually, it is a rather quiet event. ) The dog was still agitated, and I told her in a half-mumble to go to her crate. She didn't. She kept barking as the cat hissed and jumped to the window sill. I then turned on my lamp that was almost knocked down in the process to see just what was going on. \n",
      "\n",
      "\"It is early morning, damnit! I want to get some sleeeeeeeepoooooooholyshit!\" \n",
      "\n",
      "My cat was not a cat. It was a large scared raccoon.\n",
      "\n",
      "EDIT: Since many of you were concerned, I did go to the ER to get checked out. They didn't give me the Rabies vaccine as they couldn't find a break in the skin.\n"
     ]
    },
    {
     "name": "stderr",
     "output_type": "stream",
     "text": [
      " 29%|████████████▊                               | 2912/10000 [2:53:05<5:58:03,  3.03s/it]"
     ]
    },
    {
     "name": "stdout",
     "output_type": "stream",
     "text": [
      "Over the past week, my wife and I have been collecting and storing our two kids' Christmas presents in a tool room that's attached to the house.  Yesterday around noon we received a big gift, so I removed a folding table and my daughter's bike from the shed to make room.  I locked up the door and went to bring the bike around back.  Fast forward 3 hours later and my wife is home and wants to get a head start on wrapping the gifts.  But the key is gone!  The key is on a separate key chain.  I have absolutely no idea what I did with this key chain.  If it was in my pocket, it could have fallen out in any place I sat.  I've checked all those places.  I checked any surface indoors and out that I could have absentmindedly placed the key on.  I've checked the usual spots I put my car keys.  All to no avail.  Now we have upwards of $600 of presents sitting unwrapped in an inaccessible shed and I have no plan for how to retrieve them prior to Christmas.\n",
      "\n",
      "Edit:  Ended up calling a locksmith. Th\n"
     ]
    },
    {
     "name": "stderr",
     "output_type": "stream",
     "text": [
      " 29%|████████████▊                               | 2913/10000 [2:53:09<6:28:08,  3.29s/it]"
     ]
    },
    {
     "name": "stdout",
     "output_type": "stream",
     "text": [
      "Okay, so in one of my classes, there is a guy with a strong British accent. In fact, he sounded a lot like Ringo. We get partnered up, so I ask him where he's from.\n",
      "\n",
      "\"Virginia.\"\n",
      "\n",
      "I guess his parents must have been from the U.K. So I ask him where his parents are from.\n",
      "\n",
      "\"Virginia.\"\n",
      "\n",
      "Now things are weird. I'm searching for something to say.\n",
      "\n",
      "\"It's the accent, isn't it?\"\n",
      "\n",
      "Now caught without cover, I meekly nod my head. And I hear the tale.\n",
      "\n",
      "\"I was born deaf, but when I was one, I gained my hearing. By three and a half, my language skills were way behind, so my parents sat me in front of the TV and had me watch Thomas the tank engine for hours a day. I learned to speak from Thomas the tank engine, and that’s why I have the accent.”\n",
      "\n",
      "At that point, I decided that we should just do our assignment.\n",
      "\n"
     ]
    },
    {
     "name": "stderr",
     "output_type": "stream",
     "text": [
      " 30%|█████████████                               | 2981/10000 [2:56:44<5:31:34,  2.83s/it]"
     ]
    },
    {
     "name": "stdout",
     "output_type": "stream",
     "text": [
      "So today, I'd been on an fine art trip to the British Museum doing some good ol' fashioned sketching. I'd been drawing in my sketchbook which I've been using solely since september, and it's 40% of my AS coursework, so it's the real deal.\n",
      "\n",
      "On my last train change, I got off the train, left the station and waited at the bus stop. Then I realised that my art book wasn't with me. Soooo I went back to the office, and they rang me up just now and said that it hadn't turned up on the last stop.\n",
      "\n",
      "But on the plus side, it's got all my details in it, and someone's most likely picked it up. If any of you have seen a red A3 sketchbook on a South West train, I'd love to know.\n",
      "\n",
      "edit: [all this semi karma hasn't made me feel any better](http://i.imgur.com/vIf0lAD.gif%3F1), but some nice comments have, I'll update next week if anything changes, looks like i'll be on the phone to the lost and found on monday.\n"
     ]
    },
    {
     "name": "stderr",
     "output_type": "stream",
     "text": [
      " 30%|█████████████▍                              | 3042/10000 [3:00:50<5:39:15,  2.93s/it]"
     ]
    },
    {
     "name": "stdout",
     "output_type": "stream",
     "text": [
      "I used to work at a phone retail store. It was one of the corporate stores so it was one of the nicer stores in the district. I worked as a store host so my job was to check people in and manage the flow of traffic. Their was a little candy bucket at my host stand filled with jolly ranchers. \n",
      "\n",
      "One day I was working and we had a mother come into the store with her 3 year old daughter. The girl immediately ate a bunch of candy and begun to run around the store. I was supposed to start cleaning the glass display cases so I grabbed a paper towel and Windex and started wiping down the displays when I noticed the little girl was following me around.\n",
      "\n",
      "I noticed that the mother was being helped by a co-worker and the little girl was bored so I decided to ask her if she wanted to \"help\" me wipe the displays off. She got very excited and I handed her a little cleaning cloth we use to clean phone screens and she started going around the store wiping everything off. She was wiping of the counters \n"
     ]
    },
    {
     "name": "stderr",
     "output_type": "stream",
     "text": [
      " 31%|█████████████▏                             | 3079/10000 [3:02:55<11:31:38,  6.00s/it]"
     ]
    },
    {
     "name": "stdout",
     "output_type": "stream",
     "text": [
      "This just happened about an hour ago and my wife just found out. I have twin boys who just turned 5. For this story, let's call them Tom and Jerry. They look very similar, as you can imagine, and sometimes my wife and I have trouble telling them apart, but one of them has a scar on their knee which helps us ID them. My mom, who has been unable to visit for about 3 years, finally visited today since thanksgiving is soon and uses a small mole in Tom's hand to tell them apart. Shortly after she arrived, we kept calling them different names and thought nothing of it until my mom pointed out I was calling them by the wrong names and used the mole to prove it. To no surprise, I had no idea what to think of this but then a faint memory popped into my head:\n",
      " Almost 3 year ago, one of my sons tripped and injured his knee and now has a scar. When this happened, I was outside playing with them and the dog. I'm not entirely sure what happened but my best guess is that, while I was looking away for\n"
     ]
    },
    {
     "name": "stderr",
     "output_type": "stream",
     "text": [
      " 31%|█████████████▌                             | 3145/10000 [3:08:55<11:42:28,  6.15s/it]"
     ]
    },
    {
     "name": "stdout",
     "output_type": "stream",
     "text": [
      "For the uninitiated, restless legs syndrome is another name for hell.  It's an indescribable urge to move your legs, brought on randomly (usually when I'm sitting in a reclined position) and the severity and ways to stop it vary from person to person.  Personally, the only help for me is either walking around or twitching my legs.  TODAY however, I decided that enough was enough, and that English III Honors was the place to conquer this abomination, by resisting the urge to twitch.  The creepy-crawly feeling builds and builds in my legs, and suddenly after about 15 seconds (which felt like hours) my left leg bursts straight upwards into the bottom of my desk.  Four hours later, I'm still icing it while watching my mellophones march around the field with no section leader to guide them.\n",
      "\n",
      "TL;DR - Involuntarily kicked bottom of desk, probably ended up with a bone bruise.  \n",
      "\n",
      "\n"
     ]
    },
    {
     "name": "stderr",
     "output_type": "stream",
     "text": [
      " 32%|██████████████                              | 3194/10000 [3:11:32<6:10:18,  3.26s/it]"
     ]
    },
    {
     "name": "stdout",
     "output_type": "stream",
     "text": [
      "My daughter and I went to the grocery store to grab a quick snack. In the process of going down one of the aisles, she started freaking out about a shark chasing us.\n",
      "\n",
      "She starts pulling me along telling me to run. We're on our way to the checkout, so I decide to play along and start 'hurrying' to escape and telling her to watch out, it'll bite her! We're going along the front line of registers to the checkout closest to the redbox, when she suddenly DROPS to the ground screaming like someone slammed her fingers in the door. Confused, I quickly pick her up while asking what happened? Is she ok? Her tears were flowing unrestrained while she screamed. It was creating quite the scene. Cashiers and customers stopped what they were doing to look over in concern and worry.\n",
      "\n",
      "She loudly sobs, \"The shark bit me!!!!!!!\" Then she starts laughing uproariously.\n",
      "\n",
      "My face probably matched my red hair as I retreated with her in tow to the self-checkout while laughter bubbled out behind us.\n",
      "\n",
      " I probably\n"
     ]
    },
    {
     "name": "stderr",
     "output_type": "stream",
     "text": [
      " 32%|██████████████                              | 3195/10000 [3:11:36<6:38:19,  3.51s/it]"
     ]
    },
    {
     "name": "stdout",
     "output_type": "stream",
     "text": [
      "So lemme start by saying my son is 5 years old... And not too long ago, maybe 2 or 3 weeks, my son came home from kindergarten and was a little sad so naturally I asked him what was wrong. And he told me he was having a little trouble with school and feels like everyone else understands what he doesn't. In response, I gave him a little pep talk and finished it with something along the lines of \"You can do anything you set your mind to.\"\n",
      "\n",
      "Little did I know, that motivated him to do some ambitious things. For example, he decided to plant some seeds without me knowing so he could grow stuff and surprise me by his amazing accomplishment. This morning right before I was about to drive him to school, he said \"Hold on, I gotta go check up on something!\" And ran to the side of the house. When he came back he was sad and when I asked why, he said his seeds weren't growing so I asked him what he planted and he said \"Sesame seeds, I wanted to grow some hamburger buns.\"\n"
     ]
    },
    {
     "name": "stderr",
     "output_type": "stream",
     "text": [
      " 33%|██████████████▍                             | 3272/10000 [3:16:24<5:59:36,  3.21s/it]"
     ]
    },
    {
     "name": "stdout",
     "output_type": "stream",
     "text": [
      "So 2 months ago my bike was stolen from outside my home. I live in the Netherlands so everyone has a bike or two and they get stolen once in a while (my previous bike was also stolen). The place where everyone in our building parks our bikes is sort of on a central plaza, so I was annoyed that they'd steal the bike even from there.\n",
      "\n",
      "\n",
      "So today I walked to the supermarket just next door (where I go every few days to get my groceries) and I notice my bike, parked outside....... \n",
      "\n",
      "\n",
      "TL:DR forgot for 2 months I parked my bike literally 100 meters further away than I normally do \n"
     ]
    },
    {
     "name": "stderr",
     "output_type": "stream",
     "text": [
      " 33%|██████████████▍                             | 3273/10000 [3:16:27<6:02:09,  3.23s/it]"
     ]
    },
    {
     "name": "stdout",
     "output_type": "stream",
     "text": [
      "So, I'm going to Hong Kong for a semester abroad. Therefore I thought it would be a great idea to learn Mandarin in order to properly communicate with the people of Hong Kong. I searched and found a great course and paid for the whole thing. I was really excited and motivated to learn the amazing language spoken by the people of Hong Kong!\n",
      "That was when i realized that Mandarin is not the main language of Hong Kong, that's Cantonese. And people speaking Cantonese cant speak with people speaking Mandarine  (self-five).\n"
     ]
    },
    {
     "name": "stderr",
     "output_type": "stream",
     "text": [
      " 33%|██████████████▏                            | 3313/10000 [3:19:25<25:11:43, 13.56s/it]"
     ]
    },
    {
     "name": "stdout",
     "output_type": "stream",
     "text": [
      "This happened last Saturday. So it’s morning and I’m making an egg burrito for my son for breakfast. I put some eggs on the counter just to stage while I make breakfast. He grabs an egg and as usual bolts down the hallway with it. To my two year old, running away with something and throwing it back at you is pretty much an everyday thing. I really didn’t want to clean up a smashed egg off the carpet, so I tell him “you have to be careful you don’t break that, it’s like a baby!” \n",
      "\n",
      "He looks at the egg slightly confused for a second, so I start to explain as I advance towards him to grab the egg “It’s very delicate, like a baby.” Him being very used to his baby cousin, starts to cradle it and be very careful handling it, patting it gently as if putting a baby to sleep. He hands me the egg and runs off to play elsewhere. \n",
      "\n",
      "Later while in a store we see some Easter decorations. He sees a plastic figurine of some chicks sitting in cracked eggs that say “HAPPY EASTER!” I tell him without thin\n"
     ]
    },
    {
     "name": "stderr",
     "output_type": "stream",
     "text": [
      " 33%|██████████████▋                             | 3332/10000 [3:20:26<7:52:58,  4.26s/it]"
     ]
    },
    {
     "name": "stdout",
     "output_type": "stream",
     "text": [
      "So to be honest it was yesterday-night that I didn't feed my cat. I was tired, the cat is overweight and asks for more food three times a day so I thought she could wait until morning. \n",
      "\n",
      "\n",
      "I keep the cat food on top of the washing machine, which is in the attic of my house. This morning I found cat food all around our washing machine as our cat decided to help herself, I cleaned it and fed the cat. \n",
      "\n",
      "\n",
      "Today I went to work, picked up my kids from daycare afterwards, came home, turned on the washing machine, put on sesame street for my kids and started cooking dinner. \n",
      "\n",
      "\n",
      "After about 15 minutes the fire alarm goes of. So I start running around like a chicken with no head and check al the smoke detectors downstairs but non of them had a red light. So I grab the fire extinguisher and run upstairs. Half way up I slip on the huge amount of water that comes of the stairs and badly bruise my arm and ankle. I then leave the fire extinguisher downstairs as fire does not seem to be the problem, and\n"
     ]
    },
    {
     "name": "stderr",
     "output_type": "stream",
     "text": [
      " 33%|██████████████▋                             | 3333/10000 [3:20:29<7:18:37,  3.95s/it]"
     ]
    },
    {
     "name": "stdout",
     "output_type": "stream",
     "text": [
      "This happened a few years ago but I'm new to Reddit. So on my first day of University, I accidentally slept in (not that you can intentionally sleep-in) and realised that my first ever lecture started in 5 minutes. I immediately jump out've bed and proceed to run to the lecture hall, fall in just before it starts and realise that all seats available were at the front of the hall. Since none of the people would move I was forced to practically climb over 5 of them to get a seat in the middle of the row and, naturally, the lecturer waited, staring at me, while I made my way to a seat before starting. Once I had sat down, the lecturer introduced himself and opened the PowerPoint for the lecture, titled \"Evolutionary Geography\". As a Computer Science student, I quickly decided that \"Evolutionary Geography\" was probably not on my first year syllabus and came to the conclusion that I was in the wrong class. This lead to 20 minutes of listening to the science behind \"Evolutionary Geography\" w\n"
     ]
    },
    {
     "name": "stderr",
     "output_type": "stream",
     "text": [
      " 34%|██████████████▊                             | 3354/10000 [3:21:43<6:25:22,  3.48s/it]"
     ]
    },
    {
     "name": "stdout",
     "output_type": "stream",
     "text": [
      "This morning I received a letter addressed to my neighbour, this has happened several times before, I place it in his letter box whenever this happens. So it has been, so it is, so shall it always be. However this morning having read his name H.Yang and wondering for the tenth time what the H stood for, I ended up subconsciously singing 'henry henry henry ya-ang' to the tune of 90's hit Summertime by Will Smith on my way to the lobby. Of course there he was as I turned the corner, finally a face to the name. H.Yang from 202 in all his awkward-faced glory. I handed him his mail, feeling myself going red and turned to shuffle away. As I disappeared round the corner to fly back upstairs to my shelter I heard him call out \"It's Hua\".\n",
      "\n",
      "tl;dr sang neighbour's incorrect name to him, awkwardness ensued. \n"
     ]
    },
    {
     "name": "stderr",
     "output_type": "stream",
     "text": [
      " 34%|██████████████▊                             | 3357/10000 [3:21:52<5:58:46,  3.24s/it]"
     ]
    },
    {
     "name": "stdout",
     "output_type": "stream",
     "text": [
      "Happened a few years back.\n",
      "\n",
      "Decided I wanted to do some martial arts classes for fun so got on the internet and searched around and found there was a ninjutsu class in my town.  Gave them a ring and talked for a while , seemed like my sort of thing so i got the address for them. Later  that day I set off to my first lesson.\n",
      "\n",
      "Eventually I found the address, it was some large community hall. As I walked in I saw about thirty people all dressed in black. They all had really serious faces on. I began to wonder whether i wanted to join this class, no one seemed to be having fun.\n",
      "\n",
      "I approached a lady and asked \"is this where the ninja classes are?\"\n",
      "She looked stunned and then said \" No, this is a wake for (some guy) \" \n",
      "I felt like the biggest dick ever. Hastily apologised and bolted out the door.\n"
     ]
    },
    {
     "name": "stderr",
     "output_type": "stream",
     "text": [
      " 34%|██████████████▊                             | 3366/10000 [3:22:45<7:57:06,  4.32s/it]"
     ]
    },
    {
     "name": "stdout",
     "output_type": "stream",
     "text": [
      "So yesterday was my friend's birthday. We have known each other for 12 years. \n",
      "\n",
      "When I went over to her place, she decided to give me a late Christmas present. It was a package of glitter glue (woo) and a pack of 55 temporary Disney tattoos. \n",
      "I thought it would be hilarious if I got everyone there to put them ALL on my face and neck. \n",
      "It was hilarious, many pictures were taken, everyone was amused, even myself. \n",
      "Now when your face is covered in these things, it feels like you're wearing a tight facial mask. After about 10 minutes my face started to get itchy and I could tell this had been a bad idea. \n",
      "I spent the night at my friend's place, having difficulties falling asleep because I felt like I had plastic suffocating my face. \n",
      "\n",
      "Finally, I was relieved that I was able to go home and wash it all off my face. \n",
      "\n",
      "BUT before I could go home, my friend told me we had to stop at Costco to get a few things. \n",
      "At first I thought it would be hilarious to see everyone's reaction to my face but I\n"
     ]
    },
    {
     "name": "stderr",
     "output_type": "stream",
     "text": [
      " 34%|██████████████▉                             | 3391/10000 [3:24:37<5:51:11,  3.19s/it]"
     ]
    },
    {
     "name": "stdout",
     "output_type": "stream",
     "text": [
      "So I was in my local neighborhood chain drugstore this afternoon, where we stop all the time for the sole reason that it's the quickest place to pick up a gallon of milk or a bottle of Tylenol or a Diet Coke.  \n",
      "  \n",
      "Usually the employees are somewhat surly and not very helpful. I'd just come to accept it as part of the store's slightly-off-putting charm. I mean, I get it. Working in retail can suck, and it's hard to be pleasant and helpful all the time.  \n",
      "  \n",
      "So today I walked in to pick up a quick after school snack for my kids, and it was like an entirely different store. It was clean and bright, and two different employees pleasantly offered help and one followed up by letting me know he'd be available at the photo counter if I needed anything. And I was like, wow. I started to walk toward the register and then stopped in my tracks and doubled back to an older gentleman in a store-branded vest, one of the people who'd offered assistance.  \n",
      "  \n",
      "\"Excuse me. Are you a manager?,\" I asked hi\n"
     ]
    },
    {
     "name": "stderr",
     "output_type": "stream",
     "text": [
      " 34%|██████████████▉                             | 3400/10000 [3:25:07<5:56:04,  3.24s/it]"
     ]
    },
    {
     "name": "stdout",
     "output_type": "stream",
     "text": [
      "I read an artificial about how cats like their food warm as though it were freshly killed so I thought \"Hmm, I'll microwave my kitty's wet cat food and she'll enjoy it 10 times more!\" Worst idea I've ever had. It was the worst smell ever. It filled the entire house up with the most awful stench I've ever smelled. I'll never be doing that again.\n"
     ]
    },
    {
     "name": "stderr",
     "output_type": "stream",
     "text": [
      " 34%|███████████████                             | 3418/10000 [3:26:02<5:30:03,  3.01s/it]"
     ]
    },
    {
     "name": "stdout",
     "output_type": "stream",
     "text": [
      "I'm new to this job and still figuring out my place within my peers.\n",
      "\n",
      "I have a coworker who writes a clever riddle on our whiteboard every week. This week the riddle was \"What has eyes but cannot see?\"\n",
      "\n",
      "Evidently the answer she was looking for was \"potatoes\" and not \"blind people\".\n",
      "\n",
      "I apparently have found my place within my peers.\n",
      "\n",
      "\n"
     ]
    },
    {
     "name": "stderr",
     "output_type": "stream",
     "text": [
      " 34%|███████████████                             | 3435/10000 [3:26:53<5:32:37,  3.04s/it]"
     ]
    },
    {
     "name": "stdout",
     "output_type": "stream",
     "text": [
      "Before I start telling you what actually happened, let me give you some background information. You know that some people have tendency to hoard stuff, right ? Well, I tend to hoard webpages and bookmark them into many folders, such as history, philosophy etc. I've been doing that for years, so there are looots of them.\n",
      "\n",
      "Today I decided to install some extensions to Google Chrome, and I found \"Bookmark my Tabs\". It has 5 stars, people say it's good, so why not, I decided to install it. Now, I already had like 20 tabs opened, so I decided to bookmark them. I opened the extension, there was a list of folders with a plus sign next to them. However, instead of clicking the plus sign, I clicked the name of the folder, thinking it would add the tabs into a folder. And that was a mistake....\n",
      "\n",
      "Because instead of adding the tabs, it OPENED every tab that was in that folder..... leaving me with [this](http://i.imgur.com/mF44YB8.jpg)\n",
      "\n",
      "[1184 tabs were opened](http://i.imgur.com/pr6vMpW.jpg) which \n"
     ]
    },
    {
     "name": "stderr",
     "output_type": "stream",
     "text": [
      " 34%|███████████████▏                            | 3448/10000 [3:27:33<5:35:45,  3.07s/it]"
     ]
    },
    {
     "name": "stdout",
     "output_type": "stream",
     "text": [
      "Today, as we do every Christmas Eve, had a small 8-12 person get together with family at my uncles house. I have also just recently graduated college. My aunt and uncle's who's house we were having dinner at had given me a graduation card with $100 dollars in it. I made the mistake of trusting my family and immediately tucked it into my hat that was in the bed room where everyone had been keeping their coats. My grandma, mom, dad, and sister were the last to leave from my uncles. Upon gathering my things to leave I checked my card only to find the money I had left in the card was gone. We checked everywhere for the money even though I was certain I had left it in the card after opening it. On the ride home my sister had discovered her change purse was also missing out of her regular purse. I find it so very sad that someone could steal from a family member, especially at such a small gathering at this time of year. \n"
     ]
    },
    {
     "name": "stderr",
     "output_type": "stream",
     "text": [
      " 35%|███████████████▎                            | 3478/10000 [3:29:03<4:55:14,  2.72s/it]"
     ]
    },
    {
     "name": "stdout",
     "output_type": "stream",
     "text": [
      "So a little background, I'm located near Chicago and today I got called off of work because of the hazardous travel conditions. It has been rotating between rain, ice storm, and snow all day so the roads are pretty bad.\n",
      "\n",
      "Around lunch time I have the fantastic idea of ordering a pizza online (because at the time I forgot about the bad weather). About two hours later my door bell rings and the most depressed pizza guy I'd ever seen greets me and hands me the receipt and mutters \"I'd give you a pen but mine are all frozen\" so I go inside and grab a pen and sign the receipt. Pretty bad right? I made a pizza delivery guy drive on icy roads.. it gets much worse.\n",
      "\n",
      "After I got the pizza, the driver got STUCK in my driveway because he was driving a front wheel drive sedan. I saw him banging on the wheel and shouting as he tried to get his car out of the driveway. After seeing this for like two minutes and realizing he wasn't going to get his car out I grabbed two shovels and we started digging \n"
     ]
    },
    {
     "name": "stderr",
     "output_type": "stream",
     "text": [
      " 35%|███████████████▌                            | 3526/10000 [3:31:47<6:56:02,  3.86s/it]"
     ]
    },
    {
     "name": "stdout",
     "output_type": "stream",
     "text": [
      "I work as an autoglass technician.\n",
      "\n",
      "This week I borrowed my dad's truck to pick up a dresser that my grandma had painted for me to bring to my new apartment. It's an old Chevy with manual crank windows, not in terrible shape, but not in good shape either. The truck had a very badly cracked windshield, and my dad didn't have it covered by insurance. Naturally, I thought it would be a great idea to surprise him by using my super duper employee discount and changing the windshield myself. On Monday that's exactly what I did, and the job went pretty smooth.\n",
      "\n",
      "Until I drove the truck. At any speed over 25 there was a noticeable whistling. Various wind noises can happen for many reasons after a windshield replacement. I immediately checked the cowl, the side moldings, and the weather stripping. None of those had any effect on the noise, even when totally removing them. Keep in mind this can be a laborious process to diagnose because you have to drive around the block to test each possibility \n"
     ]
    },
    {
     "name": "stderr",
     "output_type": "stream",
     "text": [
      " 35%|███████████████▌                            | 3531/10000 [3:32:02<5:48:13,  3.23s/it]"
     ]
    },
    {
     "name": "stdout",
     "output_type": "stream",
     "text": [
      "A week or so ago, for my birthday, the family got 2 sister kittens. Cute as a button, aspiring to be true karma-getting machines.\n",
      "\n",
      "This morning, one decided to hide under the couch. I decided to lift up the couch to check if she was there because I couldn't find her. She makes a sudden movement, startles me, and I lose my grip on the couch. \n",
      "\n",
      "She died instantly.\n",
      "\n",
      "EDIT: UPDATE: I have a new kitten whose name is Gadzooks. He and the other kitten get along quite alright. Thanks to all for the kind messages.\n"
     ]
    },
    {
     "name": "stderr",
     "output_type": "stream",
     "text": [
      " 35%|███████████████▌                            | 3542/10000 [3:32:37<6:17:48,  3.51s/it]"
     ]
    },
    {
     "name": "stdout",
     "output_type": "stream",
     "text": [
      "It's Nov 2nd, & he has asked to go trick or treating 3 times this morning. And while he looks very cute in his fireman helmet, I have to keep explaining that Halloween is over.\n"
     ]
    },
    {
     "name": "stderr",
     "output_type": "stream",
     "text": [
      " 36%|███████████████▌                            | 3551/10000 [3:33:05<6:04:52,  3.39s/it]"
     ]
    },
    {
     "name": "stdout",
     "output_type": "stream",
     "text": [
      "This just happened. I am visiting my parents and my 7 year old niece is her.  Her friend Jasmine, also 7, came over to play and stayed for dinner.  We made spaghetti and sat to eat.  Jasmine had been really quiet and was picking at her food.  I asked her if she liked spaghetti, or if she'd like something else.  She said yes, she likes spaghetti.  I asked if she just didn't like this spaghetti.  Was it the noodles? The sauce? The meat?  She just said she didn't like it.  I asked if her mom makes spaghetti.  She said yes, and I asked if she just likes the way her mom makes it.  She got really quiet, and I turn to see my dad all red faced and shaking his head no.  \n",
      "\n",
      "Jasmine's mother died a couple of months ago unexpectedly.\n"
     ]
    },
    {
     "name": "stderr",
     "output_type": "stream",
     "text": [
      " 36%|███████████████▋                            | 3561/10000 [3:33:40<5:15:51,  2.94s/it]"
     ]
    },
    {
     "name": "stdout",
     "output_type": "stream",
     "text": [
      "...and the teacher wouldn't allow me to use a calculator app on my tablet, or use another student's extra calculator because it was a graphing calculator (not allowed ever). \n",
      "\n",
      "At least half of the questions required a calculator in order to compute the answer. I almost cried because for once I had actually studied exactly what was on the test. I was able to write out the whole equation and steps needed to get the answer, but couldn't do the complex sums in my head. Near the end of the test period one of the lab assistants slipped me a calculator, but it wasn't enough time to go back and do all the math questions.\n",
      "\n",
      "I had a 'B' in the class before the final... I'll be lucky if I don't have to retake the entire class now.\n"
     ]
    },
    {
     "name": "stderr",
     "output_type": "stream",
     "text": [
      " 36%|███████████████▋                            | 3563/10000 [3:33:44<4:46:54,  2.67s/it]"
     ]
    },
    {
     "name": "stdout",
     "output_type": "stream",
     "text": [
      "TIFU by just getting some housework done. So I'm cleaning around the house, merrily blasting grime from the concrete with high speed water. Driveway, front walk, all go by, tedious but uneventful. When I get to the back there's quite a bit of dirt by one of the flower beds, piled up by the concrete edging. Thinking this will be extra fun to wash I merrily blast it with the water.  The way the edge meets the patio channeled the water/dirt up and back, covering me. The story could end there, but there's more. This is the South. That dirt wasn't just dirt. Oh no. You know that dream where you're covered in angry *fire ants* literally falling from the sky? Not familiar with that one? Pray you never are. That is my reality. McConaughey meets Stallone: Reign of Fire/Antz. I'm just glad I'm not allergic. \n",
      "\n",
      "TL;DR: pressure washed patio, got covered in paratrooping fire ants storming the beaches of my shoes.\n"
     ]
    },
    {
     "name": "stderr",
     "output_type": "stream",
     "text": [
      " 36%|███████████████▊                            | 3606/10000 [3:36:57<7:06:06,  4.00s/it]"
     ]
    },
    {
     "name": "stdout",
     "output_type": "stream",
     "text": [
      "Twas a hot summer day, and I was in my car parked at a store enjoying a cheeseburger. Under the car next to me, trunk-side, I spot a pigeon just laying there, probably resting in the shade. I always feel sorry for those poor pigeons, walking around in the hot concrete all day looking for food to peck at. I figure I'll throw the poor thing a bone, or in this case a little chunk of my burger's bread. I tear off a piece and throw it at the pigeon.\n",
      "\n",
      "Then it starts moving towards me and as it comes out from under the car to out in the open, it became clear that it was not a pigeon at all, but actually a black leather work boot attached to a very large, angry-looking man. It hits me that he was back there putting stuff in his trunk, and I confused his boot for a pigeon. He's staring right at me with a face like he wanted to say, \"what the hell did you do that for?\" I was so embarrassed I couldn't even apologize or explain myself, I just sat there trying not to make eye contact. He stared bac\n"
     ]
    },
    {
     "name": "stderr",
     "output_type": "stream",
     "text": [
      " 36%|███████████████▉                            | 3619/10000 [3:38:13<8:04:10,  4.55s/it]"
     ]
    },
    {
     "name": "stdout",
     "output_type": "stream",
     "text": [
      "So I'm in my economics class and everyone is doing their work silently. I hear someone down the hall clapping. The clapping does not stop and is getting closer to my class. It's getting obnoxious at this point. \n",
      "     I decide to join in on the clapping in hopes that maybe some of the class will join with me. No one does. \n",
      "     When the kid who was clapping passes by, I see he is the special kid who claps uncontrollably... \n",
      "     Reddit, I unknowingly made fun of a special needs kid in front of my whole class. I am an asshole.\n"
     ]
    },
    {
     "name": "stderr",
     "output_type": "stream",
     "text": [
      " 36%|███████████████▉                            | 3624/10000 [3:38:30<6:28:52,  3.66s/it]"
     ]
    },
    {
     "name": "stdout",
     "output_type": "stream",
     "text": [
      "TIFU by confusing the animal duck with the verb duck over 20 years ago. This FU happened when my parents decided to take me on a lake in a canoe when I was 4 years of age. I still remember how refreshing the water smelled and the bass fish putting on their gymnastics moves to feast. However, more than anything I remember all the ducks. This was in Texas and ducks were migrating. My parents began playing a little game. They would shout, \"Duck!\" and I would respond with an innocent \"Quack, quack, quack\". So before my understanding of homonyms, I was having the time of my life. Until we travelled to a part of the lake that bottlenecked and had low hanging branches. As we mimic the shore line, I gaze out towards the back of the canoe. My dad shouts \"Duck!\". I quickly swivel around trying to spot the mallard bastard and simultaneously blurt a \"quack, quack quack\". WHAM! Across my temple, a 6 inch branch responded to my quacks. Before I know it my skull is throbbing and I'm staring up at the\n"
     ]
    },
    {
     "name": "stderr",
     "output_type": "stream",
     "text": [
      " 37%|████████████████▎                           | 3717/10000 [3:44:05<6:30:13,  3.73s/it]"
     ]
    },
    {
     "name": "stdout",
     "output_type": "stream",
     "text": [
      "This actually took place in the 90s, maybe 1990 or 1991. I was about 8-9 years old.\n",
      "\n",
      "I had a Gameboy (the original, grey, 6 pounds Gameboy) and was on holidays. In other words, I was the king of the world.\n",
      "\n",
      "And so that week I was trying to beat Gremlins 2. For those of you that don't know, it was a hard game. And not \"hard\" by today's standards, \"hard\" by that era's standards. Dark Souls is OK compared to this game. The bosses were very tough, the jumps were very demanding, the regular mobs were dangerous etc, and there was no savepoint/quick restart at that time. A real nightmare.\n",
      "\n",
      "So here I am, \"enjoying\" my holidays, which means dying countless times and keeping a straight face. Always missing some hard jumpers and desperately looking at the little hearts (which represent Gizmo's health) getting shattered, one by one.\n",
      "\n",
      "So at one point, during these countless hours of pain and effort, I manage to reach a new place in the game! My heart is racing. But so is my tummy so I rush to the t\n"
     ]
    },
    {
     "name": "stderr",
     "output_type": "stream",
     "text": [
      " 37%|████████████████▎                           | 3718/10000 [3:44:09<6:45:48,  3.88s/it]"
     ]
    },
    {
     "name": "stdout",
     "output_type": "stream",
     "text": [
      "I'll keep it short.\n",
      "\n",
      "My fiance and I find the perfect ring, go away to discuss for an hour or so. As we return, I see this girl coming towards me. I don't know why, but everything else turns a little fuzzy and I can see her very clearly, walking determinedly exactly in my direction.\n",
      "\n",
      "My heart is POUNDING in my ears, I feel terrified because she has the same colour hair, she's pale, she has my jeans, my top. Who is she?? A stalker?\n",
      "\n",
      "Oh, jesus, she shares my face too. I have found my doppelganger and the world will implode, so my brain is telling me. I scan my mind for facts about doppelgangers from the Vampire Diaries. I am frozen on the spot.\n",
      "\n",
      "Suddenly, my nose hits cold glass and my fiance is staring at me, along with all the employees in the lovely, very upmarket jewelry shop. I very quickly realise it was a mirror on the front of said shop.\n",
      "\n",
      "I am a moron. The end. \n"
     ]
    },
    {
     "name": "stderr",
     "output_type": "stream",
     "text": [
      " 37%|████████████████▍                           | 3727/10000 [3:44:37<5:09:53,  2.96s/it]"
     ]
    },
    {
     "name": "stdout",
     "output_type": "stream",
     "text": [
      "Rather short story, but my phone was on my desk when I was eating lunch. I was taking a drink from my coke when I noticed a long scraggly hair was on my screen. So, naturally I went to blow the hair away, but caught myself right before I did. \"You idiot, you were about to spit soda all over your phone!\" I thought to myself. Then a genius idea struck me. \"I know, I'll hold the soda in my cheeks like a chipmunk and blow the hair away.\" However, that plan didn't work out. So now I'm sitting here with a sticky desk and cell phone. \n",
      "\n",
      "TL;DR: this story isn't long, don't be lazy\n"
     ]
    },
    {
     "name": "stderr",
     "output_type": "stream",
     "text": [
      " 37%|████████████████▍                           | 3747/10000 [3:45:45<5:58:03,  3.44s/it]"
     ]
    },
    {
     "name": "stdout",
     "output_type": "stream",
     "text": [
      "I **rented** a textbook in September from Amazon for $75.\n",
      "\n",
      "I accidentally **sold** it last week to AbeBooks for $75.\n",
      "\n",
      "Turns out that if I fail to return it to Amazon, Have to pay $184 now to 'buy' it.\n",
      "\n",
      "It has already been shipped to AbeBooks and even from the shipping location to their hidden warehouse. I doubt there is any way to get it back now.\n",
      "\n",
      "http://i.imgur.com/Mdr4T.jpg\n",
      "\n",
      "^^^^I ^^^^Need ^^^^To ^^^^Get ^^^^A ^^^^Job.\n"
     ]
    },
    {
     "name": "stderr",
     "output_type": "stream",
     "text": [
      " 38%|████████████████▌                           | 3770/10000 [3:46:59<5:37:06,  3.25s/it]"
     ]
    },
    {
     "name": "stdout",
     "output_type": "stream",
     "text": [
      "This was this morning. I wake up around 6 am take a shower get ready for the day. Make my cup of coffee and took what I though was light cream out and starting pouring it in. It had an odd texture and didnt mix well so I looked at the carton and it was egg whites. Apparently parent started a diet and needed egg whites so she got a carton of them that I mistook as light cream.\n",
      "\n",
      "Did not have an eggcelent morning\n"
     ]
    },
    {
     "name": "stderr",
     "output_type": "stream",
     "text": [
      " 38%|████████████████▋                           | 3793/10000 [3:48:10<5:00:48,  2.91s/it]"
     ]
    },
    {
     "name": "stdout",
     "output_type": "stream",
     "text": [
      "So I'm on a school concert competition at Disney, but I have to leave early for a family vacation. So this morning I wake up early and go to where the cab service was meant to pick me. They weren't there. That should have been my first clue. But me being the dumbass I am I hired a cab to take me to the airport anyways. I get there and pay the $70 fare for the 20min ride. When I go to check in, I'm told my flight is tomorrow. I had for some reason forgotten to double check which day I was leaving. So then I had to go back to Disney and pay another $70 cab fare. All because I didn't check which day I was supposed to leave. \n"
     ]
    },
    {
     "name": "stderr",
     "output_type": "stream",
     "text": [
      " 39%|████████████████▉                           | 3851/10000 [3:51:39<5:37:23,  3.29s/it]"
     ]
    },
    {
     "name": "stdout",
     "output_type": "stream",
     "text": [
      "TIFU on my family trip.\n",
      "\n",
      "In Kansas visiting family. Wanting to go north to visit Mt Rushmore. Google Maps insists you can save twenty minutes by taking East Quail Road to bypass Phillipsburg Kansas instead of taking other considerable routes.\n",
      "\n",
      "When we got to East Quail Road, it didn't look too bad. That was deceiving. It was clay, I was later told. Got onto road, got stuck.\n",
      "\n",
      "Currently writing this on my phone in my rented car in a muddy ditch while family travels out to get help (have a dog, have to stay with it.)\n",
      "\n",
      "First mess up on my part: not sticking to main roads.\n",
      "\n",
      "Second mess up on my part: not \"nope\"ing at the dirt road.\n",
      "\n",
      "Third mess up on my part: coming to Kansas during monsoon season.\n"
     ]
    },
    {
     "name": "stderr",
     "output_type": "stream",
     "text": [
      " 39%|████████████████▉                           | 3861/10000 [3:52:11<5:12:10,  3.05s/it]"
     ]
    },
    {
     "name": "stdout",
     "output_type": "stream",
     "text": [
      "So, compared to some stories on this subreddit, my story is not too bad.  When I was 9, I wanted to warm up some pizza, because it was lunch time.  My mom was on the phone, and I walked into the bedroom where she was.  I poked her shoulder, and she said one second.  Me being the sarcastic little s**t that most 9 year olds are, exactly one second later, I tapped her on the shoulder and muttered softly \"How long?\", and nodded towards the pizza.  My mom, not understanding what I was asking, said \"5 minutes\" figuring I would ask her in 5 minutes.\n",
      "\n",
      "What I actually did was put the slice of pizza in the microwave for 5 minutes.  When it was done, it smelled horrible in the kitchen, and there was smoke everywhere.  I couldn't touch the plate for more than like 5 seconds at a time, because it was so hot.  I set the plate down in the sink.  The cheese was boiling, and the smoke was still going strong.  I then put a lot of water on to the brick of burnt pizza, and nearly choked on the amount of s\n"
     ]
    },
    {
     "name": "stderr",
     "output_type": "stream",
     "text": [
      " 39%|█████████████████▏                          | 3895/10000 [3:54:15<5:17:21,  3.12s/it]"
     ]
    },
    {
     "name": "stdout",
     "output_type": "stream",
     "text": [
      "So yesterday I got to hang out with some musicians I deeply admire, Ken and Joey: The Milk Carton Kids. \n",
      "\n",
      "We hadn't met in person yet but are mutual fans. They were playing yesterday in San Diego at my favorite theater, The Balboa (where we do Wootstock every Comic Con). I was performing only a block away at the Civic Theatre, so we made arrangements to have lunch. We had a lovely lunch and talked a whole bunch and they invited me to fly Kenneth's Phantom Drone with them by the water. \n",
      "\n",
      "Kenneth let me land it. My landing was \"inelegant.\"\n",
      "\n",
      "Video: http://twitter.com/donttrythis/statuses/673615167402336256\n"
     ]
    },
    {
     "name": "stderr",
     "output_type": "stream",
     "text": [
      " 39%|█████████████████▏                          | 3899/10000 [3:54:27<5:15:06,  3.10s/it]"
     ]
    },
    {
     "name": "stdout",
     "output_type": "stream",
     "text": [
      "**TL;DR** *When I was five I ran around a church screaming, \"PUT DOWN YOUR HANDS, YOU'RE NEVER GOING TO REACH GOD\" because I wanted to help.*\n",
      "\n",
      "I've lurked around TIFU for a while and it only dawned on me now that this might be a good story to share.  My family gets a good laugh out of it nowadays, so here you guys go:\n",
      "\n",
      "When I was about five my parents (both far from religious) thought it'd be good to bring my younger sister and me to church just to see if we liked it. It was one of those churches where they do a fair bit of singing and put their hands up in the air. I'm getting a bit confused as to why people are putting their hands up, so I ask my dad. He doesn't know why, but he tells me that they're trying to get closer to God. Now at this point I had always thought that God was some magical ruler that lived up in the clouds, so hearing about these people trying to physically reach him seemed ridiculous. They were obviously never going to be able to reach him when they couldn't even\n"
     ]
    },
    {
     "name": "stderr",
     "output_type": "stream",
     "text": [
      " 39%|█████████████████▎                          | 3945/10000 [3:57:23<4:19:54,  2.58s/it]"
     ]
    },
    {
     "name": "stdout",
     "output_type": "stream",
     "text": [
      "This TIFU happened yesterday. I was at my friend's house, me and my buddies were watching YouTube clips on a small TV in the living room. I was sitting on the couch far from the TV and I could barely see cause of my bad eyesight so I decided to move forward to sit on the glass coffee table in the middle of the room, close to the TV (genius idea). About half an hour later the glass completely shatters under my sorry ass and I stand up as quick as I can. After we realize what happened we all burst into laughter. Cleaning this up was a pain in the ass (no pun entended). Luckily no one was hurt.\n"
     ]
    },
    {
     "name": "stderr",
     "output_type": "stream",
     "text": [
      " 40%|█████████████████▍                          | 3950/10000 [3:57:39<5:41:00,  3.38s/it]"
     ]
    },
    {
     "name": "stdout",
     "output_type": "stream",
     "text": [
      "I had spent the weekend at my parents' house. I come in to work today and I have a question for my supervisor. I walk into her office and say \"Mom, I have a question.\"\n"
     ]
    },
    {
     "name": "stderr",
     "output_type": "stream",
     "text": [
      " 40%|█████████████████▍                          | 3956/10000 [3:57:58<4:56:32,  2.94s/it]"
     ]
    },
    {
     "name": "stdout",
     "output_type": "stream",
     "text": [
      "This is short fudge up. \n",
      "\n",
      " For lunch at work we only get a 30 minute break. I forgot my lunch today so 30 minutes before lunch starts, I order a pizza online. This way it would get to my job when lunch started. Well lunch time comes around and the pizza is still not here. Right about this time I get a call from my dad, which is weird because he never calls me at work. He was calling me to thank me for the pizza. When I ordered on my account, I forgot to select my work address. My coworker asked why I wasn't eating and when I told him what happened, he couldn't breathe from so much laughter. But he did share his cookies and gummy worms with me. So at least I didn't starve.\n"
     ]
    },
    {
     "name": "stderr",
     "output_type": "stream",
     "text": [
      " 40%|█████████████████▋                          | 4010/10000 [4:01:22<5:56:47,  3.57s/it]"
     ]
    },
    {
     "name": "stdout",
     "output_type": "stream",
     "text": [
      "So I lost a very close member of my family many many years ago. They say that the pain of losing someone so very close to you will someday heal but the sadness in knowing they are gone never really does go away.\n",
      "\n",
      "You remember them in moments that you least expect, when doing things that you once shared with them, activities that you had done together will jog a memory, it may be brief but you will feel their warmth for a fleeting moment.\n",
      "\n",
      "Today I had one of those moments.\n",
      "\n",
      "I just landed from a business trip and realized to my dismay, while unpacking my things in the hotel room, that I forgot to pack deodorant. I went to the shop in the lobby and they happened to have a small blue can... it looked slightly familiar... it was the only option so I bought it and went up stairs.\n",
      "\n",
      "The next morning as I got ready I saw the little blue can, it was a spray on deodorant.. not my first choice, I prefer the sport-stick gel stuff.. but this is all the shop had in stock and am only in town for a few\n"
     ]
    },
    {
     "name": "stderr",
     "output_type": "stream",
     "text": [
      " 40%|█████████████████▊                          | 4048/10000 [4:03:27<5:07:28,  3.10s/it]"
     ]
    },
    {
     "name": "stdout",
     "output_type": "stream",
     "text": [
      "He's off to school now with an ice pack over his left eye so here's hoping he'll be ok. \n",
      "Yes, this just happened and it was an accident. \n",
      "As a dad, I like to horse around with my two boys. In this particular situation, my oldest (11yr old) was wanting access to my iPhone so I was playing keep away. We were at the bottom of the stairs to the bedrooms and he was doing his best to get his hands on the phone. He still isn't big enough to get anywhere close to getting past my defenses so I was moving the phone around my back and placing it in various pockets. Finally, I decided to take off and run up the stairs and the chase was on. Here's the FU part...I decided to kick my heels up in order to make him wary of getting too close. Of course he was closer than I expected and my heel caught him in the eye hole. Within a minute his eye was swollen shut and, after apologizing, I went to get an ice pack to help reduce the swelling. I am waiting to see if I get a call from the school for the ol' \"\n"
     ]
    },
    {
     "name": "stderr",
     "output_type": "stream",
     "text": [
      " 41%|█████████████████▊                          | 4061/10000 [4:04:06<4:54:29,  2.98s/it]"
     ]
    },
    {
     "name": "stdout",
     "output_type": "stream",
     "text": [
      "So I moved recently and my new apartment didn't have any toilet paper. I was a wee peckish and I love chipotle, so i figured I could eat after I picked up some tp. I didn't even think about what it looked like to the clerk, I just walked up, bought the biggest thing of tp they had and proceeded to inquire how I could get to the nearest chipotle. \n"
     ]
    },
    {
     "name": "stderr",
     "output_type": "stream",
     "text": [
      " 41%|█████████████████▉                          | 4064/10000 [4:04:15<4:56:56,  3.00s/it]"
     ]
    },
    {
     "name": "stdout",
     "output_type": "stream",
     "text": [
      "(I'm no english native speaker)\n",
      "\n",
      "This happened about 2 Minutes ago.\n",
      "\n",
      "I wanted to change the hard drive like every day to keep our data secure. But as I was trying to enter the room where we keep our Server the Key of the door wasn't there...( note that we lock that room everytime but keep the key in the lock)\n",
      "I was searching for it but it was just gone. So i asked everyone in the office i could find, but no one had taken it. I even informed my boss about it who was not amused. And so we investigated together. Who was that dumbass that took the key?\n",
      "A few minutes later i was sitting at my desk, about to write a mail to all my coworkers, when my instructor came to me. So appearently she was able to put 2 and 2 together. We keep some beverages in the same room as our server is in, because it's chilled in there. And I was having a bottle of Lemonade...\n",
      "I reached in my pocket to find that damn Key.\n",
      "I'm so ashamed.\n",
      "\n",
      "TL;DR: Key of a door at work was lost. I told everyone in the office to find\n"
     ]
    },
    {
     "name": "stderr",
     "output_type": "stream",
     "text": [
      " 41%|██████████████████▏                         | 4128/10000 [4:07:47<4:37:00,  2.83s/it]"
     ]
    },
    {
     "name": "stdout",
     "output_type": "stream",
     "text": [
      "This is really dumb....I mean REALLYY dumb. But Ill get on with telling the story.\n",
      "\n",
      "In my room I have 2 big studio monitors, a mixer, among other music equipment. I receive a text from my friend making a joke about how \"They\" are watching you. As I react from this text, I remember that sometimes people put tape and stuff on their computer cameras. I retrieve masking tape, cut a piece the right length, and put it on my camera. Not long after do I realize that the piece of tape is peeling over the edge of my computer, like behind the screen, on top. I proceed to take the scissors, cut the extra bit of tape off and smush it back on. While sitting down and putting the scissors behind my computer on my disk, my sliding chair slides and the scissors go flying. Directly into the cone of my speaker, the wonderufl, bass amplification, good sounding, delicate part of my speaker. \n",
      "\n",
      "RIP\n",
      "\n",
      "edit:spelling\n"
     ]
    },
    {
     "name": "stderr",
     "output_type": "stream",
     "text": [
      " 42%|██████████████████▎                         | 4160/10000 [4:09:23<4:57:48,  3.06s/it]"
     ]
    },
    {
     "name": "stdout",
     "output_type": "stream",
     "text": [
      "Standard Disclosure: This happened a few years ago.\n",
      "\n",
      "[This](http://imgur.com/YZuj7WP) is a tomato horn-worm, posted by u/aintgottime4that.  They're called tomato horn-worms for the sorta obvious reason that they'll decimate your tomatoes like a miniature buzzsaw.\n",
      "\n",
      "But it turns out that peppers and tomatoes are very closely related, and that these horn-worm fellas will **also** chow down on peppers just as quick as they'll snack on your tasty tomatoes. My wife and I, for example, had a couple eating our jalapenos a few years back.\n",
      "\n",
      "Thing is, jalapenos know when they're being chomped by horn-worms. They try to defend themselves the only way they know how--by making the peppers hotter, and hotter, and hotter.\n",
      "\n",
      "Your buddy the horn-worm don't care, though. Fat little bastard probably can't even taste the heat.\n",
      "\n",
      "Now your average human, though.... That extra heat can mess him right up. Especially if you slice up some of them ultra-hot jalapenos and toss 'em into a hot pan while making a mess \n"
     ]
    },
    {
     "name": "stderr",
     "output_type": "stream",
     "text": [
      " 42%|██████████████████▌                         | 4213/10000 [4:13:42<5:57:14,  3.70s/it]"
     ]
    },
    {
     "name": "stdout",
     "output_type": "stream",
     "text": [
      "So this just happened about an hour ago. On the digital readout of my car I noticed that recently it read \"N\" all the time, no matter what direction I was heading. It was really bugging me this morning on my way to work. After stopping for gas, I hit the reset button and the readout said \"slowly circle to calibrate compass.\" I saw there was a strip mall across the street and the parking lot was fairly empty, so I drove into the lot and began circling.\n",
      "\n",
      "It's a bit foggy out this morning and after my 3rd or 4th circle I saw a van coming straight towards me. I sharply swerved out of the way to avoid getting hit then decided to start my circling again in the opposite direction. About 10 seconds later I saw the lights of a police car, so of course I stopped.\n",
      "\n",
      "The cop said he saw me circling and wondered if I was ok. He told me to get out of the car to take a field sobriety test. I explained about the readout, but now of course it no longer displayed \"slowly circle to calibrate compass.\" I p\n"
     ]
    },
    {
     "name": "stderr",
     "output_type": "stream",
     "text": [
      " 42%|██████████████████▋                         | 4250/10000 [4:15:45<6:16:29,  3.93s/it]"
     ]
    },
    {
     "name": "stdout",
     "output_type": "stream",
     "text": [
      "At the end of one of my connecting flights, in a rush to make it to my next connection, I pulled my suitcase from the overhead bin without looking behind me. Not only did I underestimate the weight of my obnoxiously large carry-on, but I dropped that carry-on right onto a toddler's little head. I don't even remember how many apologies I stuttered to the family, but that mom was pissed. I mean, death glares galore. Poor baby didn't even cry, he was so startled. I bet there's a special place in hell for suitcase-swinging-toddler-hitters like me. Seriously, kid, I'm sorry.\n"
     ]
    },
    {
     "name": "stderr",
     "output_type": "stream",
     "text": [
      " 43%|██████████████████▋                         | 4256/10000 [4:16:03<5:30:23,  3.45s/it]"
     ]
    },
    {
     "name": "stdout",
     "output_type": "stream",
     "text": [
      "So I work in Film/TV production and Concerts halls. Recently at one of the concert halls I work at, there was a change of staff & management positions. I introduced myself to my new boss Rick and had a long conversation on how we had both graduated from the same program in college and how the course had changed so much since he was there versus when I was there.\n",
      "\n",
      "We worked a few shows together and I would call him over intercom whenever we needed a mic testing done or when to send out the next artist to the stage.\n",
      "\n",
      "One day, one of the clients came in for a corporate event and asked me where Greg was. I told them that there was no Greg on staff and he must have left during the change in staff. They seemed shocked and mentioned that they had been talking with him over the phone all week planning the event. I didn't think much of it and continued my task Rick assigned me to.\n",
      "\n",
      "Later in the evening another client asked me If Greg had gotten their email with the video files they sent in. I r\n"
     ]
    },
    {
     "name": "stderr",
     "output_type": "stream",
     "text": [
      " 43%|██████████████████▋                         | 4261/10000 [4:16:23<6:04:34,  3.81s/it]"
     ]
    },
    {
     "name": "stdout",
     "output_type": "stream",
     "text": [
      "It was 3am on a cold winter night in 2005. I heard a voice and was awoken from my slumber. It was my mom.  \n",
      "I sat up groggy as hell \"What?\" I said half asleep.  \n",
      "\"There's a weird noise coming from the bathroom... It's like an electrical buzzing.\"  \n",
      "I stood up and followed my mom into the bathroom. It was dark. I still hadn't fully woken up. Sure enough there was a low steady hum coming from what sounded like the wall. \"That sounds like a wire in the wall...\" I said, channeling all of my 3am middle school electrician knowledge.  \n",
      "\"What should we do?\" My mom said.  \n",
      "\"I think we should call someone... And we probably shouldn't touch the lights...\" This all made sense to me to prevent causing what could be an electrical fire.  \n",
      "My mom called 911 and within 15 minutes a firetruck and 4 very tired firefighters were at our house. We showed them to the upstairs bathroom and explained the problem. One of the firefighters shined his flashlight into the bathroom and walked towards the wall. He st\n"
     ]
    },
    {
     "name": "stderr",
     "output_type": "stream",
     "text": [
      " 43%|██████████████████▍                        | 4274/10000 [4:17:49<20:46:06, 13.06s/it]"
     ]
    },
    {
     "name": "stdout",
     "output_type": "stream",
     "text": [
      "This happened about 20 minutes ago. A stray cat wandered into the classroom where I was watching over 50+ engineering students taking a Physics 102 midterm. Thinking some of them might be afraid or allergic I tried to catch it as soon as possible to take it outside. After a bit of chase I managed to grab it between two desks. Sadly though my grab wasn't strong enough and I dropped the cat on the arm of the girl sitting next to me. Naturally both the cat and girl freaked out, cat jumped across a couple more desks and tried to escape causing great havoc. I had to pause the exam for 5 minutes while me and a couple students chased after it. Everyone is still smirking whenever I make eye contact with them. \n"
     ]
    },
    {
     "name": "stderr",
     "output_type": "stream",
     "text": [
      " 43%|██████████████████▍                        | 4284/10000 [4:19:16<14:10:00,  8.92s/it]"
     ]
    },
    {
     "name": "stdout",
     "output_type": "stream",
     "text": [
      "Out to lunch at my new job and the CEO says he'll treat me to lunch because it's tradition. Me being an idiot for not knowing he's the CEO, says thanks and accepts the offer. After food arrives I try to start a conversation by asking him \"So what do you do here?\"\n",
      "\n",
      "\"Well I'm the CEO here.\"\n",
      "\n",
      "\"Oh.\"\n"
     ]
    },
    {
     "name": "stderr",
     "output_type": "stream",
     "text": [
      " 43%|██████████████████▉                         | 4312/10000 [4:21:23<5:47:41,  3.67s/it]"
     ]
    },
    {
     "name": "stdout",
     "output_type": "stream",
     "text": [
      "Today is not an ordinary day. Today marks the day of my son's 10th birthday. He has always been a good boy ever since birth, never gave me or his mom that much trouble. He'd always listen and followed instructions really well. Growing up as a family, with him being an older brother of two little sisters, he has always proved himself a young responsible adult. Around last spring, we observed him eyeing an item that he looked interested in. Even though he did not mention it, we knew he wanted it. All his friends had it, and it made us unhappy that we do not have the money to get one for him at the time. We are living from paycheck to paycheck. Since last summer of 2014, we decided to save up money for it. While saving up, my mother-in-law had to be hospitalized due to her health during fall/winter. We are making many payments to pay for the hospital bill and used up the savings for his gift. Unfortunately, the months leading up to his birthday, we hinted/promised that we he will get some\n"
     ]
    },
    {
     "name": "stderr",
     "output_type": "stream",
     "text": [
      " 43%|██████████████████▉                         | 4317/10000 [4:21:40<6:04:24,  3.85s/it]"
     ]
    },
    {
     "name": "stdout",
     "output_type": "stream",
     "text": [
      "Okay so this happened last night. Right around 8pm or so. My kids and I were just hanging out and my husband was at work. We're playing some video games when my older son (8yr) tells me he saw a flickering light outside our back door. I can't see it from my angle in the living room because there's a wall in the way. So... I dismiss it as nothing important. Maybe the neighbors head lights or something. Right?\n",
      "\n",
      "Here's where things get scary.\n",
      "\n",
      "I see the flickering light. Like a bright bluish flashlight by one of our side windows. All our blinds are drawn so I can't actually see what or who it is. Our backdoor isn't locked. We also have our entire yard fenced in. No one should be able to get back there. My stomach flopped and panic mode kicked in. I was holding my other son (4mo) in my arms and slowly put him on the floor. I sat there watching for a minute. I told my 8yr old to be quiet and I got up to check it out. Now at least 30 seconds have passed because I was sort of in shock and was\n"
     ]
    },
    {
     "name": "stderr",
     "output_type": "stream",
     "text": [
      " 43%|██████████████████▉                         | 4318/10000 [4:21:43<5:33:53,  3.53s/it]"
     ]
    },
    {
     "name": "stdout",
     "output_type": "stream",
     "text": [
      "So I went to the grocery store with my dad today, and one of the many things we had to pick up was a bottle of febreze. After shopping, I carelessly threw the grocery bags into the back seat as I normally do and got in the passenger seat. I'm a pretty tall guy (6' 4\"), and for whatever reason I thought the seat was too far forward. I moved the seat back: not realizing some of the bags I had thrown were on the ground behind the seat. Specifically, the bag with the bottle of febreeze laying right in the path that the seat moves. The metal slider on the seat sliced a hole in the brand new febreze bottle, unleashing the entire can upon our noses. Our car is now strongest example of Fresh Cut Pine you could ever find.    \n",
      "    \n",
      "TL;DR: Bought a bottle of febreze, set it behind passenger seat, moved the seat back and accidentally sliced the bottle open.\n"
     ]
    },
    {
     "name": "stderr",
     "output_type": "stream",
     "text": [
      " 44%|███████████████████▍                        | 4419/10000 [4:27:18<5:20:22,  3.44s/it]"
     ]
    },
    {
     "name": "stdout",
     "output_type": "stream",
     "text": [
      "More of a IFU than TIFU, because this happened over a decade ago...\n",
      "\n",
      "I was about 10 or so at the time. It was around midday and my gran asked mom to make her some tea. Mom was a bit busy with domestic work (she's a nurse and today was her day off- the nurse part is important I guess) so she asked if I could do it. No biggie, I've made tea for her and gran plenty of times and no one else was at home anyway besides us 3. \n",
      "\n",
      "I proceed to make tea. Mom and gran are diabetic so they use sweeteners. I look in the kitchen cupboard for gran's sweeteners but I don't find them. Knowing that mom has some lying around her bedroom I go to her cupboard, take out the brown sweetener satchet, finish making the tea, give it to gran then resume my cartoon binge. \n",
      "\n",
      "About an hour or so later mom calls me and she sounds concerned. Conversation went something like:\n",
      "\n",
      "Mom: BalliBoyFit, what on earth did you give gran when you made her tea. She's having stomach cramps and is in pain. \n",
      "\n",
      "Me: I made tea as normal \n"
     ]
    },
    {
     "name": "stderr",
     "output_type": "stream",
     "text": [
      " 45%|███████████████████▌                        | 4452/10000 [4:28:57<4:36:08,  2.99s/it]"
     ]
    },
    {
     "name": "stdout",
     "output_type": "stream",
     "text": [
      "My grandfather's girlfriend passed away on Friday. I intended to go to the funeral to represent my family (who are all overseas at the moment). I looked up the obit and found what I thought was the ceremony for her.\n",
      "\n",
      "After arriving at the cemetery, I collected with the small group of people around the grave, keeping an eye out for my grandfather (who I thought was running late). After about 20 minutes, the pall bearers removed the casket from the hurst and the rabbi began to speak. Long story short, I realized I had the wrong Edith when the rabbi said the date of death, two days earlier than the Edith I was looking for\n"
     ]
    },
    {
     "name": "stderr",
     "output_type": "stream",
     "text": [
      " 45%|███████████████████▊                        | 4494/10000 [4:31:11<5:02:12,  3.29s/it]"
     ]
    },
    {
     "name": "stdout",
     "output_type": "stream",
     "text": [
      "I'm a nice person. I like to help people. I will go out of my way to help you. This morning an opportunity struck for me to exercise my pathological need to do good deeds and I seized it gladly. \n",
      "It's snowing here in the UK, and our street is about six inches thick with snow. This is unprecedented for the fledgling estate on which I live, and as such, it is utter pandemonium. \n",
      "I was looking out of my window getting ready for work when I saw my neighbour, a girl in her early twenties, attempting to pull away from her space at the side of the road. Her car was stuck, and she was using her foot to try and dig her way out. She lives in a flat and I doubt she owns a shovel. I gathered my reluctant husband and together we saved the day, seeing her off to work with a gleeful wave. Felt great. \n",
      "\n",
      "About half an hour later I bravely arrived half a mile away at work. I work in a palliative care team, with a lot of nurses. As I sat down and started to get on with work, I started to feel strange. \n",
      "I\n"
     ]
    },
    {
     "name": "stderr",
     "output_type": "stream",
     "text": [
      " 45%|███████████████████▊                        | 4509/10000 [4:32:03<5:15:04,  3.44s/it]"
     ]
    },
    {
     "name": "stdout",
     "output_type": "stream",
     "text": [
      "As per usual, didn't happen today but 6 months ago. I travel to New Zealand several times throughout the year for photography, on this particular trip I was meeting up with a friend who lives locally. Arriving at the airport after work hours, I met my mate and told him the hire car we're looking for was a silver Nissan Tida. My name was to be written somewhere on paper inside, along with the keys (yes, they're quite trustworthy in the South Island). After several minutes of searching he calls out \"over here bro\" and proceeds to jump inside a Nissan Tida, waving the keys in his hand. Although the cars location was slightly different to what they described and there was no name inside, I figured it was obviously the right car and perhaps the staff on that day were too lazy to do it. So we hit the road and began hiking around various areas for ten days. \n",
      "The final night of the trip, I'm tucking into my suitcase, perched high on a mountain top. Opening my emails I see one from the car hire\n"
     ]
    },
    {
     "name": "stderr",
     "output_type": "stream",
     "text": [
      " 45%|███████████████████▉                        | 4536/10000 [4:33:53<4:33:03,  3.00s/it]"
     ]
    },
    {
     "name": "stdout",
     "output_type": "stream",
     "text": [
      "This happened on Saturday (contrary to the date stamp on the dash cam video - I never bothered adjusting the date). I was helping a friend move  and he had rented a 10' Uhaul truck and listed me as an additional driver. He gets anxiety driving in the rain, nevermind behind the wheel of a Uhaul truck, so I volunteered to drive it as I had no issues with anxiety.\n",
      "\n",
      "He was going to drive my car since after this trip the truck was getting dropped off.\n",
      "\n",
      "It hadn't been raining bad all day, but then there was this huge downpour out of nowhere while we were finishing up. \"Throw me the keys man!! Hurry!\" he shouted, frantically. I grabbed my keys and threw them to him and quickly jumped into the drivers seat of the UHaul to get out of the rain.\n",
      "\n",
      "That basically explains the story right up to where the dashcam takes over, so I'll let the video take it from here.\n",
      "\n",
      "https://www.youtube.com/watch?v=lDBXknqqzUk\n"
     ]
    },
    {
     "name": "stderr",
     "output_type": "stream",
     "text": [
      " 45%|███████████████████▉                        | 4541/10000 [4:34:12<5:15:00,  3.46s/it]"
     ]
    },
    {
     "name": "stdout",
     "output_type": "stream",
     "text": [
      "This happened when trying to order lunch for the company a year or so ago.  It is the one and only time I’ve ever had the cops called on me based on a lunch order.\n",
      "\n",
      "My small company does ‘Junk Food Friday’ every week.  We pick a place, phone in the order, and somebody goes to get the food.  This particular Friday, I had the bright idea to order fried chicken from a place down the street.\n",
      "\n",
      "I got everybody’s order and phoned it in to the number I found online.  The guy said it would be ready in 20 minutes.  At the designated time, I went down to the place with a coworker to pick it up.  Told the guy at the counter I was there to pick up a phone order.  He said ok, and went back to get it.  But, he started asking questions about the order.  Did we want x?  Yes, just like we phoned it in.  I was more than a bit annoyed that phoning the order in didn’t seem to speed up the process.\n",
      "\n",
      "Finally get the food, and go back to the office.  At this point, my phone starts ringing.  My personal policy\n"
     ]
    },
    {
     "name": "stderr",
     "output_type": "stream",
     "text": [
      " 45%|████████████████████                        | 4546/10000 [4:34:26<4:22:00,  2.88s/it]"
     ]
    },
    {
     "name": "stdout",
     "output_type": "stream",
     "text": [
      "About a week ago, my 2 year old son saw a toy race track in a box in the garage. I have several hand me down toys from my nephew stored in the garage, waiting until my son is old enough to play with them. He wanted the race track so I got it out of the box, grabbed a car for him to race with and put it together. He was having a blast with it so I went back to the garage to see what else I could find and I found 2 more cars for the race track. \n",
      "\n",
      "I wanted to surprise him with the new cars so I put them behind my back, told him I had a surprise for him, dramatically yelled \"Abracadabra!\" and revealed my surprise. He was shocked and excited and it was fun. \n",
      "\n",
      "Fast forward to the present- we were watching a show on TV and during the commercial break he turned to me and said \"I want that toy.\" I said \"I'm sorry, maybe for your birthday or Christmas but we aren't getting a new toy right now.\" He said \"Just 'abracadabra' it!\" It dawned on me that he truly thinks I pulled those race cars out of \n"
     ]
    },
    {
     "name": "stderr",
     "output_type": "stream",
     "text": [
      " 46%|████████████████████                        | 4561/10000 [4:35:20<5:45:43,  3.81s/it]"
     ]
    },
    {
     "name": "stdout",
     "output_type": "stream",
     "text": [
      "I am not good in the mornings. There are four kids who have to get away to different places. Usually my wife drops the boys to school. Often they walk. Friday I had to take the older boy to a medical thing, so my 10 y o son walked by himself. \"Can I go early Dad?!\" \"Yeah, sure!\"\n",
      "\n",
      "It is not like him to be so enthusiastic about getting to school early. I guess I'll never know why that was now.\n",
      "\n",
      "Took oldest son to his medical thing, then to school late, then me and the 4 y o hung around at home, me trying to work, him trying to get attention 24/7. Usual Friday routine.\n",
      "\n",
      "When it was the time I'd expect the boys back, Mr 10 ran into my room = \"Hi Dad!\", then immediately looked distressed and started crying.\n",
      "\n",
      "He went and cowered in his bedroom. I couldn't comfort him or get any sense out of him. he was very distraught.\n",
      "\n",
      "Then, Mr 12 came home. I took him aside to let him know something was up and to head off any teasing.\n",
      "\n",
      "Oh, Dad, I think that's because he went to school in his pajamas.\n",
      "\n",
      "And \n"
     ]
    },
    {
     "name": "stderr",
     "output_type": "stream",
     "text": [
      " 46%|████████████████████▎                       | 4617/10000 [4:39:01<6:52:00,  4.59s/it]"
     ]
    },
    {
     "name": "stdout",
     "output_type": "stream",
     "text": [
      "I was five years old when this happened. As a child I was very curious so one morning I saw my mom ironing in the living room and when she went to my brothers clothes she said \"Don't touch this it's really hot.\" \n",
      "She placed it not down but up straight the red hot tip facing me, and went to the couch to grab more clothes. \n",
      "\n",
      "Here's the fuck up. I'm thinking, it can't be THAT hot. I looked at my tiny index finger and touched the very tip of the iron. I immediately pulled back and screamed in pain. My mom turned looked at me and started yelling at me with a small grin on her face \"I JUST told you not to touch it!!\" she bandaged my finger and that was that. A few weeks later same situation. \"Don't touch the iron\" \n",
      "I got this bright idea..\n",
      "\n",
      "\"If it burned my finger it won't burn my lower lip right?\" I touched it with my lip and I cried for days. \n",
      "For the next week I had a triangular burn on my lower lip. \n",
      "\n",
      "TL;DR I touched a red hot iron not once but twice after being told it was really hot. \n"
     ]
    },
    {
     "name": "stderr",
     "output_type": "stream",
     "text": [
      " 46%|████████████████████▎                       | 4630/10000 [4:39:44<4:54:57,  3.30s/it]"
     ]
    },
    {
     "name": "stdout",
     "output_type": "stream",
     "text": [
      "(I live in CA; it has been unusually rainy here these past few days. This happened a few hours ago.)\n",
      "\n",
      "I have piano class every Tuesday evening. Nothing too out of the blue, it's in my family's routine. Today (I assume) my mom had to finish up some work since she wasn't home like she usually was to send me to class, and I thought, \"hey, no biggie, I'll just bike like I usually do.\" Except it's pouring. For some reason, my brain told me to bring an umbrella for the ride (because walking into piano class drenched is a horrible idea) so I maneuver out onto the road, one hand on umbrella, other on the bike handles. The thing is, I completely forgot that the wind exists and by the time I was on a decently big road the wind was blowing my umbrella in every direction possible and making it either impossible to see or impossible to steer without losing my umbrella or my life. So I'm wobbling down the bike lane, arms flailing helplessly, and then when I almost arrive (I can literally see the ins\n"
     ]
    },
    {
     "name": "stderr",
     "output_type": "stream",
     "text": [
      " 46%|████████████████████▍                       | 4639/10000 [4:40:11<4:27:15,  2.99s/it]"
     ]
    },
    {
     "name": "stdout",
     "output_type": "stream",
     "text": [
      "I was at a park with my friend near water and we were hiking around and taking pictures. My phone case has a slot on the back to hold my ID, so when I set it down on some rocks, gravity took charge and my phone and ID went skittering down to the rocks below. The worst feeling is knowing exactly where it was but being unable to reach it. Maybe I'll be able to kayak over to it someday, but for now I have to live without my smartphone. I feel stupid.\n",
      "\n",
      "This was taken seconds before http://imgur.com/hVzUqv5\n"
     ]
    },
    {
     "name": "stderr",
     "output_type": "stream",
     "text": [
      " 46%|████████████████████▍                       | 4649/10000 [4:40:43<5:21:38,  3.61s/it]"
     ]
    },
    {
     "name": "stdout",
     "output_type": "stream",
     "text": [
      "So I'm sitting with my aunt and cousins inside of a Starbucks, happily sipping my white chocolate mocha. A sweet looking elderly gentleman walks in, takes his place at the end of the short line, and begins surveying the menu. A confused look spreads across his face. \n",
      "I walk up to the napkin holder next to him and grab one. He turns to me and asks me if they sell ice cream. Except I heard ice. I happily nod, grinning, affirming that they do, in fact, have ice cream. I walk back to my seat thinking nothing of it. He gets to the front of the line and places his order: a small cup of vanilla ice cream. The cashier looks regretful and informs him that they don't sell ice cream, only coffee. Cue my heart dropping to the bottom of my stomach, realizing what I had done. The man turns to look at me, the saddest expression I have ever seen on his face. He turns around and walks to the exit, pausing for a moment to meet my gaze one last time. Looking dejected, he raises his hands in a \"what are y\n"
     ]
    },
    {
     "name": "stderr",
     "output_type": "stream",
     "text": [
      " 47%|████████████████████▍                       | 4658/10000 [4:41:13<4:29:22,  3.03s/it]"
     ]
    },
    {
     "name": "stdout",
     "output_type": "stream",
     "text": [
      "it happened over 20 years ago. I was an IT high school student & IT nerd. Got a part time job via agency. \n",
      "We were assigned to some companies to do manual but well paid jobs. I was assigned to local big bakery. It was winter season, snow outside, freezing etc.. \n",
      "\n",
      "Foreman doing task assignments was asking \"Does anyone of you know how to use computer?\" \"Me! Me! Me! I am doing computer school and so on\" was my answer. Expecting safe day in office with Prince of Persia. \n",
      "\n",
      "Turned out \"computer\" was not XT or classy 286 but massive steel machine from sixties used for counting and filling crates with rolls and buns. Just buttons, text was wear down by time. I had no idea what to do. The first button I pressed must be some emergency discharge as it ended up with about three thousands of buns on the floor and all around machine. I was immediately fired from bakery and agency canceled contract with me day after.\n",
      "\n",
      "\n",
      "tl/dr: word computer was used for different things back in time :)\n"
     ]
    },
    {
     "name": "stderr",
     "output_type": "stream",
     "text": [
      " 47%|████████████████████▌                       | 4669/10000 [4:41:43<4:41:34,  3.17s/it]"
     ]
    },
    {
     "name": "stdout",
     "output_type": "stream",
     "text": [
      "This happened several years ago after my friend and I decided to adopted the slogan \"What could possibly go wrong?\" for a week.  \n",
      "\n",
      "Our school had an \"Annual Cake Auction\" to raise money for a charity, and some of these cakes would go for between $100-1500.  It is almost all students and there is always a ton of cake so we thought it would be funny to ice a Cheerios box and submit it as a cake. \n",
      "\n",
      "Each cake had a name so we made ours the \"Chocolate Disappointment\" and the slogan was \"You'll be so disappointed when you finish this cake because it will all be gone\" or something like that.\n",
      "\n",
      "So they go through the cakes, a couple go for $1000 a few for $300 and everything in between.  Ours rolls around and the bidding starts.  Nobody bids at first, but then it begins....\n",
      "\n",
      "President of the school raises his hand and starts off at $100 and the Dean of Student Services raises him.  They go back and forth up to $600.\n",
      "\n",
      "The Dean ends up getting it and as he cuts into it and announces to his table \n"
     ]
    },
    {
     "name": "stderr",
     "output_type": "stream",
     "text": [
      " 47%|████████████████████▌                       | 4670/10000 [4:41:46<4:28:13,  3.02s/it]"
     ]
    },
    {
     "name": "stdout",
     "output_type": "stream",
     "text": [
      "So I've been staying at a hotel and don't have a computer, so I've been using a computer in the lobby. Being the bored person I am I start browsing reddit. I click on an AskReddit post and start browsing. I get bored so I attempt to click on a different tab, but instead I click the print button. This is Internet Explorer so of course they had a print button right under the tabs. I attempt to stop the print but I couldn't find a stop button, I ask someone who works at the hotel but together we couldn't fix it. So 50 pages of random reddit are printed and I'm left with a face of shame and a concierge looking at me like I'm retarded.\n"
     ]
    },
    {
     "name": "stderr",
     "output_type": "stream",
     "text": [
      " 47%|████████████████████▌                       | 4675/10000 [4:41:58<3:54:22,  2.64s/it]"
     ]
    },
    {
     "name": "stdout",
     "output_type": "stream",
     "text": [
      "Today, I was driving with my Mom and a few siblings and we had to stop and pick up gas. It was cold out, so no one really wanted to go get out to put the gas in. Of course, I volunteered bravely to go and pump the gas. I got out, and my mom gives me her credit card to pay for the gas. I go, and I insert the card into a slot on the gas pump. Weirdly, nothing happens. I try to take the card out, only to find it went way to far in to retrieve it again. \n",
      "\n",
      "It was at this point that I realized I didn't put it in the credit-card slot, but put it where the receipt comes out.\n",
      "\n",
      "When I found this out, everyone laughed, and we needed to get someone to open the slot and remove the credit card from the slot. I wasn't allowed to continue pumping the gas after that. And I don't think they'll ever let me down for that one.\n"
     ]
    },
    {
     "name": "stderr",
     "output_type": "stream",
     "text": [
      " 47%|████████████████████▋                       | 4691/10000 [4:44:16<6:58:16,  4.73s/it]"
     ]
    },
    {
     "name": "stdout",
     "output_type": "stream",
     "text": [
      "Happened a few years back. I was very under the weather with two children under age 3. When the youngest went down for a nap I decided I should try to as well. Got the 3 y.o. set up with some cartoons, sippy cup of water, crackers, blanket, and explained he could hang out on the couch watching tv for a bit while I laid down. Woke up half an hour later to find he was not on the couch where I left him. (All dangerous items were locked up or inaccessible, btw.) Found him playing cars and trucks on the living room floor but it smelled really off. \n",
      "\n",
      "Turned out he decided the fish we had would like to get out and play so he scooped them out one by one with the net leaving a big watery mess around the tank and proceeded to drive them around in his cars and trucks all over the carpet on a thrilling joy ride to their deaths leaving fish smell everywhere they went. \n"
     ]
    },
    {
     "name": "stderr",
     "output_type": "stream",
     "text": [
      " 47%|████████████████████▋                       | 4692/10000 [4:44:19<6:09:22,  4.18s/it]"
     ]
    },
    {
     "name": "stdout",
     "output_type": "stream",
     "text": [
      "Unlike most posts on here, this actually was today and I'm still traumatised by it. \n",
      "\n",
      "After 30 minutes of perfect driving around my test centre. The driving instructor asked me to go back to the test centre so he could discuss how my test went. I drove back in as calm a manner as I could, thinking 'don't mess this up, you're almost there'. \n",
      "\n",
      "As I reached the centre, I was asked to forward into one of the parking bays, about as easy a manoeuvre as ever, I obliged happily. My brain was going crazy, I actually might pass this first time, or so I thought. I straightened the car up and went forward into the bay that would mark the end of my test. However, a lack of concentration meant that I didn't come off my accelerator quickly enough and went onto bump into the barrier placed in front of me... After I secured the car, the instructor told me that I would have passed with only 6 minor faults had I not done that at the end. \n",
      "\n",
      "If you couldn't already tell, I failed. FML. Now I have to pay an\n"
     ]
    },
    {
     "name": "stderr",
     "output_type": "stream",
     "text": [
      " 48%|████████████████████▉                       | 4770/10000 [4:48:26<4:58:05,  3.42s/it]"
     ]
    },
    {
     "name": "stdout",
     "output_type": "stream",
     "text": [
      "My waiter at OrangeFly's couldn't believe the amount of food I ordered (I hadn't eaten all day, eyes were wide and stomach was willing) and came back saying somebody in the kitchen challenged him that I wouldn't eat it, and apparently he bet my waiter 10 bucks. I liked my waiter, but he was wrong, but I wanted him to win because he was nice, so I put the half of my avocado turkey club in a bunch of napkins and stuck it in my purse. I came home exhausted, dropped my purse on the couch, and subsequently passed out not thinking about the sandwich. My larger dog likes to lay on my clothing and anything that smells like me. Well apparently he did this to my purse, overnight. I woke up to my wallet, makeup bag, and RX covered in avocado and warm turkey slime. At least my waiter won 10 bucks.\n",
      "\n",
      "Bonus food baby: http://i.imgur.com/jWt3x2R.png\n"
     ]
    },
    {
     "name": "stderr",
     "output_type": "stream",
     "text": [
      " 48%|████████████████████▋                      | 4800/10000 [4:50:28<12:29:12,  8.64s/it]"
     ]
    },
    {
     "name": "stdout",
     "output_type": "stream",
     "text": [
      "Long story short.. I was hanging out with my buddy at a construction site in the city today. Him and his team were about to pour concrete down for a garage. \n",
      "\n",
      "I placed my coffee cup on the ground while I took a phone call. A few minutes later I come back to realize they had started pouring.\n",
      "\n",
      "It was too late. This will forever be in these people's garage now.\n",
      "\n",
      "http://imgur.com/n1cC8Tj\n",
      "\n",
      "Edit: Long story short, they ruined my coffee. \n"
     ]
    },
    {
     "name": "stderr",
     "output_type": "stream",
     "text": [
      " 48%|█████████████████████▏                      | 4825/10000 [4:52:18<5:52:36,  4.09s/it]"
     ]
    },
    {
     "name": "stdout",
     "output_type": "stream",
     "text": [
      "This happened a few years ago, and I honestly don't know why I never shared. \n",
      "\n",
      "Well, I had just gotten the top lobe of my left lung removed. It was early March, and my wife and I took our dogs to the dog beach. It was a beautiful San Diego day, but still pretty chilly. The water was extremely cold (I believe in the 50s or low 60s). \n",
      "\n",
      "As we were watching our dogs play (I couldn't move much at this point due to my surgery), I noticed a puppy in the water! It looked like a little chocolate lab. I got up as quickly as I could and ran/hobbled over to the edge of the water. I saw the puppy go under the water just as I reached the shoreline. I was terrified. I didn't see the owner around, as everyone else was paying attention to different dogs. As best I could, I ran into the water. The cold hit me like a icy brick. I couldn't breathe at all for what felt like forever. As I got to where the dog had been, I saw that he had been swept further from the shore. I trudged forward. \n",
      "\n",
      "I was about 30 \n"
     ]
    },
    {
     "name": "stderr",
     "output_type": "stream",
     "text": [
      " 48%|█████████████████████▎                      | 4834/10000 [4:52:49<5:09:59,  3.60s/it]"
     ]
    },
    {
     "name": "stdout",
     "output_type": "stream",
     "text": [
      "The teacher told me to write something I was talking about on the board, so I did. She was so surprised/upset/?? when I wrote on the Smart board that she didn't say a word. The only reason I knew is because the students were screaming at me to stop. Unfortunately, fading into the woodwork wasn't an option. \n",
      "\n",
      "I likely caused thousands of dollars in damages. Ugh. \n",
      "\n",
      "UPDATE: Finally, over a week later, the teacher sends me a thank-you note and I ask her about the Smart board. She said the dry erase marker came right off. \n"
     ]
    },
    {
     "name": "stderr",
     "output_type": "stream",
     "text": [
      " 49%|█████████████████████▍                      | 4868/10000 [4:54:31<4:21:18,  3.06s/it]"
     ]
    },
    {
     "name": "stdout",
     "output_type": "stream",
     "text": [
      "A family has contacted me to paint a portrait of their grandmother who is dying. Emails have been sent back and forth about how they want it done, what I'm going to charge, and I just sent one now with the last line being \"Do I have a deadline?\" As soon as I clicked \"send\" my stomach flipped. I've never wanted an email to come back more.\n",
      "\n",
      " I hope they don't take it the wrong way because it really was a normal question to ask. I just wish I had used a different word. \n",
      "\n",
      "Update to come later. I feel like an insensitive jerk.\n",
      "\n",
      "UPDATE: I sent her an email saying, \"After sending the previous email I hadn't realized my wording in the last sentence. It came across as being insensitive and I apologize.\"\n",
      "\n",
      "\n",
      "UPDATE2: thanks for all the kind responses. Now if only I could get a response from the woman I've been talking to. It would put my mind at ease!\n",
      "\n",
      "FINAL EDIT: Her response, \"Haha you're fine. It wasn't insensitive at all. No set deadline.\"\n",
      "THANKS EVERYONE, FALSE ALARM! :)\n"
     ]
    },
    {
     "name": "stderr",
     "output_type": "stream",
     "text": [
      " 49%|█████████████████████▌                      | 4895/10000 [4:56:42<5:02:46,  3.56s/it]"
     ]
    },
    {
     "name": "stdout",
     "output_type": "stream",
     "text": [
      "Recently, \"Missing Cat\" posters for a certain cat have been all over my neighborhood. I took a closer look at one the other day while walking my dog and memorized some of its features in case I were to run into it.\n",
      "Fast forward to this morning: I am leaving my house for work when I see a cat down the road. At first I don't even think about it, but then I realize this could be the missing cat! I throw my truck in park, hop out, and begin luring the cat over (rubbing fingers, tisk tisk tisk noise, etc.). I got the cat to come close enough and I snagged it by its neck scruff and put it in my truck. I then drove over to the nearest missing cat pole and found the contact info for the family. The father answered and he was ecstatic to hear the news, and I was quite proud of my work. I knew I was going to be late for work today, but this was worth it. 10 minutes later their car (as he described over the phone) pulls up to me and I wave it over. The father and two sons get out and thank me. As\n"
     ]
    },
    {
     "name": "stderr",
     "output_type": "stream",
     "text": [
      " 49%|█████████████████████▌                      | 4903/10000 [4:57:08<5:02:26,  3.56s/it]"
     ]
    },
    {
     "name": "stdout",
     "output_type": "stream",
     "text": [
      "This didn't happen today but not so long ago. I was in the process of moving and cleaning out my apartment. I thought I had everything until I remembered the shelf about the washer and dryer in the small laundry room. I went into the room and did that jump up thing so I could look and see if anything had been left there. Of course there was something. No idea how the hell it got it up there in the first place. But oh well, couldn't leave it behind. And it could have even been left by the previous tenant and held some sort of treasure. Whatever. \n",
      "\n",
      "I figure I will just climb on a chair and get it.....the only problem being I had already moved all of my chairs. So now what?... I decide the sensible thing to do would be climb up on the dryer and reach it. No danger in that. \n",
      "\n",
      "After a bit of struggling, I pull my 5'1\" self up on the dryer and stand up. I reach for the item and it is a box that is heavier than I was ready for. I lose my balance, drop the box (which held some Christmas decora\n"
     ]
    },
    {
     "name": "stderr",
     "output_type": "stream",
     "text": [
      " 49%|█████████████████████▌                      | 4905/10000 [4:57:16<5:11:49,  3.67s/it]"
     ]
    },
    {
     "name": "stdout",
     "output_type": "stream",
     "text": [
      "Not today, but within last 24 hours.\n",
      "\n",
      "Yesterday, I was heading to the store to get some food. I put my phone and wallet on top of my car to do a couple things before I left. I did what I needed to do and left. \n",
      "\n",
      "About 5 miles down the road a guy on a motorcycle pulls up next to me and tells me my phone is on top of my car. \"Oh shit, that's right.\", I think to myself. I pull off at a gas station and check. Phone? Yes. Wallet? No. I didn't really freak out at this point. I just drove back home looking on the road along the way.\n",
      "\n",
      "I didn't find it on the road and got back home and looked around my parking spot and the entire \"driveway\" area (I live at an apartment). Didn't find it there either. At this point I'm realizing I haven't paid any of this month's bills and have no food, so if I don't find my wallet, I'm completely fucked.\n",
      "\n",
      "I pull up to the road and get out and start looking in the grass. Not there, so I drive down the road a bit figuring it flew off when I started going a bit fas\n"
     ]
    },
    {
     "name": "stderr",
     "output_type": "stream",
     "text": [
      " 49%|█████████████████████▌                      | 4910/10000 [4:57:30<4:18:56,  3.05s/it]"
     ]
    },
    {
     "name": "stdout",
     "output_type": "stream",
     "text": [
      "Before the insanity of \"What kind of parent are you?\" floods my inbox, first I had been awake all of 10 minutes. My daughter comes running into the living room where I am counting change. In my sleep induced coma like state I ask her if she will go to the store and get me something to drink. If anyone else in the house had asked her she would have played coy and said no. But instead Daddy asked so she was more than happy to go. She got her shoes on, came back in and said \"I go to store now dada, need monies.\" Now I have to let her down gently and tell her she is not going to the store (15 blocks away) by herself\n",
      "\n",
      "EDIT: Dear daughter was thrilled to be able to go to the store, she just didn't end up going with me. She was beaming with pride when her and her mom walked out of the house. \"Don't worry dada, we get you a drink now.\"\n"
     ]
    },
    {
     "name": "stderr",
     "output_type": "stream",
     "text": [
      " 49%|█████████████████████▋                      | 4915/10000 [4:57:46<4:41:13,  3.32s/it]"
     ]
    },
    {
     "name": "stdout",
     "output_type": "stream",
     "text": [
      "This happened today do I win a prize?  I work at a café it is mostly mind numbing work so when it gets to the end of my 8 hour shift I am normally in autopilot. \n",
      "\n",
      "so i'm walking along tending tables and I see a woman holding hands with what I assume to be her child. Me being in autopilot ask if she would like a child seat for her kid which is when she then turns around in a split second with the most horrified look on her face as if I just set her house on fire, at this point I snapped out of autopilot, realising that something was up only then seeing what I have done, I look down and see the 'kid' is actually a adult man with dwarfism also with a horrified look. \n",
      "\n",
      "it turns out they are a couple that decided to go out for lunch. but I suppose that at least they got it for free in the end. \n",
      "I am currently waiting for a call back from my manager to see if I still have a job.\n",
      "TLDR; really? I called a guy suffering with dwarfism a kid and asked if he wanted a child seat. \n",
      "\n",
      "EDIT: just got o\n"
     ]
    },
    {
     "name": "stderr",
     "output_type": "stream",
     "text": [
      " 49%|█████████████████████▋                      | 4918/10000 [4:57:56<4:26:34,  3.15s/it]"
     ]
    },
    {
     "name": "stdout",
     "output_type": "stream",
     "text": [
      "I was coming off the train when I saw an old lady with a walker getting bumped into by people in rush to get to their buses. As I helped her down the street, we got into a good conversation. She lives in a neighborhood which is close to where I live. I take the route 21 where it stops right in front of my house and she took the 55, which is kind of the same way, except it has a couple of extra stops along the way. As both buses pulled in, I helped her onto hers and hopped onto my bus. As both buses rounded about, I noticed that the bus was a... different color compared to the ones used in the city. I really thought nothing of it at the time until it hit me. The bus I helped her on was a bus straight to the town 1.5 hours away. I made her take the transit to Airdrie instead of her neighborhood.\n",
      "TLDR; Helped an old lady on the wrong bus which led to a town 1.5 hours out of the city.\n"
     ]
    },
    {
     "name": "stderr",
     "output_type": "stream",
     "text": [
      " 49%|█████████████████████▊                      | 4946/10000 [4:59:28<4:38:02,  3.30s/it]"
     ]
    },
    {
     "name": "stdout",
     "output_type": "stream",
     "text": [
      "Quick background for non iPhone users: There is a feature where (when the phone is plugged in) you can say \"Hey Siri\" without touching the phone and she'll respond. \n",
      "\n",
      "Anyways, on to the story:\n",
      "Today in my thermodynamics class I plugged my phone in to charge. About ten minutes into lecture, my professor must have said something that, to Siri, sounded like \"Hey Siri\" followed by something she couldn't make sense of.\n",
      "So as my professor was explaining some things about enthalpy, Siri burst out with \"I'm sorry, I didn't quite understand that\". Loudly.\n",
      "The professor laughed and repeated himself to 'help my phone understand the concept'. Everyone laughed. \n",
      "My face is very red and that phone feature is now off forever.\n",
      "\n",
      "TL;DR: Siri doesn't understand thermodynamics and raised her hand in class. \n"
     ]
    },
    {
     "name": "stderr",
     "output_type": "stream",
     "text": [
      " 50%|█████████████████████▊                      | 4960/10000 [5:00:07<3:49:47,  2.74s/it]"
     ]
    },
    {
     "name": "stdout",
     "output_type": "stream",
     "text": [
      "This happened last night.\n",
      "\n",
      "My girlfriend and I are staying overnight at a hotel to go to Hershey Park in the morning. Both of us needed water because god knows why the air was so dry. So I got out of bed and told her I was gonna go look around for one of the vending machines to get water. I forgot I didn't have any single bills left and thought I'd be okay using my credit card.\n",
      "\n",
      "Here's where the fuck up started.\n",
      "I got to the vending machine (which was right around the corner from my room) and noticed there wasn't the conventional \"$1.00 and $5.00 bills accepted\" so I thought it'd be okay to use a $20 bill instead of my credit card I'd get dollar coins back, right?\n",
      "\n",
      "After I got my drink, I was tired so I had to look reaaaaal close to see that there were quarters coming out instead.\n",
      "\n",
      "Got $18.50 worth of quarters back from a vending machine. Instant regret. \n",
      "\n",
      "\n",
      "tldr; Used $20 on a vending machine thinking I was gonna get dollar coins, got $18.50 worth of quarters instead.\n"
     ]
    },
    {
     "name": "stderr",
     "output_type": "stream",
     "text": [
      " 50%|█████████████████████▊                      | 4970/10000 [5:01:11<7:06:47,  5.09s/it]"
     ]
    },
    {
     "name": "stdout",
     "output_type": "stream",
     "text": [
      "This was last night.\n",
      "A quick little backstory about these cats. My cat, Lego, is a ragdoll. Very chill breed, supposed to be kept in the house due to their curiosity of things (they would wander into traffic without knowing). So he hasn’t met any other cats, but is pretty fine with my full grown Vizsla.\n",
      "Penny, the other cat, is my friends cat. They took her in as a kitten, when she, along with a few other kittens, were found in a dumpster outside our work. So clearly Penny was born from a family-line of feral cats. She’s tough, and has even died before. But let me tell you, she is the sweetest little wild kitty. Always comes up to meet me when I’m around.\n",
      "\n",
      "Okay so you know these two cats are complete opposites. I wasn’t thinking about that before I innocently tried to meet them.\n",
      "My boyfriend lives in a refurbished barn behind this friend’s house. I’m planning on staying over for a few weeks, so I’m bringing Lego over. He’s used to living back and forth, so it’s no biggie.\n",
      "Before I pick\n"
     ]
    },
    {
     "name": "stderr",
     "output_type": "stream",
     "text": [
      " 50%|█████████████████████▉                      | 4989/10000 [5:02:11<4:17:51,  3.09s/it]"
     ]
    },
    {
     "name": "stdout",
     "output_type": "stream",
     "text": [
      "So i decided to go for a run this afternoon to expel some energy after playing playstation. My drive way is kinda steep and it had been raining this morning. anyways, as i jog down the driveway i twist my ankle and slide down the driveway in agony and have to be helped back inside back to the lounge.\n"
     ]
    },
    {
     "name": "stderr",
     "output_type": "stream",
     "text": [
      " 51%|██████████████████████▎                     | 5081/10000 [5:07:18<5:06:13,  3.74s/it]"
     ]
    },
    {
     "name": "stdout",
     "output_type": "stream",
     "text": [
      "I was doing my excercises and realised that there were no more cold carbonated drinks. I then put my carbonated drink in the freezer so I could have it cold after my excercises and promptly forgot about it. It's a canned carbonated drink and I live in Singapore \n",
      "\n",
      "The next day as I'm taking a break playing overwatch, I remember about the drink and take it out of the freezer. First thing I do is that I put my lips and tongue on it to get the ice off the metal. It was a bad idea and I was stuck to it for a Long time, and now my lips and tongue hurt \n",
      "\n",
      "As if that wasn't bad enough I just went back to my computer with my drink to continue playing overwatch. After a while of letting it defrost, I decided it open it \n",
      "\n",
      "It freaking exploded everywhere and onto my keyboard. I have to get a new keyboard now, and I had to clean up everything \n",
      "\n",
      "Today I learned that if you accidentally freeze a canned carbonated drink, don't drink it but instead give it to your Friends \n",
      "\n",
      "The drink in question is Ribe\n"
     ]
    },
    {
     "name": "stderr",
     "output_type": "stream",
     "text": [
      " 51%|██████████████████████▍                     | 5100/10000 [5:08:21<4:28:34,  3.29s/it]"
     ]
    },
    {
     "name": "stdout",
     "output_type": "stream",
     "text": [
      "So this didn't happen today, it happened last fall. I spent a Friday afternoon raking leaves around my yard. I bagged them all up and loaded them in my van to take to my work's dumpster. I was lazy and didn't take the bags there right away, so they sat in my van all weekend. Monday morning rolls around, and the increased temperature in the garage signaled to all of the spider eggs in the leaves to hatch, releasing thousands of tiny spiders all inside my van. For weeks afterwards I would have spiders crawling on me while driving, dropping down in front of my face and distracting me, it was awful. The only benefit of the spiders was that there were zero flies.   \n",
      "TLDR: Don't procrastinate, or you'll be plagued by spiders. \n"
     ]
    },
    {
     "name": "stderr",
     "output_type": "stream",
     "text": [
      " 51%|██████████████████████▌                     | 5118/10000 [5:09:18<4:27:50,  3.29s/it]"
     ]
    },
    {
     "name": "stdout",
     "output_type": "stream",
     "text": [
      "Since my brother is out of town , I had to take care of their kids, my nephew is 9 and my niece is 4 , I dropped  my nephew first at school, then I received a business call, I don’t know why but I drove to the preschool that my nephew had gone to, I just open the door for my niece, saw a teacher greeting the kids , told her to run to her, just wave her off and started driving...4 minutes into the drive , I received the angriest call from my sister in law ....thank god for lost cards I would have lost a kid \n"
     ]
    },
    {
     "name": "stderr",
     "output_type": "stream",
     "text": [
      " 52%|██████████████████████▋                     | 5154/10000 [5:11:13<4:25:42,  3.29s/it]"
     ]
    },
    {
     "name": "stdout",
     "output_type": "stream",
     "text": [
      "I'm a university student with three roommates who can be a little bit noisy at night time, so I sleep wearing noise-cancelling earmuffs. I live in a suite-style dorm, so while we share a kitchen and common area, I have my own single bedroom. I habitually lock my bedroom door at night time. \n",
      "\n",
      "Normally this poses absolutely no problem. However, I was feeling especially tired quite early last night (around 9:00pm), so I decided to go to bed early. Business as per usual, right? \n",
      "\n",
      "I woke up at 6:00 the next morning, feeling totally refreshed. \"Man, going to bed early was a great idea,\" I thought. I got up, ate breakfast, and then turned my phone on to check the news. It keeps vibrating for a solid 30 seconds as it receives Facebook messages and texts. Normally one or two messages is pretty standard, so I thought this was weird. I started to read them. I had texts from about a dozen different people, and a bunch of Facebook messages in a group chat.\n",
      "\n",
      "\"poorly_timed_puns, where are you?\"\n",
      "\n",
      "\"poo\n"
     ]
    },
    {
     "name": "stderr",
     "output_type": "stream",
     "text": [
      " 52%|██████████████████████▊                     | 5184/10000 [5:13:42<4:21:23,  3.26s/it]"
     ]
    },
    {
     "name": "stdout",
     "output_type": "stream",
     "text": [
      "So my university's parking building is under renovation work. It's getting free/taken spot indicators and free spot counters per floor installed. So I parked in the specific floor which was getting work done today and I came back to see the back window destroyed because something fell on it.\n",
      "\n",
      "The car is now on it's way to the dealer waiting for Nissan to import the new back window. Apparently it has to be manufactured somewhere because the car is 16 years old and they don't make it anymore.\n",
      "\n",
      "Edit: This is Colombia, so please keep in mind things are quite different here than in the United States.\n"
     ]
    },
    {
     "name": "stderr",
     "output_type": "stream",
     "text": [
      " 52%|██████████████████████▊                     | 5188/10000 [5:13:55<4:36:12,  3.44s/it]"
     ]
    },
    {
     "name": "stdout",
     "output_type": "stream",
     "text": [
      "My parents and I recently bought a house and I've been working on the basement to make it habitable. \n",
      "\n",
      "Anyways, yesterday I was sanding a wall in a small hallway in the basement when I stopped to check my phone. I leaned backwards to rest against the opposite wall and slid down a bit only to hear a snap and feel cold water splash against my back.\n",
      "\n",
      "I had bumped a pipe jutting out of the wall, where a sink used to be, and it broke. I panicked and tried to stick my finger into the pipe to stop the flow but my finger was too big. I rushed outside to shut off the main but by the time I managed to shut it off the basement accumulated about 3-4 inches of water and a stack of drywall got soaked.\n",
      "\n",
      "I later discovered there was a shut-off valve right above my head.\n",
      "\n",
      "TL;DR: I broke a pipe and flooded my basement.\n"
     ]
    },
    {
     "name": "stderr",
     "output_type": "stream",
     "text": [
      " 52%|███████████████████████                     | 5230/10000 [5:16:37<5:15:53,  3.97s/it]"
     ]
    },
    {
     "name": "stdout",
     "output_type": "stream",
     "text": [
      "So I'm tired and run down after an annoying week, which makes me a bit less observant than usual. I'm getting ready to call it a night, and walk into the bathroom to brush my teeth. \n",
      "\n",
      "There are two tubes on my sink. My regular toothpaste, and another thing that my sister got a while back.. Both tubes are upside down so all I can see is the text on the back, both of which are in small black writing, and they have an identical shape and cap. Without paying any attention to what I'm doing, I grab the closest tube. My brain for some reason didn't register the fact that there was another very similar tube near it. The one I picked up happened to be my sister's RASH CREAM. \n",
      "\n",
      "My mouth now tastes like Satan's ass.\n",
      "\n",
      "\n",
      "\n",
      "Edit: thanks to DerangedOctopus' suggestion to rinse and spit with hydrogen peroxide, 8hrs later the taste is finally fading.\n",
      "\n",
      "Edit 2: How the hell did this get 3rd most upvoted in the subreddit today? Was expecting a couple of laughs and a comment or two. Cheers!\n",
      "\n",
      "Edit 3: For tho\n"
     ]
    },
    {
     "name": "stderr",
     "output_type": "stream",
     "text": [
      " 52%|███████████████████████                     | 5243/10000 [5:17:16<4:15:52,  3.23s/it]"
     ]
    },
    {
     "name": "stdout",
     "output_type": "stream",
     "text": [
      "Okay so technically the FU occurred quite some time ago....\n",
      "I went to Target with my mom, who was dressed pretty generically, black coat, jeans, mom hair cut. I wandered off and went to  look at makeup, shampoo, hair brushes, typical girl things.  When I got to the section with hair brushes and combs, I came across a brush with thin, unnecessarily sharp bristles. Possibly for thick hair or medieval torture, both seem like valid reasons to me. I don't know why I was so fascinated with this hair brush but I decided that I had to show my mom.  So I went back to the food section because I saw...her, and coming up from behind her, I say \"I think you could probably  kill someone with this!\" And this elderly-ish woman turns around, (NOT MY MOM) and looks at me, completely mortified. Oops. So to make it worse, I decide to pretend that I was talking on some kind of hands free device. So I stood next to this really confused woman, having a full on conversation while staring at various brands of \n"
     ]
    },
    {
     "name": "stderr",
     "output_type": "stream",
     "text": [
      " 53%|███████████████████████▏                    | 5283/10000 [5:19:27<3:43:50,  2.85s/it]"
     ]
    },
    {
     "name": "stdout",
     "output_type": "stream",
     "text": [
      "I was horrifically reminded of this story by another TIFU post made recently. \n",
      "\n",
      "If you’re all familiar with Brussels, the cookies, they’re AMAZING. I usually finish a whole bag in one sitting during a Netflix binge. Well in this instance I had only eaten half the bag so I put it back in the cupboard and retrieved it a day later during a walking dead marathon.\n",
      "\n",
      "It’s about 1 in the morning and I have no lights on in my room. As I’m munching down on the cookies, I’m noticing that they don’t taste as good as I remember. I chalk it up to them being stale from the bag being opened so I don’t think anything of it. \n",
      "\n",
      "Down to the last cookie, and now I’m really concerned about why they taste sugar free, so I look down in the light of the TV and see...\n",
      "\n",
      "THE ENTIRE EVERYTHING COVERED IN ANTS.\n",
      "\n",
      "My hand, the bag, the cookies, my futon. Just hundreds of tiny ants.\n",
      "\n",
      "Even after noticing them on my hand, I could not feel them. I immediately ran to the kitchen and tossed the bag, and rinsed out my mouth\n"
     ]
    },
    {
     "name": "stderr",
     "output_type": "stream",
     "text": [
      " 53%|███████████████████████▎                    | 5306/10000 [5:20:35<4:02:46,  3.10s/it]"
     ]
    },
    {
     "name": "stdout",
     "output_type": "stream",
     "text": [
      "This happened to me last Monday, and I still feel terrible.\n",
      "\n",
      "My first year courses at university luckily landed me only one midterm, while my friends had multiple. Even better, this \"midterm\" was during week 10, so I had lots of time to ~~procrastinate~~ prepare.\n",
      "\n",
      "Fast forward to the night before the midterm, I stayed up really late to study and prepare a page of notes we were allowed to take with us (it was a computing course). Once I was done, I couldn't wait to collapse on my bed so I set my alarm on my phone for 10  real quick and did just that (my midterm was at 11:30).\n",
      "\n",
      "The next morning, or a couple hours earlier, I was woken up by voices of the janitors doing their daily cleaning. Groggily, I thought to myself, \"weird how they're so early today\" (they usually come around 11 am), and went to back to bed since my alarm didn't go off yet. This should have been a sign.\n",
      "\n",
      "A while later, I woke up again and felt my sleep had strangely been going on for too long, since I was only suppos\n"
     ]
    },
    {
     "name": "stderr",
     "output_type": "stream",
     "text": [
      " 53%|███████████████████████▍                    | 5327/10000 [5:22:02<4:21:38,  3.36s/it]"
     ]
    },
    {
     "name": "stdout",
     "output_type": "stream",
     "text": [
      "Obligatory, this was actually around 1996, but I thought it would be appreciated here.\n",
      "\n",
      "I was at a friend's house who had a swing set.  The swings were hung with thick twine type rope.  I swung back and forth some then decided to spin around counterclockwise.  Then clockwise.  Then counterclockwise.\n",
      "\n",
      "After some unknown number of iterations I stopped and realized that my long hair was quite tangled between the two ropes from which the swing swung.  No problem, I'll just untangle it...\n",
      "\n",
      "After some time trying to untangle it, I realize this just isn't going to happen.  My dad was on his way to pick me up when this began and by the time he arrived I was still tangled in the swing.  \n",
      "\n",
      "Cutting my hair off was one option, but it was tangled right up to the base of my scalp and I didn't feel like a new hairstyle that short.  So, my dad had to unhook the swing from the swing set.  I walked to the minivan carrying the swing still attached to my head.\n",
      "\n",
      "At this point I'm no longer amused, but my d\n"
     ]
    },
    {
     "name": "stderr",
     "output_type": "stream",
     "text": [
      " 53%|███████████████████████▍                    | 5334/10000 [5:22:24<4:22:31,  3.38s/it]"
     ]
    },
    {
     "name": "stdout",
     "output_type": "stream",
     "text": [
      "Original post: \n",
      "https://www.reddit.com/r/tifu/comments/3ysac8/tifu_by_losing_weight_and_going_sledding/\n",
      "\n",
      "Before I give you all the update, I want to say a few things...\n",
      "\n",
      "First, thanks to the individual who thought losing gold deserves some gold. I appreciate the sentiment!\n",
      "\n",
      "Second, I cant believe my misfortune made it to the front page. I thought it was cool, my non-redditor wife wasn't impressed when I showed her. Win some, lose some!\n",
      "\n",
      "Thirdly, I was very disappointed in the comments that mocked, or made fun of the fact that 30 pounds over 27 months. For some of us, it's a big accomplishment. Clearly, those commenters don't have any idea how hard it can be. It was not a shock that my ring was loose, and it was not an overnight thing, but the snow incident was the first time it had come off my hand with no help.\n",
      "\n",
      "Now to the main event you've all been waiting for!\n",
      "\n",
      "The wife and I brought the boys to the store to buy a metal detector. I was going (at the suggestion of some, and myself) t\n"
     ]
    },
    {
     "name": "stderr",
     "output_type": "stream",
     "text": [
      " 54%|███████████████████████▌                    | 5368/10000 [5:24:10<4:26:39,  3.45s/it]"
     ]
    },
    {
     "name": "stdout",
     "output_type": "stream",
     "text": [
      "My school encourages students to use tablets and laptops for class. We use OneNote during math class. For those unfamiliar with OneNote, it's basically a virtual notebook that allows you to copy and paste handwritten texts or drawings with ease.\n",
      "\n",
      "During class I asked our teacher if he could quickly switch the notebook to the one where everyone could write in because I wanted to show and ask him something. He was still answering my classmates' questions but he nodded to me in response. I proceeded to do my assignments while I waited for him. It turns out he misunderstood which notebook to open. He opened my personal class notebook. My math teacher called my name and asked. \"Is this what you want to show me? Is this what you've been doing in my class?\" \n",
      "\n",
      "Right there on the projector screen was a crudely drawn unicorn, a unicorn that I forgot I drew in the first week of class. A unicorn I named \"Pferd\", the german word for horse, because I was struggling to remember what unicorns were cal\n"
     ]
    },
    {
     "name": "stderr",
     "output_type": "stream",
     "text": [
      " 54%|███████████████████████▋                    | 5384/10000 [5:25:00<4:26:36,  3.47s/it]"
     ]
    },
    {
     "name": "stdout",
     "output_type": "stream",
     "text": [
      "Happened ten minutes ago, now I'm annoyed and still hungry.\n",
      "\n",
      "My breakfast usually includes yogurt, fruit, or whatever I can microwave, which is the extent of my cooking skills. As part of my New Years Resolutions, I wanted to try to cook more. Nothing exceptionally fancy, just enough to feed myself. I found a recipe online; on Reddit actually, so it's all your fault. \n",
      "\n",
      "The recipe involved preheating the oven to 425. Not a necessarily difficult thing, something I could do. Or so I thought.\n",
      "\n",
      "The button panel on the oven was already a bit wonky. The More and Less buttons to adjust the timer or heat need to be pushed in a specific spot to have them work, they've worn a bit from use. My mother and sister can do it no problem. Me and my father, not at all. I'm a generally smart person, but evidently button pushing is beyond me. My sister always told me, just push the button really hard and it'll go. So I did. And as I went to push the button, my apparent sausage fingers went through the damn\n"
     ]
    },
    {
     "name": "stderr",
     "output_type": "stream",
     "text": [
      " 54%|███████████████████████▊                    | 5425/10000 [5:27:14<4:10:19,  3.28s/it]"
     ]
    },
    {
     "name": "stdout",
     "output_type": "stream",
     "text": [
      "So over the past 5 or so weeks, I have been tearing down my rotting deck and shed in my backyard. We ended up pulling the deck down first and replacing it with stones and a wood frame. After we had finished up with that, we had the walls and roof of the shed sitting in a pile in the middle of the yard. \n",
      "\n",
      "So to continue with the building of the shed, we had to move the walls of the shed out into the bed of my father's pickup to bring it to the city dump. \n",
      "\n",
      "We had gotten the door and 3 walls of the shed into the bed no problem, however when it came to the final wall, which was laying on the ground, I walked across it to avoid stepping in the dog shit which litters my backyard in my new Sperry Top Siders(I know what your about to say, \"Why'd you wear top siders while working on a shed?\" Because I'm lazy and I didn't think I cared). \n",
      "\n",
      "Now, I had assumed that we had take the nails out of the wall, because that would be the safe thing to do to avoid stepping on it. \n",
      "\n",
      "As I walked across it, I\n"
     ]
    },
    {
     "name": "stderr",
     "output_type": "stream",
     "text": [
      " 54%|███████████████████████▊                    | 5426/10000 [5:27:18<4:29:20,  3.53s/it]"
     ]
    },
    {
     "name": "stdout",
     "output_type": "stream",
     "text": [
      "I'm a college student, and this year I moved into on-campus apartment housing instead of a dorm because of all the heating issues I had last year. It's a relatively small building, because we're a small college (this is important).\n",
      "\n",
      "So I've just gotten out of class, and I think, hey, I could pull an all-nighter and play (heavily-modded) Minecraft. It's a game I enjoy, and I don't have classes tomorrow, so why not? I ask my roommate if that's okay, and he gives me the go ahead. \n",
      "\n",
      "It's pretty hot in my room, and my roommate needs the window open to sleep, so I open the window to cool off the room. Then I boot up my laptop and start playing Minecraft. \n",
      "\n",
      "It's all going well, I get a lot of building done (I'm playing Sky Factory, so there's no world to start on other than a single dirt block, so there's a lot of building to do) and my alarm rings for breakfast. I get dressed, and head out to meet up with a friend. \n",
      "\n",
      "We eat, chat a little, and it's time to head back. We live in the same buil\n"
     ]
    },
    {
     "name": "stderr",
     "output_type": "stream",
     "text": [
      " 54%|███████████████████████▉                    | 5437/10000 [5:27:51<4:07:34,  3.26s/it]"
     ]
    },
    {
     "name": "stdout",
     "output_type": "stream",
     "text": [
      "So this just happened.\n",
      "\n",
      "I was in the kitchen helping my wife cook. I normally keep out during dinner prep because of exactly these sorts of screw-ups, but with both kids sick I figured she could use even a clumsy hand. Well, I pulled an egg out of the carton left-handed and it slipped right through my fingers. It landed neatly on the kitchen's air vent—which of course is in the floor, not the baseboard—and cracked right through the bars into the duct.\n",
      "\n",
      "I *think* I got most of it out, and I know the vent itself is cleaned, but I'm certain some raw egg ran down the curve of the ductwork where I can't reach it to clean it.\n",
      "\n",
      "This is gonna suck horribly in a few days.\n"
     ]
    },
    {
     "name": "stderr",
     "output_type": "stream",
     "text": [
      " 54%|███████████████████████▉                    | 5440/10000 [5:28:00<4:03:55,  3.21s/it]"
     ]
    },
    {
     "name": "stdout",
     "output_type": "stream",
     "text": [
      "This actually happened about 10 years ago, but my parents keep reminding me about it, so I figure it is worth a post.\n",
      "\n",
      "Back in 2002, I was taking a summer school class on sign language (I wear hearing aids). The class was offered at University of Wisconsin Milwukee and, for whatever reason, took place in a science classroom.\n",
      "\n",
      "In this classroom they had outlets for natural gas (to power a bunsen burner), but some genious decided that the knob to turn on the gas should be located on a sink and that it should be colored light blue. Right next to the faucets for the water.\n",
      "\n",
      "Well one day I needed to wash my hands, so I went to one of the sinks and turned the knob, but no water came out. So I left it as it was and went down the hall to the bathroom.\n",
      "\n",
      "Yup, it was the knob for the gas and it was wide open, having a hearing problem, I never heard the hiss of gas escaping. They evacuated the whole 8 story building and called the fire department.\n"
     ]
    },
    {
     "name": "stderr",
     "output_type": "stream",
     "text": [
      " 54%|███████████████████████▉                    | 5441/10000 [5:28:03<3:57:26,  3.12s/it]"
     ]
    },
    {
     "name": "stdout",
     "output_type": "stream",
     "text": [
      "This happened today, posting this for a family member. \n",
      "\n",
      "This series of unfortunate events started a few hours ago with me getting a call from my boss that his car had ran out of gas and to send a driver over to the gas station and fill up a can with enough gas to get him to the nearest station.\n",
      "\n",
      "I was at first surprised that he actually would even completely run out of gas but just went along and called a driver over to send him over to my boss. And that's that... except it wasn't. \n",
      "I decided I would send a text to my boss really quickly that there's a driver on the way. \" hey John, the driver is on his way but has to get gas first\" and quickly get a response \"make sure it's diesel thanks\" So I quickly call the driver on the way to the gas station to get diesel instead. \n",
      "\n",
      "\n",
      "So now this is where it gets interesting, the driver going to refuel my boss shows up and tells my boss \" I got your diesel!\" And my boss laughs and thanks him. A few minutes later I get a call from my boss that his\n"
     ]
    },
    {
     "name": "stderr",
     "output_type": "stream",
     "text": [
      " 54%|███████████████████████▉                    | 5443/10000 [5:28:09<4:00:37,  3.17s/it]"
     ]
    },
    {
     "name": "stdout",
     "output_type": "stream",
     "text": [
      "As is tradition, this TIFU comes from about 5 years ago at my buddy's wedding.\n",
      "\n",
      "***\n",
      "\n",
      "In case you haven't seen this particular episode of the office, when Phyllis, a saleswoman, is getting married, Michael, the boss, tries to shoehorn himself into everything. He was invited to the wedding party to help wheel her father down the aisle, and that's about all he was supposed to do. Instead, he tries to be \"the star\" of the wedding, and eventually shouts out to the congregation: \"**Ladies and gentlemen, may I present to you for the first time as a couple, Mr. and Mrs. Bob Vance!**\" before the priest is finished with his part. \n",
      "\n",
      "In classic \"the office\" style, it's embarrassing. \n",
      "\n",
      "***\n",
      "\n",
      "So my buddy was getting married - for the second time - to a great woman - much more his style, laid back, friendly, and she eventually became the mother of his first child. They're still doing great.\n",
      "\n",
      "He wanted me to be in the wedding band. Just me singing/playing trumpet and our other friend on his keyboard pl\n"
     ]
    },
    {
     "name": "stderr",
     "output_type": "stream",
     "text": [
      " 55%|████████████████████████                    | 5455/10000 [5:29:10<4:53:59,  3.88s/it]"
     ]
    },
    {
     "name": "stdout",
     "output_type": "stream",
     "text": [
      "My younger son is eight years old and autistic.  He's verbal, but a lot of what he says is totally mysterious to everyone else -- and he repeats these bizarre phrases a lot.  E.g., for months he has been bursting into tears and yelling, \"but then morning will come\" when we ask him to empty his bladder before bed.  He's unable to explain what that means.  So after a few efforts to understand, we've just learned to live with the mystery.  As with many, many other strange statements.\n",
      "\n",
      "Lately my son started crying about having rocks in his ears. I took a flashlight and looked in both his ears.  Couldn't see anything.  I asked him questions about the \"rocks,\" knowing the chances of a coherent answer were very small.  Sure enough, nada.  Within a couple of minutes he stopped crying and went off to play with his brother.  I was confused, but shrugged it off as yet another inexplicable episode with our darling but very odd son.\n",
      "\n",
      "For the next two weeks my son occasionally made offhand comments \n"
     ]
    },
    {
     "name": "stderr",
     "output_type": "stream",
     "text": [
      " 55%|████████████████████████                    | 5466/10000 [5:29:42<3:40:05,  2.91s/it]"
     ]
    },
    {
     "name": "stdout",
     "output_type": "stream",
     "text": [
      "Today in American History we had to do a report on famous black people for Black History Month. I chose Ray Charles. Being the idiot I am, I didn't realize what my first line meant. \n",
      "\n",
      "The first line was \"Ray Charles did not see much of his father\"\n"
     ]
    },
    {
     "name": "stderr",
     "output_type": "stream",
     "text": [
      " 55%|████████████████████████                    | 5470/10000 [5:29:55<3:51:24,  3.06s/it]"
     ]
    },
    {
     "name": "stdout",
     "output_type": "stream",
     "text": [
      "My friend was born with no arms and after many years of friendship I've become so used to it that I honestly forget sometimes. Luckily for me he laughed this instance off.\n",
      "\n",
      "He sneezed 3 times and I turned to him in disgust and asked him to kindly 'cover his mouth' next time..... \n",
      "\n",
      "He has no hands to do so with... It took him staring at me for a few moments till it sunk in and luckily for me he burst into laughter. Obviously I profusely apologised as I felt like a terrible human being.\n"
     ]
    },
    {
     "name": "stderr",
     "output_type": "stream",
     "text": [
      " 55%|████████████████████████▏                   | 5510/10000 [5:32:09<4:56:22,  3.96s/it]"
     ]
    },
    {
     "name": "stdout",
     "output_type": "stream",
     "text": [
      "I'll preface this by saying my girlfriend and I have three cats. Miso was a feral kitten, who I adopted from a shelter in 2011. Butters was adopted in 2013 from a SPCA worker whose cat had kittens. Dobby was adopted this summer.\n",
      "\n",
      "Butters has always been a special cat. Whenever the cats were causing trouble, Butters was usually the root cause. He's a troublemaker and an instigator. He digs stuff out of the trash constantly, and always tries to steal food. He's also not the brightest cat either. Once he ate a hair-tie and pooped it out. \n",
      "\n",
      "This weekend, I bought a $8.99 cat toy for them. It's one of those fishing rod toys with a toy mouse attachment at the end. Our cats go nuts for this toy. Butters was being especially enthusiastic. Whenever he grabbed the toy mouse with his paws, he would put it in his mouth, and when we tried to take it from him, his ears would flatten and he'd started growling. \n",
      "\n",
      "After a few minutes, we left the cats alone, and noticed Butters walking off with the toy\n"
     ]
    },
    {
     "name": "stderr",
     "output_type": "stream",
     "text": [
      " 55%|████████████████████████▎                   | 5517/10000 [5:32:33<4:43:18,  3.79s/it]"
     ]
    },
    {
     "name": "stdout",
     "output_type": "stream",
     "text": [
      "This actually happened 3 days ago. \n",
      "(Sorry for my bad English btw)\n",
      "\n",
      "So the story begins on late Tuesday evening. None of my friends are online, so I just browse though Some YouTube playlists. After listening to several versions of gangnam style, i get Taylor Swifts \"I knew you were trouble\" as the recommended video. Since I was still super pumped up from gangnam style, I thought it would be a nice idea to dance a little bit in my room. I was pulling all of my moves: The dab, whip, nea nea etc..\n",
      "As the song is about to end, I was ready to pull of the biggest whip of 2016. But sadly, my left knee wasn't ready. As I landed with my foot, I heard the worst snapping sound I could ever imagine. I dropped to the floor, screaming for my parents to drive me to the hospital. \n",
      "\n",
      "Fast forward to today, my kneecap jumped out and a part of my thigh broke of so that I had thigh bone fragments behind my kneecap. I hurts like hell and I won't be able to walk for the next 12 weeks.\n",
      "\n",
      "\n",
      "TL;DR: I KNEW YOU WER\n"
     ]
    },
    {
     "name": "stderr",
     "output_type": "stream",
     "text": [
      " 56%|████████████████████████▍                   | 5561/10000 [5:34:56<4:27:56,  3.62s/it]"
     ]
    },
    {
     "name": "stdout",
     "output_type": "stream",
     "text": [
      "Bit of a back story: we have a sump pump in our basement controlled by a Raspberry Pi. The sump pit is too narrow for a float switch to be used so this is a way to get my nerdy groove on and use the Pi that was collecting dust for the last 2 years. \n",
      "\n",
      "Saturday morning I was heading to the lake. Before I left I did my normal check on the sump pump as our water table has been fluctuating a lot and I have to manually adjust the code to start and stop the pump on a schedule. I noticed that the pump was running too long so I decide to change he it. Usually I would log in with my computer but since I was on the way out I log into the Pi with my phone to change the code so it turns on for a shorter period of time. Then I go to the lake. \n",
      "\n",
      "I get back to the house this evening and the basement has about 2 inches of water sitting it it near the pit, the basement slopes like a shallow bowl so the water was only spread out about 25 feet or so but a few walls got damaged and some random things I lef\n"
     ]
    },
    {
     "name": "stderr",
     "output_type": "stream",
     "text": [
      " 56%|████████████████████████▌                   | 5571/10000 [5:35:41<4:46:39,  3.88s/it]"
     ]
    },
    {
     "name": "stdout",
     "output_type": "stream",
     "text": [
      "This story happened a couple years ago but it still makes me laugh/cringe. I delivered pizza while in college and would often deliver pizza to a nursing home nearby. On this occasion I had just finished my delivery to a caregiver on duty and was heading out the door. An elderly man in a wheelchair asked me to get the door for him. He seemed competent and do I want to be the guy who refuses to open the door for an old man in a wheelchair? I know people are thinking obviously you should know he has dementia but he was well spoken and in my mind perhaps he was mentally competent and just needed extra care?\n",
      "\n",
      "I panicked and opened the door for him and he wheeled out as fast as he could. When he crossed the threshold of the door, a sensor made the alarms go off and I helplessly watched as he wheeled off down the street with nurses chasing after him. I got severely scolded by a nurse who told me, \"you never let them out!\" Obvious, but I did. I helped a man with dementia break out of his priso\n"
     ]
    },
    {
     "name": "stderr",
     "output_type": "stream",
     "text": [
      " 56%|████████████████████████                   | 5595/10000 [5:38:26<15:55:33, 13.02s/it]"
     ]
    },
    {
     "name": "stdout",
     "output_type": "stream",
     "text": [
      "Alright so this didn't really happen today, but when I was around 13 so a while ago now. I'm not entirely sure what made me think of this again but here I am at 3am. \n",
      "\n",
      "I was at the local shopping mall with my brother and my mum. My brother and I had made the recent discovery of 'fake snow', sold in toy shops it was a strange dry powder that when added to water would multiply and turn into a weird texture. It was fun to play with - I swear. \n",
      "\n",
      "I was pretty hyped about my new packet and was opening it up in the mall and decided I needed to know what this smelt like. Of course in my young brain I did not make the connection of the moisture in my nose and the snow reacting to it. 10 minutes later, I'm running around in search of my mum and I kid you not, fake snow was pouring out of BOTH my nostrils at a very alarming speed. I genuinely thought I was going to die. \n",
      "\n",
      "I found mum, at first she laughed til she saw the actual fear in my eyes at which point she took me to the ER. It was so fucki\n"
     ]
    },
    {
     "name": "stderr",
     "output_type": "stream",
     "text": [
      " 56%|████████████████████████▋                   | 5618/10000 [5:39:36<3:11:25,  2.62s/it]"
     ]
    },
    {
     "name": "stdout",
     "output_type": "stream",
     "text": [
      "Several years ago, I worked at my parents' restaurant. I did whatever job they needed done but mainly delivered. \n",
      "\n",
      "We had a few novelty items to help attract customers and one was a four foot long sub. \n",
      "\n",
      "We were kinda broke so making a big sale meant a lot. Well, after advertising like crazy, we finally received an order for TWO four foot subs!\n",
      "\n",
      "My dad was ecstatic, as was I, and told me not to mess this up. I got the address, he gave me directions, and off I went, grinning ear to ear.\n",
      "\n",
      "I pull the sandwiches out from the back of our minivan we used for deliveries and onto these mini-stretcher type things we designed for carrying the massive subs.\n",
      "\n",
      "Unknown to me at the time, I was about to step into some funeral type thing (still havent really attended one of those myself).\n",
      "\n",
      "I burst in all excited and shout:\n",
      "\n",
      "\"Are you ready for some FOOD?!?\"\n",
      "\n",
      "The room was completely silent and there was no response. All eyes were on me so I decided to do what I had seen others do in a similar situation:\n"
     ]
    },
    {
     "name": "stderr",
     "output_type": "stream",
     "text": [
      " 57%|████████████████████████▉                   | 5667/10000 [5:42:14<3:38:48,  3.03s/it]"
     ]
    },
    {
     "name": "stdout",
     "output_type": "stream",
     "text": [
      "today i threw my gum on the ground in the parking lot of a general store.\n",
      "\n",
      "i went in, bought two bags of Combos and left. \n",
      "\n",
      "before getting in my car i noticed my foot was stuck to the ground. my first thought was \"What idiot threw his gum on the ground?!\"\n",
      "\n",
      "I immediately realized i was that idiot.\n",
      "\n",
      "TL;DR: Shiggy Diggy, Gum is Sticky.\n"
     ]
    },
    {
     "name": "stderr",
     "output_type": "stream",
     "text": [
      " 57%|████████████████████████▉                   | 5672/10000 [5:42:30<3:34:00,  2.97s/it]"
     ]
    },
    {
     "name": "stdout",
     "output_type": "stream",
     "text": [
      "So this weekend my girlfriend found an awesome deal on amazon that she wanted to get me (a really sweet watch.)  Anyway she was going to order it and I told her to use my amazon account so she could get free 2-day shipping (great deal right? WRONG.)  Well she uses my amazon to order it and I get an e-mail to my phone a minute later saying .... watch has been ordered.  SO I ruined my own Christmas.  And to add to it she looked at my order history to make sure it went through and saw all her presents. \n",
      "\n",
      "Edit: I know Christmas isn't all about presents.  She is meeting my entire family this year and I can't wait.  I am just really bad at surprises and was proud of myself for keeping her presents a surprise for once.\n",
      "\n",
      "Tldr; I single handedly ruined Christmas by letting my girl use my Prime membership.\n",
      "\n",
      "\n"
     ]
    },
    {
     "name": "stderr",
     "output_type": "stream",
     "text": [
      " 57%|████████████████████████▉                   | 5673/10000 [5:42:32<3:28:10,  2.89s/it]"
     ]
    },
    {
     "name": "stdout",
     "output_type": "stream",
     "text": [
      "This TIFU happened three weeks ago. About 20 years ago, mum’s internet provider offered her a free email address, which she has been using ever since. However, her internet provider has recently been bought by a larger company, who have decided to shut down the email server at the end of next month. Mum is not a very tech savvy person, so this has completely thrown her off.\n",
      "\n",
      "She asked me for help setting up her new email address. I set her up with gmail, and created an automatic reply from her old email directing people to the new one. I even set everything up to work in Windows Live Mail, which she used previously, so that there are as few changes for her as possible. I left rather pleased with myself for a job well done.\n",
      "\n",
      "The next time I checked my own emails I was greeted by an unpleasant surprise. Almost 400 emails from mum, each telling me that she has changed her email address. Instead of setting up the automatic reply to respond to new incoming emails, I had set it to reply to e\n"
     ]
    },
    {
     "name": "stderr",
     "output_type": "stream",
     "text": [
      " 57%|█████████████████████████                   | 5702/10000 [5:44:00<3:46:29,  3.16s/it]"
     ]
    },
    {
     "name": "stdout",
     "output_type": "stream",
     "text": [
      "A couple weeks ago i was joking with my friends about how it would be easy to get trapped in the trash room at the end of our hall. There is no handle on the inside so if the door closed you couldn't open it. Sure enough, i took the trash out and the door closed behind me. I also didn't have my phone with me. I started banging on the door, but nobody was in the hall to hear me. I figured somebody would walk by eventually so i just sat down and waited. Twenty minutes passed and nobody showed up. I decided to try again to escape. I eventually figured out i could use my key to leverage and turn the handle from the inside. Man did that make me feel stupid.\n"
     ]
    },
    {
     "name": "stderr",
     "output_type": "stream",
     "text": [
      " 57%|█████████████████████████▏                  | 5723/10000 [5:45:05<3:21:59,  2.83s/it]"
     ]
    },
    {
     "name": "stdout",
     "output_type": "stream",
     "text": [
      "Today, I drove 30 minutes to the coffee shop where I was to interview for a small summer camp instructor position at 10:15am. I'm that person who's late even when I leave early, so I left over an hour before I needed to be there. I got there early enough to find parking, pay for it, do my makeup in my car, reread the company's website, and psych myself up. \n",
      "\n",
      "At 10:05 I turned my phone off, went inside, ordered a coffee, and waited. And waited. And waited. By 10:20, I started to fear I'd missed some instruction to meet them a specific place IN the shop. Or maybe they were testing me, challenging me to venture to find them to prove my worthiness.\n",
      "\n",
      "I asked the barista if he'd seen [interviewers' names]. (I figured he'd know them since the summer camp is held in that coffee shop.) He helped me look for them for several minutes, checking the workshop downstairs, nearby parking, etc. We couldn't find them anywhere.\n",
      "\n",
      "My stomach dropped. No... It couldn't be... I turned my phone back on to che\n"
     ]
    },
    {
     "name": "stderr",
     "output_type": "stream",
     "text": [
      " 57%|█████████████████████████▏                  | 5735/10000 [5:45:44<3:36:46,  3.05s/it]"
     ]
    },
    {
     "name": "stdout",
     "output_type": "stream",
     "text": [
      "A store near my house has a donation box for clothes and shoes type things for the Special Olympics. I threw a bag of clothes into the back of my car and drove over there. After I tossed the clothes in a saw a blanket sort of wadded up in my trunk and decided to throw that in too.\n",
      "\n",
      "After I got home mom informed me she laid that blanket out in the back of my car to transport a goat to the fair. Afterwards she wadded it up and threw it in the trunk to deal with later.\n",
      "\n",
      "I hope they don't think someone did that on purpose to be an asshole.\n"
     ]
    },
    {
     "name": "stderr",
     "output_type": "stream",
     "text": [
      " 57%|█████████████████████████▎                  | 5745/10000 [5:46:13<3:35:58,  3.05s/it]"
     ]
    },
    {
     "name": "stdout",
     "output_type": "stream",
     "text": [
      "This happened over a year ago, but I still remember it pretty clearly. \n",
      "I was making garlic bread, and didn't check the timer. I thought I had put it in for 20 seconds...I put it in for 20 *minutes.* 5 minutes later, I go and check on it, smoke has entirely filled the microwave, dark black smoke, and it's billowing put the side. I grab an oven mitt and run outside and I leave the bread on the porch. It looked like a lotus pod, and it was all black and nasty too. Fast forward a couple of hours and 2.5 cans of febreze, the house is smelling almost normal, when I see a balloon. I'm thinking, \"well I'm already mad I'll take it out on this balloon\". I super kick the balloon, and...I miss. I super kick the ground toe first, and fracture my right big toe. I ended up getting several balloons from my girlfriend on my birthday with a note saying \"do not kick the balloons\"\n",
      "TLDR: I burnt garlic bread, nearly burnt the house down, and broke my toe kicking a balloon. Got ridicule for a couple months\n"
     ]
    },
    {
     "name": "stderr",
     "output_type": "stream",
     "text": [
      " 58%|████████████████████████▊                  | 5770/10000 [5:48:10<13:44:29, 11.69s/it]"
     ]
    },
    {
     "name": "stdout",
     "output_type": "stream",
     "text": [
      "Today I was looking for a computer charger and ordered it from the random website which came up in google search. Moments later, I started to realise something was wrong as the name of the seller was in Chinese, emails about my order came from a few different email addresses and the site had some terrible reviews. \n",
      "\n",
      "Oops. I should really know better, I am usually the \"computer person\" of the family. I blame very early morning, I must still be sleepy.... But, really, there is absolutely no excuse, I ***should*** know better. \n",
      "\n",
      "Oh well, at least it was only ~20£ and I paid by Paypal so when my order very likely doesn't turn up I can get my money back. ><\n"
     ]
    },
    {
     "name": "stderr",
     "output_type": "stream",
     "text": [
      " 58%|█████████████████████████▌                  | 5807/10000 [5:49:59<3:05:31,  2.65s/it]"
     ]
    },
    {
     "name": "stdout",
     "output_type": "stream",
     "text": [
      "So the other morning I wake up because someone is knocking at the door.  Assuming that I've forgotten about early morning plans, I jump out of bed, race down the stairs, hulk smash the floor on my way down apparently not realising that I had reached the bottom of the staircase, lose my balance and baseball slide the rest of the way to the front porch only to see that not only is no one at my door, but I've also scared the everliving crap out of my entire family at 3:30 in the morning because of a dream.  Thanks, subconscious.\n"
     ]
    },
    {
     "name": "stderr",
     "output_type": "stream",
     "text": [
      " 58%|█████████████████████████▌                  | 5813/10000 [5:50:17<3:35:56,  3.09s/it]"
     ]
    },
    {
     "name": "stdout",
     "output_type": "stream",
     "text": [
      "Hey guys, this occurred approximately 3 hours ago.\n",
      "\n",
      "It was an average day for me. I finished up at work at 6pm and began my drive home through the country side. As I was passing a few houses with large properties, I noticed a cat scurry out into the road right in front of me. I was going about 45 miles an hour and decided I was going to be a hero. Now I have, of course, been told to not put your own life at risk to avoid animals in the road but I could not bring myself to run it over. The cat runs from the right to the left so I swerve to left to try to avoid it. While on the side of the road, I notice a power line right in front of me. I tried to pull to the right in time but I was not quick enough. The left side of my car collided with the power line, which sent me across the street into a fence. I totaled my car but the cat survived. Amazingly, I am relatively unharmed. I few burns and cuts but I am ok. Neighbors ran out immediately to my aid which I was very thankful for. I talked \n"
     ]
    },
    {
     "name": "stderr",
     "output_type": "stream",
     "text": [
      " 59%|█████████████████████████▊                  | 5853/10000 [5:52:12<3:49:56,  3.33s/it]"
     ]
    },
    {
     "name": "stdout",
     "output_type": "stream",
     "text": [
      "Summer of 2002.\n",
      "\n",
      "My brother and I were outside tending the fire pit.\n",
      "My Dad was taking apart old furniture and taking nails out of the boards to burn.\n",
      "He left a board with a nail on the grass and warned us where it was and to leave it alone.\n",
      "As soon he headed to the bathroom I walk towards the board and stare at it. I pressed on the nail to bend it with my shoe.\n",
      "The nail goes right throughout my shoe and into my foot.\n",
      "I very calmly sit on the patio chair and pull out the the nail (that was still attached to the board).\n",
      "I don't remember much after this. My brother claimed I said \"Yup. I'm bleeding. I'll be right back.\"\n",
      "I then walked inside the house limping and said \"My foot is bleeding because I stepped on the board with the nail.\"\n",
      "My moms screaming and panicking while my brother is laughing and my dad is shaking his head.\n",
      "My only question was \"When was my last tetanus shot?\"\n",
      "I went to the hospital and all was fine. I was up to date on all my shots. Just had to lay off my foot for a we\n"
     ]
    },
    {
     "name": "stderr",
     "output_type": "stream",
     "text": [
      " 59%|█████████████████████████▊                  | 5870/10000 [5:53:06<3:41:42,  3.22s/it]"
     ]
    },
    {
     "name": "stdout",
     "output_type": "stream",
     "text": [
      "This just happened about an hour ago, basically my whole life people have asked me how to pronounce my name \" Is it Bre- ANNA, or Bre-AH-NA\" I always tell them it doesn't matter, They can use whatever pronunciation they like. \n",
      "\n",
      "Truth is I have no idea myself my mom calls me both, and I've always been afraid to ask her how to really say it. I like the fact I don't know, because I like both ways of saying it. Well, today I had a job interview, like everyone she asks me how to pronounce my name. \n",
      "\n",
      "I smile and tell her \"anyway you like!\"\n",
      "\n",
      "\"No-no. I need to know how to say your name.\"\n",
      "\n",
      "\"Uh, honestly I don't know.\"\n",
      "\n",
      "\"What do you mean you don't know?\"\n",
      "At this point she looks annoyed and I say never cared to find out. She must of thought I was being sarcastic because the whole rest of the interview she had a stone cold bitch look on her face. I know I should have just said my name one way or the other but I didn't realize it was a big deal...Needless to say I didn't get the job.\n",
      "\n"
     ]
    },
    {
     "name": "stderr",
     "output_type": "stream",
     "text": [
      " 59%|█████████████████████████▉                  | 5886/10000 [5:53:54<3:52:36,  3.39s/it]"
     ]
    },
    {
     "name": "stdout",
     "output_type": "stream",
     "text": [
      "I work for an amusement park in games, and occasionally we have customers (we call them guests) come through who have mental disabilities.\n",
      "\n",
      "Well, today I was running a game involving shooting a tower of cups with a wiffle ball off of a modified BB gun.  One of said guests comes up and wants to play.\n",
      "\n",
      "After he spends about 25 bucks on the game (10 balls, about) I start feeling bad for him.\n",
      "\n",
      "At this point I should note that although none of the games we operate are inherently \"rigged\", we (the employees) know ways to make the game easier or harder.  \n",
      "\n",
      "I decided to make the game a little easier by pushing the bottom cups together and placing the top cup a little farther behind the bottom two.  He wins on the next ball.\n",
      "\n",
      "About 5 minutes after he leaves with his prize, I get a call on the game phone from my manager.  Turns out the camera operator had seen me make the game easier and told her.  I got a step and am a few points closer to getting fired.\n",
      "\n",
      "Funnily enough, the prizes for that gam\n"
     ]
    },
    {
     "name": "stderr",
     "output_type": "stream",
     "text": [
      " 59%|█████████████████████████▉                  | 5892/10000 [5:54:15<3:57:58,  3.48s/it]"
     ]
    },
    {
     "name": "stdout",
     "output_type": "stream",
     "text": [
      "This happened several years ago, but the lesson I learned is still ingrained in my mind. \n",
      "\n",
      "I was roughly 13 years old at the time, and staying at my grandmother's house for a few days. Her house is a log cabin from a couple hundred years ago with a few rooms built onto it during the 60s, originally intended to be a small vacation home for her family's camping trips rather than a year round home. As a result, animals (mice, snakes, etc.) and lots of spiders and insects end up inside. \n",
      "\n",
      "I love Nutella. Unsuspecting and wanting a snack, I went to the pantry, opened the jar and scooped out a decent spoonful. Put the jar away, took a bite of about half the spoonful... and then wondered why there were bits of something crunchy in what should have been a smooth bite of chocolatey heaven.\n",
      "\n",
      "It was full of ants. There had to be at least a hundred ants in that jar and a few dozens now in my mouth. I spent the next 15 minutes spitting, swishing, picking bits of ant out of my teeth over the next fe\n"
     ]
    },
    {
     "name": "stderr",
     "output_type": "stream",
     "text": [
      " 59%|█████████████████████████▉                  | 5902/10000 [5:54:44<3:35:22,  3.15s/it]"
     ]
    },
    {
     "name": "stdout",
     "output_type": "stream",
     "text": [
      "Unlike most TIFUs, this literally just happened and I feel like the biggest idiot ever. Throwaway because I don't want people to know my real account. \n",
      "\n",
      "So anyways, I was in my car and I was backing out of my friend's driveway. I'm out on the street, and as I'm putting the car into drive, that's when I see it. \n",
      "\n",
      "It's a massive bee sitting on my lap. I'm absolutely terrified of bugs. So what does my idiot self decide to do? Yup, you guessed it, jump out of the damn car, while screaming like a little girl. \n",
      "\n",
      "My car was still in drive, and my buddy in the passenger seat is freaking the hell out. I watched, frozen in shock, as my car runs into a tree and finally stops. \n",
      "\n",
      "On the bright side, the only damage was the front bumper and the driver's side door, which is dented and stuck open. \n",
      "\n",
      "I'm such an idiot, how the hell am I still alive. \n",
      "\n",
      "Tldr crashed my car bc of an absolutely massive bee.\n"
     ]
    },
    {
     "name": "stderr",
     "output_type": "stream",
     "text": [
      " 59%|█████████████████████████▉                  | 5903/10000 [5:54:47<3:25:52,  3.02s/it]"
     ]
    },
    {
     "name": "stdout",
     "output_type": "stream",
     "text": [
      "Hello friendos!  We appreciate you and the fact that you're taking the time to read this.  We just wanted to let you all know about a change in policy here at /r/TIFU.\n",
      "\n",
      "But first, here's a pig in a bath!  http://i.imgur.com/DN9cd73.gifv\n",
      "\n",
      "Recently, it feels like Reddit, America, and even the world as a whole has taken a turn for the negative.  As moderators of /r/tifu, we feel as though we have some responsibility in this trend.  With the rise in popularity in subreddits like /r/wholesomememes, we have noticed that positivity on the internet is possible, and not only do we want to be a part of that, we want to be at the forefront.\n",
      "\n",
      "Here are two bunnies in cups!  http://i.imgur.com/hhyDZA8.gifv\n",
      "\n",
      "This is why, moving forward, there will be no negativity allowed on this subreddit.  We're aligning ourselves with the [wholesome network](https://www.reddit.com/user/awkwardtheturtle/m/wholesome/).  There will be no cursing allowed, and we're even changing the name of this subreddit to \"Today I \n"
     ]
    },
    {
     "name": "stderr",
     "output_type": "stream",
     "text": [
      " 59%|██████████████████████████                  | 5910/10000 [5:55:06<3:10:01,  2.79s/it]"
     ]
    },
    {
     "name": "stdout",
     "output_type": "stream",
     "text": [
      "Let me start out with a little bit of context. I'm originally from the Panhandle of Florida and have never seen more than a few inches of snow in my entire life. I moved to Boston in August with my girlfriend. I stayed with my old job - but they don't have an office up here, so I've been working from home.\n",
      "\n",
      "As anyone from Boston (or the NE, in general, can attest), it gets cold. Super cold. Colder than I've ever felt in my entire life. So I figured it was kind of normal that I was super cold when sitting at my desk all day long.\n",
      "\n",
      "At first I tried to bear it, just said \"I'll get used to it.\" But as the weeks went by, I started wearing slippers, then a puffer jacket, then a beanie, and finally I busted out some handwarmers. It's at this point that I just become miserable. Stupid New England. Stupid weather. Stupid girlfriend making me move up here. Why would anyone do this to himself?\n",
      "\n",
      "I swore up and down that there must be a draft. There's no way being this cold inside is normal. But ev\n"
     ]
    },
    {
     "name": "stderr",
     "output_type": "stream",
     "text": [
      " 59%|██████████████████████████                  | 5915/10000 [5:55:21<3:18:26,  2.91s/it]"
     ]
    },
    {
     "name": "stdout",
     "output_type": "stream",
     "text": [
      "This happened earlier today, this morning at church to be exact. So I'm 17 and a junior in high school. That's why this happened...\n",
      "\n",
      "So I was sitting in Sunday school. The Jr. High pastor is leading both Jr. and Sr. High today. I like him, he's a good guy. He likes to joke around sometimes. Anyways, we're going through this lesson on salvation. We come across the topic of love. So he asks the question, \"What is love?\" Some people are trying to explain it then there's people like my step-brother saying, \"Baby don't hurt me.\" Me, being the guy I am, want to make a joke too. So, I blurt out, \"Shrek is love. Shrek is life.\" The entire room goes silent. People are looking at me like, what the hell? I just kinda look across the room at my step-brother for support and he's facepalming like there's no tomorrow. There was one kid in the whole room laughing. He was that awkward kid that sits in the corner and doesn't talk ever. The pastor just stared at me and went on like nothing happened.\n",
      "\n",
      "Lat\n"
     ]
    },
    {
     "name": "stderr",
     "output_type": "stream",
     "text": [
      " 60%|██████████████████████████▏                 | 5963/10000 [5:57:39<3:19:10,  2.96s/it]"
     ]
    },
    {
     "name": "stdout",
     "output_type": "stream",
     "text": [
      "So it was bath time and I was washing her hair.  She was sucking on a flannel. So as I tip her back to rinse her hair, the cup of water in my hand inadvertently tips over her face, and suddenly I'm in Homeland and I'm freaking out at the tiny human spluttering for air. I'm so sorry tiny baby!!! I'm sure you're not a terrorist!!!!\n"
     ]
    },
    {
     "name": "stderr",
     "output_type": "stream",
     "text": [
      " 60%|██████████████████████████▍                 | 5999/10000 [5:59:20<3:22:39,  3.04s/it]"
     ]
    },
    {
     "name": "stdout",
     "output_type": "stream",
     "text": [
      "I just started as a project manager for an information security vendor. I'm on a call with VPs, SVPs and Directors of our client.  \n",
      "  \n",
      "My role is to explain what we're doing to non technical people. So I'm on a bunch of hour long calls where I might talk for five minutes.  \n",
      "  \n",
      "My cat, Donut, walks into my home office and trills for attention. He's missing his collar, a likely casualty of a skirmish with Fishy, the other 3 year old cat.  \n",
      "  \n",
      "me:\"Donut, where's your collar?\"  \n",
      "  \n",
      "Donut:\"\"  \n",
      "  \n",
      "me:\"Donut, you know it's not a symbol of slavery or domination. It's to make sure if you ever get lost outside, someone can bring you back to your life of luxury...\"  \n",
      "  \n",
      "Donut:\"\"  \n",
      "  \n",
      "me, rubbing Donut's belly:\"Who's a fat little Donut? Who's a fat little Donut Cat... Yes you are...\"  \n",
      "  \n",
      "SVP in charge of Compliance:\"Who is that talking?\"  \n",
      "  \n",
      "me:\"Uhh, Sorry. I thought I was muted...\"  \n",
      "  \n",
      "I haven't received any meeting invites to talk to HR yet, but I'm sure I'm going to pay for this.\n"
     ]
    },
    {
     "name": "stderr",
     "output_type": "stream",
     "text": [
      " 60%|██████████████████████████▌                 | 6032/10000 [6:00:59<3:24:40,  3.09s/it]"
     ]
    },
    {
     "name": "stdout",
     "output_type": "stream",
     "text": [
      "Some information on me: I am the daughter of an important teacher in my school so I don't like playing truant in fear of getting in trouble with my Mum, who's rather strict. I love school and I love studying so I'm a bit of a nerd I guess.\n",
      "\n",
      "Anyway this happened today. It's Thursday, so it's our longest school day, until 3 pm. We were supposed to get out at 2 pm as my English teacher ditched us, but my classmates got the 'wonderful' idea of leaving at 1pm without telling anyone. So they decide that the EVERYONE must skip so we won't get in trouble if anyone remains behind (??? what sort of logic is that).\n",
      "\n",
      "I bluntly refuse. Last time I skipped my classes my Mum grounded me for a month and I don't want to repeat it as weekend is approaching and I want to hang out. My classmates get angry. One of them has the audacity to call me selfish and telling me to 'take it for the team' and leave with everyone else at 1 pm. I stand my ground. I can hear them insulting me.\n",
      "\n",
      "It's 1 pm. Everyone leave\n"
     ]
    },
    {
     "name": "stderr",
     "output_type": "stream",
     "text": [
      " 61%|██████████████████████████▉                 | 6110/10000 [6:04:58<3:03:18,  2.83s/it]"
     ]
    },
    {
     "name": "stdout",
     "output_type": "stream",
     "text": [
      "This happened to me about 30 minutes ago. For about 2 years, I have had a $100 gift card to Del Friscos, a fairly nice steakhouse. I had never really found an opportunity to use it.  Today, I decided I was gonna go there and treat myself to an all out fancy dinner.\n",
      "\n",
      "To set the scene, it was raining extremely hard. I park my car, and see a sign that says 'Del Frisco this way'. I'm going to blame my lack of observation skills on the rain and me wanting to get out of it. I walk down the path and through the first door on my right. I proceed to have an extravagant dinner, trying four different cocktails, ordering appetizers, and a $25 entree. I even ordered dessert which I never do, but why not.\n",
      "\n",
      "Anyway, the check comes, and I hand over the gift card. The bartender looks at me and says 'umm, Del Friscos is next door', and a subtle smile comes over his face as he realizes the mistake I had made. I try to remain calm and tell him I'm not sure how that happened. I pay with my card and get the\n"
     ]
    },
    {
     "name": "stderr",
     "output_type": "stream",
     "text": [
      " 61%|██████████████████████████▉                 | 6131/10000 [6:06:26<3:31:21,  3.28s/it]"
     ]
    },
    {
     "name": "stdout",
     "output_type": "stream",
     "text": [
      "This actually happened about 10 minutes ago and I am still laughing about it. I work in tech sales and often give customers demos of our product over WebEx. Usually I send them the link to our meeting a few minutes prior so they know where to find it. \n",
      "\n",
      "\n",
      "Last night, I was watching stupid videos on r/videos and came across [this one.](https://www.youtube.com/watch?v=4ZY8qdCQovU). It nearly had me in tears I was laughing so hard.\n",
      "\n",
      "\n",
      "So this morning I come into work and I decide to share my new favorite video with a few friends. I copied the link and sent it to them over facebook. Then, I realized my meeting was happening shortly, so I went into webex and got the link for that meeting to send to the customer in an email. Only I guess I didn't copy it right, because I sent them the link to the yodeling video instead. I didn't realize until 10 minutes later when they did not show up to the meeting. Then I checked the email thread and realized I had linked to the yodeling video. \n",
      "\n",
      "\n",
      "The custom\n"
     ]
    },
    {
     "name": "stderr",
     "output_type": "stream",
     "text": [
      " 61%|███████████████████████████                 | 6137/10000 [6:06:45<3:31:09,  3.28s/it]"
     ]
    },
    {
     "name": "stdout",
     "output_type": "stream",
     "text": [
      "I was walking to work today when I noticed a convoy of shiny black escalade limousines with two on either side of what looked like an important vehicle of some kind. I noticed a small green and yellow flag flying from the back window of the front car which from a distance looked strikingly similar to the Brazilian flag. 'It must be the Brazilian president' I thought. I was so excited for some reason, I had no time to question what the president of Brazil was doing here in my small Canadian city. All I had time to do was start smiling in awe like a dummy and bring out my phone to take a photo of the President’s convoy as they drove past. I held up my phone to take a picture, and as the convoy approached it came to my attention that the green and yellow flag was in fact not the Brazilian flag, but one that had ‘Funeral’ written on it. Before I realized that the middle car was a hearse, I noticed the person in the back seat of one of the cars staring blankly at my smiling face. I tried po\n"
     ]
    },
    {
     "name": "stderr",
     "output_type": "stream",
     "text": [
      " 61%|███████████████████████████                 | 6145/10000 [6:07:08<3:14:45,  3.03s/it]"
     ]
    },
    {
     "name": "stdout",
     "output_type": "stream",
     "text": [
      "So, this actually happened a few weeks ago. \n",
      "\n",
      "I'm an actress, and I was in a play. It was week four of doing six shows a week, and between that and high school I was starting to get tired. \n",
      "\n",
      "I got home at 11:30 one day, and just wanted to take off all my stage make up, trudge through some calc homework, and go to bed. I was out of make up remover wipes, but whatever, I could just use the liquid stuff. I found a bottle that said \"remover\", drenched a cotton ball with it, and stuck it in my eye...\n",
      "\n",
      "....and promptly started screaming, because I had mistakenly just put nail polish remover in my eye. \n",
      "\n",
      "One emergency eye doctors appointment and two months later, my vision still feels a tiny bit blurrier in that eye than the other. Yay. \n"
     ]
    },
    {
     "name": "stderr",
     "output_type": "stream",
     "text": [
      " 61%|███████████████████████████                 | 6148/10000 [6:07:17<3:12:29,  3.00s/it]"
     ]
    },
    {
     "name": "stdout",
     "output_type": "stream",
     "text": [
      "My family and I are travelling to Europe for the first time together. We planned to spend 3 days in Switzerland and then take a 3.5 hour Rail Europe train over to Italy. \n",
      "\n",
      "Being the extremely cautious and organized woman she is, my mom gave me the tickets twice and said, \"I'm seeing right that the train leaves at 14:35 which is 2:35 p.m. right???\" to which I confirmed. We were looking at the right hand side of the ticket that is just a time with no description - it turned out that this is the expected arrival at destination time. The departure time was on the left-hand side, also unlabelled, and was 11:09 a.m (we did not notice this time at all). \n",
      "\n",
      "We also arranged a rent-a-car in Italy through Expedia that had to be picked up before 4 p.m., and called yesterday to change the pickup to the following day because we found out the wouldn't make it if our train departs at 14:35. \n",
      "\n",
      "Once again being overly cautious, my family arrived at the station three hours ahead at 11:15 a.m. We stood in\n"
     ]
    },
    {
     "name": "stderr",
     "output_type": "stream",
     "text": [
      " 62%|███████████████████████████                 | 6156/10000 [6:07:40<3:10:42,  2.98s/it]"
     ]
    },
    {
     "name": "stdout",
     "output_type": "stream",
     "text": [
      "TIFU by trying to save a bumblebee with a bottle cap full of sugar water. \n",
      "\n",
      "I found this thumbnail sized bumble bee in my house just hanging out on a framed picture. He was so still that I thought at first he was either dead or stuck to a spider web. I lightly blew on him and he started buzzing, seemingly annoyed but he still didn't move or fly away. I thought to myself, *This poor little guy must be tired or thirsty, he has no energy.* I promptly googled this to see if there was anything I could do for him.\n",
      "\n",
      "After a little bit of research I concluded that the best way to help the little guy would be to get a bottle cap with water, add a little sugar and put it next to him to drink. Then it dawned on me, *Well when he finally comes around it wouldn't make much sense for him to be in the house, I might as well see if I can transport him somewhere outside so when he regains his energy he can simply fly off into the sunset.*  I poked him with a paper towel, he grabbed on, buzzed angrily a\n"
     ]
    },
    {
     "name": "stderr",
     "output_type": "stream",
     "text": [
      " 62%|███████████████████████████▏                | 6165/10000 [6:08:06<3:15:36,  3.06s/it]"
     ]
    },
    {
     "name": "stdout",
     "output_type": "stream",
     "text": [
      "This happened a few weeks ago.  My roof was leaking so decided  to replace all the shingles on days when it wasn't raining.  I have this gigantic blue tarp I've been covering the leaking and unfinished areas with and the day before it was to rain again I was putting the tarp up.  As it happened it was pretty windy that day and the tarp blew over on itself and was sliding off the roof.  The damn tarp is super awkward to get up on the roof so in my haste to prevent it from falling, I walked out onto it to grab the loose corner.  I got about half way down the slope of the roof and stopped, only to realize I hadn't stopped, the entire section of tarp was moving slowly off the roof still, with me on it.  \n",
      "\n",
      "This was a huge tarp, there was no way to go up without putting myself in a bad falling position and sideways wouldn't have helped much either as the fall would have been worse.  So I stood there, knees bent facing forward waiting to slide off.   \n",
      "\n",
      "An eternity later I slid off the roof in\n"
     ]
    },
    {
     "name": "stderr",
     "output_type": "stream",
     "text": [
      " 62%|███████████████████████████▏                | 6166/10000 [6:08:10<3:47:52,  3.57s/it]"
     ]
    },
    {
     "name": "stdout",
     "output_type": "stream",
     "text": [
      "This is probably the stupidest thing I think I have ever done. At least I feel like it.\n",
      "\n",
      "A little background, I had a great weekend which didn't include a lot of sleep, so that is a factor. I also drive a standard (stick), which will also come into play.\n",
      "\n",
      "Anyways, going into work this morning and stopping at 7-11 for a coffee. The grade of the parking lot is maybe 1%, probably less heading back into the road. Pull up in front of the store, grab a coffee and a clif bar as I skipped breakfast for the sake of sleep. Got up to the counter, made my purchase, and turn to head out side. I notice my car going backward, about halfway through the parking lot now. First thing I think is \"someone is seriously stealing my car right now\", but wait, there's no one in the driver seat. As I'm running out to grab my car it dawns on me that I failed to get the car in gear to stop it from rolling. And yes, no e-brake was on either.\n",
      "\n",
      "The situation on the road was blocked cars waiting for the light to turn \n"
     ]
    },
    {
     "name": "stderr",
     "output_type": "stream",
     "text": [
      " 62%|███████████████████████████▏                | 6167/10000 [6:08:14<3:46:46,  3.55s/it]"
     ]
    },
    {
     "name": "stdout",
     "output_type": "stream",
     "text": [
      "(This was two years ago, but this is a copy/paste of a same-day email to my family.)\n",
      "\n",
      "Walking out of my university, I saw a car in the parking lot with its lights left on. I crouched and examined the light to make sure it wasn't just the sun reflecting. Then I walked around the car to see the model so I could tell the school so they could inform the owner their lights were on (the school sends emails like that).\n",
      "\n",
      "After looking at the model and considering memorizing the license plate, I figured it would be easier to just take a picture with my phone, so I did. Then I thought it would be easier for the owner to recognize the front than the back, so I walked around and took a picture of the front.\n",
      "\n",
      "I spent in total probably 2 or so minutes probing around the car, then went on my way.\n",
      "\n",
      "But as I walked away, the car turned on and drove off.\n",
      "\n",
      "*Oh man,* I thought, *they must have been on their way back to their car, and may have seen me from across the parking lot taking pictures!* The thoug\n"
     ]
    },
    {
     "name": "stderr",
     "output_type": "stream",
     "text": [
      " 62%|███████████████████████████▎                | 6214/10000 [6:10:34<2:58:10,  2.82s/it]"
     ]
    },
    {
     "name": "stdout",
     "output_type": "stream",
     "text": [
      "I bought a tub of banana flavoured greek yogurt from a brand I haven't had before. I realized that it didn't have much flavour and immediately wasn't a fan, but decided I would just finish it and buy the old brand next time. I got to the bottom and discovered a thick yellow layer and I just assumed that it was bad yogurt - turns out it was the flavouring :(\n"
     ]
    },
    {
     "name": "stderr",
     "output_type": "stream",
     "text": [
      " 62%|███████████████████████████▍                | 6223/10000 [6:10:59<2:57:09,  2.81s/it]"
     ]
    },
    {
     "name": "stdout",
     "output_type": "stream",
     "text": [
      "This happened a few hours ago, but not today. If only I was faster at typing.\n",
      " I've had a thing for the Modular Building LEGO series since the Grand Emporium, or however it's spelt, which came out 6~ years ago. I've been meaning to get two more. Combined, they cost a little over 300 US. So, I go through the checkout process, do all the things, and the page doesn't respond. No \"you have just spent a large amount of money\" email from LEGO. I wait a few minutes, and try again. Still doesn't work. Nothing on the page, no email, nothing. Do I do one more time. Still doesn't work. As I start to try a fourth time, my phone rings. It's the bank, wondering why I've spent a grand in less than 20 minutes on three separate purchases on LEGO.com. I just put through an order of 6 LEGO sets, with only two different sets. This is not good. I ask the bank if they can cancel two of the orders' payments. They can't. I sent a message to LEGO support, and have yet to get a reply. This all could have been a\n"
     ]
    },
    {
     "name": "stderr",
     "output_type": "stream",
     "text": [
      " 63%|███████████████████████████▌                | 6251/10000 [6:12:23<2:41:31,  2.59s/it]"
     ]
    },
    {
     "name": "stdout",
     "output_type": "stream",
     "text": [
      "You know, up until this morning I never really gave the saying a thought at all. I new what it meant, don't invest everything you have into one thing basically. But I never really thought of where the saying came from. It's an apt saying when you accidentally knock over an entire Costco sized carton of eggs. The shear devastation on my kitchen floor this morning is proof. \n",
      "\n",
      "I had taken out 3 eggs from the  30 egg carton to make some scramble with some Churrizo but the carton behind me on the counter was slightly in the edge. Turned around and my hip hits the corner of the carton and it starts to fall off the edge. I panic and throw my my hands up to try to catch it but only managed to hit the carton hard enough to eject a few eggs in a different direction to ensure a messier outcome. And the rest of the eggs almost in slow motion tumble to the ground and create what I can only describe as a sea of broken eggs on the floor. \n",
      "\n",
      "Honestly at that point I just started laughing. This has neve\n"
     ]
    },
    {
     "name": "stderr",
     "output_type": "stream",
     "text": [
      " 63%|███████████████████████████▋                | 6282/10000 [6:13:48<2:48:18,  2.72s/it]"
     ]
    },
    {
     "name": "stdout",
     "output_type": "stream",
     "text": [
      "I was in class really early for the first lesson in this semester for philosophy and was just browsing on the web for some students stuff. \n",
      "The class started at 8:30 and at that time, the teacher was not there yet. So i took a look on our university page and saw that it was missed today and will start next week. So i said it out loud, that the teacher won't come today. Most of the students left and i was packing my things, until the professor came in and said \"ok lets start the english lesson\".\n",
      "Meaning i was in the wrong class and made almost every one else leave :D\n"
     ]
    },
    {
     "name": "stderr",
     "output_type": "stream",
     "text": [
      " 63%|███████████████████████████▋                | 6294/10000 [6:14:23<2:52:21,  2.79s/it]"
     ]
    },
    {
     "name": "stdout",
     "output_type": "stream",
     "text": [
      "There isn't much of a story to this. This picture should explain everything. http://imgur.com/KFd4AZL\n",
      "\n",
      "This is at a house I'm trying to fix up. \n",
      "Basically I was sure taking the holder out turned the ice maker off. So most of the drawers were taken out of the fridge while I was cleaning it and left that way for three months. The above picture explains the aftermath. I broke it out with a hammer and shoveled it into a bucket. In total I think it was about 40 gallons worth of ice. \n"
     ]
    },
    {
     "name": "stderr",
     "output_type": "stream",
     "text": [
      " 63%|███████████████████████████▋                | 6301/10000 [6:14:43<2:41:51,  2.63s/it]"
     ]
    },
    {
     "name": "stdout",
     "output_type": "stream",
     "text": [
      "Per usual, this did not happen today but this past Sunday. Sunday was the Oklahoma City Memorial Marathon, which my wife was running in. My son had finished the kid's run so I decided that I should take both my son and daughter over to watch my wife finish the marathon. \n",
      "\n",
      "We started out behind movable barricades with the other spectators but as time moved on people were going beyond the barricades and standing on the edge of the course. It finally got to a point that we couldn't see down the road any more so I made the decision to take the kids onto the course to wait for my wife. \n",
      "\n",
      "Eventually, my wife came running along and the kids were so excited to see her they took off running after her. I began to chase after them but my wife took their hands so I figured they were good. Now at this point I didn't turn around because I thought I could get off the course down the way. Well, it turns out the barricades were bound together the closer you got to the finish line. \n",
      "\n",
      "So here I am in a g\n"
     ]
    },
    {
     "name": "stderr",
     "output_type": "stream",
     "text": [
      " 64%|████████████████████████████▏               | 6410/10000 [6:21:37<4:42:11,  4.72s/it]"
     ]
    },
    {
     "name": "stdout",
     "output_type": "stream",
     "text": [
      "I am posting from my phone so sorry if it isn't formatted very well. \n",
      "\n",
      "Also this happened yesterday but the ramifications were today. \n",
      "\n",
      "I am currently taking a mini-break by staying in the family home in the countryside. In one of my many hours of boredom I decide to go sit in the conservatory, upon entering I notice my cactus from when I was younger looking a little pale. \n",
      "\n",
      "Now it probably hasn't been watered in years so I thought to myself that it is probably dead, my own fault really. But how does one test to see if a cactus is dead or not? Well obviously the only way to do so is to flick it as hard as you can. And so in a moment of pure idiocy I flicked the cactus only to be greeted by a sharp pain in my finger. \n",
      "\n",
      "Upon closer inspection I noticed a black splinter embedded in my nail. The cactus spine had gone though my nail and into my finger. Shit. Now it didn't hurt that much but I was still worried about it. So I tried to remove it using my trusty Swiss Army knife and soaking my\n"
     ]
    },
    {
     "name": "stderr",
     "output_type": "stream",
     "text": [
      " 64%|████████████████████████████▎               | 6431/10000 [6:22:39<3:10:12,  3.20s/it]"
     ]
    },
    {
     "name": "stdout",
     "output_type": "stream",
     "text": [
      "So today began my search for a new job to follow my years University placement. I'd applied to a few local shops for part time work and got a call back from a WHSmith in an airport inviting me to an interview. I cleared the time off with my placement manager and emailed the guy saying I'd be there at 4pm\n",
      "\n",
      "Do my research, get suited and booted and drive out to the airport that the store is in, even arriving extra early to avoid rush hour traffic. I walks up to the till full of confidence and ask the cashier if I can speak to Stephen the manager as I've an interview with him. I'm met with a worrying blank stare, she calls over someone else who proceeds to inform me that the manager I had the interview with worked in a store almost 40 miles away in another Airport.... \n",
      "\n",
      "Tl;dr always read the job description or else your interview might be in another Castle! (or in my case airport) \n"
     ]
    },
    {
     "name": "stderr",
     "output_type": "stream",
     "text": [
      " 64%|████████████████████████████▍               | 6450/10000 [6:24:00<3:08:55,  3.19s/it]"
     ]
    },
    {
     "name": "stdout",
     "output_type": "stream",
     "text": [
      "I'm helping my Mom move out of her house. There was an air conditioner window unit in her office on the second floor, looking out over the driveway. I am the muscle in the family, so I offered to take the a/c downstairs. Well, the window wouldn't open, so I pried at it for several, minutes before it flew open. The big, anvil-weight a/c unit luckily didn't fall forward and smash my feet. It fell the opposite direction, and was caught, fully intact, by my sister's not so intact car roof.\n",
      "It seems she will be taking the bus for the next few weeks.\n"
     ]
    },
    {
     "name": "stderr",
     "output_type": "stream",
     "text": [
      " 65%|████████████████████████████▌               | 6483/10000 [6:25:30<2:51:05,  2.92s/it]"
     ]
    },
    {
     "name": "stdout",
     "output_type": "stream",
     "text": [
      "My dad owns a Massey-Ferguson tractor which he uses for all sorts of odd jobs for people in our small community.\n",
      "And he was hired to bring his tractor and trailer over to, let's say Bill's to haul garbage out of Bill's lawn to the dump. Bill and my dad work together at the Public Works shop. \n",
      "\n",
      "This morning I drove the tractor over, pulling the trailer like I was asked, And parked along Bill's drive way. Giving myself room to pull forward and turn around if needed, or back up and turn around. \n",
      "\n",
      "And right in front of my dad, Bill, Bill's wife, and my brother.. I put the tractor in reverse, and went to back up towards his shed.. But I forgot it was in High-Range, not low range and I backed up so fast, and so sudden that i broke the hitch. \n",
      "\n",
      "And instead of hauling garbage and making monies. My dad had to spend a few hours hauling around his welder in his truck to come fix the hitch.. :( \n"
     ]
    },
    {
     "name": "stderr",
     "output_type": "stream",
     "text": [
      " 65%|████████████████████████████▋               | 6508/10000 [6:26:59<3:08:35,  3.24s/it]"
     ]
    },
    {
     "name": "stdout",
     "output_type": "stream",
     "text": [
      "About three days ago I was in a Facebook group chat with a couple of friends, when one of them changed the chat's colors to purple.  I commented, \"I'm not a big fan of pink\" and changed the chat's colors to pink.  My friends assumed I was just being annoying and we went on with our day.  \n",
      "Today, the chat's colors were changed back to purple, so I half-jokingly said, \"what was that for? I said I don't like pink!\" One of the people in the chat told me to stop being a pain in the ass, and I was completely clueless as to what I had done wrong.  After about 15 minutes of us going back and forth over whether purple was pink and pink was purple or purple was purple and pink was pink, I googled \"pink\" to settle the argument (which I assumed was just my friend making fun of me). To my surprise, I discovered that Google's version of pink was the color purple, and Google's version of purple was pink.  Because of a random Facebook group chat, it came to my attention that for my **whole** life, I h\n"
     ]
    },
    {
     "name": "stderr",
     "output_type": "stream",
     "text": [
      " 65%|████████████████████████████▊               | 6545/10000 [6:29:07<2:44:54,  2.86s/it]"
     ]
    },
    {
     "name": "stdout",
     "output_type": "stream",
     "text": [
      "A customer came into work one morning. I asked him how he was, and he said, \"Good! My son is turning two today.\"\n",
      "\n",
      "It was very early, and I hadn't had my coffee. Less than an hour ago, I'd heard on the radio that the sun was out for the second day in a row after a week of rain, but more rain was expected tomorrow. So my interpretation of his comment was, \"The sun is turning two today.\"\n",
      "\n",
      "I said, \"Yeah, but it's going to die tomorrow.\"\n",
      "\n",
      "He stared at me blankly for a moment, then said, *\"I said my son is turning two today.\"*\n",
      "\n",
      "I realized there was no rational explanation for the words that had come out of my mouth, so I said, \"Sorry, I heard you wrong.\"\n",
      "\n",
      "He went away with the most WTF look in the history of Earth. Another customer in line said, \"I think we need to get you a hearing aid.\"\n",
      "\n",
      "On that day, I learned never to say a word to another human being until I've had my coffee.\n"
     ]
    },
    {
     "name": "stderr",
     "output_type": "stream",
     "text": [
      " 66%|████████████████████████████▊               | 6553/10000 [6:29:30<2:55:17,  3.05s/it]"
     ]
    },
    {
     "name": "stdout",
     "output_type": "stream",
     "text": [
      "This morning I brought my dad's car to a mechanic for the mandatory vehicle inspection.\n",
      "\n",
      "All goes well, I'm about to pay and leave when the cashier asks me for my e-mail address to get a reminder for the next one, to which I answer \"The car's not mine, so no thank you\".\n",
      "\n",
      "The guy waiting behind me decides to be funny and ask if the car's stolen, the awkwardness in me comes out and I just smile and shrug.\n",
      "\n",
      "30 minutes later I'm at home and who's at the door? The cops! The funny guy really thought I stole the car and called them! Why would a car thief take the car for an inspection? I had to spend 10 minutes explaining the whole situation to the cops and show them the receipt from the mechanic to get them to leave.\n",
      "\n",
      "TLDR: awkwardly played along with a joke, got a visit from the cops as a reward.\n"
     ]
    },
    {
     "name": "stderr",
     "output_type": "stream",
     "text": [
      " 66%|████████████████████████████▊               | 6555/10000 [6:29:37<3:08:54,  3.29s/it]"
     ]
    },
    {
     "name": "stdout",
     "output_type": "stream",
     "text": [
      "I was on the escalator at the metro station and I opened my wallet to put my fare card away. In the process, I managed to drop a quarter that I had neglected to put in the zippered pocket. I didn't think it was a big deal, and I certainly wasn't going to risk falling or shredding my fingers trying to pick it up, but then I got to the bottom and there was just a faint clink as the escalator stopped moving. My bad...\n",
      "\n",
      "TL;DR: Accidentally took out an escalator in a crowded metro station with a single coin.\n"
     ]
    },
    {
     "name": "stderr",
     "output_type": "stream",
     "text": [
      " 66%|█████████████████████████████               | 6594/10000 [6:31:31<3:00:16,  3.18s/it]"
     ]
    },
    {
     "name": "stdout",
     "output_type": "stream",
     "text": [
      "So, this happened about an hour ago, and I can tell no one irl about this, but I needed to tell someone. I'm in Europe for an exchange, and the family I'm staying with is fantastic. We get along great. They also have three cats (two awesome and one who's like if Satan and Hitler inhabited a cat, but that's another subject.) One of the two awesome cats is an adorable, playful, fluffy little white kitten named [Mutta.](http://i.imgur.com/vLK3vjB.jpg) I can *not* stress how much they love this cat. They love this cat as much as, if not more than, their children. If we're away from the house for more than two hours at the time, they'll start talking about how much they miss Mutta, how bad they feel for leaving her alone, etc. etc. It's adorable. I can't even imagine how they would react if anything happened to her.\n",
      "\n",
      "Anyway, they have a nice house, and I get the entire attic room to myself. However, one of the side-effects of an attic room with a lot of windows during the late spring is tha\n"
     ]
    },
    {
     "name": "stderr",
     "output_type": "stream",
     "text": [
      " 66%|█████████████████████████████               | 6618/10000 [6:32:46<3:02:23,  3.24s/it]"
     ]
    },
    {
     "name": "stdout",
     "output_type": "stream",
     "text": [
      "This didn't happen today, it was about 3 years ago. I was on holiday in the same place we go every year (Brixham, beautiful place!) and my best friend came along and joined us for the last week of the holiday. We decided to go fishing, and after about an hour of moderate success, we decided to go somewhere else. Now, I know this place like the back of my hand, and know all the good fishing spots!\n",
      "So we climb along some rocks for a bit, (it was low tide) walk along a piece of rock low to the water, which joins a small rock island with the mainland. \n",
      "\n",
      "After about an hour or two sat down talking, fishing, and just having a good time, we suddenly realise something. That piece of lower rock, the rock walkway we used to get to the island... it was gone, submerged! To make matters worse it was cold, and the sea was fairly rough, so there wasn't much we could do. \n",
      "\n",
      "At about 11pm I get a phone call from my dad wondering where we are. \"Oh, we're stranded on a rock, we'll spend the night here and\n"
     ]
    },
    {
     "name": "stderr",
     "output_type": "stream",
     "text": [
      " 66%|█████████████████████████████▏              | 6626/10000 [6:33:18<2:55:49,  3.13s/it]"
     ]
    },
    {
     "name": "stdout",
     "output_type": "stream",
     "text": [
      "I started working a second night job to increase our family income and as such I have not been a morning person lately. Parent conferences rolled around last week and the only time slot that my wife and I could attend was @ 7:00AM, so we figured that was that.\n",
      "\n",
      "The day of the conference came and with only 5 hours of sleep I woke up at 6:00AM to prepare for the day. We arrive for the conference on time and everything was going very well, my daughter is doing very well and we are getting a lot of praises from the teacher. Everything was done by 7:00AM and as we were leaving my daughter ask if she can just stay and have breakfast at the school (she normally eats at home every morning). We figured sure why not but my wife was worried about leaving her alone so early due to her being in the 1st grade and this was not her normal routine. We walk her over to the breakfast line, now at this school the children have to enter their 4 digit number into a key pad so the school has a record of who \n"
     ]
    },
    {
     "name": "stderr",
     "output_type": "stream",
     "text": [
      " 67%|█████████████████████████████▎              | 6672/10000 [6:35:43<3:00:37,  3.26s/it]"
     ]
    },
    {
     "name": "stdout",
     "output_type": "stream",
     "text": [
      "It happened a year or so ago and I had sent out around a dozen or so applications to do admin jobs at my local hospital. In them, I had written \"A keen eye for detail is detrimental to my job role\" or something along those lines.\n",
      "\n",
      "I got an interview with the cardiac team and the woman asks me why I felt it was detrimental to proofread my work for mistakes, so I go and argue my point for a solid 5 minutes with her getting a little heated. Anyway I got home, and told the story to a friend who explained what that work actually meant... I didn't get the job.\n",
      "\n",
      "Tldr: Thought that detrimental meant important and argued about it to my interviewer\n"
     ]
    },
    {
     "name": "stderr",
     "output_type": "stream",
     "text": [
      " 67%|█████████████████████████████▍              | 6679/10000 [6:36:04<3:31:18,  3.82s/it]"
     ]
    },
    {
     "name": "stdout",
     "output_type": "stream",
     "text": [
      "My daughter has just moved into the 3's room at daycare and yesterday was the first time I collected her from her new class.\n",
      "\n",
      "I'm blessed with an incredibly loud and deep voice and whenever my daughter is doing something she shouldn't I do as most parents do, say her name, followed by a 'What are you doing?'\n",
      "\n",
      "As I was walking into her class today I saw my little bugger snatch a wooden train out of a little boys hand. I did my usual reprimand speech, only maybe a little louder than normal as it was a big room. As it turns out my 'maybe a little louder' came as a bit of a shock to a number of the children who froze like statues, with 4(?) of them bursting into tears. \n",
      "\n",
      "My first interaction with my kids new teacher was her basically giving me a telling off in front of the whole class. \n",
      "\n",
      "We get home and my 3 year old tells mommy that daddy was bad and that I should go on time out. Wife was NOT impressed  \n"
     ]
    },
    {
     "name": "stderr",
     "output_type": "stream",
     "text": [
      " 67%|█████████████████████████████▍              | 6681/10000 [6:36:10<3:07:34,  3.39s/it]"
     ]
    },
    {
     "name": "stdout",
     "output_type": "stream",
     "text": [
      "So this happened a few years ago. \n",
      "You must know, that I am a little bit socially awkward and very bad at small talk with people I don't know very much. I just never know what to say and try to get out of the situation pretty fast.\n",
      "\n",
      "I was taking the bus to go to university and met some of my classmates which I didn't know very well but felt like I'd have to say hello and try to talk with them a little bit. Like I said I'm not very good in those situations and it usually ends with very long, awkward pauses in the conversation when you realize you've run out of stuff to talk about and everybody just stands there quietly, trying to cover up the the awkward silence by pretending to be super busy with looking at the floor and shifting nervously from one foot to another. After quite a while of doing this, the strange tension almost going through the roof, I am very glad to notice that the bus stop where I need to change busses is approaching so I happily break the silence and say goodbye, re\n"
     ]
    },
    {
     "name": "stderr",
     "output_type": "stream",
     "text": [
      " 67%|█████████████████████████████▍              | 6696/10000 [6:36:58<3:23:27,  3.69s/it]"
     ]
    },
    {
     "name": "stdout",
     "output_type": "stream",
     "text": [
      "This happened a few hours ago.\n",
      "\n",
      "I was just starting to make a loaf of bread (Smitten Kitchen's [Fig, Olive Oil, and Sea Salt Challah](https://smittenkitchen.com/2012/09/fig-olive-oil-and-sea-salt-challah-book-tour/) for the curious). The first step involves adding honey and warm water to dry yeast. My small glass jar of honey was crystalized, so I decided to remove the cork stopper from the jar and pop it in the microwave for about 45 seconds to get it back into pourable form.\n",
      "\n",
      "I took the now-blazing hot glass jar of re-liquified honey from the microwave -- and because I clearly don't have a grasp on physics, I put the cork stopper back on and turned the bottle on its side to mix the contents a bit. As I turned the bottle, the stopper literally exploded from the bottle, and the molten honey sprayed my entire kitchen (counters, floors, walls, laptop, phone, everything in a 6-foot range...) -- and, unfortunately, my hand, arm, and foot.\n",
      "\n",
      "A few hours + a trip to urgent care and the pharma\n"
     ]
    },
    {
     "name": "stderr",
     "output_type": "stream",
     "text": [
      " 67%|█████████████████████████████▌              | 6716/10000 [6:37:59<3:15:40,  3.58s/it]"
     ]
    },
    {
     "name": "stdout",
     "output_type": "stream",
     "text": [
      "Not using a throwaway because I won't hide from my mistakes.\n",
      "\n",
      "And this didn't happen ten years ago. It actually happened today, the 3rd of July, 2017.\n",
      "\n",
      "I work in a shoe store over the summer, and when I clocked in this morning my supervisor gave me two pairs of shoes. They had been handed in by customers for repairs and were now finished. I was going to call the customers and let them know that their shoes were done and ready to be picked up.\n",
      "\n",
      "I looked at the receipts and saw that they were handed in in the middle of June. Just to be courteous and informative I decided to look up how many weeks we've had them, in case they for some reason wanted to know that. But our cashier computer runs Windows XP. Yeah, really. I did say this happened today, right? And not ten years ago? Right.\n",
      "\n",
      "So I have no idea how the calendar works in this OS that I haven't used in a decade, so I just double click on the clock. Alright, it shows me the dates and weeks for the month of July. But I want June, so I\n"
     ]
    },
    {
     "name": "stderr",
     "output_type": "stream",
     "text": [
      " 67%|█████████████████████████████▌              | 6720/10000 [6:38:10<2:40:08,  2.93s/it]"
     ]
    },
    {
     "name": "stdout",
     "output_type": "stream",
     "text": [
      "So backstory, I really like memes, and sometimes I won't answer my phone because I'm giggling at memes. As a result whenever my friends and I talk they assume I'm not doing anything other than giggling at memes.\n",
      "\n",
      "So I do tutoring at a refugee program for refugees from African countries who are now trying to make it in American schools. Generally these kids are very enthusiastic, but struggle with English. Occasionally I forget this and make puns or other wordplays that can be confusing if you don't speak English. So last time, I was talking to one of the older kids who attends. We were working on an essay when I received a phone call. He seemed to be getting along alright, so I excused my self and took the phone call. It was from a friend so he asked if I wanted to hang out. I said I couldn't, and he asked \"dank memes\", and I responded \" not only dank memes, these memes are the dankest\". So after I hung up the kid I was tutoring asked me what dank memes were. I tried explaining it as a\n"
     ]
    },
    {
     "name": "stderr",
     "output_type": "stream",
     "text": [
      " 67%|█████████████████████████████▋              | 6747/10000 [6:39:33<2:29:55,  2.77s/it]"
     ]
    },
    {
     "name": "stdout",
     "output_type": "stream",
     "text": [
      "It rained today. The school sent a mass text at 11:30 saying there was \"minor flooding\" so I immediately went to move my car. Apparently we have very different understandings of what \"minor\" is. My car is to the right of the one with the headlights on. Its totaled.  \n",
      "http://i.imgur.com/EvlekJq.jpg?1\n",
      "\n"
     ]
    },
    {
     "name": "stderr",
     "output_type": "stream",
     "text": [
      " 68%|█████████████████████████████▊              | 6766/10000 [6:40:48<2:50:45,  3.17s/it]"
     ]
    },
    {
     "name": "stdout",
     "output_type": "stream",
     "text": [
      "I'm moving to a new house, and took today (Friday) off work to pack & have the movers pick everything up for delivery Monday. Meanwhile, I got a nice hotel room here for my last Friday night on the town before heading to a new city.\n",
      "\n",
      "Everything went swimmingly: the movers came by to help, and we had everything packed and bundled and boxed up by mid-afternoon, at which point they loaded everything up on the truck, came back to the house for final paperwork, and drove off, with everything slated for delivery Monday afternoon.\n",
      "\n",
      "I took a last walk around, cleaned up a bit, and went to the foyer to leave.\n",
      "\n",
      "Whereupon I found, _nothing_.\n",
      "\n",
      "My jacket and shoes which I'd put off to one side, along with my overnight bag, were apparently packed up by an over-zealous mover.\n",
      "\n",
      "I checked the inventory sheet, and sure enough, the number of pieces of luggage adds up to include that bag. Outerwear and shoes weren't itemized, but were one of the things they were packing.  I'd told the lead guy to leave th\n"
     ]
    },
    {
     "name": "stderr",
     "output_type": "stream",
     "text": [
      " 68%|█████████████████████████████▉              | 6818/10000 [6:43:29<3:00:21,  3.40s/it]"
     ]
    },
    {
     "name": "stdout",
     "output_type": "stream",
     "text": [
      "It all starts out on a normal day. I'm running late for school, and I'm in a hurry. As I barge out of the door, I realize that I have forgotten my keys and that without them I'd have no way inside my house because my father would be at work. I head back in a rush and absentmindedly grab a pair of keys from the windowsill and head out. While halfway to the bus stop, my father calls me and tells me I have forgotten my keys. Now, at this point I totally forgot that I had went back in to take keys, so I just went back home and grabbed my house keys and ran off to the bus stop just making the bus. Ten minutes go by, and I reach into my pocket for a piece of gum. Confused, I pull out my father's car keys. \"Oh, fuck.\" I think. But no problem, because we have two cars and he can take the other one, right? WRONG. The car to which keys I accidentally took when I ran back into the house the first time were the car keys, my dad later gave me my own keys. That car was blocking the second car in the\n"
     ]
    },
    {
     "name": "stderr",
     "output_type": "stream",
     "text": [
      " 68%|██████████████████████████████              | 6821/10000 [6:43:38<2:55:56,  3.32s/it]"
     ]
    },
    {
     "name": "stdout",
     "output_type": "stream",
     "text": [
      "So...we moved 5 years ago to a new house. My poor doggie isn't house broken and I'm a bit lazy so I installed a doggie door. Great door, does the job perfectly! Mission accomplished.\n",
      "\n",
      "Last night Gibbs was out patrolling the back yard, checking the fence and looking for rats under the deck. He's cool that way. He's not a big dog (20 lbs of pure fury) but he's all heart. He LIVES for rats and mice, tennis balls are a nice second... well actually and addiction but that's another story.\n",
      "\n",
      "Apparently, Gibbs found more than rats! I didn't see it but from what I can tell he saw some hot looking little black rat with a really beautiful white stripe. Really attention getting! I'm sure he thought that he'd just stroll over, say HI to the new neighbor and give her a nice little welcome sniff. I think the skunk had other ideas. Direct hit at close range in the face!\n",
      "\n",
      "Now Gibbs is also a giving dog. At this point **I'm** thinking that **he's** thinking that he's got himself quite a nice little gift \n"
     ]
    },
    {
     "name": "stderr",
     "output_type": "stream",
     "text": [
      " 68%|██████████████████████████████              | 6826/10000 [6:43:54<2:52:11,  3.26s/it]"
     ]
    },
    {
     "name": "stdout",
     "output_type": "stream",
     "text": [
      "There is a cat in my neighborhood that apparently has no owner.  It came up to me while I was bring in the recycling bins and started rubbing up against my legs.  It seemed friendly, so I offered it my hand for approval.  It then let me pet it for a minute or so but then freaked out and bit my forearm.  It wasn't a real bite, more of a warning, but it still broke the skin.  Since I have no idea if this cat has had its vaccinations or not, I played it safe and went to the hospital.  They gave me 7 shots, one in each arm, one in each front thigh, one in the right cheek, and two in the left cheek.  Now I have to go for three follow up shots too.\n",
      "\n",
      "TL;DR: got bit by a stray cat and needed to get 7 shots. \n"
     ]
    },
    {
     "name": "stderr",
     "output_type": "stream",
     "text": [
      " 69%|██████████████████████████████▏             | 6868/10000 [6:45:56<2:32:29,  2.92s/it]"
     ]
    },
    {
     "name": "stdout",
     "output_type": "stream",
     "text": [
      "This happened a few weeks ago but was just reminded of it today.\n",
      "\n",
      "My dad is an eye doctor and I occasionally go and meet him for lunch. On this particular day I had arrived early so I sit waiting with my toddler in the eye department waiting room. There's about 20-25 people in there too. \n",
      "\n",
      "After a short while, my one year old is getting bored of waiting and starts running about and annoying people, so I pick him up and stand near the door to keep out of people's way.\n",
      "\n",
      "He then starts playing with a light switch behind me so I say (louder than my usual voice so people know I'm trying to stop this annoying toddler and not just ignoring him)...\n",
      "\n",
      " \"No, don't switch the lights off because then these people won't be able to see properly\"...\n",
      "\n",
      "I freeze as I remember why all these people are here. I look around, yes they've all heard me and are not amused....at all.\n",
      "\n",
      "To make things worse, I get the fucking giggles. Why brain, why? The patients see this as further insult and I'm getting some prop\n"
     ]
    },
    {
     "name": "stderr",
     "output_type": "stream",
     "text": [
      " 69%|██████████████████████████████▍             | 6922/10000 [6:48:30<2:03:37,  2.41s/it]"
     ]
    },
    {
     "name": "stdout",
     "output_type": "stream",
     "text": [
      "I was playing tug of war with my golden puppy this morning and decided to take a vid and add it to my snapchat story. I wrote \"morning tug\" (the banner that goes in front of the video). Being bored i clicked the video later in the morning. All that appeared was a black screen with the words \"morning tug\" .. had 37 views\n"
     ]
    },
    {
     "name": "stderr",
     "output_type": "stream",
     "text": [
      " 70%|██████████████████████████████▉             | 7021/10000 [6:54:06<3:39:11,  4.41s/it]"
     ]
    },
    {
     "name": "stdout",
     "output_type": "stream",
     "text": [
      "So I was cycling to college today, when suddenly I saw there was a muffin sale. I went and bought some, and when the lady gave me the change (in coins), I held up my helmet, upside down, for her to put it in. She put the coins in, but I forgot that my helmet had huge holes in it as its design.\n",
      "Needless to say, I looked so dumb when I went and pick up the coins on the ground afterwards.\n"
     ]
    },
    {
     "name": "stderr",
     "output_type": "stream",
     "text": [
      " 71%|███████████████████████████████             | 7072/10000 [6:56:47<3:09:21,  3.88s/it]"
     ]
    },
    {
     "name": "stdout",
     "output_type": "stream",
     "text": [
      "So, in 2015, mid-way through the first month of school, I had changed schools and was trying to find my place in this vast expanse of peer groups and cliques. Things went pretty well for first period, I was just a little bit on edge, but, during second period, things took a turn for the silly. I had sat in the back of the class because everyone else had already picked their seats. The teacher opened up with a pretty normal introduction to the class, but then suggested that we take all information down on the slides, because this is one of the most important classes of the year and all of the information will be in the exam...\n",
      "\n",
      "So, I got to typing my notes and was focusing really hard, because even with a computer, I type slower than most people write and was having a hard time keeping up. Eventually, I started feeling light headed, but I figured I was just hungry and ignored it. Shortly after that, I started seeing spots in my vision and my head was pounding like a drum, but I still ju\n"
     ]
    },
    {
     "name": "stderr",
     "output_type": "stream",
     "text": [
      " 71%|███████████████████████████████▎            | 7111/10000 [6:58:39<2:18:39,  2.88s/it]"
     ]
    },
    {
     "name": "stdout",
     "output_type": "stream",
     "text": [
      "When I visited New York City in 2008 I made one very big mistake. On one particular day, I did not check my emails in the morning.\n",
      "\n",
      "Sounds like not that big of a deal, I know, but when I finally checked at 4pm that day, there it was \"/u/evilrobotluke, you were on our waiting list and some free tickets to attend tonight's taping of The Daily Show with Jon Stewart have become available. Please respond by 3pm today and then attend at 4pm to be taken into the studio\"\n",
      "\n",
      "I missed out on seeing Jon Stewart in action on The Daily Show live, and now that opportunity will never come up again.\n"
     ]
    },
    {
     "name": "stderr",
     "output_type": "stream",
     "text": [
      " 72%|███████████████████████████████▍            | 7154/10000 [7:00:49<2:44:00,  3.46s/it]"
     ]
    },
    {
     "name": "stdout",
     "output_type": "stream",
     "text": [
      "So, my dog goes crazy around loud noises. I think most dogs do, actually. Usually if I like cuddle him and stuff during a thunderstorm or fireworks, he's fine. \n",
      "\n",
      "Well, tonight I went to a party at a friend's house, and I didn't even think to put my dog in his cage because lately he's been really good (he used to claw his way through the window screens and then run away whenever I went out). And since all my windows were either closed or had a window fan in them, I figured he'd be fine.\n",
      "\n",
      "I was wrong.\n",
      "\n",
      "I guess someone decided to it would be a good night to set off fireworks in my neighborhood. Since I wasn't home, my dog apparently went crazy. \n",
      "\n",
      "It only occurred to me as I was coming home (around 8:30) that maybe my dog would get scared. \n",
      "\n",
      "When I got home, I looked around and didn't see my dog anywhere. It looked like he had clawed at the living room window, but didn't have any luck getting out. So then I walked upstairs and into my room. \n",
      "\n",
      "I knew one of my windows was closed, and the ot\n"
     ]
    },
    {
     "name": "stderr",
     "output_type": "stream",
     "text": [
      " 72%|███████████████████████████████▍            | 7158/10000 [7:01:02<2:52:10,  3.63s/it]"
     ]
    },
    {
     "name": "stdout",
     "output_type": "stream",
     "text": [
      "I was on my way to my Grandma's place and I took the train there. As I was about to take the escalator down to the train platform, I saw this woman (mid 30s) struggling with her bag of groceries so I went up to her from behind and asked, \"hey, you need a hand? Come let me give you a hand.\" At that moment several people turned and gave me the dirty looks and that woman turned around and stared at me dead in the eye. That was when I realised she was an amputee and had her right arm amputated that I failed to see as I walked up to her. I apologized and frantically left in embarrassment. I am never gonna use that line \"need a hand?\" ever again.\n"
     ]
    },
    {
     "name": "stderr",
     "output_type": "stream",
     "text": [
      " 72%|███████████████████████████████▋            | 7189/10000 [7:02:41<2:43:38,  3.49s/it]"
     ]
    },
    {
     "name": "stdout",
     "output_type": "stream",
     "text": [
      "It was cold and dark as I exited the subway, when a homeless man sitting on the pavement asked for change. I told him I was broke. He was nice enough to say \"oh its okay,  get home safe,\" stupid me said \"you too.\"\n",
      "\n",
      "\n",
      "\n",
      " \n",
      "I quickly realized what I had said and apologized and walked away with shame.\n"
     ]
    },
    {
     "name": "stderr",
     "output_type": "stream",
     "text": [
      " 72%|███████████████████████████████▋            | 7215/10000 [7:04:42<7:27:16,  9.64s/it]"
     ]
    },
    {
     "name": "stdout",
     "output_type": "stream",
     "text": [
      "I purchased Battleship.  You need two people...  Story of my life.\n",
      "\n",
      "\n",
      "\n",
      "\n",
      "Edit: lol the PM are ridiculous.  You guys are a friendly community!  I kinda meant that no friends available to play...  Hahaha it just hit me that many of you thought I meant absolutely no friends!!  Hah but you guys are super awesome!  \n"
     ]
    },
    {
     "name": "stderr",
     "output_type": "stream",
     "text": [
      " 73%|███████████████████████████████▉            | 7268/10000 [7:07:37<2:19:55,  3.07s/it]"
     ]
    },
    {
     "name": "stdout",
     "output_type": "stream",
     "text": [
      "I'm one of those really annoying sneezers, with the whole involuntary body jerk. So I have a cold, and while sitting at my desk I felt another sneeze coming on. As I was leaning forward to grab another tissue out of my bag, I sneezed and smacked my head off the desk. Next thing I'm just sprawled on the floor, with a lump forming rapidly on my forehead. My most dignified moment yet!\n"
     ]
    },
    {
     "name": "stderr",
     "output_type": "stream",
     "text": [
      " 73%|████████████████████████████████            | 7275/10000 [7:08:03<2:41:22,  3.55s/it]"
     ]
    },
    {
     "name": "stdout",
     "output_type": "stream",
     "text": [
      "I'm on the train, on my way to a friend's place, and at some point a guy with no arms just walks on. He was wearing a short sleeved shirt and you couldn't really see the stumps of his arms, so it took me a second to figure it out.  \n",
      "He's got some cards in his mouth (one of them I presume was his ticket), and when he sits down he just drops them on his lap. Eventually it's close to my stop and as I walked towards the door, he accidentally somehow dropped his stuff on the floor. \n",
      "\n",
      "Since I'm about to go past him I thought I might as well help him, so I go up to him and ask him \"Hey you need a hand with that?\"  \n",
      "The girl sitting behind him just kinda gave me this scared gasp that is a dead giveaway that something is wrong.  \n",
      "It took me a second to figure out what I actually said, and while the girls and her friends were staring at me, the armless dude was just laughing at me and took it to stride.  \n",
      "I guess that's happened to him before, so he was very understanding. I helped him pick up h\n"
     ]
    },
    {
     "name": "stderr",
     "output_type": "stream",
     "text": [
      " 73%|████████████████████████████████▏           | 7304/10000 [7:09:32<2:08:49,  2.87s/it]"
     ]
    },
    {
     "name": "stdout",
     "output_type": "stream",
     "text": [
      "This actually happened today. A couple hours ago, in fact...\n",
      "\n",
      "I was getting prepared to make apple dumplings and the recipe called for melted butter. I put the bowl of butter in the microwave and go about my business.\n",
      "\n",
      "When the butter was melted, I went to pull it back out. Now, I'm a clumsy person anyway, so I made sure to grab the bowl with both hands to prevent dropping it. Should be safe, right?\n",
      "\n",
      "Ha. \n",
      "\n",
      "For some reason, my left hand slid down the bowl, sloshing melted butter all over my hand and the counter. Dang it.\n",
      "\n",
      "I set the bowl down and my automatic reaction to a strange substance on my hand kicks in: I turn on the faucet and run my left hand under it, scrubbing it with the right. I didn't think to put soap on it, as I was just trying to get the butter off so I could clean the mess I made.\n",
      "\n",
      "In case you didn't know, hot butter + cold water ≠ clean hands. It equals solidified butter. Suddenly, my hands are gloved in a thin layer of solid butter, making them too slick for me to gr\n"
     ]
    },
    {
     "name": "stderr",
     "output_type": "stream",
     "text": [
      " 74%|████████████████████████████████▍           | 7366/10000 [7:12:35<2:13:09,  3.03s/it]"
     ]
    },
    {
     "name": "stdout",
     "output_type": "stream",
     "text": [
      "I parked. Paid for parking. Came back 5 hours later and I've received a parking fine. \n",
      "\n",
      "I realize I've left my window open and the wind has carried my ticket from the dashboard on to my drivers seat and obviously not visible to the inspector dudes. \n",
      "\n",
      "$5 ticket + $60 fine. \n",
      "\n",
      "\n",
      "\n",
      "\n",
      "I feel so stupid. \n"
     ]
    },
    {
     "name": "stderr",
     "output_type": "stream",
     "text": [
      " 74%|████████████████████████████████▌           | 7399/10000 [7:14:45<2:02:05,  2.82s/it]"
     ]
    },
    {
     "name": "stdout",
     "output_type": "stream",
     "text": [
      "I was doing the laundry, we have a front loading laundry machine. I put some clothes in and thought, I can fit more in here, I left the laundry room to get more clothes. Came back and threw the extra clothes in and fired it up. I then went to the living room to watch some TV.  All of a sudden I could hear the kitten screaming. Damnit! The kitten got shut in a closet again! So I start looking in closets. Nothing. Uh oh... I go into the laundry room and see the kitten buried under wet clothes rotating around. It took a minute to get the washer to unlock, which seemed like forever.  After rinsing her off in the bath and drying her, she didn't come out from under the bed for about an hour. She smelled linen fresh though! \n",
      "\n",
      "Previously we have seen her crawl into the BACK of the fridge when it is open. One of these days she will get shut in there too.\n",
      "\n",
      "TL;DR I washed the kitten with my laundry \n"
     ]
    },
    {
     "name": "stderr",
     "output_type": "stream",
     "text": [
      " 74%|████████████████████████████████▋           | 7440/10000 [7:16:50<2:25:23,  3.41s/it]"
     ]
    },
    {
     "name": "stdout",
     "output_type": "stream",
     "text": [
      "Okay so last night I called my daughter and had a lovely conversation and ended it with my usual \"I love you\". Everyone in my house was being loud and noisy as I called in the pizza about five seconds later. He tells me my total and says it will be about twenty minutes to a half and hour and I say \"Thanks! I love you!\" and hang up before realizing what I just said\n"
     ]
    },
    {
     "name": "stderr",
     "output_type": "stream",
     "text": [
      " 74%|████████████████████████████████▊           | 7448/10000 [7:17:11<2:10:26,  3.07s/it]"
     ]
    },
    {
     "name": "stdout",
     "output_type": "stream",
     "text": [
      "So this wasn't only today, but the past two months, about.\n",
      "\n",
      "With Summer beginning on the East coast it was finally time to put in air conditioners in my house, (the window units, because we have an old house) and because in my family there are 7 different A/Cs to install, we don't pay much attention to the A/Cs themselves.\n",
      "\n",
      "A few days after the A/Cs were in I started feeling very sick. I was coughing, sneezing, puking, the whole nine yards. I had gone to multiple doctors and none of them could figure out what was wrong with me. One asked to check my liver, another my lungs, my stomach, and my sinuses. One doctor thought I was faking it all for attention and suggested I see about my mental health.\n",
      "\n",
      "Fast forward to today, it's starting to get cold again, and its time to take all the A/Cs out of the windows and store them back into the garage for next year.\n",
      "\n",
      "When taking my A/C out of the window, my step-dad begin's coughing, meanwhile he's been totally fine this entire time. He asked me w\n"
     ]
    },
    {
     "name": "stderr",
     "output_type": "stream",
     "text": [
      " 75%|████████████████████████████████▊           | 7453/10000 [7:17:29<2:42:15,  3.82s/it]"
     ]
    },
    {
     "name": "stdout",
     "output_type": "stream",
     "text": [
      "This story happened recently, but not today. It involves a lot of different elements, but everything in the story below is relevant.\n",
      "\n",
      "\n",
      "I am an American student interested in technology. We have a competition in America called \"Science Fair,\" where students submit \"science projects\" and then present them to judges in the field of that area of science (Not sure if it's popular in other countries). \n",
      "\n",
      "\n",
      "I spent this school year putting a lot of work into a great project, which ended up being a gigantic commitment that required a ton of time. After working steadily for hours each day over about four months, the project was finally coming to a close, and the judging date was in about two weeks.\n",
      "\n",
      "\n",
      "My category is computer science, and everything I had done up to that point was spread out over two laptops and a backup drive (I got a much newer, much nicer laptop as a Christmas gift to replace my old one, but I hadn't stopped using it). I'm in love with it - I cannot understate how much of an imp\n"
     ]
    },
    {
     "name": "stderr",
     "output_type": "stream",
     "text": [
      " 75%|████████████████████████████████▊           | 7471/10000 [7:18:21<1:48:18,  2.57s/it]"
     ]
    },
    {
     "name": "stdout",
     "output_type": "stream",
     "text": [
      "Throwaway for obvious reasons. I am typically a very involved dad in the lives and education of all of my kids...but you know, sometimes we just completely drop the ball. That's me today. Six weeks ago, my sweet 9 year old son came home with a Flat Stanley he had colored for his school project. (If you're unfamiliar, you can read about Flat Stanley here: http://www.flatstanleyproject.com.) Anyway, we had planned to ship FS to a friend in another country (we're in the US) and one thing after another happened...and we just FLAT forgot. No pun intended. I was just reminded that by TOMORROW night (March 26) we have to have pictures and stories of Flat Stanley from various locations and I'm wondering if the power of Reddit can help save the day where I, my son's own flesh and blood, completely failed him. I've uploaded a two page PDF (https://www.dropbox.com/s/eallwuirvhcy411/FlatStanley.pdf?dl=0) and I'm hoping that a few really kind people can do the following...it shouldn't take more tha\n"
     ]
    },
    {
     "name": "stderr",
     "output_type": "stream",
     "text": [
      " 75%|████████████████████████████████▉           | 7472/10000 [7:18:23<1:47:28,  2.55s/it]"
     ]
    },
    {
     "name": "stdout",
     "output_type": "stream",
     "text": [
      "One of my first shifts at McDonalds I was tasked with making a batch of quarter pounders. I went and got a tray of buns, when I opened them I saw buns sliced into 3. I'm like wtf, clearly a factory error, throw all the middle pieces in the bin, now it looks like a normal burger. I think I got maybe 15-20 burgers in before I realized I'd grabbed a sleeve of big mac buns and was throwing all the middle pieces out... In my defence I wasn't a big fast food eater, and I had never eaten a Big Mac before.\n",
      "\n",
      "This happened before reddit came to exist but I saw a picture post today of a burger technician failing at making a big mac, this reminded me.\n",
      "\n",
      "EDIT: folks are throwing shade on the golden arches, any job is better than no job and working at mickey Ds was fun, I still don't think working there is beneath anyone, I do feel the need to clarify I was in high school. Also used the phrase \"burger technician\" for comedic effect, real title is just \"casual junior\". Thanks all :)\n"
     ]
    },
    {
     "name": "stderr",
     "output_type": "stream",
     "text": [
      " 75%|█████████████████████████████████           | 7512/10000 [7:21:05<2:06:23,  3.05s/it]"
     ]
    },
    {
     "name": "stdout",
     "output_type": "stream",
     "text": [
      "About 40 mins ago upon arriving at work, I found a little woolly bear caterpillar in my shop floor and decided to take him outside to the ol' woodpile where he could find shelter and sustenance for the coming winter. My hands were full and I've had this pepper spray thing on my keychain for like 7 years, while struggling with the door I somehow managed to aim it right at my eye, turn the little switch to unlock and hold the button down for literally a full 1 second, straight into the center of my right eye\n",
      "\n",
      "I figured this all out afterwards, at the time i was like \"wooly bear what have you done to me!\" I thought I had discovered some heretofore unknown woolly bear defense mechanism.\n",
      "\n",
      "Only now am I beginning to regain the ability to open my right eye for a few seconds at a time.\n",
      "\n",
      "No idea where the wooly bear landed. I tried looking for him but i cant see so good.\n",
      "\n",
      "\n",
      "TL;DR: TIFU by pepper spraying myself in the eye while attempting to rescue a Woolly Bear caterpillar.\n"
     ]
    },
    {
     "name": "stderr",
     "output_type": "stream",
     "text": [
      " 75%|█████████████████████████████████           | 7515/10000 [7:21:13<1:57:17,  2.83s/it]"
     ]
    },
    {
     "name": "stdout",
     "output_type": "stream",
     "text": [
      "So my sister does not have a cellphone because every time she gets one she ends up destroying it or leaving it in the frozen-food section (true story). That being said, 2 days before the 'incident' I upgraded to Android master race. I was planning on selling my iPhone 6+ as it is still worth a couple hundred. My sister was planning on buying my iPhone next time she got paid so we made a deal- She could buy it from me for $200 or use it before she pays me and end up paying me $250. She ended up using it before hand meaning I was getting an extra $50. I gave her the phone and left. Not 4 hours later I come back home and she immediately apologizes. I knew that something had happened to my phone but no idea how bad it was. Apparently, she was using the phone outside near the pool and WALKED right into the pool with the phone in her hand. She knew what to do (turn it off, take the battery out and put it in rice). Unfortunate for me, we did not have any rice so my sister got the 'bright' ide\n"
     ]
    },
    {
     "name": "stderr",
     "output_type": "stream",
     "text": [
      " 75%|█████████████████████████████████▏          | 7538/10000 [7:22:19<1:59:34,  2.91s/it]"
     ]
    },
    {
     "name": "stdout",
     "output_type": "stream",
     "text": [
      "Backstory: I'm very heavily into computers. It's been my life since I was a kid. And due to brain tumor in my Sr year of high school, which caused me to drop out, I never really got into the work force. I've had small side-jobs and cash jobs. But nothing I would call a \"job\"... But I've since fixed my life, got my GED, and on my way to better my life. I have been shooting emails and resumes out hoping for a response.... until...\n",
      "\n",
      "\n",
      "I was outside cutting the grass when I stopped to bag the grass clippings. I heard the phone ring inside, but didn't think anything of it since it would go to voice mail. I then proceed to finish the grass. My Dad comes outside (yes I live with my parent) to talk and what-not. I decided to get us some drinks, so I head inside and the phone rings again. This time from my step-mom. So I answer, talk to her, then go to hang up. That's when I see the blinking voice mail light. I went to listen to it and it starts out..\n",
      "\n",
      "\"This message is for rrims. We've received \n"
     ]
    },
    {
     "name": "stderr",
     "output_type": "stream",
     "text": [
      " 76%|█████████████████████████████████▎          | 7569/10000 [7:23:50<2:01:48,  3.01s/it]"
     ]
    },
    {
     "name": "stdout",
     "output_type": "stream",
     "text": [
      "Now, there is a horribly annoying wind chime on our deck. From a CVS. \n",
      "It sounds like a kid playing the xylophone. \n",
      "\n"
     ]
    },
    {
     "name": "stderr",
     "output_type": "stream",
     "text": [
      " 76%|█████████████████████████████████▍          | 7591/10000 [7:24:56<1:51:18,  2.77s/it]"
     ]
    },
    {
     "name": "stdout",
     "output_type": "stream",
     "text": [
      "\"The Bot\" said I had to label this NSFW... I'm thinking it was okay but who am I to argue? \n",
      "\n",
      "This happened last year but it still makes me laugh... I was in charge of movie night at the elementary school. I worked very hard to make the perfect promotional flier for the event. I asked a few other mothers check out my work, proof read, and we all agreed it was adorable! I made a couple hundred copies that were sent home in little back packs, anticipating the fun event! \n",
      "\n",
      "The next day we had a few calls... Ironically, it was the DADS who noticed the issue with the flier. The details were given along with the time, refreshments, and the movie we were offering. The text concluded by saying \"...join us for food, fun, and a flick!\" However, the font I had chosen didn't work well with the word FLICK...\n",
      "\n",
      "Thankfully, our principal has a great sense of humor and after much blushing, I was able to move forward. Needless to say, I have delegated the responsibility of creating future fliers to someo\n"
     ]
    },
    {
     "name": "stderr",
     "output_type": "stream",
     "text": [
      " 76%|█████████████████████████████████▍          | 7610/10000 [7:25:57<2:10:44,  3.28s/it]"
     ]
    },
    {
     "name": "stdout",
     "output_type": "stream",
     "text": [
      "This was literally about an hour ago, and I'm still sort of freaking out.\n",
      "\n",
      "So I take a hybrid Oceanography class. (Meaning half of our class time is online, and half meeting in person.) We had an assignment due tonight which is finding locations based on latitude/longitude.\n",
      "\n",
      "One of the coordinates led me to a city called 'Phuket,' in Thailand. I thought my professor put that in as a joke - like haha, yeah the name is sorta funny, looks like 'fuck it,' right? He's a pretty goofy, friendly, not too serious guy, so I really thought it was a joke. I just put a little 'lol' after my answer, just so I could acknowledge this 'joke.'\n",
      "\n",
      "After submitting my answers, I was able to check and see if they were correct or not.\n",
      "\n",
      "Apparently, there was a major tsunami in this place called 'Phucket.' I remember we even talked about the tsunami in class. Many people died and were injured. I felt my stomach drop. I am so mortified.\n",
      "\n",
      "Anyway, after I post this I'm going to write a short, but apologetic e-mail\n"
     ]
    },
    {
     "name": "stderr",
     "output_type": "stream",
     "text": [
      " 78%|██████████████████████████████████          | 7751/10000 [7:33:10<1:43:54,  2.77s/it]"
     ]
    },
    {
     "name": "stdout",
     "output_type": "stream",
     "text": [
      "We woke up this morning and my son was so excited to play with his presents but we had to run some errands.  I had planned on going out grocery shopping and then surprising him by taking him out to the movies.\n",
      "\n",
      "After we had been in the store a bit, he started telling me he was feeling sick. I just brushed it off assuming he was just trying to get home to his toys.\n",
      "\n",
      "Fast forward a half hour we were on our way to the theater and he brought it up again. At this point I told him we were going to the movies to try and get him more excited and he went to say something and instead puked all over my car and splashed from the back of my chair onto my head.\n",
      "\n",
      "tl;dr thought my son was faking being sick so I would take him home to play with his presents then he puked on my head.\n"
     ]
    },
    {
     "name": "stderr",
     "output_type": "stream",
     "text": [
      " 78%|██████████████████████████████████▍         | 7817/10000 [7:36:55<1:59:51,  3.29s/it]"
     ]
    },
    {
     "name": "stdout",
     "output_type": "stream",
     "text": [
      "A few days ago, in a fit of spontaneous romanticism I decided to leave a small note saying \"I love you!\" in my wife's eyeglass case. I didn't get an immediate response, but since she doesn't wear her glasses that often I thought nothing of it.\n",
      "\n",
      "On saturday, however, we went to visit some friends, and during the evening I noticed the case lying on a table there, and my friend curiously looking inside it, spotting the note inside. I grinned sheepishy, and told him that \"I don't think she's found it yet.\"\n",
      "\n",
      "The next day, while picking up our kids and their stuff (the kids spent the night at our friends' place) I asked my wife if she had remembered her glasses. She looked quizzically at me and said no, they were at home.\n",
      "\n",
      "Oh boy.\n",
      "\n",
      "Turns out I, a 40 year old man, left an \"I love you!\" note for our friends' 8 year old daughter, and complained to her dad about her not having found it yet.\n",
      "\n",
      "Edit: I guess I should have mentioned that their kids slept over at our house the weekend before, and the\n"
     ]
    },
    {
     "name": "stderr",
     "output_type": "stream",
     "text": [
      " 78%|██████████████████████████████████▍         | 7820/10000 [7:37:05<1:55:00,  3.17s/it]"
     ]
    },
    {
     "name": "stdout",
     "output_type": "stream",
     "text": [
      "This morning around 2 am i got up to get something to drink. I walked downstairs, into the kitchen and decided to get a glass of OJ. I started pouring it in a glass and then it hit me, OJ needs to be shaken. What do I do? I vigorously shake the gallon of juice only to realize after a few seconds I didn't put the cap on it. While realizing this I still continue to shake the container. Only once the container is empty do I stop. I had OJ on the ceiling, floor, counter top, me.... it was every where. It took me a few minutes to clean it up and the worst part is i went to bed with out drinking anything and I didn't have any OJ left to enjoy with breakfast. \n"
     ]
    },
    {
     "name": "stderr",
     "output_type": "stream",
     "text": [
      " 78%|██████████████████████████████████▍         | 7826/10000 [7:37:26<1:57:57,  3.26s/it]"
     ]
    },
    {
     "name": "stdout",
     "output_type": "stream",
     "text": [
      "First of all English is not my language so I may make some mistakes.\n",
      "My major problem is being way too proud, so today I went for lunch and decided a chicken and mozzarella sandwich would be the perfect choice. Having ordered the sandwich I proceed to pay with my credit card, that´s where things begin to go wrong. As I am entering my pin I realize that I'd forgotten it. Nevertheless I was certain of two numbers and the rest was a floating blob on my head, still I put in what I thought my pin would be. And \"Wrong PIN, operation canceled\" is what I am greeted with. Now I had two options, say I couldn't remember my PIN and turn around or I could try it again and pretend like it wasn't my fault. I decided on the second option, and I did so around about four times before I said to the cashier that I would try and withdraw some money. I'm now at the ATM and I give myself some time to think clearly about my code and when I thought that I knew it I put in the card and the code and went on to w\n"
     ]
    },
    {
     "name": "stderr",
     "output_type": "stream",
     "text": [
      " 78%|██████████████████████████████████▍         | 7834/10000 [7:37:51<1:45:20,  2.92s/it]"
     ]
    },
    {
     "name": "stdout",
     "output_type": "stream",
     "text": [
      "Obligatory this was actually last year, not today. \n",
      "I was just scrolling through my social media page when I came across someone who wanted to adopt a Dalmatian because they were \"totes adorbs\".\n",
      "Reddit, let me tell you that although Dalmatians are in fact \"totes adorbs\", they are also \"totes nightmares\" as puppies. \n",
      "I work with a foundation that rescues puppies and trains them to be service animals. I decided to take on the challenge of the Dalmatian, because how hard could it be, right? \n",
      "\n",
      "Day One: Puppy is probably 5 months old. I go pick her up and harness her into the back seat of my new car. We're in the car maybe 15 minutes and she jumps to the front seat while I'm driving wearing the harness and the strap to the car. That little shit chewed out the car seat strap on both sides of her harness to get loose. \n",
      "Apparently I didn't get the clear warning from that occurance. \n",
      "In the six months that I tried to train her, she..\n",
      "\n",
      "-Learned how to open the drawers and cabinets in the kitchen\n"
     ]
    },
    {
     "name": "stderr",
     "output_type": "stream",
     "text": [
      " 78%|██████████████████████████████████▌         | 7847/10000 [7:38:32<1:46:20,  2.96s/it]"
     ]
    },
    {
     "name": "stdout",
     "output_type": "stream",
     "text": [
      "Just sitting in a Starbucks thinking how i shouldn't have ordered a triple caramel frappe. I notice a man using an electric scooter who cant make a corner because of his bad hand. I go over and say ill help him turn and get him round the corner. \n",
      "\n",
      "So i start turning the handlebars and help him pull the forwards lever.. Little did i know how fast these things can be! I crash him right into the tables of people knocking over chairs and causing all their coffees to spill over the floor! TIFU\n"
     ]
    },
    {
     "name": "stderr",
     "output_type": "stream",
     "text": [
      " 79%|██████████████████████████████████▋         | 7876/10000 [7:39:54<1:29:41,  2.53s/it]"
     ]
    },
    {
     "name": "stdout",
     "output_type": "stream",
     "text": [
      "This was just yesterday.\n",
      "\n",
      "My story telling skills are also quite limited...\n",
      "\n",
      "Let me start by saying that where I come from (a terrible town up north in the UK) the pigeons are skittish and fly away if you get close. However, on this fine day I was walking to meet a friend for lunch near Trafalgar square (he works as a civil servant). I notice a pigeon is minding its own business a couple of feet away from me as I am walking along the road. I jokingly take a light-hearted kick at the pigeon which would normally result in it flying away. This pigeon decided it would rather take a full kick to its face. So here I am with what I assume is a dead pigeon and a lot of staring and shocked people. So what do I do? I carry on walking. I stroll out of there like its exactly what I had intended. \n",
      "\n",
      "God I hate Trafalgar square. \n"
     ]
    },
    {
     "name": "stderr",
     "output_type": "stream",
     "text": [
      " 79%|██████████████████████████████████▋         | 7894/10000 [7:40:50<1:36:06,  2.74s/it]"
     ]
    },
    {
     "name": "stdout",
     "output_type": "stream",
     "text": [
      "I had my bike for quite a while and never had a lock. I bought it around 200$ and it didn't look that good but who cares all I want is to get from point A to point B. I used it for a while without a lock, going to the store / university / job. I would just put it among the other bikes or bring it inside.\n",
      "\n",
      "Well today my gf told me to get a lock because it was only a matter of time before it get stolen. So I went to the store with my bike, put it right outside the store, bought a lock in max 2 minutes, got out of the store and surprise surprise ... no bike !\n",
      "\n"
     ]
    },
    {
     "name": "stderr",
     "output_type": "stream",
     "text": [
      " 79%|██████████████████████████████████▊         | 7908/10000 [7:41:30<1:39:37,  2.86s/it]"
     ]
    },
    {
     "name": "stdout",
     "output_type": "stream",
     "text": [
      "This happened a few weeks ago, I was applying for a job at McDonalds after recently finishing my Bachelor of Arts degree, with the intention of funding further studies. During the interview the owner asked why I wanted to work at McDonalds to which I replied \"Well I've just finished my BA so it seems like a natural progression\". \n",
      "\n",
      "He was not amused.\n"
     ]
    },
    {
     "name": "stderr",
     "output_type": "stream",
     "text": [
      " 79%|██████████████████████████████████▉         | 7934/10000 [7:42:52<1:57:25,  3.41s/it]"
     ]
    },
    {
     "name": "stdout",
     "output_type": "stream",
     "text": [
      "This year our son turned 18 years old.  He hasn't gotten his license yet but was planning to this upcoming week.  We thought we would suprise him with a car I got from a friend of mine.  We picked up the car and drove it home Friday night and parked it behind our house in an alley way, but off the road and on our property.  Last night I went to check on it and it was gone!  Judging by the tire tracks it was towed, likely because it had not had plates on it yet but we have called the local police and we were only able to leave a message.  \n",
      "\n",
      "Luckly I had the keys, so we wrapped them and suprised our son this morning but now the wild goose chase begins!\n",
      "\n",
      "TL;DR - TIFU by parking a car we were going to suprise our son with behind our house and it was towed.\n"
     ]
    },
    {
     "name": "stderr",
     "output_type": "stream",
     "text": [
      " 80%|███████████████████████████████████         | 7982/10000 [7:45:16<1:54:43,  3.41s/it]"
     ]
    },
    {
     "name": "stdout",
     "output_type": "stream",
     "text": [
      "Well this actually happened today. Infront of an IT guy I was loudly boasting that Reddit will never be blocked due to all IT guys in schools using it. Before I did it I was on the Pokemon subreddit looking at some leaks, but after lunch we went back on computers, and site wide, Reddit said \"BLOCKED!!!, County has blocked this website under rule 1111\"\n",
      "Reason - HS Blacklist\n",
      "\n",
      "This bassicly means that manually added. Called my friend in the same county but different school and it's blocked their too. Welp their goes my only way to pass time as every website is now blocked, even wiki.\n",
      "\n",
      "TL:DR Bragged about Reddit never being blocked in school, it gets blocked county wide in an hour\n"
     ]
    },
    {
     "name": "stderr",
     "output_type": "stream",
     "text": [
      " 80%|███████████████████████████████████▏        | 7987/10000 [7:45:32<1:48:47,  3.24s/it]"
     ]
    },
    {
     "name": "stdout",
     "output_type": "stream",
     "text": [
      "Working out in the barn about an hour ago and stepped on a rake, and the handle flew up and smacked me.  Just like in the cartoons.  I'm done working out in the barn today.\n",
      "\n",
      "I would like to publicly apologize to Wile E. Coyote for all the times I laughed when it happened to him.\n"
     ]
    },
    {
     "name": "stderr",
     "output_type": "stream",
     "text": [
      " 80%|███████████████████████████████████▏        | 7993/10000 [7:45:53<2:09:26,  3.87s/it]"
     ]
    },
    {
     "name": "stdout",
     "output_type": "stream",
     "text": [
      "So I'm walking along the sidewalk, and I see this Caterpillar crawling across. He's kinda green, about an inch or so...cute little fella as Caterpillars go...\n",
      "\n",
      "Normally, I'd just make sure not to step on him and go about my way.\n",
      "\n",
      "However, today was a hot day in Galveston, and the sidewalk was very hot. I quickly noticed the little Caterpillar was running as fast as he could...and became distressed so bad he was falling over from the heat on his multiple feet. He ran and fell, ran and fell...it was sad.\n",
      "\n",
      "\n",
      "I care for animals, so I sprang into action - using my foot, I gently tried to 'scoot' him over the the cool grass.\n",
      "\n",
      "I bumped him lightly a couple of times, and you know how some Caterpillars will roll up when they feel threatened? Well, he was one of 'em.\n",
      "\n",
      "He rolled right up into a flat disk and laid there. \"Ok, no prob,\" I thought, \"easier to skid him to the side\".\n",
      "\n",
      "So, with one more gentle 'twitch' action flip from my foot, the little fella started sliding in the right direction, bu\n"
     ]
    },
    {
     "name": "stderr",
     "output_type": "stream",
     "text": [
      " 80%|███████████████████████████████████▎        | 8038/10000 [7:48:57<2:27:21,  4.51s/it]"
     ]
    },
    {
     "name": "stdout",
     "output_type": "stream",
     "text": [
      "I got off work at 2:30pm on Monday and decided to take a nap. When I woke up at 7:30pm, I panicked and thought I had slept until the next day, thinking I was late for my 6:00am Tuesday shift. I went into eorked and finished my work order, wondering why it was still so dark outside, and why my boss wasn't there yet. Then someone told me it was still Monday.\n"
     ]
    },
    {
     "name": "stderr",
     "output_type": "stream",
     "text": [
      " 81%|███████████████████████████████████▊        | 8141/10000 [7:54:45<1:54:04,  3.68s/it]"
     ]
    },
    {
     "name": "stdout",
     "output_type": "stream",
     "text": [
      "For the longest time, I have been thinking up amazing April Fool's jokes to play on my little brother, who gets me with amazing pranks every year. I finally thought of the best prank after watching a video one of my friends made last April Fools day. I would rubberband the sprayer on my sink, and watch the hilarity that would ensue when my brother tries to wash a dish or his hands.\n",
      "\n",
      "Fast forward to today, I went out early in the morning to play basketball with some friends. Getting home, I was tired out of my mind and ready to go back to bed, but had to go through with the prank.\n",
      "\n",
      " I made myself some eggs, and whilst cooking, I put the rubbberband on the sprayer. I planned to ask him to run some water so when the eggs were done, I could \"wash out the pan\" and watch him get soaked, but the eggs cooked faster than anticipated, so I forgot to ask him.\n",
      "\n",
      "I finished cooking the eggs, and went to wash my dishes like always. I turned on the sink, and when it was too late, I realized the mistak\n"
     ]
    },
    {
     "name": "stderr",
     "output_type": "stream",
     "text": [
      " 82%|███████████████████████████████████▉        | 8176/10000 [7:56:29<1:38:23,  3.24s/it]"
     ]
    },
    {
     "name": "stdout",
     "output_type": "stream",
     "text": [
      "As is Reddit tradition, this happened not today, but when I was eight.\n",
      "\n",
      "I was at my grandmother's house over the summer when I was eight years old. It was in the middle of nowhere, there were no kids nearby, and she had no toys. She did, however, have cookies, and put them in a bowl for me to eat during the day.\n",
      "\n",
      "That night, I got hungry in the middle of the night, and decided to go downstairs to get something to eat. I was a (fairly) nice kid, and I didn't want to wake up my grandmother, so I avoided the fridge. I found a bowl sitting out on the table that was a similar size of the one I had been eating cookies out of. I reached my hand in, and pulled out a round, cold, hard object. Assuming it was a cookie, I bit into it.\n",
      "\n",
      "It was a rock.\n",
      "\n",
      "Apparently, my grandmother had put out this bowl of rocks as a centerpiece during dinner, and I didn't notice. I ended up shattering a few of my teeth. Luckily, they were baby teeth and my adult ones eventually grew in. I learned my lesson: don't tr\n"
     ]
    },
    {
     "name": "stderr",
     "output_type": "stream",
     "text": [
      " 82%|████████████████████████████████████        | 8197/10000 [7:57:43<1:50:22,  3.67s/it]"
     ]
    },
    {
     "name": "stdout",
     "output_type": "stream",
     "text": [
      "This actually happened about 5 years ago when I worked in a secondary school as a teaching assistant.\n",
      "\n",
      "The department I worked in had kids with learning difficulties or disabilities, and once a week we took up to 14 kids between 13-16 to a local airfield where a company ran a cycling club with specialized bikes for a range of disabilities. We had been several times  before with no incidents so I was casually cycling a bike with an attachment that ment an electric wheelchair user could sit on front, kinda like a trailer but up front. I'm slowly peddling round the circle track talking to the pupil up front when suddenly I've hit something, the bike and wheelchair go to tip over sideways, I jump out quickly and stopped it. Only to realise what I had hit was another pupil on a bike you lie in close to the ground and peddle with your hands! He's got a tyre mark on his shirt running up the back of his shoulder! But luckily not badly hurt. He had a sore shoulder for a day or two but was other\n"
     ]
    },
    {
     "name": "stderr",
     "output_type": "stream",
     "text": [
      " 82%|████████████████████████████████████        | 8207/10000 [7:58:13<1:32:05,  3.08s/it]"
     ]
    },
    {
     "name": "stdout",
     "output_type": "stream",
     "text": [
      "This literally just happened. I'm still cringing at myself. I get up to go to lunch and as I'm walking past a row of people with their backs toward me, a guy puts his fist in the air. I look at the guy and he doesn't look familiar but clearly this weirdo wants to fist bump so I oblige... Well, it turns out he was actually stretching and now I'm the weirdo. You should have seen the confused look on his face.\n"
     ]
    },
    {
     "name": "stderr",
     "output_type": "stream",
     "text": [
      " 82%|████████████████████████████████████▏       | 8213/10000 [7:58:30<1:24:20,  2.83s/it]"
     ]
    },
    {
     "name": "stdout",
     "output_type": "stream",
     "text": [
      "I work at a golf course and a man came up to buy a bag of tees. The tees are about $1.75 each and since the guy didn't have any change on him, I had to put it through the debit machine and ended up putting it in twice. Neither of us noticed until the receipt came out...\n"
     ]
    },
    {
     "name": "stderr",
     "output_type": "stream",
     "text": [
      " 82%|████████████████████████████████████▎       | 8248/10000 [8:00:18<1:35:53,  3.28s/it]"
     ]
    },
    {
     "name": "stdout",
     "output_type": "stream",
     "text": [
      "So I was having a job interview the HR guy was asking the usual questions. Then he ask me if I had experiences in digital marketing. Which was odd because I applied for the head of art department because I was a graphic designer for a long long time. So i said \"no... But what I do have.. are a very particular set of skill. Skills I have acquired over a very long career... Skills.. That--\" it was then that I started giggling having realized it was a line from a movie. I couldn't stop giggling. He said we'll call you. \n"
     ]
    },
    {
     "name": "stderr",
     "output_type": "stream",
     "text": [
      " 83%|████████████████████████████████████▌       | 8296/10000 [8:02:45<1:18:26,  2.76s/it]"
     ]
    },
    {
     "name": "stdout",
     "output_type": "stream",
     "text": [
      "Just a normal day with a normal cup of coffee before arriving at my desk. I arrived at my favourite coffee shop, but the weather was a real bitch outside with all that wind and snow. It was absolutely a nightmare. \n",
      "\n",
      "I walked in, shivering from the cold, and immediately order a cup of cortado. While I was sitting at the table waiting for my order, my body started building up the need to sneeze. Also, I was very sensitive to temperature change, so from the hellish cold outside to the warm and cosy coffee shop was a huge change in temperature. \n",
      "\n",
      "For some reasons, politeness or whatever, I tried to hold my sneeze in (I didn't know why I even thought of doing so...). But the more I held it in, the more the sneeze built up. Eventually it got to the point that I have to release it, very loudly. \n",
      "\n",
      "The next thing I heard after my sneeze was a sequence of plates and cups falling on the floor, then couple of screams. Then a whole 10 seconds of silence. At that time I wished there was a hole so I \n"
     ]
    },
    {
     "name": "stderr",
     "output_type": "stream",
     "text": [
      " 83%|████████████████████████████████████▌       | 8307/10000 [8:03:22<1:29:02,  3.16s/it]"
     ]
    },
    {
     "name": "stdout",
     "output_type": "stream",
     "text": [
      "I am right handed. Opened the candy with my left hand. My brain was too slow to adapt to this change. Wasted a good piece of candy.\n"
     ]
    },
    {
     "name": "stderr",
     "output_type": "stream",
     "text": [
      " 83%|████████████████████████████████████▌       | 8315/10000 [8:03:46<1:24:49,  3.02s/it]"
     ]
    },
    {
     "name": "stdout",
     "output_type": "stream",
     "text": [
      "So I walked my kids to school and one of them brought their scooter. Scooters are big thing around this neighbourhood. I dropped them off and took the scooter back home with me. After I got to the top of the hill I got on and rode it because it was faster than walking. I got into it and started going really fast and I'm getting looks from people like \"what is this grown woman doing riding that kid's toy?\" I just kept on trucking until I hit a sewer grate and the front wheel went right into the opening. Boy, I tell ya, that was the first time I ever did a front flip on a scooter. I got my ass up off the ground and limped my stupid self home and now I got ice packs on my injuries. :(\n",
      "\n",
      "TLDR; I wiped out on my kid's scooter (27 yr old mom) \n"
     ]
    },
    {
     "name": "stderr",
     "output_type": "stream",
     "text": [
      " 83%|████████████████████████████████████▌       | 8319/10000 [8:03:58<1:18:57,  2.82s/it]"
     ]
    },
    {
     "name": "stdout",
     "output_type": "stream",
     "text": [
      "this is my first tifu post, i was flying to college, having just said goodbye to my mom. I was in a bit of a daze passing through security and left my earbuds in my pocket. they stopped me and the guy was sitting their holding his hand out like a high five telling me to stop in an accent. in a daze I highfived him and he just stared at me, then took me aside for the pat down. This happened 15 minutes ago, also from mobile so sorry for errors.\n"
     ]
    },
    {
     "name": "stderr",
     "output_type": "stream",
     "text": [
      " 83%|████████████████████████████████████▋       | 8331/10000 [8:04:34<1:36:13,  3.46s/it]"
     ]
    },
    {
     "name": "stdout",
     "output_type": "stream",
     "text": [
      "Tried to cook a small amount of chickpeas to go into Indian dish were having for dinner. Microwaved it for three minutes. It turns out peas do the same thing as popcorn given enough time. 3 minutes is more than enough time. If you're wondering what it looked like, it was like a Michael Bay movie in my microwave, but instead of fire, there was chickpeas; instead of shrapnel, there were chickpeas; instead of two teen heartthrobs running away while the whole thing happened behind them, there were chickpeas. On the upside, microwave is now clean. Apparently chickpeas and Mr. Clean do not just look alike.\n"
     ]
    },
    {
     "name": "stderr",
     "output_type": "stream",
     "text": [
      " 83%|████████████████████████████████████▋       | 8333/10000 [8:04:40<1:28:29,  3.19s/it]"
     ]
    },
    {
     "name": "stdout",
     "output_type": "stream",
     "text": [
      "I live in Canada and I am fluent in Danish.  I recently wrote an entire 1000 word essay about canadian history, but all in Danish and didn't realize this when I handed it in. Rip\n"
     ]
    },
    {
     "name": "stderr",
     "output_type": "stream",
     "text": [
      " 83%|████████████████████████████████████▋       | 8338/10000 [8:04:55<1:28:58,  3.21s/it]"
     ]
    },
    {
     "name": "stdout",
     "output_type": "stream",
     "text": [
      "This is currently underway as I type this.\n",
      "\n",
      "So a bit of back story. I'm a high school senior who thought it would be a good idea to join FBLA, (Future Business Leaders of America), because it looks good on a resume. Right? Maybe not after today...\n",
      "\n",
      "So I decide to join and do well enough to make it to state (today). So my group drives down to the city where state is and we start to get dressed. (Everyone dresses extremely formal, or else you will be disqualified) This is when I notice I left my shoes in my room at home. Now we're a good 2 hours out and there's no going back. \n",
      "\n",
      "So there I am, walking around all day with tennis shoes on waiting for my event. Praying that the judges won't notice. Well my group advisor \"advises\" me that I shouldn't risk it and should ask for someone's shoes. The problem being that I'm the only guy that came along. \n",
      "\n",
      "I start checking shoe sizes with the girls and (we'll call her Kate) Kate has a perfect match with me. And she's wearing black flats. So Kate a\n"
     ]
    },
    {
     "name": "stderr",
     "output_type": "stream",
     "text": [
      " 84%|████████████████████████████████████▊       | 8359/10000 [8:06:32<1:39:23,  3.63s/it]"
     ]
    },
    {
     "name": "stdout",
     "output_type": "stream",
     "text": [
      "Today was Memorial Day and my town always honored veterans by doing a parade. I'm in the marching band at my high school and we usually march down main street and play some songs.\n",
      "\n",
      "Yesterday my family hosted a reunion / graduation party for my sister, who graduated from college the weekend before. Everybody had a blast and went swimming in the pool, and I thought nothing of it. In hindsight I remember drinking a glass and a half of water after noon that day in 90 degree heat.\n",
      "\n",
      "Come memorial day, our power shuts off right after I wake up. I make myself a tiny breakfast of an uncooked bagel with cream cheese, smoked salmon, and cucumber. I neglected to drink water at breakfast like I normally do. I check my phone and see that the rain has made the First Selectman cancel the parade. In times like this, the band would report to town hall and do a ceremony inside.\n",
      "\n",
      "At 9:30 I get dressed in my heavy dark blue Polo shirt with my high school logo on it and my khaki pants. At 9:35 my family rep\n"
     ]
    },
    {
     "name": "stderr",
     "output_type": "stream",
     "text": [
      " 84%|████████████████████████████████████▉       | 8408/10000 [8:09:29<1:08:10,  2.57s/it]"
     ]
    },
    {
     "name": "stdout",
     "output_type": "stream",
     "text": [
      "Was at the dog park (am a dog walker) and the dogs were running around. I don't usually take tennis balls or anything because some dogs get obsessive and weird about them but sometimes they'll grab another dog's toy and run off with it. \n",
      "\n",
      "One of the other owners had some Chuck-It balls (think like, $6 each) and one of my dogs snagged one and brought it to the guy and they started playing fetch.\n",
      "\n",
      "As I was collecting the dogs to leave, I yelled to the guy,  \"Thanks for letting my dogs play with your balls!\"\n",
      "\n",
      "I burst out laughing (as did he) and had tears freeze to my face from laughing. \n",
      "\n",
      "Man, I have got to watch what I say.\n"
     ]
    },
    {
     "name": "stderr",
     "output_type": "stream",
     "text": [
      " 84%|█████████████████████████████████████       | 8417/10000 [8:09:59<1:31:26,  3.47s/it]"
     ]
    },
    {
     "name": "stdout",
     "output_type": "stream",
     "text": [
      "When I was nine years old, my family and I came over to America from Poland. I was placed into third grade during the second week, without knowing any English besides \"hello\" and \"thank you\". A few days later it was time for gym class. We had gym class back in Poland so I didn't think any different of it. My teacher told me to bring sneakers to class tomorrow, but me being young and not knowing any English didn't really think this through. So after school I went home and told my grandma (who lived in America for years now) that I needed Snickers for class tomorrow. My grandma was excited that I was making friends and was more than happy to help out. She drove me to Walmart and I picked out the biggest bag of Snickers available. The following day I went to class with the biggest smile on my face, carrying a huge bag of candy in my tiny hands. My teacher noticed me walking to class with no sneakers, just a bag of candy, she looked at me and immediately must have though that I was mentall\n"
     ]
    },
    {
     "name": "stderr",
     "output_type": "stream",
     "text": [
      " 84%|█████████████████████████████████████       | 8433/10000 [8:10:49<1:16:38,  2.93s/it]"
     ]
    },
    {
     "name": "stdout",
     "output_type": "stream",
     "text": [
      "It's been less than an hour and I already know I will *never* hear the end of this.\n",
      "\n",
      "Outside talking to GF, facing her and away from the alley behind our house. We are finishing up a conversation and she raised her hand in the \"gimme a high five!\" fashion. So I high fived her right there.\n",
      "\n",
      "Except she wasn't high-fiving me, our neighbor had just gotten home and she was *waving* to her.\n",
      "\n",
      "She has been following me around trying to high-five me since.\n",
      "\n",
      "TL/DR: High-fived GF while she was waving to the neighbor, will never live this down. Ever.\n"
     ]
    },
    {
     "name": "stderr",
     "output_type": "stream",
     "text": [
      " 85%|█████████████████████████████████████▏      | 8460/10000 [8:12:15<1:26:02,  3.35s/it]"
     ]
    },
    {
     "name": "stdout",
     "output_type": "stream",
     "text": [
      "We have a weekly assignment in a Genetics class of mine that involves finding a recent article involving genetics (Published within the last 4 months) and writing a summary of it. Since I procrastinate, every Thursday night I get on /r/science, sort by Biology and New, then pick the first article and use it for my paper. Four weeks in to school, my teacher keeps me after class and accuses me and another student in my class for cheating. We sit fairly close to each other, but I do not really talk to the guy, and I assumed she was referring to a test or something. She pulls out our four genetic current events and all four of the articles are exactly the same. We both shot each other a look of understanding, and convinced the teacher that we had been using the same source for our articles. Needless to say, I will not be finding my article on Reddit today.\n"
     ]
    },
    {
     "name": "stderr",
     "output_type": "stream",
     "text": [
      " 85%|█████████████████████████████████████▏      | 8461/10000 [8:12:18<1:25:34,  3.34s/it]"
     ]
    },
    {
     "name": "stdout",
     "output_type": "stream",
     "text": [
      "When I leave home in the morning I turn right out of my street and take an immediate left. Cars coming the other direction wanting to turn down the street I'm going down have to give way.\n",
      "\n",
      "Today I came out of the street as normal and put on my indicator to turn left, as I'm making my left I glance up quickly to see if the cars coming the other way have stopped to give way. They have and I go down the street. As soon as I get round the corner I realised that TIFU. There's a hearse in front of me. It's not empty either, there's a coffin and flowers. I look behind me and sure enough there's a procession of black cars. I'm in a funeral procession and there's nowhere for me to stop to let the cars behind pass me. It's a long, awkward road made even longer because of how slow the hearse is moving. \n"
     ]
    },
    {
     "name": "stderr",
     "output_type": "stream",
     "text": [
      " 85%|█████████████████████████████████████▎      | 8491/10000 [8:14:24<1:53:43,  4.52s/it]"
     ]
    },
    {
     "name": "stdout",
     "output_type": "stream",
     "text": [
      "Hi guys. First post on Reddit, but I think this is a good way to start.\n",
      "\n",
      "Yesterday I was doing some shopping in Ross. Yeah, I know Ross isn't the world's classiest store, but hey, they have some deals. As normal for San Francisco, I had a jacket, this time a sport coat, with me. I was shopping for a couple pairs of shoes. It gets kind of tedious trying to do that with a coat in your arms, so I set it on the shoe rack. As I set it down, I thought to myself \"you better not forget that,\" but I had no idea what would transpire. \n",
      "\n",
      "Along I went through my size, which span a few aisles. I did a little more shopping, when I felt that feeling in the back of your mind that tells you you forgot something. I didn't have my coat, so I go back to get it.\n",
      "\n",
      "It was gone. Of course. So I find the nearest salesperson, hoping it's in the lost and found, or maybe they can check the security cameras to see where it went. He knows exactly my coat! (Hooray!) Except he looks a little uneasy, so I ask if he kno\n"
     ]
    },
    {
     "name": "stderr",
     "output_type": "stream",
     "text": [
      " 85%|█████████████████████████████████████▍      | 8519/10000 [8:16:22<1:15:54,  3.08s/it]"
     ]
    },
    {
     "name": "stdout",
     "output_type": "stream",
     "text": [
      "I went to my friend's house for the first time, and her sister (who I had never met before) was hanging out with us.  As we were sitting in her living room, her dog walks in and starts nosing around.  About ten minutes later, her dad comes into the room and says, \"Oh, by the way, this is Carly,\" and I totally thought **he meant the dog's name was Carly** and I said, \"I know, she's a cute dog.\" \n",
      "\n",
      "My friend quietly said, \"Our dog's name is Shadow.\"\n",
      "No one laughed.  No one said it was okay.  It was a mildly awkward situation that turned *really* awkward **really** quickly.\n"
     ]
    },
    {
     "name": "stderr",
     "output_type": "stream",
     "text": [
      " 85%|█████████████████████████████████████▌      | 8542/10000 [8:17:34<1:15:12,  3.09s/it]"
     ]
    },
    {
     "name": "stdout",
     "output_type": "stream",
     "text": [
      "Yea. Really. I was trying to be helpful by giving him my arm to help him across a difficult junction and then along the street. I was so concerned with making sure he didn't trip on the dodgy paving stones that I didn't take into account our width. He bounced off the post with his shoulder and I felt like a complete twat. Woops. \n"
     ]
    },
    {
     "name": "stderr",
     "output_type": "stream",
     "text": [
      " 86%|█████████████████████████████████████▋      | 8556/10000 [8:18:47<2:57:48,  7.39s/it]"
     ]
    },
    {
     "name": "stdout",
     "output_type": "stream",
     "text": [
      "The nice lady at the dog grooming place talked me into getting the dog a dinosaur cut.....bad choice, here are the pictures\n",
      "\n",
      "http://imgur.com/3QSfAU3\n",
      "\n",
      "\n",
      "http://imgur.com/HEcP5Yf\n",
      "\n",
      "\n",
      "http://imgur.com/iXkX2yO\n",
      "\n",
      "Now you know who's in the doghouse, it's me\n",
      "\n"
     ]
    },
    {
     "name": "stderr",
     "output_type": "stream",
     "text": [
      " 86%|███████████████████████████████████████▍      | 8582/10000 [8:19:59<56:51,  2.41s/it]"
     ]
    },
    {
     "name": "stdout",
     "output_type": "stream",
     "text": [
      "So about an hour ago I was getting ready for bed and saw a good sized spider on the wall. Naturally I picked up something to swat it with and give it the ol left hook. The spider falls and I pick it up with a napkin, throw it in the toilet with said napkin, and close the lid. \n",
      "\n",
      "Take a shower, fix a quesadilla, eat quesadilla, play with the idea of making another quesadilla. Now I'm off to bed, but I should pee so I don't have to wake up early to do it. Open lid, spider is gone. The napkin is still there so I know I didn't flush, and it didn't sink because spiders float, everyone knows that. Now I have to go to sleep knowing there is a spider, healing it's wounds, becoming 10 times stronger in the process, planning its revenge on me as I sleep. \n",
      "\n",
      "Tldr: thought I killed a spider, only made it mad\n"
     ]
    },
    {
     "name": "stderr",
     "output_type": "stream",
     "text": [
      " 86%|███████████████████████████████████████▍      | 8583/10000 [8:20:01<52:55,  2.24s/it]"
     ]
    },
    {
     "name": "stdout",
     "output_type": "stream",
     "text": [
      "My brother went to the optometrist today and found out he was wearing my glasses and I was wearing his. For three years. They somehow got switched when we first got them\n"
     ]
    },
    {
     "name": "stderr",
     "output_type": "stream",
     "text": [
      " 86%|████████████████████████████████████▏     | 8606/10000 [9:18:10<47:55:33, 123.77s/it]"
     ]
    },
    {
     "name": "stdout",
     "output_type": "stream",
     "text": [
      "I work in publishing.\n",
      "\n",
      "Part of my job involves sending promotional material to a distributor of ours in Dubai. Last month, I carefully made a package and decided to use a web-based translator to write the message, \"Delicate, Do Not Bend\" in Arabic.\n",
      "\n",
      "I called them up the this afternoon to ensure the package arrived safely and they confirmed its' receipt. However, they said that all couldn't stop laughing in the office because I'd marked the package with in large, bold capital letters with \"No translation found\" in Arabic.\n"
     ]
    },
    {
     "name": "stderr",
     "output_type": "stream",
     "text": [
      " 86%|██████████████████████████████████████      | 8644/10000 [9:20:29<1:22:18,  3.64s/it]"
     ]
    },
    {
     "name": "stdout",
     "output_type": "stream",
     "text": [
      "This didn't happen today, it happened many years ago but I thought you guys would like to laugh at my stupidity as a child.\n",
      "\n",
      "We were on a day trip to a theme park which included a hedge maze. We all decided to split up into our own 2 man teams and have a competition to see who could get to the end of the maze first.\n",
      "\n",
      "The maze had those wooden trestles along the side making it easy to climb up the side of the hedges. So after a little while of navigating through the maze, my friend and I got fed up with the small amount of progress we had made through this massive maze, decided we would climb the trestles to try and see a route to the exit. In our infinite wisdom we thought as we have already climbed up, why not just climb over to the next path as it seemed to be the correct way to the exit, so I went first and started to haul myself over the hedge. I should point out that these hedges are easily 8 to 10 feet tall. So as I make my way over the hedge my trousers get caught on the top of \n"
     ]
    },
    {
     "name": "stderr",
     "output_type": "stream",
     "text": [
      " 87%|██████████████████████████████████████▎     | 8709/10000 [9:23:52<1:22:02,  3.81s/it]"
     ]
    },
    {
     "name": "stdout",
     "output_type": "stream",
     "text": [
      "TIFU by waving at a girl I thought I knew. I was outside on a break from work when my friend and another girl came my way. I gave my friend a nice wave and a smile, but as I put my hand down, I realized it was not my friend, but a stranger. *Oh, this is awkward*, I thought. The girl I waved to looked at me quizzically, then to her friend. Her friend then looks my way, and says, \"She doesn't recognize you, she just hit her head pretty bad\" The girl I waved to breaks down sobbing, thinking that I'm someone she is supposed to know. Her friend tries to comfort her, then says, \"Come on, lets go to the hospital\". And they left before I could recover from my shock and say something. I still feel bad about it :( She'll get better and see all of her friends again wondering, *who the fuck waved at me that day?*\n",
      "\n",
      "TL;DR TIFU by waving at a girl with a concussion who I thought I knew. \n"
     ]
    },
    {
     "name": "stderr",
     "output_type": "stream",
     "text": [
      " 87%|██████████████████████████████████████▎     | 8714/10000 [9:24:08<1:07:11,  3.13s/it]"
     ]
    },
    {
     "name": "stdout",
     "output_type": "stream",
     "text": [
      "I was looking for my iPhone at 5am this morning when leaving for work.  Everyone else in the house was quietly sleeping. Couldn't find the phone so used Find Phone.  I figured it could find the phone fast enough that it wouldn't disturb anyone.  \n",
      "\n",
      "Within a few seconds I was greeted by a massive sound wall of BEEP BEEP BEEP coming from all around me at 120 decibels.  The dog went ballistic.  My wife woke up and and started yelling something but I could only hear every second word between the BEEPs.  Then the children came running into our room from their bedroom crying.  I figured out what was going on and went into the living room to turn off the stereo.  Couldn't find the remote in my dazed state so in desperation pulled the plug from the wall.  Silence.  Apart from the dog barking, wife yelling and children crying.  \n",
      "\n",
      "Last night I had been streaming Spotify to our stereo system through AirPlay.  It is a powerful stereo with speakers mounted all over the house.  I remember that the vo\n"
     ]
    },
    {
     "name": "stderr",
     "output_type": "stream",
     "text": [
      " 87%|██████████████████████████████████████▎     | 8717/10000 [9:24:16<1:02:15,  2.91s/it]"
     ]
    },
    {
     "name": "stdout",
     "output_type": "stream",
     "text": [
      "I am a fourth grade teacher and was giving instructions for a non fiction reading assignment.  I told them to pick two biomes and make a Venn diagram comparing and contrasting the climate, animals, plants, etc.  One kid raised his hand and asked if he could include other facts he knew.  I said yes.  Being a troublemaker, he then asked \"So if we do the Arctic tundra we can say that Santa lives there?\" Without thinking, I replied \"I'd like to stay away from fictional characters.\"  There was a collective gasp of horror from my class.  I then started rambling about the Easter bunny and the grasslands in the hopes of distracting them. No phone calls from parents yet but we'll see...\n"
     ]
    },
    {
     "name": "stderr",
     "output_type": "stream",
     "text": [
      " 87%|██████████████████████████████████████▍     | 8728/10000 [9:24:50<1:13:03,  3.45s/it]"
     ]
    },
    {
     "name": "stdout",
     "output_type": "stream",
     "text": [
      "So this actually happened this evening. My son fell off of a bicycle at preschool and got a small scrap on his neck. He is very tough so it didn't bother him much but the teacher put a bandaid on it to keep him from bleeding on other students while they played. After we got home it was getting close to bath time so I talked him into letting me take the bandaid off so I could clean the scrape. In my brilliance I didn't think twice about how I had been walking around on carpet with socks on. As I reached for the bandaid the static that had built up in me decided to discharge right into my 3 year old son's neck. I will never forget that look of betrayal that he gave me. After bath time I saved the day, out so I thought, by putting a Thor bandaid on it. This was screw up number two in the ideal because he wanted a Spiderman bandaid.\n",
      "Edit: Just to clarify to those concerned about the teacher beating the kids. He did not scrape his neck on the ground. He fell onto another toy. I appreciate y\n"
     ]
    },
    {
     "name": "stderr",
     "output_type": "stream",
     "text": [
      " 88%|██████████████████████████████████████▌     | 8760/10000 [9:26:34<1:07:38,  3.27s/it]"
     ]
    },
    {
     "name": "stdout",
     "output_type": "stream",
     "text": [
      "I have very recently become responsible for grocery shopping for my very small family of 2. This shouldn't be that difficult - I love shopping for food almost as much as I love eating it. I share a grocery app with my partner who was was very helpful this week and included instructions on how to tell if the fruit (cantaloupe melon) he wanted was ripe. These instructions might seem unnecessary to some - but I have spent almost 3 decades of my life *not eating fruit*. This has been slowly changing, but I have never actually purchased fruit on my own and after an embarrasing debacle with navel oranges last week we were't taking chances. So, I approached the mystery section of the store with apprehension, but armed with knowledge (\"should smell sweet\"). Much to my surprise, the smooth green melon I picked up from their heaping pile didn't smell sweet as described - so I proceeded to aggressively smell every smooth green melon I could get my hands on. Precariously pyramiding melons may be a\n"
     ]
    },
    {
     "name": "stderr",
     "output_type": "stream",
     "text": [
      " 88%|██████████████████████████████████████▋     | 8790/10000 [9:29:03<1:01:57,  3.07s/it]"
     ]
    },
    {
     "name": "stdout",
     "output_type": "stream",
     "text": [
      "This literally just happened.\n",
      "  \n",
      "So I recently started working in a pediatric therapy facility and everything has been going great. I mean, sure, I had jammed the printer once, and left the intercom on, but nothing big - till today. \n",
      "I was talking to a coworker when I started playing with a button underneath my desk - no big, the other desk has a button to open the doors and I figure this one is just missing the white front button. My coworker leaves for the day and I continue browsing reddit on my phone. Suddenly someone calls me from the main office that the panic button had been triggered, not once, not twice,  but three times. She mentions how she can't call off the cops (now that I explained what happened) so she tells me to just tell them its okay. I legit thought it was going to be maybe one or two cops. Nope, in less than 10 minutes the whole clinic was surrounded by cop cars, in total 7 police officers. I explained what happened, they had a laugh, I had a red face, and they we\n"
     ]
    },
    {
     "name": "stderr",
     "output_type": "stream",
     "text": [
      " 88%|██████████████████████████████████████▋     | 8798/10000 [9:29:25<1:03:10,  3.15s/it]"
     ]
    },
    {
     "name": "stdout",
     "output_type": "stream",
     "text": [
      "As many know, Hostess declared bankruptcy in 2012, when I was 16. Hostess was a large part of my childhood. Twinkies were a delicacy, only consumed during summer club swim meets as a good luck tradition. \n",
      "\n",
      "While a lesser part of my life in my teens, a yellow, creme filled part of me was now lost to the sands of time. But a thought popped into my head, that this deep seated nostalgia must be shared by millions across the globe. I watched the news of gas stations and grocery stores running dry, Ho-Hos and SnoBalls selling like hotcakes on craigslist, and it was then that I knew what to do. \n",
      "\n",
      "I began buying up every hostess product I could find. I sat on craigslist, haggling for the critically endangered species of a childhood that was becoming a distant memory. I drove 3 hours to spend 75 dollars on exactly four Twinkies. A pack of ding dongs set me back 20. In a few short days I had spent almost 400 dollars, and accumulated at least one specimen of every Hostess product sold in America,\n"
     ]
    },
    {
     "name": "stderr",
     "output_type": "stream",
     "text": [
      " 88%|██████████████████████████████████████▊     | 8829/10000 [9:31:01<1:09:47,  3.58s/it]"
     ]
    },
    {
     "name": "stdout",
     "output_type": "stream",
     "text": [
      "We have a \"red plate\" that was given to us for our wedding. The tradition with the red plate is that you use it at special occasions and you mark the date on the back with a \"permament\" marker. The front of the plate has \"You Are Special Today\" written around the edge.  We hadn't used and marked the plate that much in the last decade, but we had a couple of milestone tags on there, like buying our first house, milestone anniversaries, et c.  After we used it at our first Christmas party in our new house this past weekend, we put it in the dishwasher and didn't think anything about it.  Well, the \"permanent\" marker isn't so permanent, as the plate is now as clean as new.  My wife and I are both taking responsibility for it, and our new message on the plate is \"12/26/2015 - Reset Day. The day we discovered that the ink will not stand up to the dishwasher\"\n"
     ]
    },
    {
     "name": "stderr",
     "output_type": "stream",
     "text": [
      " 88%|████████████████████████████████████████▋     | 8846/10000 [9:31:56<59:29,  3.09s/it]"
     ]
    },
    {
     "name": "stdout",
     "output_type": "stream",
     "text": [
      "So 5-6 days ago my family and I bought a trampoline for the kids to play on (Im 17 and it was a birthday present for my two sisters that I got). It was all fine and dandy until I set it up, go inside to look at the news on T.V to see storm warnings for 190-210kph winds\n",
      "(kilometers per hour).Today, I looked out the window of my bedroom to noticed that the trampoline was bouncing around so I went out to disassemble it.\n",
      "\n",
      "This is the FU.\n",
      "\n",
      "As I lifted the trampoline to loosen a screw, the wind caught the trampoline and it went flying 20 metres in the sky and right into my neighbors nice new car breaking the windscreen.\n",
      "\n",
      "TL;DR I bought a trampoline before a storm, tried to disassemble it during the storm... Flew away and wrecked my neighbors new car.\n"
     ]
    },
    {
     "name": "stderr",
     "output_type": "stream",
     "text": [
      " 89%|████████████████████████████████████████▊     | 8872/10000 [9:33:14<57:03,  3.03s/it]"
     ]
    },
    {
     "name": "stdout",
     "output_type": "stream",
     "text": [
      "Ok so I'm currently in the process of applying for university.\n",
      "\n",
      "And was luckily invited to an interview for my top choice! (YAY!)\n",
      "Well... the university is known to be one of the best in the country for the subject I want to do. I was super eager to impress!\n",
      "\n",
      "Anyway, I arrive and discover that it is actually a huge group interview. Fair enough... \n",
      "\n",
      "We were told to take a seat in this big ass room so I go looking for one that seems like a good spot.\n",
      "\n",
      "I walked towards what I thought was more of the room... \n",
      "\n",
      "Only it wasn't the end of the room. It was actually a GIANT freaking mirror which covered the whole length of the bottom wall making the room seem double its size!\n",
      "\n",
      "I walked straight into the mirror, infront of a room full of people.\n",
      "And as if that wasn't bad enough, thinking I'd just bumped into someone I then APOLOGISED TO MYSELF. \n",
      "\n",
      "Please note that I also have a pretty loud voice so basically everyone heard me.\n",
      "I turned around after my realisation that I am in fact an idiot and we\n"
     ]
    },
    {
     "name": "stderr",
     "output_type": "stream",
     "text": [
      " 89%|████████████████████████████████████████▊     | 8879/10000 [9:33:35<55:16,  2.96s/it]"
     ]
    },
    {
     "name": "stdout",
     "output_type": "stream",
     "text": [
      "*Short and sweet*  \n",
      "  \n",
      "I'm planning on going on a little short break soon.  \n",
      "Went to find my passport - couldn't find it.  \n",
      "Searched EVERYWHERE for it - couldn't find it.  \n",
      "  \n",
      "Went on HM Passport Website. Cancelled passport.  \n",
      "Applied for new passport. Paid for new passport.  \n",
      "  \n",
      "Closed browser,  \n",
      "stood up from desk,  \n",
      "turned around  \n",
      "Said \"there's my Passport!\" as it's sitting in plain sight on the window ledge.  \n",
      "    \n",
      "*TL;DR - Passport office should ask for form ID-10-T*\n"
     ]
    },
    {
     "name": "stderr",
     "output_type": "stream",
     "text": [
      " 89%|████████████████████████████████████████▉     | 8904/10000 [9:34:56<56:35,  3.10s/it]"
     ]
    },
    {
     "name": "stdout",
     "output_type": "stream",
     "text": [
      "Basically, i was being handed my change at a store when the cashier extends his arms with a clenched fist, as if he was asking for a fist bump. Now being the derp i am, i fist bump him. The look of confusion on his face triggered my social anxiety. That was the moment i knew, i fucked up. Nevertheless, he and his co-workers laughed(i was so embarrassed) and explained that he was trying to give me my change.\n",
      "\n",
      "PS: He did appreciate the fist bumping though, so thats a win! \n"
     ]
    },
    {
     "name": "stderr",
     "output_type": "stream",
     "text": [
      " 89%|████████████████████████████████████████▉     | 8912/10000 [9:35:22<55:06,  3.04s/it]"
     ]
    },
    {
     "name": "stdout",
     "output_type": "stream",
     "text": [
      "Today I woke up like any other school day and got ready and everything. Then I go to catch my bus and end up waiting for 20 mins. I think I missed my bus and I go home to catch a ride from my dad. (My mom already left) He takes me all the way to school lecturing me the whole ride. When we get there, he drops me off and leaves. It was then that I realized that we were off of school. So I have to call him back to pick me up. \n",
      "\n",
      "Edit: To those of you wondering, yes, I am still alive!\n"
     ]
    },
    {
     "name": "stderr",
     "output_type": "stream",
     "text": [
      " 89%|█████████████████████████████████████████     | 8926/10000 [9:36:03<52:22,  2.93s/it]"
     ]
    },
    {
     "name": "stdout",
     "output_type": "stream",
     "text": [
      "So this happened earlier today. I live on the east coast of the US, and today we got hit by a surprise snowstorm. It was the big, wet snowflakes that stick to everything. I was meant to head to the next town over with my friend (Joe) to play Dungeons & Dragons with a group of friends, so I figured I'd be smart and head up there a little early to avoid hazardous road conditions. Mind you the snow was already coming down hard already, but it was nothing I hadn't driven in before and the roads were only just starting to accumulate at that point. \n",
      "\n",
      "So there we were, just getting off the on ramp to get on the highway leading to the next town over. I flipped on my windscreen wipers because the snow was starting to stick to the glass and melt making it impossible to see where I was going. \n",
      "\n",
      "My wipers were already in bad shape. The blades are worn out and the motors were really starting to struggle, but I figured 'eh, it'll be fine for one last ride.' \n",
      "\n",
      "My worst mistake of the day.\n",
      "\n",
      "As soon as\n"
     ]
    },
    {
     "name": "stderr",
     "output_type": "stream",
     "text": [
      " 89%|█████████████████████████████████████████     | 8927/10000 [9:36:06<51:28,  2.88s/it]"
     ]
    },
    {
     "name": "stdout",
     "output_type": "stream",
     "text": [
      "Just a few hours ago I got out of work. I work in a bank that shares a parking lot with the largest mall in the area. My car is a 96 Buick. After skootching in being careful not to snag my sweater vest I roll down my windows and reach for my seatbelt.\n",
      "This is where the TIFU happens.\n",
      "I firmly grasp the belt with my left hand and with some strange insurmountable might, whip my arm and the seatbelt round myself, it activates the safety locking mechanism halting my arm from swinging at which I manage to punch the center of the steering wheel sounding the horn. It made an old lady jump and drop her purse who was right in front of my car. The noise and sudden stop also caused me to let go of the belt, which flew back hitting me in the nose causing me to let loose the most girly yelp I have ever heard.\n",
      "This caused other people to stop and look at me as if I was getting ready to attack or something...\n",
      "\n",
      "TL;DR\n",
      "I was excited to leave work and attacked a steering wheel and my face with a seatbelt.\n"
     ]
    },
    {
     "name": "stderr",
     "output_type": "stream",
     "text": [
      " 90%|███████████████████████████████████████▍    | 8954/10000 [9:37:43<1:00:50,  3.49s/it]"
     ]
    },
    {
     "name": "stdout",
     "output_type": "stream",
     "text": [
      "This morning I sit down and notice my hamster is sleeping by her hamster toilet. Which is strange because she normally sleeps in her pouch which is all warm and cosy. \n",
      "\n",
      "I go to check on her to see if she's ok, doesn't look like she's moving. I open the cage and nudge her to try and wake her.... Nothing. At this point I figured she's died, she is getting on. I call the SO to tell her the bad news. \n",
      "\n",
      "I went to find a box to put her in to bury. I picked up \"the body\" out of the cage. As I did it looked like her chest took a breath and twitched a little bit. Something didn't seem right, the SO's mum told me this morning to check she wasn't just hibernating. I've had a fair few hamsters in my life and none have ever hibernated. I didn't think it was something they did as pets given they have warm places to sleep, plenty food and water. \n",
      "\n",
      "Anyways, I decided to check she was actually dead and every so often it would look like she was taking a breath. After a quick Google it suggested to warm \n"
     ]
    },
    {
     "name": "stderr",
     "output_type": "stream",
     "text": [
      " 90%|█████████████████████████████████████████▎    | 8993/10000 [9:39:43<54:57,  3.28s/it]"
     ]
    },
    {
     "name": "stdout",
     "output_type": "stream",
     "text": [
      "Today I decided I wanted some Subway. So I went on Google maps and navigated to the nearest Subway around me. I don't know this area well and Google navigated me to the Subway on a Military base. As soon as I realized where I was a car boxed me in. I then proceeded to the gate and told the man I wanted some Subway. I'm now in some kind of database and I never got my Subway. \n",
      "\n",
      "TLDR: Tried eating Subway, navigated to a military base, placed on a list.\n"
     ]
    },
    {
     "name": "stderr",
     "output_type": "stream",
     "text": [
      " 90%|█████████████████████████████████████████▍    | 9007/10000 [9:40:26<49:56,  3.02s/it]"
     ]
    },
    {
     "name": "stdout",
     "output_type": "stream",
     "text": [
      "TIFU when I was super tired and decided to take a half hour afternoon nap. I decided to listen to rain and thunder noises to calm myself and fall asleep easily. What can I say? It worked! I didn't want to get up, but an hour and a half later I got my ass out of bed and put on my glasses.\n",
      "\n",
      "See the problem is, when you take a long nap listening to rain sounds, you can't actually hear when it starts raining. So for an hour and a half it poured outside with rain coming in my open windows in buckets, *soaking* my coach and sitting on the hardwood floor soaking in. \n"
     ]
    },
    {
     "name": "stderr",
     "output_type": "stream",
     "text": [
      " 90%|█████████████████████████████████████████▍    | 9012/10000 [9:40:42<53:04,  3.22s/it]"
     ]
    },
    {
     "name": "stdout",
     "output_type": "stream",
     "text": [
      "*Mandatory \"this happened about a year ago\" disclaimer.*\n",
      " \n",
      "So I woke up one morning and made some killer pancakes.  Now when I say killer, I mean just purely outstanding and decadent pancakes.  Pancakes so good they could solve the middle east disputes.  Now that you understand how good these pancakes are, we may proceed.\n",
      " \n",
      "As an unapologetic food-picture-taker, I of course uploaded a picture of said pancakes to my FB account.  These were some good pancakes afterall.\n",
      " \n",
      "Not 20 minutes later, a friend of mine posts something to her wall relating to pancakes.. I don't read it, not thoroughly at least, I'm still in pancake nirvana after my breakfast, so I simply comment on her status \"My profile -> Mobile uploads -> Pancakes, nuff said\".\n",
      " \n",
      "Within minutes I start getting people asking me questions:\n",
      " \n",
      "\"Wait.. are you serious?\"\n",
      "\"Dude!!!\"\n",
      "\"OMG are you for real?\"\n",
      " \n",
      "I don't know what is going on.  I'm still in a food coma from the stack of unbelievably fluffy gifts from heaven I had consumed.  I\n"
     ]
    },
    {
     "name": "stderr",
     "output_type": "stream",
     "text": [
      " 91%|█████████████████████████████████████████▋    | 9056/10000 [9:42:55<54:15,  3.45s/it]"
     ]
    },
    {
     "name": "stdout",
     "output_type": "stream",
     "text": [
      "Back in 2008’ish I received a call from a “small” ad agency in Israel, they had seen a photo I posted online and wanted to use it in a “small ad” and would compensate me by giving me credit (gee golly that sounds spiffy). Whilst communicating they accidentally CC’d me on an email. I forwarded it to an Israeli friend to translate it. The company was laughing about how they were going to screw me. Thinking I’d one-up them We ended up negotiating $1000 to be put into my PayPal (which they did). I was pretty content with the deal and not allowing them to screw me. \n",
      "Unbeknownst to me, many years later I found out the company was Hyundai and the ad has gone on to gain a good bit of recognition for its creativity. \n",
      "But hey, [at least I got credit](http://www.adsoftheworld.com/media/print/hyundai_dog) \n",
      "\n",
      "TL:DR: sold a photo for less money than I should have and found out the company was Hyundai years later\n"
     ]
    },
    {
     "name": "stderr",
     "output_type": "stream",
     "text": [
      " 91%|███████████████████████████████████████▉    | 9080/10000 [9:44:15<1:01:16,  4.00s/it]"
     ]
    },
    {
     "name": "stdout",
     "output_type": "stream",
     "text": [
      "Well to start, lets just say I like to think I am crafty....I really am not..I wanted to try and make some cool christmas crafts and thought, hey lets try using clay.\n",
      "\n",
      "Ok so I go to my local dollar store and buy different coloured clay.\n",
      "\n",
      "I make cool stuff out of clay.\n",
      "\n",
      "Then I think...wouldn't it be cool to make like a really big santa face. So I get one of these [bottles](http://static1.1.sqspcdn.com/static/f/106093/18557645/1338784514520/Skull+Bottle.jpg?token=R6ruwivHW4fPiD25bcb937btlDs%3D) and think hey I can clay over this and then cook it in the oven to make it hard...cause thats how clay is hardened right? by heat. \n",
      "\n",
      "Anyway as I said before I think I am crafty but I am not.\n",
      "\n",
      "So I take the skull bottle and cover it in clay...I make it look really cool...just like santa lol\n",
      "\n",
      "I put it in my oven..right on the racks.\n",
      "\n",
      "I put the heat on low (200 F)\n",
      "Why low? Well I thought that if I heated it to fast the clay would harden on the outside but the inside would still be soft...(only thing \n"
     ]
    },
    {
     "name": "stderr",
     "output_type": "stream",
     "text": [
      " 91%|█████████████████████████████████████████▉    | 9111/10000 [9:45:52<40:40,  2.75s/it]"
     ]
    },
    {
     "name": "stdout",
     "output_type": "stream",
     "text": [
      "This happened a few hours ago. I was working on my push mower. I placed my cell phone into the shade. The shade made by the mower I was working on. I didn't want the sun to hurt the phone. \n",
      "\n",
      " I fixed the mower. \n",
      "\n",
      "I Jumped up, started the mower. A second later a large \"POP\" was made by the mower. I thought I had something majorly wrong with the mower. It took me a minute to understand that the parts all over the driveway were not in fact part of the mower but part of the cell phone.\n",
      "\n",
      "I destroyed my cell phone...and made the wife irate. \n",
      "\n",
      "Edit: Pic: https://imgur.com/a/MafkU\n",
      "\n"
     ]
    },
    {
     "name": "stderr",
     "output_type": "stream",
     "text": [
      " 91%|█████████████████████████████████████████▉    | 9121/10000 [9:46:25<44:16,  3.02s/it]"
     ]
    },
    {
     "name": "stdout",
     "output_type": "stream",
     "text": [
      "This happened 5 minutes ago from this posting. Yay. So there's this new guy whose supposed to come in right next to my desk. I only work Mon, Tues, and Fri, so I haven't been to work in two days. \n",
      "\n",
      "I see this guy sitting at the new guys desk and think \"Hey, he must have just come in this week instead of next week.\" so naturally I introduce myself. Problem is I met the guy last week, and spent an hour with him... In my defense he wasn't wearing a hat last time. We laughed it off, but I still feel like a moron. \n",
      "\n",
      "Tl;Dr: Introduced myself to my coworker for the second time in a week.\n"
     ]
    },
    {
     "name": "stderr",
     "output_type": "stream",
     "text": [
      " 91%|█████████████████████████████████████████▉    | 9123/10000 [9:46:31<46:29,  3.18s/it]"
     ]
    },
    {
     "name": "stdout",
     "output_type": "stream",
     "text": [
      "I recently bought a new house, and as a gift, my sister decided to buy us a nice indoor plant. You know, one of those nice tall grassy types with those big white flowers. I didn't think much of it, said thank you and my wife put it in the hallway thats near the front door so it could get some light and be seen by our guests. \n",
      "\n",
      "We've never been the green thumb type, but I know that when a plant is flowering, that it needs a decent amount of water to survive. So every day before work, I would take a cup of water and dump it into the \"soil\" before I left for work. I would come home every night and the thing would look as dry as a bone. But the flowers stayed in bloom and the daily watering seemed to be keeping them thriving. \n",
      "\n",
      "I got home the other day from work, and to my surprise, one of the leaves started to fall off. My plant was finally started to wilt. I went to go pick up the leaf to throw it in the trash, and I realize that its a piece of frigin plastic.  I had been duped.\n",
      "\n",
      "I lift \n"
     ]
    },
    {
     "name": "stderr",
     "output_type": "stream",
     "text": [
      " 91%|██████████████████████████████████████████    | 9134/10000 [9:47:04<40:10,  2.78s/it]"
     ]
    },
    {
     "name": "stdout",
     "output_type": "stream",
     "text": [
      "So, I have picked up this habit of saying \"Lovely chatting with you\" after talking to people. \n",
      "\n",
      "I was at a networking event, and chatting about the work I will be beginning in the next month. I some how mixed up the words \"See you later\" and \"Lovely chatting with you\" and resulted in my telling my 60 year old PhD Supervisor \"Love you later\". The worst part is that, I didn't notice until I had walked away. \n",
      "\n",
      "So, that is a thing now.\n"
     ]
    },
    {
     "name": "stderr",
     "output_type": "stream",
     "text": [
      " 92%|████████████████████████████████████████▎   | 9167/10000 [9:49:13<1:05:30,  4.72s/it]"
     ]
    },
    {
     "name": "stdout",
     "output_type": "stream",
     "text": [
      "This happened last night, but I'm able to see the humour in it now. \n",
      "\n",
      "I live in a basement suite in one of the scarier parts of town, I live with my fiancé and right now the upstairs suite is vacant. It's great, we can party on weekends and not worry about bothering anyone. \n",
      "So last night we're sitting around watching the hockey game and we hear this muffled crash sound. We look at each other, because it definitely came from in the house. I'm absolutely terrified that someone is squatting upstairs, maybe a serial killer. I'm convinced the noise came from the stairwell and we're now trapped. \n",
      "\n",
      "My fiancé wanted to check it out, but I begged him not too. So we called the police and the landlord and explained the situation. They showed up, confirmed there was no signs of forced entry outside, no lights, no movement, everything looked normal. So my fiancé opened our door into the stairwell, it's empty as well, open the external door and speak to the police, I'm still freaking out. The landl\n"
     ]
    },
    {
     "name": "stderr",
     "output_type": "stream",
     "text": [
      " 92%|██████████████████████████████████████████▎   | 9201/10000 [9:50:59<41:20,  3.10s/it]"
     ]
    },
    {
     "name": "stdout",
     "output_type": "stream",
     "text": [
      "This happened back during my freshman year of high school, 9-ish years ago. \n",
      "\n",
      "I wrote out an essay in wordpad because my family was too poor at the time to buy the Microsoft Office suite (the next day I found out what OpenOffice was). The teacher wanted us to use our new-fangled school emails to send our essays to him, and he would then print them off and hand them back to us in class, graded. \n",
      "\n",
      "Super swell right? Poor kid didn't have to go to Kinko's or deal with the school librarians in order to print off an assignment.  \n",
      "\n",
      "Well, back to wordpad. If anyone has played with it, you'll remember that you can keep writing on one line forever, and you had to push enter to go down to the next line so that everything would stay in the box. Well I did this, and I thought that it would all sort itself out when I sent it to my teacher. It didn't.\n",
      "\n",
      "Apparently my teacher sent all of the assignments to the printer, and then proceeded to do other administrative stuff, only to find a few essays print\n"
     ]
    },
    {
     "name": "stderr",
     "output_type": "stream",
     "text": [
      " 92%|██████████████████████████████████████████▍   | 9212/10000 [9:51:31<39:01,  2.97s/it]"
     ]
    },
    {
     "name": "stdout",
     "output_type": "stream",
     "text": [
      "About a year and a half ago, I bought an amazing ceiling fan. It kept me cool when it was hot, and warm when it was cold (it had a heating option). After about 4 months of use, it stopped working. I tried everything to fix it. Eventually I just became lazy and gave up. Then one day, my niece comes over, walks into my room, and says she likes my fan. I thank her and tell her sadly it's broken. She says, \"Let me try\", and walks over to the remote for the fan. She tried to turn it on but it doesn't work. Then she walks over to the two light switches in my room, and flicks them. Oh my god. This girl is a genius. She turns on the fan and I feel it's heavenly gusty wind on my fan deprived face. This girl is an angel.\n",
      "\n",
      "Tl;dr: Thought my fan was broken for a year, my 8 year old niece turns on a light switch and makes my fan work again. I'm dumb.\n"
     ]
    },
    {
     "name": "stderr",
     "output_type": "stream",
     "text": [
      " 93%|██████████████████████████████████████████▋   | 9275/10000 [9:54:45<37:38,  3.11s/it]"
     ]
    },
    {
     "name": "stdout",
     "output_type": "stream",
     "text": [
      "Little girl dog was a bundle of energy at the shelter, got her home and the next morning she just laid around.  Not puppy like activity at all.   Took her that day to get checked at the vet, they said she might have the Parvovirus.   So,   off to another vet that handles the Parvo (it's highly infectious) where they say it might just be a false positive as she had her Parvo vaccination the day before we got her.   Spent $600 on xrays, antibiotics, ultrasounds and meds and we've had her 24 hours.  I can return her to the shelter, but I don't think she'd make it there.\n",
      "\n",
      "She's barely drinking and not eating much despite efforts to encourage her to do so.  \n",
      "\n",
      "This sucks....our family dog died about 2 months ago and we finally just got the courage to let another furry friend into our lives and now it's turned into a life and death drama that my 13 year old daughter is living through.\n"
     ]
    },
    {
     "name": "stderr",
     "output_type": "stream",
     "text": [
      " 93%|██████████████████████████████████████████▋   | 9293/10000 [9:55:42<41:55,  3.56s/it]"
     ]
    },
    {
     "name": "stdout",
     "output_type": "stream",
     "text": [
      "Backstory: I own a 1986 ford f150, the tires are bald but otherwise its a really good truck. \n",
      "It's snowed in Colorado this past weekend, and we got quite a fair amount of snow. So here's me trying to leave for work this morning, rolling out of driveway and i get stuck. Fast forward an hour still stuck but in the middle of the street now, cars super hot and suddenly i have no forward gears working. Oh shit. Climb out thinking i dropped my transmition or something. At this point my dad has joined me and he's frustrated too. I call a tow truck and my boss to get help and let bossman know im gonna be late. Stand around for a few more minutes. One last ditch effort, climb in start truck, go to release parking brake and realise i haven't done that at all in the last hour. \n",
      "Car gets back into driveway just fine, dad says it was probably just over heating. I got a ride from my dad to work today and am nevee going to ahare my shame with him ever.\n"
     ]
    },
    {
     "name": "stderr",
     "output_type": "stream",
     "text": [
      " 93%|██████████████████████████████████████████▊   | 9312/10000 [9:56:49<40:58,  3.57s/it]"
     ]
    },
    {
     "name": "stdout",
     "output_type": "stream",
     "text": [
      "Well if you couldn't tell from the title I love attack on titan and recently binge watched the entire first season and it has completely filled my mind. 9 days ago I spent the entire day watching the final ten episodes. That same night, at water polo practice, my couch dragged me out of the water and asked me why I was out of uniform. (Not wearing my usual swimwear.) I said sorry and it wouldn't happen again. He said \"I count on you a lot and you're a hard worker. I expect great things from you. Don't let this happen again.\" It was at this moment my brain's autopilot\n",
      "misfired and I for some reason stiffened my back, gave the fist over heart and arm across back attack on titan salute, and proclaimed, \"SIR YES SIR I WONT LET YOU DOWN SIR\" He looked at me strangely then made me do fifty push-ups for what he thought was me mocking him. I have never felt more embarrassed in my life...I felt like such a moron and the coach hasn't looked at me the same way since...\n",
      "\n",
      "TL;DR I gave my water polo\n"
     ]
    },
    {
     "name": "stderr",
     "output_type": "stream",
     "text": [
      " 93%|██████████████████████████████████████████▉   | 9336/10000 [9:57:55<32:38,  2.95s/it]"
     ]
    },
    {
     "name": "stdout",
     "output_type": "stream",
     "text": [
      "So, this actually did happen today, unlike most posts here!\n",
      "\n",
      "I am applying for a job as a teaching assistant in a primary school. \n",
      "It's just an easy job to get me back into life and doing things after depression dug it's claws into me earlier on last year.\n",
      "I went to the interview in a highly religious Roman Catholic Primary school.\n",
      "The interview itself went fine and it was really exciting.\n",
      "However as I was leaving I turned to the panel to say 'thank you for your time.' And I caught my foot on a sheet that was part of a RE display. Their Jesus statue that was perched on the display fell off and the arm broke off it, all the kid's work fell down and just to make matters a little bit worse I exclaimed 'oh my God! I'm so sorry!' As I tried to pick it all up. \n",
      "\n",
      "I'm still waiting for their phone call,  but I'm not expecting good news.\n"
     ]
    },
    {
     "name": "stderr",
     "output_type": "stream",
     "text": [
      " 94%|███████████████████████████████████████████   | 9360/10000 [9:59:15<37:39,  3.53s/it]"
     ]
    },
    {
     "name": "stdout",
     "output_type": "stream",
     "text": [
      "Happened Yesterday...\n",
      "\n",
      "Meet Interviewer at posh hotel in London. I Get there, call him, he says he'll be down in 5 - tells me to take a seat and get a drink.\n",
      "\n",
      "I sit down, and after 10 mins this guy comes over (he looks a bit different from his Linkedin picture, but I do to be fair)\n",
      "\n",
      "Starts talking to me...telling me about the job...which is completely different to what we spoke about on the phone. I let him talk for about 10 minutes...then over his shoulder see the guy i'm actually meant to be meeting.\n",
      "\n",
      "So I stop him, explain what I think has happened, he asks if my name is Peter...I confirm it is not and he just packs his stuff and leaves.\n",
      "\n",
      "I meet my Guy, chat for 2 hours and well...we'll see If I get the job.\n",
      "\n",
      "TL:DR - Went for an interview, interviewed with the wrong guy for 10 minutes.\n"
     ]
    },
    {
     "name": "stderr",
     "output_type": "stream",
     "text": [
      " 94%|██████████████████████████████████████████▎  | 9391/10000 [10:01:08<33:08,  3.26s/it]"
     ]
    },
    {
     "name": "stdout",
     "output_type": "stream",
     "text": [
      "I barely slept a wink last night as a mosquito was keeping me up all night.  I finally killed it at 4am.  After thinking that maybe they were coming in through my window AC unit, I thought it'd be a good idea to remove it.  Well for whatever reason, perhaps in my drowsiness, I pulled the window up without really holding onto the AC, and now it lays with the sidewalk trash.  No one was harmed.\n"
     ]
    },
    {
     "name": "stderr",
     "output_type": "stream",
     "text": [
      " 94%|██████████████████████████████████████████▎  | 9392/10000 [10:01:12<35:22,  3.49s/it]"
     ]
    },
    {
     "name": "stdout",
     "output_type": "stream",
     "text": [
      "Last August, my family took a family reunion/vacation (my parents, my 5 sisters and their husbands, my 9 nieces and nephews, and me of course) near Yellowstone national park.\n",
      "\n",
      "\n",
      "On this particular evening, my sister (we'll call her Jane) and I were in charge of making lunch for the following day, so we got to work taking orders for variations on peanut butter and jelly sandwiches. Someone wanted just peanut butter, someone else wanted lots of jelly, others wanted two sandwiches, etc. We took each order seriously and prepared each sandwich to the exact specifications.\n",
      "\n",
      "\n",
      "Fast forward to the lunch in question. Everyone had split up into small groups based on what natural wonders they wanted to see that day. Jane was with her husband and two kids when they found a nice spot to have a picnic. One of her kids (we'll call him Daniel) grabbed the sandwich with his name on it and took it out of the plastic bag.\n",
      "\n",
      "\n",
      "Now you have to understand something about Daniel. He's four years old and is very \n"
     ]
    },
    {
     "name": "stderr",
     "output_type": "stream",
     "text": [
      " 94%|██████████████████████████████████████████▎  | 9413/10000 [10:02:32<34:33,  3.53s/it]"
     ]
    },
    {
     "name": "stdout",
     "output_type": "stream",
     "text": [
      "This actually happened a while back.  I accidentally kidnapped someone's baby at Toys R Us one time.  I was a new mom, looked like CRAP from exhaustion and not showering.  I had left my own baby with my husband in the car while I ran in to buy a birthday present.  Spaced out, wearing filthy sweats, sleep deprived, greasy hair...I was standing next to a cart with a baby in it.   The baby's parents were a few feet away looking at carseats, picking them up, etc.  I was in the new mom zone, stood there a looonnngggg while deciding on my present.   Finally I picked something, put it in the cart and started pushing it to the checkout because...well...the cart was next to me.  It had a baby in it just like my cart always does.  I always have a baby with me.    The people whose baby it was started SCREAMING that I was kidnapping their child.  I tried to explain that I forgot I didn't have my own baby with me because he was in the car (that sounded great, eh?!) but they obviously didn't believe\n"
     ]
    },
    {
     "name": "stderr",
     "output_type": "stream",
     "text": [
      " 94%|██████████████████████████████████████████▎  | 9414/10000 [10:02:34<29:55,  3.06s/it]"
     ]
    },
    {
     "name": "stdout",
     "output_type": "stream",
     "text": [
      "A friend of a friend came up to me extended his hand and said \"Hi\". I shook his hand and mumbled \" nice to meet me\".Thanks, brain.\n"
     ]
    },
    {
     "name": "stderr",
     "output_type": "stream",
     "text": [
      " 95%|██████████████████████████████████████████▌  | 9460/10000 [10:04:53<28:35,  3.18s/it]"
     ]
    },
    {
     "name": "stdout",
     "output_type": "stream",
     "text": [
      "A week ago, I asked a friend of mine if she would mind dog sitting on the 23rd because we would be gone all day. She agreed, and was happy to watch our dog. She calls me at 9 to tell me something has come up and she would have to leave an hour earlier. I said that is fine and the dog would be okay left in our room. At 10, we come in to see that our dog was not in our room but running all around the house. I wasnt to upset because maybe she didnt shut the door the whole way. After we put our child to bed, I go into attic to get some gifts to start wrapping. And that's when I screamed. Gifts were gone. Thankfully not all, since we don't keep them all in the same spot. But the most important ones are gone! This year has already been a hard one. And this didnt help....\n",
      "\n",
      "Update: We called the police last night, they came over and took our report. They went to her house but she was not there. They are looking for her. Sorry it took so long to post anything back. Last night was crazy, and sin\n"
     ]
    },
    {
     "name": "stderr",
     "output_type": "stream",
     "text": [
      " 95%|██████████████████████████████████████████▌  | 9465/10000 [10:05:09<27:10,  3.05s/it]"
     ]
    },
    {
     "name": "stdout",
     "output_type": "stream",
     "text": [
      "This is my husband's story, but he gave me permission to share. \n",
      "\n",
      "\"A few years ago, I was in the midst of a move out of state and needed to sell a bunch of stuff from my current home. I threw a lot of furniture up on craigslist super cheap, and there was a woman who was interested in some of the furniture and was coming over to see it. While I was waiting, I decided to do some work in the garage, which was lit only by the automatic light on the garage door-opener. I had been working with old books, so I was wearing a respirator for safety. \n",
      "\n",
      "After I finished working with the books, I wanted to move my chainsaw from one pile to another, and as I was walking the chainsaw across the garage, a car pulled into the driveway. The headlights illuminated me - a 6'3\" 300 lb man dressed in all black wearing a respirator and holding a chainsaw, from where it looked like I was lurking in the shadows. She did as expected, immediately backing out of the driveway, and tore off at full speed. I can onl\n"
     ]
    },
    {
     "name": "stderr",
     "output_type": "stream",
     "text": [
      " 95%|██████████████████████████████████████████▉  | 9542/10000 [11:03:21<22:38,  2.97s/it]"
     ]
    },
    {
     "name": "stdout",
     "output_type": "stream",
     "text": [
      "So I'm at work, and we are giving a tour of the lab to some highschool students, and I'm showing them a computer platform I'm working on.\n",
      "From the back of the group I hear a kid asking \"can I touch it?\".\n",
      "And ofcourse my instant sarcastic response is \"Only by using your eyes\".\n",
      "3sec later, the group parts and a blind kid walks forward...\n",
      "\n",
      "This must be reason #89 why I'm going to hell.\n"
     ]
    },
    {
     "name": "stderr",
     "output_type": "stream",
     "text": [
      " 96%|██████████████████████████████████████████▉  | 9552/10000 [11:03:51<26:47,  3.59s/it]"
     ]
    },
    {
     "name": "stdout",
     "output_type": "stream",
     "text": [
      "So this happened a few days ago. I was at Disneyland with some of my younger cousins and my sisters. Some of us wanted to get on the Jungle Cruise, mainly me because I love the bad jokes the tour guides tell. Well the line you wait in eventually goes up to the second floor of this wood hut where you overlook the crowd crossing over from Main Street into Adventure Land. I see my older sister standing downstairs since she didn’t want to get on the ride. So as an annoying little brother should do, I called out for her attention in an annoying way. I start doing the Forest Gump hand wave he does in the movie. You know, flailing around and shaking your hand in the air with extreme enthusiasm. I had a chocolate covered banana in one hand and my other hand flailing around annoyingly getting my sisters attention. She finally sees me and since I quote movies way too much, it was only natural for me to yell out \"LIEUTENANT DAN! LIEUTENANT DAN ICE CREAM!\" She obviously saw me and started laughing\n"
     ]
    },
    {
     "name": "stderr",
     "output_type": "stream",
     "text": [
      " 96%|███████████████████████████████████████████  | 9558/10000 [11:04:11<23:16,  3.16s/it]"
     ]
    },
    {
     "name": "stdout",
     "output_type": "stream",
     "text": [
      "Backstory: My grandmother is an old school southern chef. She has long since achieved some sort of crazy kitchen zen that I can't begin to fathom.\n",
      "\n",
      "One of her talents I've always found fascinating is an intuitive sense for how long and in what way you can get away with moving food with your fingers after you toss it in a frying pan.\n",
      "\n",
      "I've seen her pick up half-finished pieces of chicken, biscuits from the oven, even veggies out of boiling pots without flinching or burning a thing.\n",
      "\n",
      "Earlier, I was frying some bacon to go with supper and accidentally folded a very large piece over onto another. Being one to enjoy a chewy and evenly-cooked piece of bacon, I decided to give the family cooking zen a try.\n",
      "\n",
      "Today, I learned three things:\n",
      "\n",
      "* I do not have that skill.\n",
      "* Liquid bacon grease is hot\n",
      "* Liquid bacon grease stays hot for as long as it damn well pleases.\n"
     ]
    },
    {
     "name": "stderr",
     "output_type": "stream",
     "text": [
      " 96%|███████████████████████████████████████████  | 9569/10000 [11:04:43<22:46,  3.17s/it]"
     ]
    },
    {
     "name": "stdout",
     "output_type": "stream",
     "text": [
      "My dad found this carbon monoxide meter this morning that needed a battery. After replacing the battery, we plugged it into the wall. I pressed the test button for it to test the amount of carbon monoxide currently in my house. It was flashing 237 and obnoxiously beeping. We opened all of the windows and shut the furnace off in 20 degree weather. We called the man who put our furnace in and called the fire department, who did not come until 5 PM. I could feel myself getting lightheaded and nauseated. It turns out the \"test\" button was to make sure the alarm still worked and the level of carbon monoxide in my house was 0. \n"
     ]
    },
    {
     "name": "stderr",
     "output_type": "stream",
     "text": [
      " 96%|███████████████████████████████████████████▏ | 9591/10000 [11:05:48<23:19,  3.42s/it]"
     ]
    },
    {
     "name": "stdout",
     "output_type": "stream",
     "text": [
      "I am a moron.ort, I now have a poster covering up a crater in my door; and my elbow *really* hurts. the door with my elbow.\n"
     ]
    },
    {
     "name": "stderr",
     "output_type": "stream",
     "text": [
      " 96%|███████████████████████████████████████████▏ | 9596/10000 [11:06:10<25:58,  3.86s/it]"
     ]
    },
    {
     "name": "stdout",
     "output_type": "stream",
     "text": [
      "I had two bills in my wallet. A $1 and a $20. I didn't look and when she made a comment about change I just said, \"It's okay.\" I went to the store and pulled out my wallet and saw the $1 and realized what I did. \n"
     ]
    },
    {
     "name": "stderr",
     "output_type": "stream",
     "text": [
      " 96%|███████████████████████████████████████████▎ | 9633/10000 [11:08:34<21:57,  3.59s/it]"
     ]
    },
    {
     "name": "stdout",
     "output_type": "stream",
     "text": [
      "I work in a hospital and take care of all of the printers by a certain manufacturer. I went into the \"family birthing center\" to replace some toner. Went to walk out and they didn't open the automatic door for me like usual. So being stupid I push the door open. The LOUDEST alarm I have ever heard sounded through the ENTIRE hospital. I looked back at the nurses (who are standing around gossiping instead of opening the damn door) and they are literally about to tackle me. Security came rushing around the corner and I had to annoyingly explain that I did not have a newborn baby stuffed in my back pocket. \n"
     ]
    },
    {
     "name": "stderr",
     "output_type": "stream",
     "text": [
      " 97%|███████████████████████████████████████████▍ | 9660/10000 [11:09:45<16:32,  2.92s/it]"
     ]
    },
    {
     "name": "stdout",
     "output_type": "stream",
     "text": [
      "Last night, I made one of my favorite dinners, spicy chicken fried rice. I spent some time in preparation and just generally REALLY looking forward to this meal. Cooked the rice, chopped and marinated the chicken for hours, went outside to cook it even though it was dark and cold. I have to cook it outside because the spices I use on the chicken are so strong, the steam from cooking the chicken will choke out anyone inside the house. In my opinion, it's worth the hassle to eat this meal every once in a while. So I get the rice done and put it into a big plastic bowl, and lay the spoon I was using in there too. I get a very small bowl of it to eat, then I put the bowl in the oven, to keep it from getting too cold (the oven was off) because i was planning to be back and get a little more. Fast forward about thirty minutes, mom wants cookies. I'll make you some cookies mom! We'll make them together! PREHEAT THE OVEN. So she preheats the oven to 375°, I forgot about my food, and she never \n"
     ]
    },
    {
     "name": "stderr",
     "output_type": "stream",
     "text": [
      " 97%|███████████████████████████████████████████▍ | 9661/10000 [11:09:48<17:24,  3.08s/it]"
     ]
    },
    {
     "name": "stdout",
     "output_type": "stream",
     "text": [
      "Like most of the posts here, this didn't happen today. It happens every year.\n",
      "\n",
      "I'm 20 years old. My grandpa was 78. Being an ignorant young guy, I usually don't care much to call my grandpa on his birthday (he lives alone about 40 KM from my home). If there's a party, then I'll congratulate him directly in person, but if there's no birthday party, I usually don't bother calling him to say \"Happy birthday\".\n",
      "\n",
      "Around July this year, It suddenly dawned on me that he's already 78 and I never called him just to say \"happy birthday\" or just check on him. I don't know why this thought suddenly came across my mind. \n",
      "\n",
      "Fast forward to October 30 (a few days ago), everyone on my big family was anxious because no one can get a hold on my grandpa. Calls were not answered since morning. I suddenly remembered about my intention of calling him on his birthday this year. His birthday will be on November 6. Then, my mom and dad decided to go to his house on 9pm to check what's going on. I and my brother \n"
     ]
    },
    {
     "name": "stderr",
     "output_type": "stream",
     "text": [
      " 97%|███████████████████████████████████████████▍ | 9664/10000 [11:09:57<18:24,  3.29s/it]"
     ]
    },
    {
     "name": "stdout",
     "output_type": "stream",
     "text": [
      "Now I am known far and wide as a scatter brained person, but today took the cake. Where I work I am assigned a parking spot about two blocks away from my office. I had a few errands that I needed to get taken care of so I headed towards my car. I noticed my pockets seemed relatively light but for some reason I didn't think anything of it. \n",
      "\n",
      " Not until I get almost to my parking lot and realize that I don't have my keys. Wow I'm super smart. Shaking my head I start trudging back to the office and back to the sixth floor where I work. At my desk I realize that my keys aren't there. I look all over but I can't find them. \n",
      "\n",
      "Crap\n",
      "\n",
      "So I start retracing my steps. I go and check with lost and found, and I have an email sent out to see if anyone has found some keys. Then I slowly start walking back along the way I walked in to check if my keys are sitting on the ground. I have little hope of finding them as it's been at least four hours since I came in to work. \n",
      "\n",
      "I get to the lot and at least I\n"
     ]
    },
    {
     "name": "stderr",
     "output_type": "stream",
     "text": [
      " 97%|███████████████████████████████████████████▌ | 9670/10000 [11:10:17<17:50,  3.24s/it]"
     ]
    },
    {
     "name": "stdout",
     "output_type": "stream",
     "text": [
      "So I work with my dad, he's a very experienced builder, and he currently is building an estate of around about 10 houses. \n",
      "\n",
      "Over the past two months we build it with a large timber frame that he had specially made to make the shell of the house. Free with the timber frame was a garage door. So we put the garage door inside the house to keep it from getting damaged by water and things happening on site.\n",
      "\n",
      "So today we finished installing all the doors and windows. The bricklayer had also finished. We didn't really need to go into the house much as we wanted to finish the exterior while we had nice weather.\n",
      "\n",
      "Today I opened the house to see that a garage door was still sitting in the kitchen. My first thought \"Shit, how are we gonna get this out, its like 15ft long. The door is only just below 7ft....\"\n",
      "I told my dad, he looked at me with absolute horror, then burst out laughing. There is literally no way to get this garage door out of the house.\n",
      "\n",
      "TL;DR : Put garage door in house for safe ke\n"
     ]
    },
    {
     "name": "stderr",
     "output_type": "stream",
     "text": [
      " 97%|███████████████████████████████████████████▌ | 9687/10000 [11:11:40<20:55,  4.01s/it]"
     ]
    },
    {
     "name": "stdout",
     "output_type": "stream",
     "text": [
      "This happened today, about an hour ago. \n",
      "\n",
      "I was happily mowing the lawn, about 2 hours into it, and about 10 minutes from finished. I've got my bluetooth earbuds in, listening to Spotify while I mow. It's friggen' cold out, so I had knit gloves on, and I'm on the worst part of the lawn, with a very steep small hill that I struggle with. My phone rings, I try to answer it with these gloves on, no luck, my phone won't accept input from the gloves. It was my boyfriend, he tried to call back immediately, then sent a text saying to call him. I put the phone back in my pocket and decided that I will finish up quickly and call him. On the way down the steep hill less than a minute later I hear a very large CRUNCH. I had apparently not put my phone back all the way in my pocket, and it fell out and was immediately run over by the mower. My phone that is not yet paid off. \n",
      "\n",
      "I finished up the lawn, had a bit of a pity party, and then realized that my music never turned off. Spotify was still pla\n"
     ]
    },
    {
     "name": "stderr",
     "output_type": "stream",
     "text": [
      " 97%|███████████████████████████████████████████▊ | 9731/10000 [11:13:53<15:03,  3.36s/it]"
     ]
    },
    {
     "name": "stdout",
     "output_type": "stream",
     "text": [
      "This happened three days ago, but I just found out about it today I am senior in High school and at the beginning of the year I was given a Laptop for my AP-Classes. I walk home and usually keep it in my backpack because it's easier that way, but on Friday I forgot to take it out of my Backpack. I put my backpack on the floor and forgot about it. On Saturday I got out of bed and without paying attention to where I was going I stepped on my Backpack. It was early in the morning and I ignored it. On Monday I go to school Open the laptop to write notes and the screen is half white. They are no cracks but peeking around online it looks like repair will take anywhere from 80$ (for DIY) to 200$ (For Best Buy repair). I also haven't told my parents or the school yet. At least I learned an important message. Put your electronics on a goddamn table.\n",
      "\n",
      "\n",
      "TL;DR. I stepped on a school laptop and the screen is trash. FML\n"
     ]
    },
    {
     "name": "stderr",
     "output_type": "stream",
     "text": [
      " 97%|███████████████████████████████████████████▊ | 9734/10000 [11:14:02<13:35,  3.07s/it]"
     ]
    },
    {
     "name": "stdout",
     "output_type": "stream",
     "text": [
      "So some context, this happened today actually cause it was after midnight this morning. My parents adopted my brother last year, he's 16 so it was mostly symbolic. His family has a lot of issues and parents basically abandoned him, now they're in prison. My parents took him in when he was 13 and spent the last few years going through the adoption process (even though they didn't need to) to show him he was loved and now everything is good and taken care of and he is officially my little brother.\n",
      "\n",
      "I wanted to do something nice for him because he never had anything nice growing up, he loves gaming and has my previous xbox one. So I wanted to build him an awesome gaming PC I spent months saving for the parts (my parents and sister chipped in and paid for some parts). I gave it to him last week for his graduation gift (he's a genius and graduated early) with a HTC Vive (VR headset). He was super happy and has been playing non stop.\n",
      "\n",
      "Last Night he called me to go hang out and play the Vive \n"
     ]
    },
    {
     "name": "stderr",
     "output_type": "stream",
     "text": [
      " 98%|████████████████████████████████████████████ | 9783/10000 [11:17:06<11:09,  3.09s/it]"
     ]
    },
    {
     "name": "stdout",
     "output_type": "stream",
     "text": [
      "TIFU: this didn't actually happen to me, but to my friend. She doesn't have reddit and said I could post it on her behalf, and it happened yesterday. It's just too good not to post.\n",
      "\n",
      "  She works at a law office and yesterday they were in the process of shooting one of those cheesy lawyer commercials. Her boss sent an email to everyone telling them to stay away from the conference room where they were shooting. No one listened to the email. People walked into the shot and were just being loud. The next scene they were shooting was in the lobby. She's  a receptionist, so that is her domain. The boss told her to send an email to the staff to make sure they stay away from the lobby and asked her to mark it urgent, because everyone ignored the last email. In the subject line she put \"Shooting in the lobby.\" And for the body of the email she put \"Shooting in the lobby. Please keep quiet and avoid the area.\"  It popped up immediately on everyone's monitors with a big red flag because she mark\n"
     ]
    },
    {
     "name": "stderr",
     "output_type": "stream",
     "text": [
      " 98%|████████████████████████████████████████████▏| 9816/10000 [11:18:50<11:59,  3.91s/it]"
     ]
    },
    {
     "name": "stdout",
     "output_type": "stream",
     "text": [
      "Last week was my hubby's 50th birthday. I decided to decorate the kitchen with some of those helium filled Mylar balloons you get from the dollar store. He's not a very sentimental person, so after just a few days he decides they need to go. He writes our daughter's phone number on something along with a note that says \"if you find these, text me.\"  Great experiment to see how far they get, right?  \n",
      "He goes out into the street and let's them go and they fly directly into the transformer at the end of the power lines. BOOM!!! Sparks fly and it sounds like a gun has gone off!!\n",
      "We run inside hoping nobody noticed only to find out the power was off. We decided to leave the house and noticed some of the neighbors outside wondering what that noise was and why the power was off. Took the power company only a couple of hours to come and fix it. \n",
      "\n",
      "TL;DR we let balloons go and they hit the transformer that blew the power to our neighbors. \n"
     ]
    },
    {
     "name": "stderr",
     "output_type": "stream",
     "text": [
      " 98%|████████████████████████████████████████████▎| 9842/10000 [11:20:04<07:28,  2.84s/it]"
     ]
    },
    {
     "name": "stdout",
     "output_type": "stream",
     "text": [
      "Last night I asked my girlfriend if she would like to go out for lunch.\n",
      "\n",
      "Today it was pouring rain. She lives in the city and we went to a coffee shop a few blocks down the street. Luckily she has a very large umbrella that we used to stay mostly dry.\n",
      "\n",
      "When I first entered the coffee shop I closed the umbrella. While standing in line I accidently deployed the umbrella sideways. Apparently when you extend a dripping wet umbrella it agressivly throws off quite a bit of water.... directly onto the 8 other people in the small shop.\n"
     ]
    },
    {
     "name": "stderr",
     "output_type": "stream",
     "text": [
      " 98%|████████████████████████████████████████████▎| 9847/10000 [11:20:18<07:16,  2.85s/it]"
     ]
    },
    {
     "name": "stdout",
     "output_type": "stream",
     "text": [
      "I read somewhere that I shouldn't make my kid hug people. I thought about it and decided \"I wouldn't  want to hug ____ either. This is a great article.\" I then told her- \"look, you have choices, you don't have to hug everyone. If you don't want to hug someone you just need to try and be nice about it, so instead of EW try I'm just not a hugger...\". Everything was going fine until I tried to hug her goodnight a few days later and she said \"Mom, I've already had to to tell all my friends that I'm not a hugger. I am not a hugger. Stop trying to hug me.\" She's 5. My 5 year old won't hug me anymore and I've brought it on myself. 😩\n"
     ]
    },
    {
     "name": "stderr",
     "output_type": "stream",
     "text": [
      " 99%|████████████████████████████████████████████▎| 9854/10000 [11:20:37<06:57,  2.86s/it]"
     ]
    },
    {
     "name": "stdout",
     "output_type": "stream",
     "text": [
      "I decided I really wanted to catch up on a show at work today. I put on my headphones and played the show on my computer while looking really busy and hard at work. I kept getting weird looks from everyone who walked by my office. Finally my phone rang and I took my headphones off without pausing my show and realized the show was playing out of my speakers also. Great . . . now everyone knows when my headphones are on I am watching TV! \n"
     ]
    },
    {
     "name": "stderr",
     "output_type": "stream",
     "text": [
      " 99%|████████████████████████████████████████████▍| 9882/10000 [11:22:23<06:23,  3.25s/it]"
     ]
    },
    {
     "name": "stdout",
     "output_type": "stream",
     "text": [
      "This happened years ago when I was a line cook. The restaurant was in a retrofitted old victorian house. There wasn't an overhead hood system, but rather a powerful fan in the wall at the end of the line, which began with the sauté station, then grill, then fry at the end by the fan. We specialized in gulf coast cuisine, and I was working sauté. I ran out of blackened seasoning and had to make some on the fly, in the middle of the dinner rush. As I tossed in the cayenne pepper, everyone on the line starting screaming. \n"
     ]
    },
    {
     "name": "stderr",
     "output_type": "stream",
     "text": [
      " 99%|████████████████████████████████████████████▋| 9929/10000 [11:24:48<03:44,  3.17s/it]"
     ]
    },
    {
     "name": "stdout",
     "output_type": "stream",
     "text": [
      "TIFU, but actually this happened a few weeks ago. I moved back home after college last year and this past 2014 I signed up for my first ever reddit secret santa. I'm typically the one that gets the mail, but occasionally my mom gets it too so I told her that I signed up for a secret santa and something should be coming in the mail for me from a stranger and I have no idea what will be inside so to make sure not to open it. I also told her that it likely wouldn't be coming under my name, but under my username instead. She said ok and that was that. \n",
      "\n",
      "A few days later we're having dinner and my dad says \"the mail man knocked on the door with a package today and I thought it was weird because it was addressed for someone named sandwich. I told him that no sandwiches live here and gave it back to him to return\". I face palmed and exclaimed \"That was for me!\" Of course my dad then followed up with \"Ummm.. How are you a sandwich?\" I explained that I signed up for secret santa and that that w\n"
     ]
    },
    {
     "name": "stderr",
     "output_type": "stream",
     "text": [
      " 99%|████████████████████████████████████████████▋| 9934/10000 [11:25:08<04:39,  4.23s/it]"
     ]
    },
    {
     "name": "stdout",
     "output_type": "stream",
     "text": [
      "I've been living in Japan for a while now. Only with my parents and my little brother, the rest of my family is back in Spain. Today it was the day I was meant to go back. \n",
      "\n",
      "My flight from Japan went well but didn't go directly, instead I had to stop in Dubai to take the flight that would take me to Spain. My parent's company was paying fro the flight and it was in business class therefore, while waiting in the Dubai airport we could go to the business lounge. (This was my first time and I was really hyped). The flight would leave in two hours so we had quite a bit of time. After forty minutes or so, my parents wanted to go shopping so they left me taking care of my brother. They told me to either be waiting in the PS4 area (yes, there is a PS4 area!) or the boarding gate. So there I am, playing some trial fusion when I decide to go on Reddit. The thing is, the WiFi wasn't working really well on my phone so I decide to go to the computer room. This room was quite hidden so it took me a\n"
     ]
    },
    {
     "name": "stderr",
     "output_type": "stream",
     "text": [
      " 99%|████████████████████████████████████████████▋| 9940/10000 [11:25:29<03:40,  3.68s/it]"
     ]
    },
    {
     "name": "stdout",
     "output_type": "stream",
     "text": [
      "So on Monday I saw an advert on the notice board in our residential complex. \n",
      "\n",
      "\"Cycling Project - Meet Thomas at the gate on Friday at 9am to participate\"\n",
      "\n",
      "Being in the spirit of losing a few extra pounds, I thought it'd be good to engage in some recreational activities. \n",
      "\n",
      "I gathered a couple of friends and convince them that we should participate as a team. - They agreed and put in a day's leave from work. \n",
      "\n",
      "So, all geared up, ready for action, we gathered at the gate. Fun right? WRONG! \n",
      "\n",
      "Thomas arrived at the gate with garbage bins and refuse bags. \n",
      "\n",
      "Turns out, the advert read\n",
      "\"Re-Cycling Project - Meet Thomas at the gate on Friday at 9am to participate\"\n",
      "\n",
      "TL:DR - Convinced friends to put in a full day's leave to pick up trash. \n",
      "\n",
      "EDIT: Typo. Used Carbage instead of garbage. \n",
      "\n",
      "\n",
      "\n",
      "\n"
     ]
    },
    {
     "name": "stderr",
     "output_type": "stream",
     "text": [
      "100%|████████████████████████████████████████████▊| 9967/10000 [11:26:46<01:48,  3.29s/it]"
     ]
    },
    {
     "name": "stdout",
     "output_type": "stream",
     "text": [
      "**UPDATE 12/18/2015** - This is after my \"final\" update - I don't think we are even close the final update yet.  GM is persistent in diagnosing the problem.  Even though we were reluctant to, we agreed to have them take the truck for several weeks to try to diagnose the problem in their controlled settings.  For compensation, they are giving us a brand new 2016 truck as a rental, paying one month of our car payment and giving us an unspecifired OnStar benefit.\n",
      "\n",
      "Talk about great customer service.  I don't care what the outcome is, it's quite clear we are dealing with a top-notch organization and I think everyone should know that.\n",
      "\n",
      "\n",
      "\n",
      "\n",
      "\n",
      "We bought a new truck and it came with OnStar.  OnStar has an app that you can start your car from your mobile phone.\n",
      "\n",
      "We work together.  He gets there four hours before my shift so I always bring him fresh coffee.  Today I forgot the coffee on the kitchen counter.\n",
      "\n",
      "He was bummed.  We started teaching our senior exercise class and he jokingly made fun of m\n"
     ]
    },
    {
     "name": "stderr",
     "output_type": "stream",
     "text": [
      "100%|████████████████████████████████████████████▉| 9984/10000 [11:27:35<00:44,  2.79s/it]"
     ]
    },
    {
     "name": "stdout",
     "output_type": "stream",
     "text": [
      "At work today we ran out of potatoes. My boss asked me if I had a vehicle; I told him I did, so he gave me forty dollars and asked me to run down to the store and buy 80 count potatoes. Alright, I can do that. He said they should be \"About that big, nothing too huge\", and he said if I could get bags that would be ideal; they would be cheaper that way. So I go to the store and I'm looking at all of the potato options they have.\n",
      "\n",
      "I see individually wrapped potatoes, just basic potatoes, little potatoes, huge potatoes, and bags of potatoes that look promising. I count about 10 potatoes per bag, and it looks like 40 dollars will get me about 8 bags of them. They're a bit bigger than what I'm shooting for, but it looks like my options are \"Spuds the Size of Your Ex's Soul\", \"Large'ish Potatoes\", or \"Gargantuan Titan Taters.\"\n",
      " \n",
      "So I get 8 bags of the big potatoes. I lug them all back to my car and pile them in the passenger seat, and I drive this weird potato-person back to work and take the\n"
     ]
    },
    {
     "name": "stderr",
     "output_type": "stream",
     "text": [
      "100%|████████████████████████████████████████████| 10000/10000 [11:28:38<00:00,  4.13s/it]\n"
     ]
    }
   ],
   "source": [
    "df['approval'] = df.progress_apply(lambda row: check_vibes(row.selftext), axis = 1)"
   ]
  },
  {
   "cell_type": "code",
   "execution_count": 10,
   "id": "3f5260f2-c1b4-424d-b674-e1c1475eae3d",
   "metadata": {},
   "outputs": [
    {
     "data": {
      "text/plain": [
       "count      441\n",
       "unique       1\n",
       "top       True\n",
       "freq       441\n",
       "Name: approval, dtype: object"
      ]
     },
     "execution_count": 10,
     "metadata": {},
     "output_type": "execute_result"
    }
   ],
   "source": [
    "df['approval'].describe()"
   ]
  },
  {
   "cell_type": "code",
   "execution_count": 17,
   "id": "29aa0a4b-b47c-4892-9935-616d10199f81",
   "metadata": {},
   "outputs": [],
   "source": [
    "#df.to_csv('top10k_approval.csv')"
   ]
  },
  {
   "cell_type": "code",
   "execution_count": 8,
   "id": "2d9ace07-dbcb-4e45-ad21-ed32e9dcc69e",
   "metadata": {},
   "outputs": [],
   "source": [
    "df = df[df.approval == True]"
   ]
  },
  {
   "cell_type": "code",
   "execution_count": 23,
   "id": "10fc08da-059e-406e-aa5c-6dfa22d215db",
   "metadata": {},
   "outputs": [],
   "source": [
    "pd.set_option('display.max_colwidth', None)"
   ]
  },
  {
   "cell_type": "code",
   "execution_count": 24,
   "id": "d10c76e9-ab99-442a-bea7-79d461c9b4ae",
   "metadata": {},
   "outputs": [
    {
     "data": {
      "text/plain": [
       "0                                                                                                                                                                                                                                                                                                                                                                                                                                                                                                                                                                                                                                                                                                                                                                                                                                                                                                                                                                                                                                                                                                                                                                                                                                                                                                                                                                                                                                                                                                                                                                                                                                                                                                                                                                                                                                                                                                                                                                                                                                                                                                                                                                                                                                                                                                                                                                                                                                                                                                                                                                                                                                                                                                                                                                                                                                                                                                                                                                                                                                                                                                                                                                                                                                                                                                                                                                                                                                                                                                                                                                                                                                                                                                                                                                                                                                                                                                                                                                                                                                                                                                                                                                                                                                                                This happened to me yesterday and I'm still baffled.\\n\\nIt all started when I posted a comparison picture of a dog which looks like the actor William H. Macy. I couldn't stop laughin over it but I never thought it would gain so much attention. \\n\\nHowever it ended up on the front page with much more upvotes I could have imagined. This alone was crazy for me because I never expected to have a submission on the front page.\\n\\nWhen I checked my phone the next morning my reddit inbox exploded over the sheer amount of youtube links I received. I checked them and found my submission on the latest Jimmy Kimmel Show with Reddit Co-Founder Alexis Ohanian. I was mind blown over this.\\n\\nThey proceeded talking over reddit users and Jimmy ended up checking my history. Well I hardly ever post filthy stuff but I commented on a NSFW TIFU a few days ago and I think Jimmy thought it was my submission at the short glance he took.\\n\\nKeep in mind they even named and showed my username - he made it look like there was a lot of filthy stuff going on in my history so this was quite embarrassing for me and Im getting a lot of crazy messages now.\\n\\nI don't know if this perfectly qualifies for a TIFU but on the one hand it felt like one, when he revealed my history with 'filthy stuff' as he said. On the other hand it's just cool and a story to tell. However I regret nothing!\\n\\ntl;dr: Jimmy Kimmel had Reddit Co-Founder Alexis Ohanian as a guest. They ended up browsing my reddit history and Jimmy made it look like there's filthy stuff going on.\\n\\nLink to the video: https://www.youtube.com/watch?v=3vzkw2zD7gE&t=9s (starts at 2:10)\\n\\n\\nOH and thanks for the gold! Things are going so fast here I didnt even see it until now. Thank you unknown and kind strangers!\\n\\n\n",
       "3                                                                                                                                                                                                                                                                                                                                                                                                                                                                                                                                                                                                                                                                                                                                                                                                                                                                                                                                                                                                                                                                                                                                                                                                                                                                                                                                                                                                                                                                                                                                                                                                                                                                                                                                                                                                                                                                                                                                                                                                                                                                                                                                                                                                                                                                                                                                                                                                                                                                                                                                                                                                                                                                                                                                                                                                                                                                                                                                                                                                                                                                                                                                                                                                                                                                                                                                                                                                                                                                                                                                                                                                                                                                                                                                                                                                                                                                                                                                                                                       Today Reddit was blocked in Russia, and I am the one who posted [this post](https://www.reddit.com/r/rudrugs/comments/1derq9/%D0%BC%D0%B8%D0%BD%D0%B8%D0%BC%D0%B0%D0%BB%D1%8C%D0%BD%D1%8B%D0%B9_%D0%B8_%D0%BD%D0%B0%D0%B4%D0%B5%D0%B6%D0%BD%D1%8B%D0%B9_%D0%BC%D0%B5%D1%82%D0%BE%D0%B4_%D0%B2%D1%8B%D1%80%D0%B0%D1%89%D0%B8%D0%B2%D0%B0%D0%BD%D0%B8%D1%8F_%D0%BF%D1%81%D0%B8%D0%BB%D0%BE%D1%86%D0%B8%D0%B1%D1%8B/) which lead to this.\\n\\nIn Russia, there is a law which allow Roskomnadzor, Russian censorship agency, to block any website without court rulling. Two years ago I tested how RKN react to abuse on popular websites/crazy abuses. On of that websites was Reddit.\\n\\nOne thing I learned is that RKN doesn't want to block popular websites. They respond me that this content is illegal and they blocked it, but they weren't. [It was on 05/21/2013](https://img.bi/#/VN0xdFz!SUfwaAZuQ0OgFP6nJQpMgqpwENsQfA4KLn1gdqhZ). On 10st Aug 2015 they posted [a call to help them contact Reddit administration](https://vk.com/wall-76229642_54727) to official VK page. Funny thing, but they called Psilocybe a plant. Several hours ago they [reported that Reddit is blocked in Russia](https://vk.com/wall-76229642_55304). Seems like things changed.\\n\\nHow Reddit is blocked? Fully. As Reddit switched to HTTPS, there is no way to block special page.\\n\\nWill I remove this post? No. I also think that Reddit administration needs to do nothing. This is important issue on freedom of speech, and only RKN want to violate it.\\n\\nBTW, this post is a guide for indoor growing Psilocybe mushrooms in Russian. I'm not sure if any people saw this before blocking, but if you are here and you can read Russian, now you know to grow some shrooms, thanks to RKN.\\n\\nUPD: [Russia unbans Reddit](https://meduza.io/en/news/2015/08/13/russia-unblocks-reddit) as they comply with request and blocked that post for Russian users.\\n\\nUPD2: [This is how Russian Internet censorship works](https://meduza.io/en/feature/2015/08/13/this-is-how-russian-internet-censorship-works)\n",
       "4                                                                                                                                                                                                                                                                                                                                                                                                                                                                                                                                                                                                                                                                                                                                                                                                                                                                                                                                                                                                                                                                                                                                                                                                                                                                                                                                                                                                                                                                                                                                                                                                                                                                                                                                                                                                                                                                                                                                                                                                                                                                                                                                                                                                                                                                   This happened Sunday night.\\n\\n\\n\\nMy oldest son is in the Marines, hasnt been home in almost a year.  He took 10 days leave so he could come visit.  At first, we did not tell his mother in case the leave got denied. When it was approved he just decided he would fly in and surprise her.  I tell the wife i am going over to a friends to watch the packers/falcons game, as a cover to pick him up.  \\n\\n\\n\\nI get to the airport, and actually watched the second quarter of the game waiting for his plane.  He gets off the plane we talk for a bit waiting for the luggage and then he goes to change into his Dress blues.  Now the whole time ive been texting my wife saying i was bored, the game sucked, i wasnt gonna stay much longer.\\n\\n\\n\\nWe discuss the plan on how to surprise his mother on the drive back to the house.  We go back and forth from having her open the front door to see him on the porch to just having him walk into the house.  We settle on him waiting a few minutes after i go inside, as i wanted to get the whole thing on video.... Free internet points and all that......\\n\\n\\n\\nI walk in and the house is quiet.  No one in the living room.  A little odd but it is after 9pm maybe by some miracle my other kids are actually already in bed?  Alarm bells start going off in my head when i open our bedroom door and the first thing i notice is the flickering candlelight......\\n\\n\\n\\nWhat i did not know was the entire time i was gone, My wife set in motion her own plan for the evening.  She got the kids settled by letting them keep their tablets after bedtime.  Took a nice hot bath, re-did her makeup and when i told her i was on the way home lit the room with candles and put on her \"fuck me\" lingerie.\\n\\n\\n\\nSo no shit there i was, staring at my wife giving me her best come hither look, with our 21 year old son outside not 30 feet away, waiting to Surprise her.  A handful of reactions to this scene are acceptable.  Pulling out your cellphone and sending a text message is not one.  The text told my son to stay outside.  I had solved the most immediate problem of our son walking in and seeing his mother like that but i was drawing a blank on how to fix everything else.  \\n\\n\\n\\nSo my brain latched onto what has to be most stupid plan i have ever had in life.  I told my wife to get dressed because she would never believe what the neighbors were doing and she had to come see.  The look of confusion on her face was priceless.  It took me 5 minutes to convince her to put on some sweatspants and a sweatshirt to go to the front door.  Finally after dodging all her questions and getting her to open the door, There was our son in his dress uniform and She was estatic.  The noise brought all the kids out and everyone was happy.  Except me, the wife excused herself after a few min and took off the lingerie under her sweats before anyone noticed.  It goes without saying i did not get any action that night.  Also in trying to salvage the whole surprise i forgot to video it for my free internet points.  so i guess TIFU will have to suffice instead.\\n\\n\\n\\n\\nTL;DR  Didn't tell Wife that Marine son was coming home, Missed out on Sexy times and the second half of the Packers/Falcons game\\n\\n\\n\\nedit 1: Goldx2? wow thank you guys.  this one post has more upvotes than my 4 year old main account.\\n\\nUpdate: Wife is freaking out that i put this on reddit.  Have been reading some of the comments to her this morning.  She is worried that this story will end up in one of her Marine Moms FB groups and they somehow will magically know it was her lol.    Son wants to take his siblings out for ice cream and the new lego movie, cross your fingers people.\\n\\n\n",
       "5                                                                                                                                                                                                                                                                                                                                                                                                                                              I'm in my third year of University taking engineering so this is a little extra embarrassing considering my streak of never being \"that person\" in the wrong class. To start the semester I ended up missing the first week of school because I was on a last minute trip with my friends. It was completely unplanned and actually a few of my friends who had graduated helped chip to buy my ticket since I technically couldn't afford to go. Future me will hate past me for going because I used my student loans to go... but thats a different issue. \\n\\nAnyway, I came into class a week late and it is scheduled for tuesdays and thursdays at 7-8:15pm. On both those days I have classes all day until 2pm so I usually go home to eat and grab a snooze before the night class. So my first tuesday home I ended up over sleeping and turning up to class five minutes late. So as part of my degree I have to take microeconomics which all I knew about it previously was it's about the economy and money. When I get to class they're talking about supply and demand curves shifting so I just take a spot in the back not thinking twice.\\n\\nThis goes on for 3.5 weeks. I came to class. Took notes. Then did the weekly assignments. On the course syllabus it had a date for the midterm which is Febuary 1st. So the class before the exam, January 30th, I decided to stick around after class and ask some questions. Now I was doing all the assignments and thought the course material was relevant but it was ALL theory based while the class was heavy math based. I understood what was going on but there was obviously some disconnect. I explained my concerns about the midterm to the prof and the conversation went like this:\\n\\n*Explains above about material*\\nProf: \"What do you mean theory? All the assignments are filled with math. Are you using launchpad?\"\\nMe: \"No the assignments are online. Like the website we bought the textbook from. Whats lauchpad?\"\\nProf: \"Pardon? I don't have a textbook for this course.\"\\nMe: \"It literally says in the syllabus, look!\"\\n*Shows syllabus*\\nProf: \"Wait, what class are you supposed to be in?\"\\nMe: \"What do you mean...? This is ECON 202 right?\"\\n*Prof starts laughing*\\nProf: \"Haha this is ECON 301, you have to take 202 before you take my class. This is a new one, I've never experienced this before.\"\\nMe: \"Well this is awkward. I better go see my actual teacher and explain.\"\\n\\nI then just grabbed my stuff real quick and sprinted through campus to go explain the situation to the other guy. I caught him just as he was leaving lecture and explain my predicament. Even showed him my ECON 301 notes to prove I couldn't make this shit up. He just laughed and said the same thing \"This is a new one for me.\" Turns out all the assignments for both classes were due the same day. Same with the midterms. They were relevant because it was obviously a level above what I was supposed to be doing and the only thing I got wrong was the building code. They were both classroom 112, just different buildings. So basically I just spent the last 2 nights forgetting everything from this class all month and learning the real material. Wish me luck tomorrow!\\n\\nTldr; I was in the wrong econ class for an entire month until I finally realized. Then had to cram for 2 nights for a midterm. Crazy coicidences all around.\\n\\nEdit: Well shit, went to sleep and woke up from a friend texting me saying \"You made the front page you motherfucker hahahahahaha\". The exam is in a couple hours and I will update you on my grade but to clear up some of the comments:\\n\\n1. Ya, the trip wasn't the smartest but I had fun and went to Tiesto's birthday in Vegas amongst other kool stuff. Life goes on.\\n\\n2. I was doing the assignments for the actual class with some help from my good buddy google and I had the actual textbook (pirated, no one buys textbooks c'mon). So I do have a grasp of whats going on\\n.. kinda. He did everything on the board and there were online notes but I figured you did practical application in class and the online notes (actually for my 202 class) were for reference purposes. \\n\\n3. I highly doubt i'll fail the course or the midterm. It's amazing how much you can learn in 24 hours with enough caffeine and fear in your belly. I've made it through almost 3 years of engineering so I'm sure it will turn out fine. It'll be a funny story at grad when I get my ring.\\n\\nThanks for all the support too. :) Making the front page of reddit just adds to how sweet 2018's been (no sarcasm) and this is just a minor set back.\\n\\nEdit 2: Just got back from the exam.. I didn't crush it but there is no way I didn't pass. It was twenty multiple choice and 2 five mark short answer questions. The prof also stopped me leaving the exam and said \"I usually don't tell students this until before the 2nd midterm but if you score better on the final and second midterm I will take the average to make up that first exam.\" So all in all I survived and live to fight another day.\\n\\nJust wanted to say thanks for all the kind words and hilarious stories. I will start going through my inbox and try to reply to some people. In the words of one of my good friends giving me advice in first year eng:\\n\\n\"Literally everyone in eng at multiple, multiple points feel like their gonna fail and life's over. But somehow they keep going and that is the circle of eng life.\" - CZ\\n\\np.s: for textbook help... IG: @redditecon202\\n\n",
       "6                                                                                                                                                                                                                                                                                                                                                                                                                                                                                                                                                                                                                                                                                                                                                                                                                                                                                                                                                                                                                                                                                                                                                                                                                                                                                                                                                                                                                                                                                                                                                                                                                                                                                                                                                                                                                                                                                                                                                                                                                                                                                                                                                                                                                                                                                                                                                                                                                                                                                                                                                                                                                                                                                                                                                                                                                                                                                                                                                                                                                                                                                                                                                                                                                                                                                                                                                                                                                                                                                                                                                                                                                                                                                                                                                                                                                                                                                                                                                                                                                                                                                                                                                                                                        So my dad has had this didgeridoo in the house since he visited his sister in Australia 10+ years ago. My parents wanted to go out for a walk but I decided I’d eaten too much cheese and couldn’t be arsed. While they were out the internet went down so I was sort of wandering around looking for something to do when I spotted the didg. I thought to myself in all these years I’ve never actually tried to play it (it’s more of a decoration and I barely take it in when I see it) and maybe it’s time. I pick it up and put it to my lips. I felt like I knew what I was doing and that it was similar to playing a trumpet and wanted to play a long, loud note. I take a sharp inhale and immediately feel something hit the back of my throat. I splutter really hard and a small white globular thing comes flying out and hits the floor. At first I thought it was saliva and ignored it as I had a weird sensation in my throat and mouth. It felt like tingling to start with but grew into more of a tickle on the inside of my cheeks and a bit on my gums. I glance down at the white stuff on the floor and see several baby spiders crawling out of it and in all directions. The second I clock what’s happened I feel something tickling my top lip and slap my mouth with my hand. I have a squished spider on my lip and instantly go into panic mode. I run into the bathroom and spit repeatedly into the sink to see crushed spider bodies and some severed legs, some of which are still attached to parts of the body and are trying to drag themselves away from the plug hole. I urge several times and then frantically swill my mouth out with water. I don’t think my mouth will ever feel normal again.\\n\\nTL;DR - thought I could play didgeridoo, inhaled a mouthful of spiders.\\n\\nEdit; woah gold! And front page! Ta! Glad you all like/hate my story\n",
       "8                                                                                                                                                                                                                                                                                                                                                                                                                                                                                                                                                                                                                                                                                                                                                                                                                                                                                                                                                                                                                                                                                                                                                                                                                                                                                                                                                                                                                                                                                                                                                                                                                                                                                                                                                                                                                                                                                                                                                                                                                                                    This happened a few years ago and I was living in Zimbabwe at the time, and I was having a pretty bad day, I was going to see my auntie who lived about 400km away from me. If youre african you'll understnad that this  was no small journey. So I got in my car and set off and about 3 hours into the journey i came across a Dude by the side of the road who was going in the same direction, so out of the goodness of my heart i said jump in. we go to talking and he happened to be going to exact same village as me and he knew my auntie!.\\n\\nHalf an hour passes and we're making polite chit chat and reminiscing about old times in zimbabwe, when all of a sudden he tell me to pull over, so I do. he runs out of the car and starts making wretching noises, so i assume he's throwing up, its dark at this point so i cant really see much, so i go check on him ( first mistake).\\nI get out and go to his side expecting him to be there but he's not.....Then I here someone behind and me and before i know it im unconcious! so I wake up a couple hours later( iknow this becuase the sun was coming up at this point) without my car, clothes or wallet. so im thinking great. i look around and see im on some farmland wearing the giys clothes. SO i start walking in no particular direction and eventually come across a settlement. \\n\\nI explain to them my situation and they tell me that the nearest main road is at least a good half a days walk from where I am and they dont get many cars coming through this part but they heard one last night ( which might be our thief). I start walking in the direction they point me in and after what felt like forever i come acroos a road, so I pitch up and start waiting, ( now i know  most of you are thinking why not call someone, i had no phone with me and I dont have the best memory so I didnt know any numbers that would come in handy). after a couple of hours a car stops and lets me hitch I let him know the situaion and he says we're in the complete opposite direction of my intended destination but he's willing to drop me close enough to walk the rest of the way to which I thought great!\\n\\nits takes a good two days to get there and he drops me off and i say my goodbyes to my driver, I take down his number so i can repay him later on. At this point im starting to recoginise my surroundings, I walk for a few miles and as im getting closer to my aunties i can here a lots of singing and what appears to be a large crowd which i though was strange. Im about 100 feet from the house and i see my Son which again i thought was strange because he was meant to be in school at this time, but instead of running to me and hugging me as he normally does...he runs away screaming to my complete bewilderment. I get to the the gate and all of a sudden the large crowd alerted by my sons scream has stopped singing and is stood silent. my wife appears and starts to run towards me hugging and kissing me like Ive been gone for months. My auntie appears and immediately faints when she sees me.\\n\\nI still have no clue whats going on at this point and im exhausted, so we rush to get my auntie inside and I see my picture ontop of a large box that resembles a coffin sitting in the living room....\\n\\n\\nSo it turns out that the guy who robbed me and made off with my car my wallet and all my clothes was in a car crash so bad that they couldnt identify the body and because the only things they could use to identify him was  my wallet, they assumed it was me that had died in the crash. since there was no body of sorts they could arrange the funeral preety quickly and that is what I had stumbled upon.\\nMy son still has nightmares to this day and and my wife has told me never to pick up a hitch hiker ever again.\\n\\nTL;DR Got carjacked, robber died and family thought it was me, they arrange my funeral and I somehow manage to stumble upon my own funeral.\\n\\n\n",
       "9                                                                                                                                                                                                                                                                                                                                                                                                                                                                                                                                                                                                                                                                                                                                                                                                                                                                                                                                                                                                                                                                                                                                                                                                                                                                                                                                                                                                                                                                                                                                                                                                                                                                                                                                                                                                                                                                                                                                                                                                                                                                                                                                                                                                                                                                                                                                                                                                                                                                                                                                                                                                                                                                                                                                                                                                                                                                                                                                                                                                                                                                                                                                                                                                                                                                                                                                                                                                                                                                                                                                                                                                                                                                                                                                                                                                                                                                                                                                                                                                                                                                                                                                                                                                                                                                                                                                                                                                                                                                                                                                                                                                                                                                                                                                                                                                                                                                                                                                                                                                                                                                                                                                                                                                                                            Title speaks for itself. I was trying to inject mice to give them cancer and accidentally poked my finger. It started bleeding and its possible that the cancer cells could've entered my bloodstream.\\n\\nCurrently patiently waiting at the ER.\\n\\nWish me luck Reddit.\\n\\nEdit: just to clarify, mice don't get T-cell Acute Lymphoblastic Leukemia (T-ALL) naturally. These is an immortal T-ALL from humans.\\n\\nUpdate: Hey guys, sorry for the late update but here's the situation:\\nDoctor told me what most of you guys have been telling me that my immune system will likely take care of it. But if any swelling deveps I should come see them. My PI was very concerned when I told her but were hoping for the best. I've filled out the WSIB forms just in case.\\n\\nThanks for all your comments guys. \\n\\nI'll update if anything new comes up\n",
       "10    This happened only minutes ago.\\n\\n\\nThe graphics card in my old PS2 decided it wanted to give up on me recently, so I decided to replace it when I had a little extra cash. I was out browsing different sites like Craigslist and the like, when I stumbled upon the PS2 mentioned in the title. It looked like a great deal at the time. $25 to buy it from this guy, whereas a secondhand store in town was selling them for around $45 to $60.\\n\\n\\nAt the time, this seemed like a no-brainer.\\n\\n\\nNow, I should preface this by saying that I have a strange faith in the honesty of others. Benefit of the doubt and all that noise. After all, the car I drive now is one I bought from a guy on the internet, and it runs great for something that is 27 years old. Why should this be any different?\\n\\n\\nStarting to sound like a mistake yet?\\n\\n\\nIf the answer is \"no,\" then have no fear. That is almost certainly about to change. The model the seller advertised on Letgo was one of the larger black brick models. Like, the first generation ones. When I finally met the seller, we had a brief handshake and exchange. When he showed me the goods, It was actually one of the slim and silver PS2's from later in the console's production run. He told me he had already sold the larger one.\\n\\n\\nMy first instinct, as many logical redditors would tell me, is that I should have walked away when I saw I was being sold something that was improperly advertised. Unfortunately for me (and I guess, fortunately for the rest of you reading this), I was not in the most logical mood. It was kind of a shitty drive to a pretty sketchy part of town, and it had already been a long morning. I just wanted to get this thing and go home.\\n\\n\\nBack at the ole ranch, I hooked up the console, slapped in Kingdom Hearts II, and got ready to enjoy the rest of my day. I'm off work and done with class, what else would I do with my evening, right? I was pretty happy with my life until I realized I had been waiting for five or so minutes and the disc wasn't reading. Strange, but not altogether discouraging. I slapped in another game that I new for sure was working. Didn't read. I repeated this several times with discs I knew would work; same story.\\n\\n\\nNow I'm starting to get slightly pissed. I'm sure you can see where this next part is going.\\n\\n\\nI open up the app to message the seller and let him know he had sold me a defective console. Not so much to my surprise, he had blocked me. I've now got no way to contact him. Of course not, he just took me for a fucking ride. All I could do at that point was report him and live in my shame. That, or I could get onto YouTube and try to find a fix for a disc-read error. I picked the latter option and went on my merry way. After a video about a quick mod I could make to the system, I was feeling pretty confident that I was going to get the last laugh on this one.\\n\\n\\nOh golly gee fuck was I wrong.\\n\\n\\nNow at this point, I begin to tumble from my perch of the high and mighty, and start snowballing right down that tall fucking mountain. I manage to get the appropriate screws out and pry that bad boy open. It's putting up a little more of a fight than I saw in the videos, but why wouldn't it? It was never meant to be opened this way in the first place. With a little elbow grease, it starts to give. I'm also starting to spot a bit of rust in one of the memory card slots. A bit annoying, but the other one was working a few minutes ago so I can live with that. The further I get it open, the more rust I see on some more critical pieces. I'm sweating again, but holding out hope. Finally, the plastic casing comes free, and I experience the joy of a man that is working with his own two hands to solve a problem.\\n\\n\\nI experience this joy for maybe a second and a half.\\n\\n\\nYou see, after prying the top casing off of the console, the bottom half sort of clattered back down onto the desk. The first thing I notice is that the inside is covered in rust. The second thing I notice is that some of the rust is moving.\\n\\n\\nOh, that's not all rust.\\n\\n\\n*Ohsonofabitchthosearefuck-motheringcockroaches.*\\n\\n\\nDo you know that scene in Raiders of the Lost Ark where Indiana Jones is like, \"Snakes. Why did it have to be snakes?\" That was me. Except with Cockroaches. They are the one insect that fill me with more disgust than anything else. And now they're crawling on my hands. And these are the quick little tiny ones that don't give two fucks about whether you've stepped on them or not. I threw that whole console on the ground post haste, which only made them more riled up.\\n\\n\\nThey're getting everywhere now. I'm yelling for help to my roommates and stomping the ground like a fucking mad man in a fit of terrified panic. You would think that something caught fire with the way I was yelling (which is what my roommate said he thought had happened), but no, just cockroaches. Tiny, $25 freaks of nature. Eventually I managed to eradicate most of the insect horde with stomping and shouting alone, at which point I grabbed a can of Raid from the laundry room and finished the job.\\n\\n\\nAt least, I *hope* I finished the job. I'm fairly certain there are at least two of those little fuckers still running around under the bed, but at this point I'm a little too emotionally drained to care. I also get the extreme pleasure of wallowing in the fact that I *basically* just paid $25 to get covered in my least favorite living thing on the planet. Jesus, it's only 3 in the afternoon and I already need a stiff drink.\\n\\n\\nTL;DR: I bought a used PS2 online, opened it up to fix it, and got covered in cockroaches.\\n\\nEdit: Hi, Reddit! I just wanted to say many thanks for the gold AND all the offers for cockroach-free PlayStations!  warms my heart, and I'm super happy you guys enjoyed my writing as well. Happy Redditing!\n",
       "11                                                                                                                                                                                                                                                                                                                                                                                                                                                                                                                                                                                                                                                                                                                                                                                                                                                                                                                                                                                                                                                                                                                                                                                                                                                                                                                                                                                                                                                                                                                                                                                                                                                                                                                                                                                                                                                                                                                                                                                                                                                                                                                                                                                                                                                                                                                                                                                                                                                                                                                                                                                                                                                                                                                                                                                                                                                                                                                                                                                                                                                                                                                                                                                                                                                                                                                                                                                                                                                                                                                                                                                                                                                                                                                                                                                                                                                                                                                                                                                                                                                                                                                                                                                                                                           I've been a self-employed confectioner for the past two years and I recently started trying to get back into one of those fancy jobs with an office thingy again. I should also mention that for almost ten years I've used the same handle across multiple social media platforms. It's by no means a secret identity, but it's also not explicitly connected to my real name. Or so I thought. I had been happily emailing my resume and cover letters to many potential employers when I received this email from one that I was particularly excited about:\\n\\n***I have to say when \"Titty Boobowitz\" appeared in my inbox I got quite a chuckle, and had to figure out where that came from!  Your twitter profile is great - so much personality!***  \\n\\n***I look forward to reviewing your application and will be in touch shortly.*** \\n\\nOoops. My stomach fell right out of my ass when I read that. And of course the most recent thing I had tweeted was just a stream of swear words. I tried to do damage control, but I did not have high expectations. Today I finally received the follow up \"you're not moving on to the interview process\" email.  \\n\\nTL;DR: Somewhere along the line while I was connecting social media accounts to my email, my real name was changed to Titty Boobowitz in gmail and I never noticed. Then I attempted job hunting. No wonder I got no responses.\\n\\nEDIT: Just because I didn't make it clear - I emailed a gracious response to the person who does the hiring to let her know that it was my unintentional, embarrassing oversight and I appreciated the heads up. We had a warm back and forth, it was a positive experience overall. I'm relieved to know that this kind of thing happens to TONS of idiots like me. At least I didn't put \"attention to detail\" anywhere in my resume. \\n\\n\n",
       "12                                                                                                                                                                                                                                                                                                                                                                                                                                                                                                                                                                                                                                                                                                                                                                                                                                                                                                                                                                                                                                                                                                                                                                                                                                                                                                                                                                                                                                                                                                                                                                                                                                                                                                                                                                                                                                                                                                                                                                                                                                                                                                                                                                                                                                                                                                                                                                                                                                                                                                                                                                                                                                                                                                                                                                                                                                                                                                                                                                                                                                                                                                                                                                                                                                                                                                                                                                                                                                                                                                                                                                                                                                                                                                                                                                                                                                                                                                                                                                                                                                                                                                                                                                                                                                                                                                                                                                                                                                                                                                                                                                                                                                                                                                                                                                                                                                                                                                                         Went to fancy movie theater with date. Decide to buy a bottle of wine. Go back to bar. Ask for two glasses. Bartender says he needs two ID's. I'm too lazy to go back to seats to grab dates ID. Tell him I'm alone and was embarrassed to ask for just one glass. He is clearly sympathetic. Idiot me then tries to sell the story and continue on about how lonely I've been recently. He tells me he's off in a few minutes and insists on watching the movie with me. I try to fight it but I could only argue so much without giving away the truth. Bartender is insistent. I text my date what's happening. Go back to theater with my new date. Sit a few rows in front of my first date. She has the stupidest grin on her face as me and the bartender (Jared) sit a couple rows in front of her. He ends up being super cool and bought me and him another bottle during the movie. Movie ends. I thank him for his gesture. He didn't even ask for my number or anything. I think Jared was just a genuine guy trying to comfort someone. Met back up with my date in the parking lot and thankfully she found the whole thing hilarious.\\n\\nI don't deserve Jared.\n",
       "Name: selftext, dtype: object"
      ]
     },
     "execution_count": 24,
     "metadata": {},
     "output_type": "execute_result"
    }
   ],
   "source": [
    "df.selftext.head(10)"
   ]
  },
  {
   "cell_type": "code",
   "execution_count": 9,
   "id": "97847896-e637-460f-afb0-1dbd0c62a242",
   "metadata": {},
   "outputs": [],
   "source": [
    "df.to_csv('approved_stories_qwen.csv')"
   ]
  },
  {
   "cell_type": "code",
   "execution_count": null,
   "id": "8d44cd40-eeb4-4e3a-9a28-efcc45681204",
   "metadata": {},
   "outputs": [],
   "source": []
  }
 ],
 "metadata": {
  "kernelspec": {
   "display_name": "Python 3 (ipykernel)",
   "language": "python",
   "name": "python3"
  },
  "language_info": {
   "codemirror_mode": {
    "name": "ipython",
    "version": 3
   },
   "file_extension": ".py",
   "mimetype": "text/x-python",
   "name": "python",
   "nbconvert_exporter": "python",
   "pygments_lexer": "ipython3",
   "version": "3.10.12"
  }
 },
 "nbformat": 4,
 "nbformat_minor": 5
}
