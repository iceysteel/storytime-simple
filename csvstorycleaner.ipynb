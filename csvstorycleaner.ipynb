{
 "cells": [
  {
   "cell_type": "code",
   "execution_count": 1,
   "id": "bbf2cd51-21b5-4c8a-a5b7-a0f2e1477d7a",
   "metadata": {},
   "outputs": [],
   "source": [
    "!export DISABLE_TELEMETRY=YES"
   ]
  },
  {
   "cell_type": "code",
   "execution_count": 6,
   "id": "2c700585-8a2b-47fe-91ba-af8c2877dbad",
   "metadata": {},
   "outputs": [],
   "source": [
    "import ollama\n",
    "import pandas as pd\n",
    "import json\n",
    "\n",
    "from tqdm import tqdm\n",
    "#from tqdm.auto import tqdm  # for notebooks\n",
    "\n",
    "# Create new `pandas` methods which use `tqdm` progress\n",
    "# (can use tqdm_gui, optional kwargs, etc.)\n",
    "tqdm.pandas()"
   ]
  },
  {
   "cell_type": "code",
   "execution_count": 3,
   "id": "77504f4f-b404-47f2-a9e4-0bf9f46c0019",
   "metadata": {},
   "outputs": [],
   "source": [
    "df = pd.read_csv('top10k.csv')"
   ]
  },
  {
   "cell_type": "code",
   "execution_count": 4,
   "id": "13320448-dde3-4370-bc36-ea6cdf8a47fd",
   "metadata": {},
   "outputs": [
    {
     "data": {
      "text/html": [
       "<div>\n",
       "<style scoped>\n",
       "    .dataframe tbody tr th:only-of-type {\n",
       "        vertical-align: middle;\n",
       "    }\n",
       "\n",
       "    .dataframe tbody tr th {\n",
       "        vertical-align: top;\n",
       "    }\n",
       "\n",
       "    .dataframe thead th {\n",
       "        text-align: right;\n",
       "    }\n",
       "</style>\n",
       "<table border=\"1\" class=\"dataframe\">\n",
       "  <thead>\n",
       "    <tr style=\"text-align: right;\">\n",
       "      <th></th>\n",
       "      <th>Unnamed: 0</th>\n",
       "      <th>title</th>\n",
       "      <th>selftext</th>\n",
       "      <th>ups</th>\n",
       "    </tr>\n",
       "  </thead>\n",
       "  <tbody>\n",
       "    <tr>\n",
       "      <th>0</th>\n",
       "      <td>74233</td>\n",
       "      <td>TIFU by having my reddit history revealed by J...</td>\n",
       "      <td>This happened to me yesterday and I'm still ba...</td>\n",
       "      <td>85249</td>\n",
       "    </tr>\n",
       "    <tr>\n",
       "      <th>1</th>\n",
       "      <td>76661</td>\n",
       "      <td>TIFU by cumming into a coconut</td>\n",
       "      <td>EDIT: I got an AMA thread now. Help me: \\n\\nht...</td>\n",
       "      <td>81547</td>\n",
       "    </tr>\n",
       "    <tr>\n",
       "      <th>2</th>\n",
       "      <td>42440</td>\n",
       "      <td>TIFU by stuffing my face with edibles before d...</td>\n",
       "      <td>Recently, I traveled to Denver, Colorado with ...</td>\n",
       "      <td>80916</td>\n",
       "    </tr>\n",
       "    <tr>\n",
       "      <th>3</th>\n",
       "      <td>35184</td>\n",
       "      <td>TIFU by getting Reddit banned in Russia</td>\n",
       "      <td>Today Reddit was blocked in Russia, and I am t...</td>\n",
       "      <td>64262</td>\n",
       "    </tr>\n",
       "    <tr>\n",
       "      <th>4</th>\n",
       "      <td>73236</td>\n",
       "      <td>TIFU by not telling my wife our son was coming...</td>\n",
       "      <td>This happened Sunday night.\\n\\n\\n\\nMy oldest s...</td>\n",
       "      <td>49877</td>\n",
       "    </tr>\n",
       "    <tr>\n",
       "      <th>...</th>\n",
       "      <td>...</td>\n",
       "      <td>...</td>\n",
       "      <td>...</td>\n",
       "      <td>...</td>\n",
       "    </tr>\n",
       "    <tr>\n",
       "      <th>9995</th>\n",
       "      <td>42961</td>\n",
       "      <td>TIFUpdate by making a dumb joke to myself whic...</td>\n",
       "      <td>[Some of you may remember my stupid joke](http...</td>\n",
       "      <td>130</td>\n",
       "    </tr>\n",
       "    <tr>\n",
       "      <th>9996</th>\n",
       "      <td>71249</td>\n",
       "      <td>TIFU by pressing the wrong button</td>\n",
       "      <td>So by some stroke of luck, I was invited to at...</td>\n",
       "      <td>130</td>\n",
       "    </tr>\n",
       "    <tr>\n",
       "      <th>9997</th>\n",
       "      <td>73043</td>\n",
       "      <td>TIFU my first edible experience</td>\n",
       "      <td>Mandatory \"This actually happened about a year...</td>\n",
       "      <td>130</td>\n",
       "    </tr>\n",
       "    <tr>\n",
       "      <th>9998</th>\n",
       "      <td>36945</td>\n",
       "      <td>TIFU by holding the door open for an old man a...</td>\n",
       "      <td>I'm still stunned and have no idea what I did ...</td>\n",
       "      <td>130</td>\n",
       "    </tr>\n",
       "    <tr>\n",
       "      <th>9999</th>\n",
       "      <td>9878</td>\n",
       "      <td>TIFU by selling pot</td>\n",
       "      <td>I've never been a dealer. I don't even smoke v...</td>\n",
       "      <td>130</td>\n",
       "    </tr>\n",
       "  </tbody>\n",
       "</table>\n",
       "<p>10000 rows × 4 columns</p>\n",
       "</div>"
      ],
      "text/plain": [
       "      Unnamed: 0                                              title  \\\n",
       "0          74233  TIFU by having my reddit history revealed by J...   \n",
       "1          76661                     TIFU by cumming into a coconut   \n",
       "2          42440  TIFU by stuffing my face with edibles before d...   \n",
       "3          35184            TIFU by getting Reddit banned in Russia   \n",
       "4          73236  TIFU by not telling my wife our son was coming...   \n",
       "...          ...                                                ...   \n",
       "9995       42961  TIFUpdate by making a dumb joke to myself whic...   \n",
       "9996       71249                  TIFU by pressing the wrong button   \n",
       "9997       73043                    TIFU my first edible experience   \n",
       "9998       36945  TIFU by holding the door open for an old man a...   \n",
       "9999        9878                                TIFU by selling pot   \n",
       "\n",
       "                                               selftext    ups  \n",
       "0     This happened to me yesterday and I'm still ba...  85249  \n",
       "1     EDIT: I got an AMA thread now. Help me: \\n\\nht...  81547  \n",
       "2     Recently, I traveled to Denver, Colorado with ...  80916  \n",
       "3     Today Reddit was blocked in Russia, and I am t...  64262  \n",
       "4     This happened Sunday night.\\n\\n\\n\\nMy oldest s...  49877  \n",
       "...                                                 ...    ...  \n",
       "9995  [Some of you may remember my stupid joke](http...    130  \n",
       "9996  So by some stroke of luck, I was invited to at...    130  \n",
       "9997  Mandatory \"This actually happened about a year...    130  \n",
       "9998  I'm still stunned and have no idea what I did ...    130  \n",
       "9999  I've never been a dealer. I don't even smoke v...    130  \n",
       "\n",
       "[10000 rows x 4 columns]"
      ]
     },
     "execution_count": 4,
     "metadata": {},
     "output_type": "execute_result"
    }
   ],
   "source": [
    "df"
   ]
  },
  {
   "cell_type": "code",
   "execution_count": 15,
   "id": "142ad67e-d15e-4c6a-aa58-ed36727363be",
   "metadata": {},
   "outputs": [],
   "source": [
    "def check_vibes(storytext):\n",
    "    try:\n",
    "        tries = 0\n",
    "        while tries < 3:\n",
    "            approvaljson = ollama.generate(model='llama3:instruct', \n",
    "                                     format='json',\n",
    "                                 prompt='''You are the world's best editor you are choosing stories to adapt to short videos, read the following story and decide if it is pg-13 and would appeal to a wide audience. Avoid approving stories that are overly sexual in nature. give your decision in the following json format: {\"reasoning\":\"provide a reasoning for your descision here\", \"approval\":true/false} .\n",
    "                                 here's the story: ''' + storytext)\n",
    "            approvaldict = json.loads(approvaljson['response'])\n",
    "            if 'approval' in approvaldict.keys():\n",
    "                # if 'reasoning' in approvaldict.keys():\n",
    "                #     print(approvaldict['reasoning'])\n",
    "                return approvaldict['approval']\n",
    "            else:\n",
    "                tries = tries + 1\n",
    "        return False\n",
    "    except:\n",
    "        return False\n",
    "    "
   ]
  },
  {
   "cell_type": "code",
   "execution_count": 16,
   "id": "c936d249-7e40-4813-9293-669b90fd79df",
   "metadata": {},
   "outputs": [
    {
     "name": "stderr",
     "output_type": "stream",
     "text": [
      "100%|█████████████████████████████████████████████████████████████████████| 10000/10000 [3:30:28<00:00,  1.26s/it]\n"
     ]
    }
   ],
   "source": [
    "df['approval'] = df.progress_apply(lambda row: check_vibes(row.selftext), axis = 1)"
   ]
  },
  {
   "cell_type": "code",
   "execution_count": 18,
   "id": "3f5260f2-c1b4-424d-b674-e1c1475eae3d",
   "metadata": {},
   "outputs": [
    {
     "data": {
      "text/plain": [
       "count     10000\n",
       "unique        2\n",
       "top        True\n",
       "freq       7333\n",
       "Name: approval, dtype: object"
      ]
     },
     "execution_count": 18,
     "metadata": {},
     "output_type": "execute_result"
    }
   ],
   "source": [
    "df['approval'].describe()\n"
   ]
  },
  {
   "cell_type": "code",
   "execution_count": 17,
   "id": "29aa0a4b-b47c-4892-9935-616d10199f81",
   "metadata": {},
   "outputs": [],
   "source": [
    "df.to_csv('top10k_approval.csv')"
   ]
  },
  {
   "cell_type": "code",
   "execution_count": 20,
   "id": "2d9ace07-dbcb-4e45-ad21-ed32e9dcc69e",
   "metadata": {},
   "outputs": [],
   "source": [
    "df = df[df.approval == True]"
   ]
  },
  {
   "cell_type": "code",
   "execution_count": 23,
   "id": "10fc08da-059e-406e-aa5c-6dfa22d215db",
   "metadata": {},
   "outputs": [],
   "source": [
    "pd.set_option('display.max_colwidth', None)"
   ]
  },
  {
   "cell_type": "code",
   "execution_count": 24,
   "id": "d10c76e9-ab99-442a-bea7-79d461c9b4ae",
   "metadata": {},
   "outputs": [
    {
     "data": {
      "text/plain": [
       "0                                                                                                                                                                                                                                                                                                                                                                                                                                                                                                                                                                                                                                                                                                                                                                                                                                                                                                                                                                                                                                                                                                                                                                                                                                                                                                                                                                                                                                                                                                                                                                                                                                                                                                                                                                                                                                                                                                                                                                                                                                                                                                                                                                                                                                                                                                                                                                                                                                                                                                                                                                                                                                                                                                                                                                                                                                                                                                                                                                                                                                                                                                                                                                                                                                                                                                                                                                                                                                                                                                                                                                                                                                                                                                                                                                                                                                                                                                                                                                                                                                                                                                                                                                                                                                                                This happened to me yesterday and I'm still baffled.\\n\\nIt all started when I posted a comparison picture of a dog which looks like the actor William H. Macy. I couldn't stop laughin over it but I never thought it would gain so much attention. \\n\\nHowever it ended up on the front page with much more upvotes I could have imagined. This alone was crazy for me because I never expected to have a submission on the front page.\\n\\nWhen I checked my phone the next morning my reddit inbox exploded over the sheer amount of youtube links I received. I checked them and found my submission on the latest Jimmy Kimmel Show with Reddit Co-Founder Alexis Ohanian. I was mind blown over this.\\n\\nThey proceeded talking over reddit users and Jimmy ended up checking my history. Well I hardly ever post filthy stuff but I commented on a NSFW TIFU a few days ago and I think Jimmy thought it was my submission at the short glance he took.\\n\\nKeep in mind they even named and showed my username - he made it look like there was a lot of filthy stuff going on in my history so this was quite embarrassing for me and Im getting a lot of crazy messages now.\\n\\nI don't know if this perfectly qualifies for a TIFU but on the one hand it felt like one, when he revealed my history with 'filthy stuff' as he said. On the other hand it's just cool and a story to tell. However I regret nothing!\\n\\ntl;dr: Jimmy Kimmel had Reddit Co-Founder Alexis Ohanian as a guest. They ended up browsing my reddit history and Jimmy made it look like there's filthy stuff going on.\\n\\nLink to the video: https://www.youtube.com/watch?v=3vzkw2zD7gE&t=9s (starts at 2:10)\\n\\n\\nOH and thanks for the gold! Things are going so fast here I didnt even see it until now. Thank you unknown and kind strangers!\\n\\n\n",
       "3                                                                                                                                                                                                                                                                                                                                                                                                                                                                                                                                                                                                                                                                                                                                                                                                                                                                                                                                                                                                                                                                                                                                                                                                                                                                                                                                                                                                                                                                                                                                                                                                                                                                                                                                                                                                                                                                                                                                                                                                                                                                                                                                                                                                                                                                                                                                                                                                                                                                                                                                                                                                                                                                                                                                                                                                                                                                                                                                                                                                                                                                                                                                                                                                                                                                                                                                                                                                                                                                                                                                                                                                                                                                                                                                                                                                                                                                                                                                                                                       Today Reddit was blocked in Russia, and I am the one who posted [this post](https://www.reddit.com/r/rudrugs/comments/1derq9/%D0%BC%D0%B8%D0%BD%D0%B8%D0%BC%D0%B0%D0%BB%D1%8C%D0%BD%D1%8B%D0%B9_%D0%B8_%D0%BD%D0%B0%D0%B4%D0%B5%D0%B6%D0%BD%D1%8B%D0%B9_%D0%BC%D0%B5%D1%82%D0%BE%D0%B4_%D0%B2%D1%8B%D1%80%D0%B0%D1%89%D0%B8%D0%B2%D0%B0%D0%BD%D0%B8%D1%8F_%D0%BF%D1%81%D0%B8%D0%BB%D0%BE%D1%86%D0%B8%D0%B1%D1%8B/) which lead to this.\\n\\nIn Russia, there is a law which allow Roskomnadzor, Russian censorship agency, to block any website without court rulling. Two years ago I tested how RKN react to abuse on popular websites/crazy abuses. On of that websites was Reddit.\\n\\nOne thing I learned is that RKN doesn't want to block popular websites. They respond me that this content is illegal and they blocked it, but they weren't. [It was on 05/21/2013](https://img.bi/#/VN0xdFz!SUfwaAZuQ0OgFP6nJQpMgqpwENsQfA4KLn1gdqhZ). On 10st Aug 2015 they posted [a call to help them contact Reddit administration](https://vk.com/wall-76229642_54727) to official VK page. Funny thing, but they called Psilocybe a plant. Several hours ago they [reported that Reddit is blocked in Russia](https://vk.com/wall-76229642_55304). Seems like things changed.\\n\\nHow Reddit is blocked? Fully. As Reddit switched to HTTPS, there is no way to block special page.\\n\\nWill I remove this post? No. I also think that Reddit administration needs to do nothing. This is important issue on freedom of speech, and only RKN want to violate it.\\n\\nBTW, this post is a guide for indoor growing Psilocybe mushrooms in Russian. I'm not sure if any people saw this before blocking, but if you are here and you can read Russian, now you know to grow some shrooms, thanks to RKN.\\n\\nUPD: [Russia unbans Reddit](https://meduza.io/en/news/2015/08/13/russia-unblocks-reddit) as they comply with request and blocked that post for Russian users.\\n\\nUPD2: [This is how Russian Internet censorship works](https://meduza.io/en/feature/2015/08/13/this-is-how-russian-internet-censorship-works)\n",
       "4                                                                                                                                                                                                                                                                                                                                                                                                                                                                                                                                                                                                                                                                                                                                                                                                                                                                                                                                                                                                                                                                                                                                                                                                                                                                                                                                                                                                                                                                                                                                                                                                                                                                                                                                                                                                                                                                                                                                                                                                                                                                                                                                                                                                                                                                   This happened Sunday night.\\n\\n\\n\\nMy oldest son is in the Marines, hasnt been home in almost a year.  He took 10 days leave so he could come visit.  At first, we did not tell his mother in case the leave got denied. When it was approved he just decided he would fly in and surprise her.  I tell the wife i am going over to a friends to watch the packers/falcons game, as a cover to pick him up.  \\n\\n\\n\\nI get to the airport, and actually watched the second quarter of the game waiting for his plane.  He gets off the plane we talk for a bit waiting for the luggage and then he goes to change into his Dress blues.  Now the whole time ive been texting my wife saying i was bored, the game sucked, i wasnt gonna stay much longer.\\n\\n\\n\\nWe discuss the plan on how to surprise his mother on the drive back to the house.  We go back and forth from having her open the front door to see him on the porch to just having him walk into the house.  We settle on him waiting a few minutes after i go inside, as i wanted to get the whole thing on video.... Free internet points and all that......\\n\\n\\n\\nI walk in and the house is quiet.  No one in the living room.  A little odd but it is after 9pm maybe by some miracle my other kids are actually already in bed?  Alarm bells start going off in my head when i open our bedroom door and the first thing i notice is the flickering candlelight......\\n\\n\\n\\nWhat i did not know was the entire time i was gone, My wife set in motion her own plan for the evening.  She got the kids settled by letting them keep their tablets after bedtime.  Took a nice hot bath, re-did her makeup and when i told her i was on the way home lit the room with candles and put on her \"fuck me\" lingerie.\\n\\n\\n\\nSo no shit there i was, staring at my wife giving me her best come hither look, with our 21 year old son outside not 30 feet away, waiting to Surprise her.  A handful of reactions to this scene are acceptable.  Pulling out your cellphone and sending a text message is not one.  The text told my son to stay outside.  I had solved the most immediate problem of our son walking in and seeing his mother like that but i was drawing a blank on how to fix everything else.  \\n\\n\\n\\nSo my brain latched onto what has to be most stupid plan i have ever had in life.  I told my wife to get dressed because she would never believe what the neighbors were doing and she had to come see.  The look of confusion on her face was priceless.  It took me 5 minutes to convince her to put on some sweatspants and a sweatshirt to go to the front door.  Finally after dodging all her questions and getting her to open the door, There was our son in his dress uniform and She was estatic.  The noise brought all the kids out and everyone was happy.  Except me, the wife excused herself after a few min and took off the lingerie under her sweats before anyone noticed.  It goes without saying i did not get any action that night.  Also in trying to salvage the whole surprise i forgot to video it for my free internet points.  so i guess TIFU will have to suffice instead.\\n\\n\\n\\n\\nTL;DR  Didn't tell Wife that Marine son was coming home, Missed out on Sexy times and the second half of the Packers/Falcons game\\n\\n\\n\\nedit 1: Goldx2? wow thank you guys.  this one post has more upvotes than my 4 year old main account.\\n\\nUpdate: Wife is freaking out that i put this on reddit.  Have been reading some of the comments to her this morning.  She is worried that this story will end up in one of her Marine Moms FB groups and they somehow will magically know it was her lol.    Son wants to take his siblings out for ice cream and the new lego movie, cross your fingers people.\\n\\n\n",
       "5                                                                                                                                                                                                                                                                                                                                                                                                                                              I'm in my third year of University taking engineering so this is a little extra embarrassing considering my streak of never being \"that person\" in the wrong class. To start the semester I ended up missing the first week of school because I was on a last minute trip with my friends. It was completely unplanned and actually a few of my friends who had graduated helped chip to buy my ticket since I technically couldn't afford to go. Future me will hate past me for going because I used my student loans to go... but thats a different issue. \\n\\nAnyway, I came into class a week late and it is scheduled for tuesdays and thursdays at 7-8:15pm. On both those days I have classes all day until 2pm so I usually go home to eat and grab a snooze before the night class. So my first tuesday home I ended up over sleeping and turning up to class five minutes late. So as part of my degree I have to take microeconomics which all I knew about it previously was it's about the economy and money. When I get to class they're talking about supply and demand curves shifting so I just take a spot in the back not thinking twice.\\n\\nThis goes on for 3.5 weeks. I came to class. Took notes. Then did the weekly assignments. On the course syllabus it had a date for the midterm which is Febuary 1st. So the class before the exam, January 30th, I decided to stick around after class and ask some questions. Now I was doing all the assignments and thought the course material was relevant but it was ALL theory based while the class was heavy math based. I understood what was going on but there was obviously some disconnect. I explained my concerns about the midterm to the prof and the conversation went like this:\\n\\n*Explains above about material*\\nProf: \"What do you mean theory? All the assignments are filled with math. Are you using launchpad?\"\\nMe: \"No the assignments are online. Like the website we bought the textbook from. Whats lauchpad?\"\\nProf: \"Pardon? I don't have a textbook for this course.\"\\nMe: \"It literally says in the syllabus, look!\"\\n*Shows syllabus*\\nProf: \"Wait, what class are you supposed to be in?\"\\nMe: \"What do you mean...? This is ECON 202 right?\"\\n*Prof starts laughing*\\nProf: \"Haha this is ECON 301, you have to take 202 before you take my class. This is a new one, I've never experienced this before.\"\\nMe: \"Well this is awkward. I better go see my actual teacher and explain.\"\\n\\nI then just grabbed my stuff real quick and sprinted through campus to go explain the situation to the other guy. I caught him just as he was leaving lecture and explain my predicament. Even showed him my ECON 301 notes to prove I couldn't make this shit up. He just laughed and said the same thing \"This is a new one for me.\" Turns out all the assignments for both classes were due the same day. Same with the midterms. They were relevant because it was obviously a level above what I was supposed to be doing and the only thing I got wrong was the building code. They were both classroom 112, just different buildings. So basically I just spent the last 2 nights forgetting everything from this class all month and learning the real material. Wish me luck tomorrow!\\n\\nTldr; I was in the wrong econ class for an entire month until I finally realized. Then had to cram for 2 nights for a midterm. Crazy coicidences all around.\\n\\nEdit: Well shit, went to sleep and woke up from a friend texting me saying \"You made the front page you motherfucker hahahahahaha\". The exam is in a couple hours and I will update you on my grade but to clear up some of the comments:\\n\\n1. Ya, the trip wasn't the smartest but I had fun and went to Tiesto's birthday in Vegas amongst other kool stuff. Life goes on.\\n\\n2. I was doing the assignments for the actual class with some help from my good buddy google and I had the actual textbook (pirated, no one buys textbooks c'mon). So I do have a grasp of whats going on\\n.. kinda. He did everything on the board and there were online notes but I figured you did practical application in class and the online notes (actually for my 202 class) were for reference purposes. \\n\\n3. I highly doubt i'll fail the course or the midterm. It's amazing how much you can learn in 24 hours with enough caffeine and fear in your belly. I've made it through almost 3 years of engineering so I'm sure it will turn out fine. It'll be a funny story at grad when I get my ring.\\n\\nThanks for all the support too. :) Making the front page of reddit just adds to how sweet 2018's been (no sarcasm) and this is just a minor set back.\\n\\nEdit 2: Just got back from the exam.. I didn't crush it but there is no way I didn't pass. It was twenty multiple choice and 2 five mark short answer questions. The prof also stopped me leaving the exam and said \"I usually don't tell students this until before the 2nd midterm but if you score better on the final and second midterm I will take the average to make up that first exam.\" So all in all I survived and live to fight another day.\\n\\nJust wanted to say thanks for all the kind words and hilarious stories. I will start going through my inbox and try to reply to some people. In the words of one of my good friends giving me advice in first year eng:\\n\\n\"Literally everyone in eng at multiple, multiple points feel like their gonna fail and life's over. But somehow they keep going and that is the circle of eng life.\" - CZ\\n\\np.s: for textbook help... IG: @redditecon202\\n\n",
       "6                                                                                                                                                                                                                                                                                                                                                                                                                                                                                                                                                                                                                                                                                                                                                                                                                                                                                                                                                                                                                                                                                                                                                                                                                                                                                                                                                                                                                                                                                                                                                                                                                                                                                                                                                                                                                                                                                                                                                                                                                                                                                                                                                                                                                                                                                                                                                                                                                                                                                                                                                                                                                                                                                                                                                                                                                                                                                                                                                                                                                                                                                                                                                                                                                                                                                                                                                                                                                                                                                                                                                                                                                                                                                                                                                                                                                                                                                                                                                                                                                                                                                                                                                                                                        So my dad has had this didgeridoo in the house since he visited his sister in Australia 10+ years ago. My parents wanted to go out for a walk but I decided I’d eaten too much cheese and couldn’t be arsed. While they were out the internet went down so I was sort of wandering around looking for something to do when I spotted the didg. I thought to myself in all these years I’ve never actually tried to play it (it’s more of a decoration and I barely take it in when I see it) and maybe it’s time. I pick it up and put it to my lips. I felt like I knew what I was doing and that it was similar to playing a trumpet and wanted to play a long, loud note. I take a sharp inhale and immediately feel something hit the back of my throat. I splutter really hard and a small white globular thing comes flying out and hits the floor. At first I thought it was saliva and ignored it as I had a weird sensation in my throat and mouth. It felt like tingling to start with but grew into more of a tickle on the inside of my cheeks and a bit on my gums. I glance down at the white stuff on the floor and see several baby spiders crawling out of it and in all directions. The second I clock what’s happened I feel something tickling my top lip and slap my mouth with my hand. I have a squished spider on my lip and instantly go into panic mode. I run into the bathroom and spit repeatedly into the sink to see crushed spider bodies and some severed legs, some of which are still attached to parts of the body and are trying to drag themselves away from the plug hole. I urge several times and then frantically swill my mouth out with water. I don’t think my mouth will ever feel normal again.\\n\\nTL;DR - thought I could play didgeridoo, inhaled a mouthful of spiders.\\n\\nEdit; woah gold! And front page! Ta! Glad you all like/hate my story\n",
       "8                                                                                                                                                                                                                                                                                                                                                                                                                                                                                                                                                                                                                                                                                                                                                                                                                                                                                                                                                                                                                                                                                                                                                                                                                                                                                                                                                                                                                                                                                                                                                                                                                                                                                                                                                                                                                                                                                                                                                                                                                                                    This happened a few years ago and I was living in Zimbabwe at the time, and I was having a pretty bad day, I was going to see my auntie who lived about 400km away from me. If youre african you'll understnad that this  was no small journey. So I got in my car and set off and about 3 hours into the journey i came across a Dude by the side of the road who was going in the same direction, so out of the goodness of my heart i said jump in. we go to talking and he happened to be going to exact same village as me and he knew my auntie!.\\n\\nHalf an hour passes and we're making polite chit chat and reminiscing about old times in zimbabwe, when all of a sudden he tell me to pull over, so I do. he runs out of the car and starts making wretching noises, so i assume he's throwing up, its dark at this point so i cant really see much, so i go check on him ( first mistake).\\nI get out and go to his side expecting him to be there but he's not.....Then I here someone behind and me and before i know it im unconcious! so I wake up a couple hours later( iknow this becuase the sun was coming up at this point) without my car, clothes or wallet. so im thinking great. i look around and see im on some farmland wearing the giys clothes. SO i start walking in no particular direction and eventually come across a settlement. \\n\\nI explain to them my situation and they tell me that the nearest main road is at least a good half a days walk from where I am and they dont get many cars coming through this part but they heard one last night ( which might be our thief). I start walking in the direction they point me in and after what felt like forever i come acroos a road, so I pitch up and start waiting, ( now i know  most of you are thinking why not call someone, i had no phone with me and I dont have the best memory so I didnt know any numbers that would come in handy). after a couple of hours a car stops and lets me hitch I let him know the situaion and he says we're in the complete opposite direction of my intended destination but he's willing to drop me close enough to walk the rest of the way to which I thought great!\\n\\nits takes a good two days to get there and he drops me off and i say my goodbyes to my driver, I take down his number so i can repay him later on. At this point im starting to recoginise my surroundings, I walk for a few miles and as im getting closer to my aunties i can here a lots of singing and what appears to be a large crowd which i though was strange. Im about 100 feet from the house and i see my Son which again i thought was strange because he was meant to be in school at this time, but instead of running to me and hugging me as he normally does...he runs away screaming to my complete bewilderment. I get to the the gate and all of a sudden the large crowd alerted by my sons scream has stopped singing and is stood silent. my wife appears and starts to run towards me hugging and kissing me like Ive been gone for months. My auntie appears and immediately faints when she sees me.\\n\\nI still have no clue whats going on at this point and im exhausted, so we rush to get my auntie inside and I see my picture ontop of a large box that resembles a coffin sitting in the living room....\\n\\n\\nSo it turns out that the guy who robbed me and made off with my car my wallet and all my clothes was in a car crash so bad that they couldnt identify the body and because the only things they could use to identify him was  my wallet, they assumed it was me that had died in the crash. since there was no body of sorts they could arrange the funeral preety quickly and that is what I had stumbled upon.\\nMy son still has nightmares to this day and and my wife has told me never to pick up a hitch hiker ever again.\\n\\nTL;DR Got carjacked, robber died and family thought it was me, they arrange my funeral and I somehow manage to stumble upon my own funeral.\\n\\n\n",
       "9                                                                                                                                                                                                                                                                                                                                                                                                                                                                                                                                                                                                                                                                                                                                                                                                                                                                                                                                                                                                                                                                                                                                                                                                                                                                                                                                                                                                                                                                                                                                                                                                                                                                                                                                                                                                                                                                                                                                                                                                                                                                                                                                                                                                                                                                                                                                                                                                                                                                                                                                                                                                                                                                                                                                                                                                                                                                                                                                                                                                                                                                                                                                                                                                                                                                                                                                                                                                                                                                                                                                                                                                                                                                                                                                                                                                                                                                                                                                                                                                                                                                                                                                                                                                                                                                                                                                                                                                                                                                                                                                                                                                                                                                                                                                                                                                                                                                                                                                                                                                                                                                                                                                                                                                                                            Title speaks for itself. I was trying to inject mice to give them cancer and accidentally poked my finger. It started bleeding and its possible that the cancer cells could've entered my bloodstream.\\n\\nCurrently patiently waiting at the ER.\\n\\nWish me luck Reddit.\\n\\nEdit: just to clarify, mice don't get T-cell Acute Lymphoblastic Leukemia (T-ALL) naturally. These is an immortal T-ALL from humans.\\n\\nUpdate: Hey guys, sorry for the late update but here's the situation:\\nDoctor told me what most of you guys have been telling me that my immune system will likely take care of it. But if any swelling deveps I should come see them. My PI was very concerned when I told her but were hoping for the best. I've filled out the WSIB forms just in case.\\n\\nThanks for all your comments guys. \\n\\nI'll update if anything new comes up\n",
       "10    This happened only minutes ago.\\n\\n\\nThe graphics card in my old PS2 decided it wanted to give up on me recently, so I decided to replace it when I had a little extra cash. I was out browsing different sites like Craigslist and the like, when I stumbled upon the PS2 mentioned in the title. It looked like a great deal at the time. $25 to buy it from this guy, whereas a secondhand store in town was selling them for around $45 to $60.\\n\\n\\nAt the time, this seemed like a no-brainer.\\n\\n\\nNow, I should preface this by saying that I have a strange faith in the honesty of others. Benefit of the doubt and all that noise. After all, the car I drive now is one I bought from a guy on the internet, and it runs great for something that is 27 years old. Why should this be any different?\\n\\n\\nStarting to sound like a mistake yet?\\n\\n\\nIf the answer is \"no,\" then have no fear. That is almost certainly about to change. The model the seller advertised on Letgo was one of the larger black brick models. Like, the first generation ones. When I finally met the seller, we had a brief handshake and exchange. When he showed me the goods, It was actually one of the slim and silver PS2's from later in the console's production run. He told me he had already sold the larger one.\\n\\n\\nMy first instinct, as many logical redditors would tell me, is that I should have walked away when I saw I was being sold something that was improperly advertised. Unfortunately for me (and I guess, fortunately for the rest of you reading this), I was not in the most logical mood. It was kind of a shitty drive to a pretty sketchy part of town, and it had already been a long morning. I just wanted to get this thing and go home.\\n\\n\\nBack at the ole ranch, I hooked up the console, slapped in Kingdom Hearts II, and got ready to enjoy the rest of my day. I'm off work and done with class, what else would I do with my evening, right? I was pretty happy with my life until I realized I had been waiting for five or so minutes and the disc wasn't reading. Strange, but not altogether discouraging. I slapped in another game that I new for sure was working. Didn't read. I repeated this several times with discs I knew would work; same story.\\n\\n\\nNow I'm starting to get slightly pissed. I'm sure you can see where this next part is going.\\n\\n\\nI open up the app to message the seller and let him know he had sold me a defective console. Not so much to my surprise, he had blocked me. I've now got no way to contact him. Of course not, he just took me for a fucking ride. All I could do at that point was report him and live in my shame. That, or I could get onto YouTube and try to find a fix for a disc-read error. I picked the latter option and went on my merry way. After a video about a quick mod I could make to the system, I was feeling pretty confident that I was going to get the last laugh on this one.\\n\\n\\nOh golly gee fuck was I wrong.\\n\\n\\nNow at this point, I begin to tumble from my perch of the high and mighty, and start snowballing right down that tall fucking mountain. I manage to get the appropriate screws out and pry that bad boy open. It's putting up a little more of a fight than I saw in the videos, but why wouldn't it? It was never meant to be opened this way in the first place. With a little elbow grease, it starts to give. I'm also starting to spot a bit of rust in one of the memory card slots. A bit annoying, but the other one was working a few minutes ago so I can live with that. The further I get it open, the more rust I see on some more critical pieces. I'm sweating again, but holding out hope. Finally, the plastic casing comes free, and I experience the joy of a man that is working with his own two hands to solve a problem.\\n\\n\\nI experience this joy for maybe a second and a half.\\n\\n\\nYou see, after prying the top casing off of the console, the bottom half sort of clattered back down onto the desk. The first thing I notice is that the inside is covered in rust. The second thing I notice is that some of the rust is moving.\\n\\n\\nOh, that's not all rust.\\n\\n\\n*Ohsonofabitchthosearefuck-motheringcockroaches.*\\n\\n\\nDo you know that scene in Raiders of the Lost Ark where Indiana Jones is like, \"Snakes. Why did it have to be snakes?\" That was me. Except with Cockroaches. They are the one insect that fill me with more disgust than anything else. And now they're crawling on my hands. And these are the quick little tiny ones that don't give two fucks about whether you've stepped on them or not. I threw that whole console on the ground post haste, which only made them more riled up.\\n\\n\\nThey're getting everywhere now. I'm yelling for help to my roommates and stomping the ground like a fucking mad man in a fit of terrified panic. You would think that something caught fire with the way I was yelling (which is what my roommate said he thought had happened), but no, just cockroaches. Tiny, $25 freaks of nature. Eventually I managed to eradicate most of the insect horde with stomping and shouting alone, at which point I grabbed a can of Raid from the laundry room and finished the job.\\n\\n\\nAt least, I *hope* I finished the job. I'm fairly certain there are at least two of those little fuckers still running around under the bed, but at this point I'm a little too emotionally drained to care. I also get the extreme pleasure of wallowing in the fact that I *basically* just paid $25 to get covered in my least favorite living thing on the planet. Jesus, it's only 3 in the afternoon and I already need a stiff drink.\\n\\n\\nTL;DR: I bought a used PS2 online, opened it up to fix it, and got covered in cockroaches.\\n\\nEdit: Hi, Reddit! I just wanted to say many thanks for the gold AND all the offers for cockroach-free PlayStations!  warms my heart, and I'm super happy you guys enjoyed my writing as well. Happy Redditing!\n",
       "11                                                                                                                                                                                                                                                                                                                                                                                                                                                                                                                                                                                                                                                                                                                                                                                                                                                                                                                                                                                                                                                                                                                                                                                                                                                                                                                                                                                                                                                                                                                                                                                                                                                                                                                                                                                                                                                                                                                                                                                                                                                                                                                                                                                                                                                                                                                                                                                                                                                                                                                                                                                                                                                                                                                                                                                                                                                                                                                                                                                                                                                                                                                                                                                                                                                                                                                                                                                                                                                                                                                                                                                                                                                                                                                                                                                                                                                                                                                                                                                                                                                                                                                                                                                                                                           I've been a self-employed confectioner for the past two years and I recently started trying to get back into one of those fancy jobs with an office thingy again. I should also mention that for almost ten years I've used the same handle across multiple social media platforms. It's by no means a secret identity, but it's also not explicitly connected to my real name. Or so I thought. I had been happily emailing my resume and cover letters to many potential employers when I received this email from one that I was particularly excited about:\\n\\n***I have to say when \"Titty Boobowitz\" appeared in my inbox I got quite a chuckle, and had to figure out where that came from!  Your twitter profile is great - so much personality!***  \\n\\n***I look forward to reviewing your application and will be in touch shortly.*** \\n\\nOoops. My stomach fell right out of my ass when I read that. And of course the most recent thing I had tweeted was just a stream of swear words. I tried to do damage control, but I did not have high expectations. Today I finally received the follow up \"you're not moving on to the interview process\" email.  \\n\\nTL;DR: Somewhere along the line while I was connecting social media accounts to my email, my real name was changed to Titty Boobowitz in gmail and I never noticed. Then I attempted job hunting. No wonder I got no responses.\\n\\nEDIT: Just because I didn't make it clear - I emailed a gracious response to the person who does the hiring to let her know that it was my unintentional, embarrassing oversight and I appreciated the heads up. We had a warm back and forth, it was a positive experience overall. I'm relieved to know that this kind of thing happens to TONS of idiots like me. At least I didn't put \"attention to detail\" anywhere in my resume. \\n\\n\n",
       "12                                                                                                                                                                                                                                                                                                                                                                                                                                                                                                                                                                                                                                                                                                                                                                                                                                                                                                                                                                                                                                                                                                                                                                                                                                                                                                                                                                                                                                                                                                                                                                                                                                                                                                                                                                                                                                                                                                                                                                                                                                                                                                                                                                                                                                                                                                                                                                                                                                                                                                                                                                                                                                                                                                                                                                                                                                                                                                                                                                                                                                                                                                                                                                                                                                                                                                                                                                                                                                                                                                                                                                                                                                                                                                                                                                                                                                                                                                                                                                                                                                                                                                                                                                                                                                                                                                                                                                                                                                                                                                                                                                                                                                                                                                                                                                                                                                                                                                                         Went to fancy movie theater with date. Decide to buy a bottle of wine. Go back to bar. Ask for two glasses. Bartender says he needs two ID's. I'm too lazy to go back to seats to grab dates ID. Tell him I'm alone and was embarrassed to ask for just one glass. He is clearly sympathetic. Idiot me then tries to sell the story and continue on about how lonely I've been recently. He tells me he's off in a few minutes and insists on watching the movie with me. I try to fight it but I could only argue so much without giving away the truth. Bartender is insistent. I text my date what's happening. Go back to theater with my new date. Sit a few rows in front of my first date. She has the stupidest grin on her face as me and the bartender (Jared) sit a couple rows in front of her. He ends up being super cool and bought me and him another bottle during the movie. Movie ends. I thank him for his gesture. He didn't even ask for my number or anything. I think Jared was just a genuine guy trying to comfort someone. Met back up with my date in the parking lot and thankfully she found the whole thing hilarious.\\n\\nI don't deserve Jared.\n",
       "Name: selftext, dtype: object"
      ]
     },
     "execution_count": 24,
     "metadata": {},
     "output_type": "execute_result"
    }
   ],
   "source": [
    "df.selftext.head(10)"
   ]
  },
  {
   "cell_type": "code",
   "execution_count": 25,
   "id": "97847896-e637-460f-afb0-1dbd0c62a242",
   "metadata": {},
   "outputs": [],
   "source": [
    "df.to_csv('approved_stories.csv')"
   ]
  },
  {
   "cell_type": "code",
   "execution_count": null,
   "id": "8d44cd40-eeb4-4e3a-9a28-efcc45681204",
   "metadata": {},
   "outputs": [],
   "source": []
  }
 ],
 "metadata": {
  "kernelspec": {
   "display_name": "Python 3 (ipykernel)",
   "language": "python",
   "name": "python3"
  },
  "language_info": {
   "codemirror_mode": {
    "name": "ipython",
    "version": 3
   },
   "file_extension": ".py",
   "mimetype": "text/x-python",
   "name": "python",
   "nbconvert_exporter": "python",
   "pygments_lexer": "ipython3",
   "version": "3.10.12"
  }
 },
 "nbformat": 4,
 "nbformat_minor": 5
}
